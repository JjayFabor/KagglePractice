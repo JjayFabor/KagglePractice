{
 "cells": [
  {
   "cell_type": "code",
   "execution_count": 1,
   "id": "12da48a4",
   "metadata": {
    "_cell_guid": "b1076dfc-b9ad-4769-8c92-a6c4dae69d19",
    "_uuid": "8f2839f25d086af736a60e9eeb907d3b93b6e0e5",
    "execution": {
     "iopub.execute_input": "2023-08-07T11:53:31.447901Z",
     "iopub.status.busy": "2023-08-07T11:53:31.447281Z",
     "iopub.status.idle": "2023-08-07T11:53:31.463614Z",
     "shell.execute_reply": "2023-08-07T11:53:31.461889Z"
    },
    "papermill": {
     "duration": 0.041499,
     "end_time": "2023-08-07T11:53:31.466579",
     "exception": false,
     "start_time": "2023-08-07T11:53:31.425080",
     "status": "completed"
    },
    "tags": []
   },
   "outputs": [
    {
     "name": "stdout",
     "output_type": "stream",
     "text": [
      "/kaggle/input/titanic/train.csv\n",
      "/kaggle/input/titanic/test.csv\n",
      "/kaggle/input/titanic/gender_submission.csv\n"
     ]
    }
   ],
   "source": [
    "# This Python 3 environment comes with many helpful analytics libraries installed\n",
    "# It is defined by the kaggle/python Docker image: https://github.com/kaggle/docker-python\n",
    "# For example, here's several helpful packages to load\n",
    "\n",
    "import numpy as np # linear algebra\n",
    "import pandas as pd # data processing, CSV file I/O (e.g. pd.read_csv)\n",
    "\n",
    "# Input data files are available in the read-only \"../input/\" directory\n",
    "# For example, running this (by clicking run or pressing Shift+Enter) will list all files under the input directory\n",
    "\n",
    "import os\n",
    "for dirname, _, filenames in os.walk('/kaggle/input'):\n",
    "    for filename in filenames:\n",
    "        print(os.path.join(dirname, filename))\n",
    "\n",
    "# You can write up to 20GB to the current directory (/kaggle/working/) that gets preserved as output when you create a version using \"Save & Run All\" \n",
    "# You can also write temporary files to /kaggle/temp/, but they won't be saved outside of the current session"
   ]
  },
  {
   "cell_type": "code",
   "execution_count": 2,
   "id": "f1fdcad4",
   "metadata": {
    "execution": {
     "iopub.execute_input": "2023-08-07T11:53:31.508186Z",
     "iopub.status.busy": "2023-08-07T11:53:31.507744Z",
     "iopub.status.idle": "2023-08-07T11:53:33.066469Z",
     "shell.execute_reply": "2023-08-07T11:53:33.065206Z"
    },
    "papermill": {
     "duration": 1.58307,
     "end_time": "2023-08-07T11:53:33.069776",
     "exception": false,
     "start_time": "2023-08-07T11:53:31.486706",
     "status": "completed"
    },
    "tags": []
   },
   "outputs": [
    {
     "name": "stderr",
     "output_type": "stream",
     "text": [
      "/opt/conda/lib/python3.10/site-packages/scipy/__init__.py:146: UserWarning: A NumPy version >=1.16.5 and <1.23.0 is required for this version of SciPy (detected version 1.23.5\n",
      "  warnings.warn(f\"A NumPy version >={np_minversion} and <{np_maxversion}\"\n"
     ]
    }
   ],
   "source": [
    "import matplotlib.pyplot as plt\n",
    "import seaborn as sns\n",
    "%matplotlib inline\n",
    "import warnings\n",
    "warnings.filterwarnings(\"ignore\")"
   ]
  },
  {
   "cell_type": "markdown",
   "id": "343714ab",
   "metadata": {
    "papermill": {
     "duration": 0.019296,
     "end_time": "2023-08-07T11:53:33.109031",
     "exception": false,
     "start_time": "2023-08-07T11:53:33.089735",
     "status": "completed"
    },
    "tags": []
   },
   "source": [
    "# **Reading and Understanding the Data**"
   ]
  },
  {
   "cell_type": "code",
   "execution_count": 3,
   "id": "b3102229",
   "metadata": {
    "execution": {
     "iopub.execute_input": "2023-08-07T11:53:33.149893Z",
     "iopub.status.busy": "2023-08-07T11:53:33.149468Z",
     "iopub.status.idle": "2023-08-07T11:53:33.182769Z",
     "shell.execute_reply": "2023-08-07T11:53:33.181602Z"
    },
    "papermill": {
     "duration": 0.056849,
     "end_time": "2023-08-07T11:53:33.185522",
     "exception": false,
     "start_time": "2023-08-07T11:53:33.128673",
     "status": "completed"
    },
    "tags": []
   },
   "outputs": [
    {
     "data": {
      "text/plain": [
       "(891, 12)"
      ]
     },
     "execution_count": 3,
     "metadata": {},
     "output_type": "execute_result"
    }
   ],
   "source": [
    "train_titanic = pd.read_csv('/kaggle/input/titanic/train.csv')\n",
    "train_titanic.shape"
   ]
  },
  {
   "cell_type": "code",
   "execution_count": 4,
   "id": "55afa75b",
   "metadata": {
    "execution": {
     "iopub.execute_input": "2023-08-07T11:53:33.227757Z",
     "iopub.status.busy": "2023-08-07T11:53:33.227072Z",
     "iopub.status.idle": "2023-08-07T11:53:33.256350Z",
     "shell.execute_reply": "2023-08-07T11:53:33.255172Z"
    },
    "papermill": {
     "duration": 0.053332,
     "end_time": "2023-08-07T11:53:33.259066",
     "exception": false,
     "start_time": "2023-08-07T11:53:33.205734",
     "status": "completed"
    },
    "tags": []
   },
   "outputs": [
    {
     "data": {
      "text/html": [
       "<div>\n",
       "<style scoped>\n",
       "    .dataframe tbody tr th:only-of-type {\n",
       "        vertical-align: middle;\n",
       "    }\n",
       "\n",
       "    .dataframe tbody tr th {\n",
       "        vertical-align: top;\n",
       "    }\n",
       "\n",
       "    .dataframe thead th {\n",
       "        text-align: right;\n",
       "    }\n",
       "</style>\n",
       "<table border=\"1\" class=\"dataframe\">\n",
       "  <thead>\n",
       "    <tr style=\"text-align: right;\">\n",
       "      <th></th>\n",
       "      <th>PassengerId</th>\n",
       "      <th>Survived</th>\n",
       "      <th>Pclass</th>\n",
       "      <th>Name</th>\n",
       "      <th>Sex</th>\n",
       "      <th>Age</th>\n",
       "      <th>SibSp</th>\n",
       "      <th>Parch</th>\n",
       "      <th>Ticket</th>\n",
       "      <th>Fare</th>\n",
       "      <th>Cabin</th>\n",
       "      <th>Embarked</th>\n",
       "    </tr>\n",
       "  </thead>\n",
       "  <tbody>\n",
       "    <tr>\n",
       "      <th>0</th>\n",
       "      <td>1</td>\n",
       "      <td>0</td>\n",
       "      <td>3</td>\n",
       "      <td>Braund, Mr. Owen Harris</td>\n",
       "      <td>male</td>\n",
       "      <td>22.0</td>\n",
       "      <td>1</td>\n",
       "      <td>0</td>\n",
       "      <td>A/5 21171</td>\n",
       "      <td>7.2500</td>\n",
       "      <td>NaN</td>\n",
       "      <td>S</td>\n",
       "    </tr>\n",
       "    <tr>\n",
       "      <th>1</th>\n",
       "      <td>2</td>\n",
       "      <td>1</td>\n",
       "      <td>1</td>\n",
       "      <td>Cumings, Mrs. John Bradley (Florence Briggs Th...</td>\n",
       "      <td>female</td>\n",
       "      <td>38.0</td>\n",
       "      <td>1</td>\n",
       "      <td>0</td>\n",
       "      <td>PC 17599</td>\n",
       "      <td>71.2833</td>\n",
       "      <td>C85</td>\n",
       "      <td>C</td>\n",
       "    </tr>\n",
       "    <tr>\n",
       "      <th>2</th>\n",
       "      <td>3</td>\n",
       "      <td>1</td>\n",
       "      <td>3</td>\n",
       "      <td>Heikkinen, Miss. Laina</td>\n",
       "      <td>female</td>\n",
       "      <td>26.0</td>\n",
       "      <td>0</td>\n",
       "      <td>0</td>\n",
       "      <td>STON/O2. 3101282</td>\n",
       "      <td>7.9250</td>\n",
       "      <td>NaN</td>\n",
       "      <td>S</td>\n",
       "    </tr>\n",
       "    <tr>\n",
       "      <th>3</th>\n",
       "      <td>4</td>\n",
       "      <td>1</td>\n",
       "      <td>1</td>\n",
       "      <td>Futrelle, Mrs. Jacques Heath (Lily May Peel)</td>\n",
       "      <td>female</td>\n",
       "      <td>35.0</td>\n",
       "      <td>1</td>\n",
       "      <td>0</td>\n",
       "      <td>113803</td>\n",
       "      <td>53.1000</td>\n",
       "      <td>C123</td>\n",
       "      <td>S</td>\n",
       "    </tr>\n",
       "    <tr>\n",
       "      <th>4</th>\n",
       "      <td>5</td>\n",
       "      <td>0</td>\n",
       "      <td>3</td>\n",
       "      <td>Allen, Mr. William Henry</td>\n",
       "      <td>male</td>\n",
       "      <td>35.0</td>\n",
       "      <td>0</td>\n",
       "      <td>0</td>\n",
       "      <td>373450</td>\n",
       "      <td>8.0500</td>\n",
       "      <td>NaN</td>\n",
       "      <td>S</td>\n",
       "    </tr>\n",
       "    <tr>\n",
       "      <th>5</th>\n",
       "      <td>6</td>\n",
       "      <td>0</td>\n",
       "      <td>3</td>\n",
       "      <td>Moran, Mr. James</td>\n",
       "      <td>male</td>\n",
       "      <td>NaN</td>\n",
       "      <td>0</td>\n",
       "      <td>0</td>\n",
       "      <td>330877</td>\n",
       "      <td>8.4583</td>\n",
       "      <td>NaN</td>\n",
       "      <td>Q</td>\n",
       "    </tr>\n",
       "    <tr>\n",
       "      <th>6</th>\n",
       "      <td>7</td>\n",
       "      <td>0</td>\n",
       "      <td>1</td>\n",
       "      <td>McCarthy, Mr. Timothy J</td>\n",
       "      <td>male</td>\n",
       "      <td>54.0</td>\n",
       "      <td>0</td>\n",
       "      <td>0</td>\n",
       "      <td>17463</td>\n",
       "      <td>51.8625</td>\n",
       "      <td>E46</td>\n",
       "      <td>S</td>\n",
       "    </tr>\n",
       "    <tr>\n",
       "      <th>7</th>\n",
       "      <td>8</td>\n",
       "      <td>0</td>\n",
       "      <td>3</td>\n",
       "      <td>Palsson, Master. Gosta Leonard</td>\n",
       "      <td>male</td>\n",
       "      <td>2.0</td>\n",
       "      <td>3</td>\n",
       "      <td>1</td>\n",
       "      <td>349909</td>\n",
       "      <td>21.0750</td>\n",
       "      <td>NaN</td>\n",
       "      <td>S</td>\n",
       "    </tr>\n",
       "    <tr>\n",
       "      <th>8</th>\n",
       "      <td>9</td>\n",
       "      <td>1</td>\n",
       "      <td>3</td>\n",
       "      <td>Johnson, Mrs. Oscar W (Elisabeth Vilhelmina Berg)</td>\n",
       "      <td>female</td>\n",
       "      <td>27.0</td>\n",
       "      <td>0</td>\n",
       "      <td>2</td>\n",
       "      <td>347742</td>\n",
       "      <td>11.1333</td>\n",
       "      <td>NaN</td>\n",
       "      <td>S</td>\n",
       "    </tr>\n",
       "    <tr>\n",
       "      <th>9</th>\n",
       "      <td>10</td>\n",
       "      <td>1</td>\n",
       "      <td>2</td>\n",
       "      <td>Nasser, Mrs. Nicholas (Adele Achem)</td>\n",
       "      <td>female</td>\n",
       "      <td>14.0</td>\n",
       "      <td>1</td>\n",
       "      <td>0</td>\n",
       "      <td>237736</td>\n",
       "      <td>30.0708</td>\n",
       "      <td>NaN</td>\n",
       "      <td>C</td>\n",
       "    </tr>\n",
       "  </tbody>\n",
       "</table>\n",
       "</div>"
      ],
      "text/plain": [
       "   PassengerId  Survived  Pclass  \\\n",
       "0            1         0       3   \n",
       "1            2         1       1   \n",
       "2            3         1       3   \n",
       "3            4         1       1   \n",
       "4            5         0       3   \n",
       "5            6         0       3   \n",
       "6            7         0       1   \n",
       "7            8         0       3   \n",
       "8            9         1       3   \n",
       "9           10         1       2   \n",
       "\n",
       "                                                Name     Sex   Age  SibSp  \\\n",
       "0                            Braund, Mr. Owen Harris    male  22.0      1   \n",
       "1  Cumings, Mrs. John Bradley (Florence Briggs Th...  female  38.0      1   \n",
       "2                             Heikkinen, Miss. Laina  female  26.0      0   \n",
       "3       Futrelle, Mrs. Jacques Heath (Lily May Peel)  female  35.0      1   \n",
       "4                           Allen, Mr. William Henry    male  35.0      0   \n",
       "5                                   Moran, Mr. James    male   NaN      0   \n",
       "6                            McCarthy, Mr. Timothy J    male  54.0      0   \n",
       "7                     Palsson, Master. Gosta Leonard    male   2.0      3   \n",
       "8  Johnson, Mrs. Oscar W (Elisabeth Vilhelmina Berg)  female  27.0      0   \n",
       "9                Nasser, Mrs. Nicholas (Adele Achem)  female  14.0      1   \n",
       "\n",
       "   Parch            Ticket     Fare Cabin Embarked  \n",
       "0      0         A/5 21171   7.2500   NaN        S  \n",
       "1      0          PC 17599  71.2833   C85        C  \n",
       "2      0  STON/O2. 3101282   7.9250   NaN        S  \n",
       "3      0            113803  53.1000  C123        S  \n",
       "4      0            373450   8.0500   NaN        S  \n",
       "5      0            330877   8.4583   NaN        Q  \n",
       "6      0             17463  51.8625   E46        S  \n",
       "7      1            349909  21.0750   NaN        S  \n",
       "8      2            347742  11.1333   NaN        S  \n",
       "9      0            237736  30.0708   NaN        C  "
      ]
     },
     "execution_count": 4,
     "metadata": {},
     "output_type": "execute_result"
    }
   ],
   "source": [
    "train_titanic.head(10)"
   ]
  },
  {
   "cell_type": "code",
   "execution_count": 5,
   "id": "54b60487",
   "metadata": {
    "execution": {
     "iopub.execute_input": "2023-08-07T11:53:33.302137Z",
     "iopub.status.busy": "2023-08-07T11:53:33.301699Z",
     "iopub.status.idle": "2023-08-07T11:53:33.319271Z",
     "shell.execute_reply": "2023-08-07T11:53:33.318011Z"
    },
    "papermill": {
     "duration": 0.042062,
     "end_time": "2023-08-07T11:53:33.321886",
     "exception": false,
     "start_time": "2023-08-07T11:53:33.279824",
     "status": "completed"
    },
    "tags": []
   },
   "outputs": [
    {
     "data": {
      "text/html": [
       "<div>\n",
       "<style scoped>\n",
       "    .dataframe tbody tr th:only-of-type {\n",
       "        vertical-align: middle;\n",
       "    }\n",
       "\n",
       "    .dataframe tbody tr th {\n",
       "        vertical-align: top;\n",
       "    }\n",
       "\n",
       "    .dataframe thead th {\n",
       "        text-align: right;\n",
       "    }\n",
       "</style>\n",
       "<table border=\"1\" class=\"dataframe\">\n",
       "  <thead>\n",
       "    <tr style=\"text-align: right;\">\n",
       "      <th></th>\n",
       "      <th>PassengerId</th>\n",
       "      <th>Survived</th>\n",
       "      <th>Pclass</th>\n",
       "      <th>Name</th>\n",
       "      <th>Sex</th>\n",
       "      <th>Age</th>\n",
       "      <th>SibSp</th>\n",
       "      <th>Parch</th>\n",
       "      <th>Ticket</th>\n",
       "      <th>Fare</th>\n",
       "      <th>Cabin</th>\n",
       "      <th>Embarked</th>\n",
       "    </tr>\n",
       "  </thead>\n",
       "  <tbody>\n",
       "    <tr>\n",
       "      <th>886</th>\n",
       "      <td>887</td>\n",
       "      <td>0</td>\n",
       "      <td>2</td>\n",
       "      <td>Montvila, Rev. Juozas</td>\n",
       "      <td>male</td>\n",
       "      <td>27.0</td>\n",
       "      <td>0</td>\n",
       "      <td>0</td>\n",
       "      <td>211536</td>\n",
       "      <td>13.00</td>\n",
       "      <td>NaN</td>\n",
       "      <td>S</td>\n",
       "    </tr>\n",
       "    <tr>\n",
       "      <th>887</th>\n",
       "      <td>888</td>\n",
       "      <td>1</td>\n",
       "      <td>1</td>\n",
       "      <td>Graham, Miss. Margaret Edith</td>\n",
       "      <td>female</td>\n",
       "      <td>19.0</td>\n",
       "      <td>0</td>\n",
       "      <td>0</td>\n",
       "      <td>112053</td>\n",
       "      <td>30.00</td>\n",
       "      <td>B42</td>\n",
       "      <td>S</td>\n",
       "    </tr>\n",
       "    <tr>\n",
       "      <th>888</th>\n",
       "      <td>889</td>\n",
       "      <td>0</td>\n",
       "      <td>3</td>\n",
       "      <td>Johnston, Miss. Catherine Helen \"Carrie\"</td>\n",
       "      <td>female</td>\n",
       "      <td>NaN</td>\n",
       "      <td>1</td>\n",
       "      <td>2</td>\n",
       "      <td>W./C. 6607</td>\n",
       "      <td>23.45</td>\n",
       "      <td>NaN</td>\n",
       "      <td>S</td>\n",
       "    </tr>\n",
       "    <tr>\n",
       "      <th>889</th>\n",
       "      <td>890</td>\n",
       "      <td>1</td>\n",
       "      <td>1</td>\n",
       "      <td>Behr, Mr. Karl Howell</td>\n",
       "      <td>male</td>\n",
       "      <td>26.0</td>\n",
       "      <td>0</td>\n",
       "      <td>0</td>\n",
       "      <td>111369</td>\n",
       "      <td>30.00</td>\n",
       "      <td>C148</td>\n",
       "      <td>C</td>\n",
       "    </tr>\n",
       "    <tr>\n",
       "      <th>890</th>\n",
       "      <td>891</td>\n",
       "      <td>0</td>\n",
       "      <td>3</td>\n",
       "      <td>Dooley, Mr. Patrick</td>\n",
       "      <td>male</td>\n",
       "      <td>32.0</td>\n",
       "      <td>0</td>\n",
       "      <td>0</td>\n",
       "      <td>370376</td>\n",
       "      <td>7.75</td>\n",
       "      <td>NaN</td>\n",
       "      <td>Q</td>\n",
       "    </tr>\n",
       "  </tbody>\n",
       "</table>\n",
       "</div>"
      ],
      "text/plain": [
       "     PassengerId  Survived  Pclass                                      Name  \\\n",
       "886          887         0       2                     Montvila, Rev. Juozas   \n",
       "887          888         1       1              Graham, Miss. Margaret Edith   \n",
       "888          889         0       3  Johnston, Miss. Catherine Helen \"Carrie\"   \n",
       "889          890         1       1                     Behr, Mr. Karl Howell   \n",
       "890          891         0       3                       Dooley, Mr. Patrick   \n",
       "\n",
       "        Sex   Age  SibSp  Parch      Ticket   Fare Cabin Embarked  \n",
       "886    male  27.0      0      0      211536  13.00   NaN        S  \n",
       "887  female  19.0      0      0      112053  30.00   B42        S  \n",
       "888  female   NaN      1      2  W./C. 6607  23.45   NaN        S  \n",
       "889    male  26.0      0      0      111369  30.00  C148        C  \n",
       "890    male  32.0      0      0      370376   7.75   NaN        Q  "
      ]
     },
     "execution_count": 5,
     "metadata": {},
     "output_type": "execute_result"
    }
   ],
   "source": [
    "train_titanic.tail()"
   ]
  },
  {
   "cell_type": "code",
   "execution_count": 6,
   "id": "7c22762b",
   "metadata": {
    "execution": {
     "iopub.execute_input": "2023-08-07T11:53:33.365643Z",
     "iopub.status.busy": "2023-08-07T11:53:33.364753Z",
     "iopub.status.idle": "2023-08-07T11:53:33.405320Z",
     "shell.execute_reply": "2023-08-07T11:53:33.404118Z"
    },
    "papermill": {
     "duration": 0.065278,
     "end_time": "2023-08-07T11:53:33.407771",
     "exception": false,
     "start_time": "2023-08-07T11:53:33.342493",
     "status": "completed"
    },
    "tags": []
   },
   "outputs": [
    {
     "data": {
      "text/html": [
       "<div>\n",
       "<style scoped>\n",
       "    .dataframe tbody tr th:only-of-type {\n",
       "        vertical-align: middle;\n",
       "    }\n",
       "\n",
       "    .dataframe tbody tr th {\n",
       "        vertical-align: top;\n",
       "    }\n",
       "\n",
       "    .dataframe thead th {\n",
       "        text-align: right;\n",
       "    }\n",
       "</style>\n",
       "<table border=\"1\" class=\"dataframe\">\n",
       "  <thead>\n",
       "    <tr style=\"text-align: right;\">\n",
       "      <th></th>\n",
       "      <th>PassengerId</th>\n",
       "      <th>Survived</th>\n",
       "      <th>Pclass</th>\n",
       "      <th>Age</th>\n",
       "      <th>SibSp</th>\n",
       "      <th>Parch</th>\n",
       "      <th>Fare</th>\n",
       "    </tr>\n",
       "  </thead>\n",
       "  <tbody>\n",
       "    <tr>\n",
       "      <th>count</th>\n",
       "      <td>891.000000</td>\n",
       "      <td>891.000000</td>\n",
       "      <td>891.000000</td>\n",
       "      <td>714.000000</td>\n",
       "      <td>891.000000</td>\n",
       "      <td>891.000000</td>\n",
       "      <td>891.000000</td>\n",
       "    </tr>\n",
       "    <tr>\n",
       "      <th>mean</th>\n",
       "      <td>446.000000</td>\n",
       "      <td>0.383838</td>\n",
       "      <td>2.308642</td>\n",
       "      <td>29.699118</td>\n",
       "      <td>0.523008</td>\n",
       "      <td>0.381594</td>\n",
       "      <td>32.204208</td>\n",
       "    </tr>\n",
       "    <tr>\n",
       "      <th>std</th>\n",
       "      <td>257.353842</td>\n",
       "      <td>0.486592</td>\n",
       "      <td>0.836071</td>\n",
       "      <td>14.526497</td>\n",
       "      <td>1.102743</td>\n",
       "      <td>0.806057</td>\n",
       "      <td>49.693429</td>\n",
       "    </tr>\n",
       "    <tr>\n",
       "      <th>min</th>\n",
       "      <td>1.000000</td>\n",
       "      <td>0.000000</td>\n",
       "      <td>1.000000</td>\n",
       "      <td>0.420000</td>\n",
       "      <td>0.000000</td>\n",
       "      <td>0.000000</td>\n",
       "      <td>0.000000</td>\n",
       "    </tr>\n",
       "    <tr>\n",
       "      <th>25%</th>\n",
       "      <td>223.500000</td>\n",
       "      <td>0.000000</td>\n",
       "      <td>2.000000</td>\n",
       "      <td>20.125000</td>\n",
       "      <td>0.000000</td>\n",
       "      <td>0.000000</td>\n",
       "      <td>7.910400</td>\n",
       "    </tr>\n",
       "    <tr>\n",
       "      <th>50%</th>\n",
       "      <td>446.000000</td>\n",
       "      <td>0.000000</td>\n",
       "      <td>3.000000</td>\n",
       "      <td>28.000000</td>\n",
       "      <td>0.000000</td>\n",
       "      <td>0.000000</td>\n",
       "      <td>14.454200</td>\n",
       "    </tr>\n",
       "    <tr>\n",
       "      <th>75%</th>\n",
       "      <td>668.500000</td>\n",
       "      <td>1.000000</td>\n",
       "      <td>3.000000</td>\n",
       "      <td>38.000000</td>\n",
       "      <td>1.000000</td>\n",
       "      <td>0.000000</td>\n",
       "      <td>31.000000</td>\n",
       "    </tr>\n",
       "    <tr>\n",
       "      <th>max</th>\n",
       "      <td>891.000000</td>\n",
       "      <td>1.000000</td>\n",
       "      <td>3.000000</td>\n",
       "      <td>80.000000</td>\n",
       "      <td>8.000000</td>\n",
       "      <td>6.000000</td>\n",
       "      <td>512.329200</td>\n",
       "    </tr>\n",
       "  </tbody>\n",
       "</table>\n",
       "</div>"
      ],
      "text/plain": [
       "       PassengerId    Survived      Pclass         Age       SibSp  \\\n",
       "count   891.000000  891.000000  891.000000  714.000000  891.000000   \n",
       "mean    446.000000    0.383838    2.308642   29.699118    0.523008   \n",
       "std     257.353842    0.486592    0.836071   14.526497    1.102743   \n",
       "min       1.000000    0.000000    1.000000    0.420000    0.000000   \n",
       "25%     223.500000    0.000000    2.000000   20.125000    0.000000   \n",
       "50%     446.000000    0.000000    3.000000   28.000000    0.000000   \n",
       "75%     668.500000    1.000000    3.000000   38.000000    1.000000   \n",
       "max     891.000000    1.000000    3.000000   80.000000    8.000000   \n",
       "\n",
       "            Parch        Fare  \n",
       "count  891.000000  891.000000  \n",
       "mean     0.381594   32.204208  \n",
       "std      0.806057   49.693429  \n",
       "min      0.000000    0.000000  \n",
       "25%      0.000000    7.910400  \n",
       "50%      0.000000   14.454200  \n",
       "75%      0.000000   31.000000  \n",
       "max      6.000000  512.329200  "
      ]
     },
     "execution_count": 6,
     "metadata": {},
     "output_type": "execute_result"
    }
   ],
   "source": [
    "train_titanic.describe()"
   ]
  },
  {
   "cell_type": "code",
   "execution_count": 7,
   "id": "32d8aea3",
   "metadata": {
    "execution": {
     "iopub.execute_input": "2023-08-07T11:53:33.452355Z",
     "iopub.status.busy": "2023-08-07T11:53:33.451478Z",
     "iopub.status.idle": "2023-08-07T11:53:33.472969Z",
     "shell.execute_reply": "2023-08-07T11:53:33.471763Z"
    },
    "papermill": {
     "duration": 0.047127,
     "end_time": "2023-08-07T11:53:33.475550",
     "exception": false,
     "start_time": "2023-08-07T11:53:33.428423",
     "status": "completed"
    },
    "tags": []
   },
   "outputs": [
    {
     "data": {
      "text/html": [
       "<div>\n",
       "<style scoped>\n",
       "    .dataframe tbody tr th:only-of-type {\n",
       "        vertical-align: middle;\n",
       "    }\n",
       "\n",
       "    .dataframe tbody tr th {\n",
       "        vertical-align: top;\n",
       "    }\n",
       "\n",
       "    .dataframe thead th {\n",
       "        text-align: right;\n",
       "    }\n",
       "</style>\n",
       "<table border=\"1\" class=\"dataframe\">\n",
       "  <thead>\n",
       "    <tr style=\"text-align: right;\">\n",
       "      <th></th>\n",
       "      <th>PassengerId</th>\n",
       "      <th>Survived</th>\n",
       "      <th>Pclass</th>\n",
       "      <th>Age</th>\n",
       "      <th>SibSp</th>\n",
       "      <th>Parch</th>\n",
       "      <th>Fare</th>\n",
       "    </tr>\n",
       "  </thead>\n",
       "  <tbody>\n",
       "    <tr>\n",
       "      <th>PassengerId</th>\n",
       "      <td>1.000000</td>\n",
       "      <td>-0.005007</td>\n",
       "      <td>-0.035144</td>\n",
       "      <td>0.036847</td>\n",
       "      <td>-0.057527</td>\n",
       "      <td>-0.001652</td>\n",
       "      <td>0.012658</td>\n",
       "    </tr>\n",
       "    <tr>\n",
       "      <th>Survived</th>\n",
       "      <td>-0.005007</td>\n",
       "      <td>1.000000</td>\n",
       "      <td>-0.338481</td>\n",
       "      <td>-0.077221</td>\n",
       "      <td>-0.035322</td>\n",
       "      <td>0.081629</td>\n",
       "      <td>0.257307</td>\n",
       "    </tr>\n",
       "    <tr>\n",
       "      <th>Pclass</th>\n",
       "      <td>-0.035144</td>\n",
       "      <td>-0.338481</td>\n",
       "      <td>1.000000</td>\n",
       "      <td>-0.369226</td>\n",
       "      <td>0.083081</td>\n",
       "      <td>0.018443</td>\n",
       "      <td>-0.549500</td>\n",
       "    </tr>\n",
       "    <tr>\n",
       "      <th>Age</th>\n",
       "      <td>0.036847</td>\n",
       "      <td>-0.077221</td>\n",
       "      <td>-0.369226</td>\n",
       "      <td>1.000000</td>\n",
       "      <td>-0.308247</td>\n",
       "      <td>-0.189119</td>\n",
       "      <td>0.096067</td>\n",
       "    </tr>\n",
       "    <tr>\n",
       "      <th>SibSp</th>\n",
       "      <td>-0.057527</td>\n",
       "      <td>-0.035322</td>\n",
       "      <td>0.083081</td>\n",
       "      <td>-0.308247</td>\n",
       "      <td>1.000000</td>\n",
       "      <td>0.414838</td>\n",
       "      <td>0.159651</td>\n",
       "    </tr>\n",
       "    <tr>\n",
       "      <th>Parch</th>\n",
       "      <td>-0.001652</td>\n",
       "      <td>0.081629</td>\n",
       "      <td>0.018443</td>\n",
       "      <td>-0.189119</td>\n",
       "      <td>0.414838</td>\n",
       "      <td>1.000000</td>\n",
       "      <td>0.216225</td>\n",
       "    </tr>\n",
       "    <tr>\n",
       "      <th>Fare</th>\n",
       "      <td>0.012658</td>\n",
       "      <td>0.257307</td>\n",
       "      <td>-0.549500</td>\n",
       "      <td>0.096067</td>\n",
       "      <td>0.159651</td>\n",
       "      <td>0.216225</td>\n",
       "      <td>1.000000</td>\n",
       "    </tr>\n",
       "  </tbody>\n",
       "</table>\n",
       "</div>"
      ],
      "text/plain": [
       "             PassengerId  Survived    Pclass       Age     SibSp     Parch  \\\n",
       "PassengerId     1.000000 -0.005007 -0.035144  0.036847 -0.057527 -0.001652   \n",
       "Survived       -0.005007  1.000000 -0.338481 -0.077221 -0.035322  0.081629   \n",
       "Pclass         -0.035144 -0.338481  1.000000 -0.369226  0.083081  0.018443   \n",
       "Age             0.036847 -0.077221 -0.369226  1.000000 -0.308247 -0.189119   \n",
       "SibSp          -0.057527 -0.035322  0.083081 -0.308247  1.000000  0.414838   \n",
       "Parch          -0.001652  0.081629  0.018443 -0.189119  0.414838  1.000000   \n",
       "Fare            0.012658  0.257307 -0.549500  0.096067  0.159651  0.216225   \n",
       "\n",
       "                 Fare  \n",
       "PassengerId  0.012658  \n",
       "Survived     0.257307  \n",
       "Pclass      -0.549500  \n",
       "Age          0.096067  \n",
       "SibSp        0.159651  \n",
       "Parch        0.216225  \n",
       "Fare         1.000000  "
      ]
     },
     "execution_count": 7,
     "metadata": {},
     "output_type": "execute_result"
    }
   ],
   "source": [
    "train_titanic.corr()"
   ]
  },
  {
   "cell_type": "code",
   "execution_count": 8,
   "id": "2b22d73e",
   "metadata": {
    "execution": {
     "iopub.execute_input": "2023-08-07T11:53:33.520428Z",
     "iopub.status.busy": "2023-08-07T11:53:33.519591Z",
     "iopub.status.idle": "2023-08-07T11:53:33.528690Z",
     "shell.execute_reply": "2023-08-07T11:53:33.527323Z"
    },
    "papermill": {
     "duration": 0.034529,
     "end_time": "2023-08-07T11:53:33.531124",
     "exception": false,
     "start_time": "2023-08-07T11:53:33.496595",
     "status": "completed"
    },
    "tags": []
   },
   "outputs": [
    {
     "data": {
      "text/plain": [
       "PassengerId      int64\n",
       "Survived         int64\n",
       "Pclass           int64\n",
       "Name            object\n",
       "Sex             object\n",
       "Age            float64\n",
       "SibSp            int64\n",
       "Parch            int64\n",
       "Ticket          object\n",
       "Fare           float64\n",
       "Cabin           object\n",
       "Embarked        object\n",
       "dtype: object"
      ]
     },
     "execution_count": 8,
     "metadata": {},
     "output_type": "execute_result"
    }
   ],
   "source": [
    "train_titanic.dtypes"
   ]
  },
  {
   "cell_type": "code",
   "execution_count": 9,
   "id": "2dc038f8",
   "metadata": {
    "execution": {
     "iopub.execute_input": "2023-08-07T11:53:33.575554Z",
     "iopub.status.busy": "2023-08-07T11:53:33.575102Z",
     "iopub.status.idle": "2023-08-07T11:53:33.582459Z",
     "shell.execute_reply": "2023-08-07T11:53:33.581321Z"
    },
    "papermill": {
     "duration": 0.032691,
     "end_time": "2023-08-07T11:53:33.584989",
     "exception": false,
     "start_time": "2023-08-07T11:53:33.552298",
     "status": "completed"
    },
    "tags": []
   },
   "outputs": [
    {
     "data": {
      "text/plain": [
       "Index(['PassengerId', 'Survived', 'Pclass', 'Name', 'Sex', 'Age', 'SibSp',\n",
       "       'Parch', 'Ticket', 'Fare', 'Cabin', 'Embarked'],\n",
       "      dtype='object')"
      ]
     },
     "execution_count": 9,
     "metadata": {},
     "output_type": "execute_result"
    }
   ],
   "source": [
    "train_titanic.columns"
   ]
  },
  {
   "cell_type": "code",
   "execution_count": 10,
   "id": "86d37c7b",
   "metadata": {
    "execution": {
     "iopub.execute_input": "2023-08-07T11:53:33.630890Z",
     "iopub.status.busy": "2023-08-07T11:53:33.630505Z",
     "iopub.status.idle": "2023-08-07T11:53:33.656025Z",
     "shell.execute_reply": "2023-08-07T11:53:33.654624Z"
    },
    "papermill": {
     "duration": 0.052382,
     "end_time": "2023-08-07T11:53:33.659030",
     "exception": false,
     "start_time": "2023-08-07T11:53:33.606648",
     "status": "completed"
    },
    "tags": []
   },
   "outputs": [
    {
     "name": "stdout",
     "output_type": "stream",
     "text": [
      "<class 'pandas.core.frame.DataFrame'>\n",
      "RangeIndex: 891 entries, 0 to 890\n",
      "Data columns (total 12 columns):\n",
      " #   Column       Non-Null Count  Dtype  \n",
      "---  ------       --------------  -----  \n",
      " 0   PassengerId  891 non-null    int64  \n",
      " 1   Survived     891 non-null    int64  \n",
      " 2   Pclass       891 non-null    int64  \n",
      " 3   Name         891 non-null    object \n",
      " 4   Sex          891 non-null    object \n",
      " 5   Age          714 non-null    float64\n",
      " 6   SibSp        891 non-null    int64  \n",
      " 7   Parch        891 non-null    int64  \n",
      " 8   Ticket       891 non-null    object \n",
      " 9   Fare         891 non-null    float64\n",
      " 10  Cabin        204 non-null    object \n",
      " 11  Embarked     889 non-null    object \n",
      "dtypes: float64(2), int64(5), object(5)\n",
      "memory usage: 83.7+ KB\n"
     ]
    }
   ],
   "source": [
    "train_titanic.info()"
   ]
  },
  {
   "cell_type": "code",
   "execution_count": 11,
   "id": "5a1e8d8b",
   "metadata": {
    "execution": {
     "iopub.execute_input": "2023-08-07T11:53:33.705566Z",
     "iopub.status.busy": "2023-08-07T11:53:33.705135Z",
     "iopub.status.idle": "2023-08-07T11:53:33.716257Z",
     "shell.execute_reply": "2023-08-07T11:53:33.714953Z"
    },
    "papermill": {
     "duration": 0.037737,
     "end_time": "2023-08-07T11:53:33.719299",
     "exception": false,
     "start_time": "2023-08-07T11:53:33.681562",
     "status": "completed"
    },
    "tags": []
   },
   "outputs": [
    {
     "data": {
      "text/plain": [
       "PassengerId      0\n",
       "Survived         0\n",
       "Pclass           0\n",
       "Name             0\n",
       "Sex              0\n",
       "Age            177\n",
       "SibSp            0\n",
       "Parch            0\n",
       "Ticket           0\n",
       "Fare             0\n",
       "Cabin          687\n",
       "Embarked         2\n",
       "dtype: int64"
      ]
     },
     "execution_count": 11,
     "metadata": {},
     "output_type": "execute_result"
    }
   ],
   "source": [
    "# Check for missing value counts\n",
    "train_titanic.isna().sum()"
   ]
  },
  {
   "cell_type": "code",
   "execution_count": 12,
   "id": "9c1c1c60",
   "metadata": {
    "execution": {
     "iopub.execute_input": "2023-08-07T11:53:33.765575Z",
     "iopub.status.busy": "2023-08-07T11:53:33.764906Z",
     "iopub.status.idle": "2023-08-07T11:53:34.340361Z",
     "shell.execute_reply": "2023-08-07T11:53:34.339005Z"
    },
    "papermill": {
     "duration": 0.601797,
     "end_time": "2023-08-07T11:53:34.343557",
     "exception": false,
     "start_time": "2023-08-07T11:53:33.741760",
     "status": "completed"
    },
    "tags": []
   },
   "outputs": [
    {
     "name": "stdout",
     "output_type": "stream",
     "text": [
      "Skewness of Age: 0.3882898514698657\n"
     ]
    },
    {
     "data": {
      "image/png": "[encoded data removed]",
      "text/plain": [
       "<Figure size 1400x1200 with 1 Axes>"
      ]
     },
     "metadata": {},
     "output_type": "display_data"
    }
   ],
   "source": [
    "# I can see that I have missing value in the Age column\n",
    "# get the skewness to determine whether to fill the missing value of a mean, median, mode or etc.\n",
    "from scipy.stats import skew\n",
    "# Distribution of Age\n",
    "plt.figure(figsize=(14,12))\n",
    "sns.histplot(train_titanic['Age'].dropna(), kde=True, color='skyblue')\n",
    "plt.title('Distribution of Age')\n",
    "plt.xlabel('Age')\n",
    "plt.ylabel('Frequency')\n",
    "\n",
    "skewness = skew(train_titanic['Age'].dropna())\n",
    "print(f\"Skewness of Age: {skewness}\")"
   ]
  },
  {
   "cell_type": "code",
   "execution_count": 13,
   "id": "f6592ded",
   "metadata": {
    "execution": {
     "iopub.execute_input": "2023-08-07T11:53:34.391190Z",
     "iopub.status.busy": "2023-08-07T11:53:34.390779Z",
     "iopub.status.idle": "2023-08-07T11:53:34.398732Z",
     "shell.execute_reply": "2023-08-07T11:53:34.397654Z"
    },
    "papermill": {
     "duration": 0.034428,
     "end_time": "2023-08-07T11:53:34.401074",
     "exception": false,
     "start_time": "2023-08-07T11:53:34.366646",
     "status": "completed"
    },
    "tags": []
   },
   "outputs": [],
   "source": [
    "# Based on the skewness I am gonna use the median value of the Age column to fill the missing values\n",
    "median_age = train_titanic['Age'].median()\n",
    "train_titanic['Age'].fillna(median_age, inplace=True)"
   ]
  },
  {
   "cell_type": "code",
   "execution_count": 14,
   "id": "2a00e0ca",
   "metadata": {
    "execution": {
     "iopub.execute_input": "2023-08-07T11:53:34.450781Z",
     "iopub.status.busy": "2023-08-07T11:53:34.449731Z",
     "iopub.status.idle": "2023-08-07T11:53:34.456278Z",
     "shell.execute_reply": "2023-08-07T11:53:34.455247Z"
    },
    "papermill": {
     "duration": 0.034123,
     "end_time": "2023-08-07T11:53:34.458757",
     "exception": false,
     "start_time": "2023-08-07T11:53:34.424634",
     "status": "completed"
    },
    "tags": []
   },
   "outputs": [],
   "source": [
    "# Fill missing values in the Embarked column using mode imputation\n",
    "train_titanic['Embarked'].fillna(train_titanic['Embarked'].mode()[0], inplace=True)"
   ]
  },
  {
   "cell_type": "code",
   "execution_count": 15,
   "id": "f77aa521",
   "metadata": {
    "execution": {
     "iopub.execute_input": "2023-08-07T11:53:34.507029Z",
     "iopub.status.busy": "2023-08-07T11:53:34.506628Z",
     "iopub.status.idle": "2023-08-07T11:53:34.527902Z",
     "shell.execute_reply": "2023-08-07T11:53:34.526942Z"
    },
    "papermill": {
     "duration": 0.048366,
     "end_time": "2023-08-07T11:53:34.530195",
     "exception": false,
     "start_time": "2023-08-07T11:53:34.481829",
     "status": "completed"
    },
    "tags": []
   },
   "outputs": [
    {
     "data": {
      "text/html": [
       "<div>\n",
       "<style scoped>\n",
       "    .dataframe tbody tr th:only-of-type {\n",
       "        vertical-align: middle;\n",
       "    }\n",
       "\n",
       "    .dataframe tbody tr th {\n",
       "        vertical-align: top;\n",
       "    }\n",
       "\n",
       "    .dataframe thead th {\n",
       "        text-align: right;\n",
       "    }\n",
       "</style>\n",
       "<table border=\"1\" class=\"dataframe\">\n",
       "  <thead>\n",
       "    <tr style=\"text-align: right;\">\n",
       "      <th></th>\n",
       "      <th>Survived</th>\n",
       "      <th>Pclass</th>\n",
       "      <th>Sex</th>\n",
       "      <th>Age</th>\n",
       "      <th>SibSp</th>\n",
       "      <th>Parch</th>\n",
       "      <th>Embarked</th>\n",
       "    </tr>\n",
       "  </thead>\n",
       "  <tbody>\n",
       "    <tr>\n",
       "      <th>0</th>\n",
       "      <td>0</td>\n",
       "      <td>3</td>\n",
       "      <td>male</td>\n",
       "      <td>22.0</td>\n",
       "      <td>1</td>\n",
       "      <td>0</td>\n",
       "      <td>S</td>\n",
       "    </tr>\n",
       "    <tr>\n",
       "      <th>1</th>\n",
       "      <td>1</td>\n",
       "      <td>1</td>\n",
       "      <td>female</td>\n",
       "      <td>38.0</td>\n",
       "      <td>1</td>\n",
       "      <td>0</td>\n",
       "      <td>C</td>\n",
       "    </tr>\n",
       "    <tr>\n",
       "      <th>2</th>\n",
       "      <td>1</td>\n",
       "      <td>3</td>\n",
       "      <td>female</td>\n",
       "      <td>26.0</td>\n",
       "      <td>0</td>\n",
       "      <td>0</td>\n",
       "      <td>S</td>\n",
       "    </tr>\n",
       "    <tr>\n",
       "      <th>3</th>\n",
       "      <td>1</td>\n",
       "      <td>1</td>\n",
       "      <td>female</td>\n",
       "      <td>35.0</td>\n",
       "      <td>1</td>\n",
       "      <td>0</td>\n",
       "      <td>S</td>\n",
       "    </tr>\n",
       "    <tr>\n",
       "      <th>4</th>\n",
       "      <td>0</td>\n",
       "      <td>3</td>\n",
       "      <td>male</td>\n",
       "      <td>35.0</td>\n",
       "      <td>0</td>\n",
       "      <td>0</td>\n",
       "      <td>S</td>\n",
       "    </tr>\n",
       "    <tr>\n",
       "      <th>...</th>\n",
       "      <td>...</td>\n",
       "      <td>...</td>\n",
       "      <td>...</td>\n",
       "      <td>...</td>\n",
       "      <td>...</td>\n",
       "      <td>...</td>\n",
       "      <td>...</td>\n",
       "    </tr>\n",
       "    <tr>\n",
       "      <th>886</th>\n",
       "      <td>0</td>\n",
       "      <td>2</td>\n",
       "      <td>male</td>\n",
       "      <td>27.0</td>\n",
       "      <td>0</td>\n",
       "      <td>0</td>\n",
       "      <td>S</td>\n",
       "    </tr>\n",
       "    <tr>\n",
       "      <th>887</th>\n",
       "      <td>1</td>\n",
       "      <td>1</td>\n",
       "      <td>female</td>\n",
       "      <td>19.0</td>\n",
       "      <td>0</td>\n",
       "      <td>0</td>\n",
       "      <td>S</td>\n",
       "    </tr>\n",
       "    <tr>\n",
       "      <th>888</th>\n",
       "      <td>0</td>\n",
       "      <td>3</td>\n",
       "      <td>female</td>\n",
       "      <td>28.0</td>\n",
       "      <td>1</td>\n",
       "      <td>2</td>\n",
       "      <td>S</td>\n",
       "    </tr>\n",
       "    <tr>\n",
       "      <th>889</th>\n",
       "      <td>1</td>\n",
       "      <td>1</td>\n",
       "      <td>male</td>\n",
       "      <td>26.0</td>\n",
       "      <td>0</td>\n",
       "      <td>0</td>\n",
       "      <td>C</td>\n",
       "    </tr>\n",
       "    <tr>\n",
       "      <th>890</th>\n",
       "      <td>0</td>\n",
       "      <td>3</td>\n",
       "      <td>male</td>\n",
       "      <td>32.0</td>\n",
       "      <td>0</td>\n",
       "      <td>0</td>\n",
       "      <td>Q</td>\n",
       "    </tr>\n",
       "  </tbody>\n",
       "</table>\n",
       "<p>891 rows × 7 columns</p>\n",
       "</div>"
      ],
      "text/plain": [
       "     Survived  Pclass     Sex   Age  SibSp  Parch Embarked\n",
       "0           0       3    male  22.0      1      0        S\n",
       "1           1       1  female  38.0      1      0        C\n",
       "2           1       3  female  26.0      0      0        S\n",
       "3           1       1  female  35.0      1      0        S\n",
       "4           0       3    male  35.0      0      0        S\n",
       "..        ...     ...     ...   ...    ...    ...      ...\n",
       "886         0       2    male  27.0      0      0        S\n",
       "887         1       1  female  19.0      0      0        S\n",
       "888         0       3  female  28.0      1      2        S\n",
       "889         1       1    male  26.0      0      0        C\n",
       "890         0       3    male  32.0      0      0        Q\n",
       "\n",
       "[891 rows x 7 columns]"
      ]
     },
     "execution_count": 15,
     "metadata": {},
     "output_type": "execute_result"
    }
   ],
   "source": [
    "# Dropping unnecessary columns\n",
    "train_titanic = train_titanic.drop(['PassengerId', 'Name', 'Cabin', 'Ticket', 'Fare'], axis=1)\n",
    "train_titanic"
   ]
  },
  {
   "cell_type": "markdown",
   "id": "4446833f",
   "metadata": {
    "papermill": {
     "duration": 0.022917,
     "end_time": "2023-08-07T11:53:34.576604",
     "exception": false,
     "start_time": "2023-08-07T11:53:34.553687",
     "status": "completed"
    },
    "tags": []
   },
   "source": [
    "# **Exploratory Data Analysis**"
   ]
  },
  {
   "cell_type": "markdown",
   "id": "b13588eb",
   "metadata": {
    "papermill": {
     "duration": 0.023801,
     "end_time": "2023-08-07T11:53:34.623453",
     "exception": false,
     "start_time": "2023-08-07T11:53:34.599652",
     "status": "completed"
    },
    "tags": []
   },
   "source": [
    "### Import data visualization packages"
   ]
  },
  {
   "cell_type": "code",
   "execution_count": 16,
   "id": "2b959d38",
   "metadata": {
    "execution": {
     "iopub.execute_input": "2023-08-07T11:53:34.674062Z",
     "iopub.status.busy": "2023-08-07T11:53:34.671930Z",
     "iopub.status.idle": "2023-08-07T11:53:34.679750Z",
     "shell.execute_reply": "2023-08-07T11:53:34.678693Z"
    },
    "papermill": {
     "duration": 0.035564,
     "end_time": "2023-08-07T11:53:34.682340",
     "exception": false,
     "start_time": "2023-08-07T11:53:34.646776",
     "status": "completed"
    },
    "tags": []
   },
   "outputs": [],
   "source": [
    "%matplotlib inline\n",
    "import matplotlib.pyplot as plt\n",
    "import seaborn as sns"
   ]
  },
  {
   "cell_type": "code",
   "execution_count": 17,
   "id": "00a83754",
   "metadata": {
    "execution": {
     "iopub.execute_input": "2023-08-07T11:53:34.731298Z",
     "iopub.status.busy": "2023-08-07T11:53:34.730027Z",
     "iopub.status.idle": "2023-08-07T11:53:34.975767Z",
     "shell.execute_reply": "2023-08-07T11:53:34.974652Z"
    },
    "papermill": {
     "duration": 0.273369,
     "end_time": "2023-08-07T11:53:34.978654",
     "exception": false,
     "start_time": "2023-08-07T11:53:34.705285",
     "status": "completed"
    },
    "tags": []
   },
   "outputs": [
    {
     "data": {
      "image/png": "[encoded data removed]",
      "text/plain": [
       "<Figure size 640x480 with 1 Axes>"
      ]
     },
     "metadata": {},
     "output_type": "display_data"
    }
   ],
   "source": [
    "# Male and Female survivor\n",
    "sns.countplot(x='Sex', data=train_titanic, hue='Survived')\n",
    "plt.title('Male vs Female Survivor')\n",
    "plt.xlabel('Survived')\n",
    "plt.ylabel('Count')\n",
    "plt.legend(title='Survived', labels=['No', 'Yes'])\n",
    "\n",
    "plt.show()"
   ]
  },
  {
   "cell_type": "markdown",
   "id": "cf0bc0b2",
   "metadata": {
    "papermill": {
     "duration": 0.024153,
     "end_time": "2023-08-07T11:53:35.027893",
     "exception": false,
     "start_time": "2023-08-07T11:53:35.003740",
     "status": "completed"
    },
    "tags": []
   },
   "source": [
    "As shown in the graph, majority of **Male** did not survived the titanic."
   ]
  },
  {
   "cell_type": "code",
   "execution_count": 18,
   "id": "42274319",
   "metadata": {
    "execution": {
     "iopub.execute_input": "2023-08-07T11:53:35.077219Z",
     "iopub.status.busy": "2023-08-07T11:53:35.076768Z",
     "iopub.status.idle": "2023-08-07T11:53:35.206819Z",
     "shell.execute_reply": "2023-08-07T11:53:35.205497Z"
    },
    "papermill": {
     "duration": 0.159782,
     "end_time": "2023-08-07T11:53:35.211416",
     "exception": false,
     "start_time": "2023-08-07T11:53:35.051634",
     "status": "completed"
    },
    "tags": []
   },
   "outputs": [
    {
     "data": {
      "image/png": "[encoded data removed]",
      "text/plain": [
       "<Figure size 1000x600 with 1 Axes>"
      ]
     },
     "metadata": {},
     "output_type": "display_data"
    }
   ],
   "source": [
    "# Pie chart for the percentage of Male and Female survivor\n",
    "plt.figure(figsize=(10, 6))\n",
    "plt.pie(train_titanic['Survived'].value_counts(),labels=['No', 'Yes'], autopct='%1.2f%%')\n",
    "plt.title('Survivor Percentage')\n",
    "plt.show()"
   ]
  },
  {
   "cell_type": "markdown",
   "id": "a72b6729",
   "metadata": {
    "execution": {
     "iopub.execute_input": "2023-08-04T10:37:15.783700Z",
     "iopub.status.busy": "2023-08-04T10:37:15.783291Z",
     "iopub.status.idle": "2023-08-04T10:37:15.790640Z",
     "shell.execute_reply": "2023-08-04T10:37:15.789430Z",
     "shell.execute_reply.started": "2023-08-04T10:37:15.783667Z"
    },
    "papermill": {
     "duration": 0.03539,
     "end_time": "2023-08-07T11:53:35.299738",
     "exception": false,
     "start_time": "2023-08-07T11:53:35.264348",
     "status": "completed"
    },
    "tags": []
   },
   "source": [
    "The percentage of the survivor in the dataset are only 38.38%."
   ]
  },
  {
   "cell_type": "markdown",
   "id": "9c0c5825",
   "metadata": {
    "papermill": {
     "duration": 0.025152,
     "end_time": "2023-08-07T11:53:35.348842",
     "exception": false,
     "start_time": "2023-08-07T11:53:35.323690",
     "status": "completed"
    },
    "tags": []
   },
   "source": [
    "## **Age Count**"
   ]
  },
  {
   "cell_type": "code",
   "execution_count": 19,
   "id": "07b260a9",
   "metadata": {
    "execution": {
     "iopub.execute_input": "2023-08-07T11:53:35.398868Z",
     "iopub.status.busy": "2023-08-07T11:53:35.398428Z",
     "iopub.status.idle": "2023-08-07T11:53:35.959741Z",
     "shell.execute_reply": "2023-08-07T11:53:35.958705Z"
    },
    "papermill": {
     "duration": 0.589493,
     "end_time": "2023-08-07T11:53:35.962285",
     "exception": false,
     "start_time": "2023-08-07T11:53:35.372792",
     "status": "completed"
    },
    "tags": []
   },
   "outputs": [
    {
     "data": {
      "text/plain": [
       "<matplotlib.legend.Legend at 0x7cc83a4b71c0>"
      ]
     },
     "execution_count": 19,
     "metadata": {},
     "output_type": "execute_result"
    },
    {
     "data": {
      "image/png": "[encoded data removed]",
      "text/plain": [
       "<Figure size 640x480 with 1 Axes>"
      ]
     },
     "metadata": {},
     "output_type": "display_data"
    }
   ],
   "source": [
    "# Survivor count based on Age\n",
    "sns.histplot(data=train_titanic, x='Age', hue='Survived', multiple='stack', kde=True)\n",
    "plt.legend(title='Survived', labels=['No', 'Yes'])\n"
   ]
  },
  {
   "cell_type": "markdown",
   "id": "28c0043d",
   "metadata": {
    "papermill": {
     "duration": 0.026701,
     "end_time": "2023-08-07T11:53:36.013685",
     "exception": false,
     "start_time": "2023-08-07T11:53:35.986984",
     "status": "completed"
    },
    "tags": []
   },
   "source": [
    "The majority of the people that did not survived are from age group 25-30 years old."
   ]
  },
  {
   "cell_type": "markdown",
   "id": "9754aaab",
   "metadata": {
    "papermill": {
     "duration": 0.024332,
     "end_time": "2023-08-07T11:53:36.063326",
     "exception": false,
     "start_time": "2023-08-07T11:53:36.038994",
     "status": "completed"
    },
    "tags": []
   },
   "source": [
    "## **Port of Embarkation**"
   ]
  },
  {
   "cell_type": "code",
   "execution_count": 20,
   "id": "ce8e7751",
   "metadata": {
    "execution": {
     "iopub.execute_input": "2023-08-07T11:53:36.116757Z",
     "iopub.status.busy": "2023-08-07T11:53:36.116317Z",
     "iopub.status.idle": "2023-08-07T11:53:36.444318Z",
     "shell.execute_reply": "2023-08-07T11:53:36.443063Z"
    },
    "papermill": {
     "duration": 0.358251,
     "end_time": "2023-08-07T11:53:36.446882",
     "exception": false,
     "start_time": "2023-08-07T11:53:36.088631",
     "status": "completed"
    },
    "tags": []
   },
   "outputs": [
    {
     "data": {
      "image/png": "[encoded data removed]",
      "text/plain": [
       "<Figure size 640x480 with 1 Axes>"
      ]
     },
     "metadata": {},
     "output_type": "display_data"
    }
   ],
   "source": [
    "sns.countplot(x='Embarked', hue='Survived', data=train_titanic)\n",
    "plt.title('Survivor based on their Port of Embarkation')\n",
    "plt.xlabel('Port of Embarkation (S=Southampton),(C=Cherbourg),(Q=Queenstown)')\n",
    "plt.ylabel('Count')\n",
    "plt.legend(title='Survived', labels=['No', 'Yes'])\n",
    "plt.show()"
   ]
  },
  {
   "cell_type": "markdown",
   "id": "be57da69",
   "metadata": {
    "papermill": {
     "duration": 0.027515,
     "end_time": "2023-08-07T11:53:36.500046",
     "exception": false,
     "start_time": "2023-08-07T11:53:36.472531",
     "status": "completed"
    },
    "tags": []
   },
   "source": [
    "This graph shows the number of people who did not survived based on their port of embarkation. Majority of people who did not survived and who survived are from **S=>Southampton** port, followed by **C=>Cherbourg** and **Q=>Queenstown**."
   ]
  },
  {
   "cell_type": "markdown",
   "id": "0c851194",
   "metadata": {
    "papermill": {
     "duration": 0.025265,
     "end_time": "2023-08-07T11:53:36.551067",
     "exception": false,
     "start_time": "2023-08-07T11:53:36.525802",
     "status": "completed"
    },
    "tags": []
   },
   "source": [
    "## **Ticket class**"
   ]
  },
  {
   "cell_type": "code",
   "execution_count": 21,
   "id": "1ad6b79f",
   "metadata": {
    "execution": {
     "iopub.execute_input": "2023-08-07T11:53:36.603809Z",
     "iopub.status.busy": "2023-08-07T11:53:36.603342Z",
     "iopub.status.idle": "2023-08-07T11:53:36.924551Z",
     "shell.execute_reply": "2023-08-07T11:53:36.923551Z"
    },
    "papermill": {
     "duration": 0.350458,
     "end_time": "2023-08-07T11:53:36.926855",
     "exception": false,
     "start_time": "2023-08-07T11:53:36.576397",
     "status": "completed"
    },
    "tags": []
   },
   "outputs": [
    {
     "data": {
      "image/png": "[encoded data removed]",
      "text/plain": [
       "<Figure size 640x480 with 1 Axes>"
      ]
     },
     "metadata": {},
     "output_type": "display_data"
    }
   ],
   "source": [
    "sns.countplot(x='Pclass', hue='Survived', data=train_titanic)\n",
    "plt.title('Survivor based on their Ticket class (Pclass)')\n",
    "plt.xlabel('Ticket class (Pclass)')\n",
    "plt.ylabel('Count')\n",
    "plt.legend(title='Survived', labels=['No', 'Yes'])\n",
    "plt.show()"
   ]
  },
  {
   "cell_type": "markdown",
   "id": "7bc5f00a",
   "metadata": {
    "papermill": {
     "duration": 0.02644,
     "end_time": "2023-08-07T11:53:36.979273",
     "exception": false,
     "start_time": "2023-08-07T11:53:36.952833",
     "status": "completed"
    },
    "tags": []
   },
   "source": [
    "This graph shows the number of people who did not survived based on the ticket class **(Pclass)**. Majority of people who did not survived are from **3rd class** followed by **2nd class** and **1st class**. In contrast, majority of people who survived are from **1st class**, followed by **3rd class** and **2nd class**. "
   ]
  },
  {
   "cell_type": "markdown",
   "id": "3cdfbdc3",
   "metadata": {
    "papermill": {
     "duration": 0.026735,
     "end_time": "2023-08-07T11:53:37.034781",
     "exception": false,
     "start_time": "2023-08-07T11:53:37.008046",
     "status": "completed"
    },
    "tags": []
   },
   "source": [
    "## **Sibsp** and **Parch**"
   ]
  },
  {
   "cell_type": "code",
   "execution_count": 22,
   "id": "d65f66c0",
   "metadata": {
    "execution": {
     "iopub.execute_input": "2023-08-07T11:53:37.090331Z",
     "iopub.status.busy": "2023-08-07T11:53:37.089460Z",
     "iopub.status.idle": "2023-08-07T11:53:37.737719Z",
     "shell.execute_reply": "2023-08-07T11:53:37.736606Z"
    },
    "papermill": {
     "duration": 0.679083,
     "end_time": "2023-08-07T11:53:37.740199",
     "exception": false,
     "start_time": "2023-08-07T11:53:37.061116",
     "status": "completed"
    },
    "tags": []
   },
   "outputs": [
    {
     "data": {
      "image/png": "[encoded data removed]",
      "text/plain": [
       "<Figure size 1500x500 with 2 Axes>"
      ]
     },
     "metadata": {},
     "output_type": "display_data"
    }
   ],
   "source": [
    "\n",
    "fig, ax= plt.subplots(1,2,figsize=(15, 5))\n",
    "sns.countplot(x='SibSp', hue='Survived', data=train_titanic, ax=ax[0])\n",
    "ax[0].set_title('Number of Survivor who has Siblings/Spouses onboard')\n",
    "ax[0].set_xlabel('Sibling/Spouse (SibSp)')\n",
    "ax[0].legend(title='Survived', labels=['No', 'Yes'])\n",
    "\n",
    "\n",
    "sns.countplot(x='Parch', hue='Survived', data=train_titanic, ax=ax[1])\n",
    "ax[1].set_title('Number of Survivor who has Parents/Children onboard')\n",
    "ax[1].set_xlabel('Parents/Children (Parch)')\n",
    "ax[1].legend(title='Survived', labels=['No', 'Yes'])\n",
    "\n",
    "plt.show()"
   ]
  },
  {
   "cell_type": "markdown",
   "id": "457a0395",
   "metadata": {
    "papermill": {
     "duration": 0.027071,
     "end_time": "2023-08-07T11:53:37.794196",
     "exception": false,
     "start_time": "2023-08-07T11:53:37.767125",
     "status": "completed"
    },
    "tags": []
   },
   "source": [
    "The graph shows the number of survivor who have **Sibling/Spouse** and **Parents/Children** aboard the titanic. Majority of people who did not survived the titanic don't have **Sibling/Spouse** and **Parents/Children** aboard the titanic."
   ]
  },
  {
   "cell_type": "markdown",
   "id": "e004d462",
   "metadata": {
    "papermill": {
     "duration": 0.028732,
     "end_time": "2023-08-07T11:53:37.850988",
     "exception": false,
     "start_time": "2023-08-07T11:53:37.822256",
     "status": "completed"
    },
    "tags": []
   },
   "source": [
    "# **Data Preprocessing Part 2**"
   ]
  },
  {
   "cell_type": "code",
   "execution_count": 23,
   "id": "e9ef6496",
   "metadata": {
    "execution": {
     "iopub.execute_input": "2023-08-07T11:53:37.907248Z",
     "iopub.status.busy": "2023-08-07T11:53:37.906539Z",
     "iopub.status.idle": "2023-08-07T11:53:37.921561Z",
     "shell.execute_reply": "2023-08-07T11:53:37.920462Z"
    },
    "papermill": {
     "duration": 0.045589,
     "end_time": "2023-08-07T11:53:37.924054",
     "exception": false,
     "start_time": "2023-08-07T11:53:37.878465",
     "status": "completed"
    },
    "tags": []
   },
   "outputs": [
    {
     "data": {
      "text/html": [
       "<div>\n",
       "<style scoped>\n",
       "    .dataframe tbody tr th:only-of-type {\n",
       "        vertical-align: middle;\n",
       "    }\n",
       "\n",
       "    .dataframe tbody tr th {\n",
       "        vertical-align: top;\n",
       "    }\n",
       "\n",
       "    .dataframe thead th {\n",
       "        text-align: right;\n",
       "    }\n",
       "</style>\n",
       "<table border=\"1\" class=\"dataframe\">\n",
       "  <thead>\n",
       "    <tr style=\"text-align: right;\">\n",
       "      <th></th>\n",
       "      <th>Survived</th>\n",
       "      <th>Pclass</th>\n",
       "      <th>Sex</th>\n",
       "      <th>Age</th>\n",
       "      <th>SibSp</th>\n",
       "      <th>Parch</th>\n",
       "      <th>Embarked</th>\n",
       "    </tr>\n",
       "  </thead>\n",
       "  <tbody>\n",
       "    <tr>\n",
       "      <th>0</th>\n",
       "      <td>0</td>\n",
       "      <td>3</td>\n",
       "      <td>male</td>\n",
       "      <td>22.0</td>\n",
       "      <td>1</td>\n",
       "      <td>0</td>\n",
       "      <td>S</td>\n",
       "    </tr>\n",
       "    <tr>\n",
       "      <th>1</th>\n",
       "      <td>1</td>\n",
       "      <td>1</td>\n",
       "      <td>female</td>\n",
       "      <td>38.0</td>\n",
       "      <td>1</td>\n",
       "      <td>0</td>\n",
       "      <td>C</td>\n",
       "    </tr>\n",
       "    <tr>\n",
       "      <th>2</th>\n",
       "      <td>1</td>\n",
       "      <td>3</td>\n",
       "      <td>female</td>\n",
       "      <td>26.0</td>\n",
       "      <td>0</td>\n",
       "      <td>0</td>\n",
       "      <td>S</td>\n",
       "    </tr>\n",
       "    <tr>\n",
       "      <th>3</th>\n",
       "      <td>1</td>\n",
       "      <td>1</td>\n",
       "      <td>female</td>\n",
       "      <td>35.0</td>\n",
       "      <td>1</td>\n",
       "      <td>0</td>\n",
       "      <td>S</td>\n",
       "    </tr>\n",
       "    <tr>\n",
       "      <th>4</th>\n",
       "      <td>0</td>\n",
       "      <td>3</td>\n",
       "      <td>male</td>\n",
       "      <td>35.0</td>\n",
       "      <td>0</td>\n",
       "      <td>0</td>\n",
       "      <td>S</td>\n",
       "    </tr>\n",
       "    <tr>\n",
       "      <th>5</th>\n",
       "      <td>0</td>\n",
       "      <td>3</td>\n",
       "      <td>male</td>\n",
       "      <td>28.0</td>\n",
       "      <td>0</td>\n",
       "      <td>0</td>\n",
       "      <td>Q</td>\n",
       "    </tr>\n",
       "    <tr>\n",
       "      <th>6</th>\n",
       "      <td>0</td>\n",
       "      <td>1</td>\n",
       "      <td>male</td>\n",
       "      <td>54.0</td>\n",
       "      <td>0</td>\n",
       "      <td>0</td>\n",
       "      <td>S</td>\n",
       "    </tr>\n",
       "    <tr>\n",
       "      <th>7</th>\n",
       "      <td>0</td>\n",
       "      <td>3</td>\n",
       "      <td>male</td>\n",
       "      <td>2.0</td>\n",
       "      <td>3</td>\n",
       "      <td>1</td>\n",
       "      <td>S</td>\n",
       "    </tr>\n",
       "    <tr>\n",
       "      <th>8</th>\n",
       "      <td>1</td>\n",
       "      <td>3</td>\n",
       "      <td>female</td>\n",
       "      <td>27.0</td>\n",
       "      <td>0</td>\n",
       "      <td>2</td>\n",
       "      <td>S</td>\n",
       "    </tr>\n",
       "    <tr>\n",
       "      <th>9</th>\n",
       "      <td>1</td>\n",
       "      <td>2</td>\n",
       "      <td>female</td>\n",
       "      <td>14.0</td>\n",
       "      <td>1</td>\n",
       "      <td>0</td>\n",
       "      <td>C</td>\n",
       "    </tr>\n",
       "  </tbody>\n",
       "</table>\n",
       "</div>"
      ],
      "text/plain": [
       "   Survived  Pclass     Sex   Age  SibSp  Parch Embarked\n",
       "0         0       3    male  22.0      1      0        S\n",
       "1         1       1  female  38.0      1      0        C\n",
       "2         1       3  female  26.0      0      0        S\n",
       "3         1       1  female  35.0      1      0        S\n",
       "4         0       3    male  35.0      0      0        S\n",
       "5         0       3    male  28.0      0      0        Q\n",
       "6         0       1    male  54.0      0      0        S\n",
       "7         0       3    male   2.0      3      1        S\n",
       "8         1       3  female  27.0      0      2        S\n",
       "9         1       2  female  14.0      1      0        C"
      ]
     },
     "execution_count": 23,
     "metadata": {},
     "output_type": "execute_result"
    }
   ],
   "source": [
    "train_titanic.head(10)"
   ]
  },
  {
   "cell_type": "markdown",
   "id": "7592d677",
   "metadata": {
    "papermill": {
     "duration": 0.026302,
     "end_time": "2023-08-07T11:53:37.977610",
     "exception": false,
     "start_time": "2023-08-07T11:53:37.951308",
     "status": "completed"
    },
    "tags": []
   },
   "source": [
    "Since there are two categorical values in my final dataframe,\n",
    "I will use LabelEncoder on the **Sex** column and **Embarked** column"
   ]
  },
  {
   "cell_type": "code",
   "execution_count": 24,
   "id": "b3d4b7f4",
   "metadata": {
    "execution": {
     "iopub.execute_input": "2023-08-07T11:53:38.034558Z",
     "iopub.status.busy": "2023-08-07T11:53:38.033857Z",
     "iopub.status.idle": "2023-08-07T11:53:38.232187Z",
     "shell.execute_reply": "2023-08-07T11:53:38.230782Z"
    },
    "papermill": {
     "duration": 0.230396,
     "end_time": "2023-08-07T11:53:38.235132",
     "exception": false,
     "start_time": "2023-08-07T11:53:38.004736",
     "status": "completed"
    },
    "tags": []
   },
   "outputs": [
    {
     "name": "stdout",
     "output_type": "stream",
     "text": [
      "Sex [1 0]\n",
      "Embarked [2 0 1]\n"
     ]
    }
   ],
   "source": [
    "#  Male => 1, female => 0\n",
    "#  S => 2, C => 0, Q => 1\n",
    "from sklearn.preprocessing import LabelEncoder\n",
    "\n",
    "var = ['Sex', 'Embarked']\n",
    "le = LabelEncoder()\n",
    "for i in var:\n",
    "    le.fit(train_titanic[i].unique())\n",
    "    train_titanic[i] = le.transform(train_titanic[i])\n",
    "    print(i, train_titanic[i].unique())"
   ]
  },
  {
   "cell_type": "code",
   "execution_count": 25,
   "id": "513a36b5",
   "metadata": {
    "execution": {
     "iopub.execute_input": "2023-08-07T11:53:38.291980Z",
     "iopub.status.busy": "2023-08-07T11:53:38.291577Z",
     "iopub.status.idle": "2023-08-07T11:53:38.307734Z",
     "shell.execute_reply": "2023-08-07T11:53:38.306409Z"
    },
    "papermill": {
     "duration": 0.047907,
     "end_time": "2023-08-07T11:53:38.310390",
     "exception": false,
     "start_time": "2023-08-07T11:53:38.262483",
     "status": "completed"
    },
    "tags": []
   },
   "outputs": [
    {
     "data": {
      "text/html": [
       "<div>\n",
       "<style scoped>\n",
       "    .dataframe tbody tr th:only-of-type {\n",
       "        vertical-align: middle;\n",
       "    }\n",
       "\n",
       "    .dataframe tbody tr th {\n",
       "        vertical-align: top;\n",
       "    }\n",
       "\n",
       "    .dataframe thead th {\n",
       "        text-align: right;\n",
       "    }\n",
       "</style>\n",
       "<table border=\"1\" class=\"dataframe\">\n",
       "  <thead>\n",
       "    <tr style=\"text-align: right;\">\n",
       "      <th></th>\n",
       "      <th>Survived</th>\n",
       "      <th>Pclass</th>\n",
       "      <th>Sex</th>\n",
       "      <th>Age</th>\n",
       "      <th>SibSp</th>\n",
       "      <th>Parch</th>\n",
       "      <th>Embarked</th>\n",
       "    </tr>\n",
       "  </thead>\n",
       "  <tbody>\n",
       "    <tr>\n",
       "      <th>0</th>\n",
       "      <td>0</td>\n",
       "      <td>3</td>\n",
       "      <td>1</td>\n",
       "      <td>22.0</td>\n",
       "      <td>1</td>\n",
       "      <td>0</td>\n",
       "      <td>2</td>\n",
       "    </tr>\n",
       "    <tr>\n",
       "      <th>1</th>\n",
       "      <td>1</td>\n",
       "      <td>1</td>\n",
       "      <td>0</td>\n",
       "      <td>38.0</td>\n",
       "      <td>1</td>\n",
       "      <td>0</td>\n",
       "      <td>0</td>\n",
       "    </tr>\n",
       "    <tr>\n",
       "      <th>2</th>\n",
       "      <td>1</td>\n",
       "      <td>3</td>\n",
       "      <td>0</td>\n",
       "      <td>26.0</td>\n",
       "      <td>0</td>\n",
       "      <td>0</td>\n",
       "      <td>2</td>\n",
       "    </tr>\n",
       "    <tr>\n",
       "      <th>3</th>\n",
       "      <td>1</td>\n",
       "      <td>1</td>\n",
       "      <td>0</td>\n",
       "      <td>35.0</td>\n",
       "      <td>1</td>\n",
       "      <td>0</td>\n",
       "      <td>2</td>\n",
       "    </tr>\n",
       "    <tr>\n",
       "      <th>4</th>\n",
       "      <td>0</td>\n",
       "      <td>3</td>\n",
       "      <td>1</td>\n",
       "      <td>35.0</td>\n",
       "      <td>0</td>\n",
       "      <td>0</td>\n",
       "      <td>2</td>\n",
       "    </tr>\n",
       "    <tr>\n",
       "      <th>5</th>\n",
       "      <td>0</td>\n",
       "      <td>3</td>\n",
       "      <td>1</td>\n",
       "      <td>28.0</td>\n",
       "      <td>0</td>\n",
       "      <td>0</td>\n",
       "      <td>1</td>\n",
       "    </tr>\n",
       "    <tr>\n",
       "      <th>6</th>\n",
       "      <td>0</td>\n",
       "      <td>1</td>\n",
       "      <td>1</td>\n",
       "      <td>54.0</td>\n",
       "      <td>0</td>\n",
       "      <td>0</td>\n",
       "      <td>2</td>\n",
       "    </tr>\n",
       "    <tr>\n",
       "      <th>7</th>\n",
       "      <td>0</td>\n",
       "      <td>3</td>\n",
       "      <td>1</td>\n",
       "      <td>2.0</td>\n",
       "      <td>3</td>\n",
       "      <td>1</td>\n",
       "      <td>2</td>\n",
       "    </tr>\n",
       "    <tr>\n",
       "      <th>8</th>\n",
       "      <td>1</td>\n",
       "      <td>3</td>\n",
       "      <td>0</td>\n",
       "      <td>27.0</td>\n",
       "      <td>0</td>\n",
       "      <td>2</td>\n",
       "      <td>2</td>\n",
       "    </tr>\n",
       "    <tr>\n",
       "      <th>9</th>\n",
       "      <td>1</td>\n",
       "      <td>2</td>\n",
       "      <td>0</td>\n",
       "      <td>14.0</td>\n",
       "      <td>1</td>\n",
       "      <td>0</td>\n",
       "      <td>0</td>\n",
       "    </tr>\n",
       "  </tbody>\n",
       "</table>\n",
       "</div>"
      ],
      "text/plain": [
       "   Survived  Pclass  Sex   Age  SibSp  Parch  Embarked\n",
       "0         0       3    1  22.0      1      0         2\n",
       "1         1       1    0  38.0      1      0         0\n",
       "2         1       3    0  26.0      0      0         2\n",
       "3         1       1    0  35.0      1      0         2\n",
       "4         0       3    1  35.0      0      0         2\n",
       "5         0       3    1  28.0      0      0         1\n",
       "6         0       1    1  54.0      0      0         2\n",
       "7         0       3    1   2.0      3      1         2\n",
       "8         1       3    0  27.0      0      2         2\n",
       "9         1       2    0  14.0      1      0         0"
      ]
     },
     "execution_count": 25,
     "metadata": {},
     "output_type": "execute_result"
    }
   ],
   "source": [
    "train_titanic.head(10)"
   ]
  },
  {
   "cell_type": "code",
   "execution_count": 26,
   "id": "a17fd7ad",
   "metadata": {
    "execution": {
     "iopub.execute_input": "2023-08-07T11:53:38.369152Z",
     "iopub.status.busy": "2023-08-07T11:53:38.368738Z",
     "iopub.status.idle": "2023-08-07T11:53:38.377399Z",
     "shell.execute_reply": "2023-08-07T11:53:38.376177Z"
    },
    "papermill": {
     "duration": 0.040135,
     "end_time": "2023-08-07T11:53:38.379817",
     "exception": false,
     "start_time": "2023-08-07T11:53:38.339682",
     "status": "completed"
    },
    "tags": []
   },
   "outputs": [],
   "source": [
    "train_titanic['FamilySize'] = train_titanic['SibSp'] + train_titanic['Parch']\n",
    "train_titanic = train_titanic.drop(['SibSp', 'Parch'], axis=1)"
   ]
  },
  {
   "cell_type": "code",
   "execution_count": 27,
   "id": "06030abc",
   "metadata": {
    "execution": {
     "iopub.execute_input": "2023-08-07T11:53:38.437543Z",
     "iopub.status.busy": "2023-08-07T11:53:38.437079Z",
     "iopub.status.idle": "2023-08-07T11:53:38.451917Z",
     "shell.execute_reply": "2023-08-07T11:53:38.450406Z"
    },
    "papermill": {
     "duration": 0.04671,
     "end_time": "2023-08-07T11:53:38.454807",
     "exception": false,
     "start_time": "2023-08-07T11:53:38.408097",
     "status": "completed"
    },
    "tags": []
   },
   "outputs": [
    {
     "data": {
      "text/html": [
       "<div>\n",
       "<style scoped>\n",
       "    .dataframe tbody tr th:only-of-type {\n",
       "        vertical-align: middle;\n",
       "    }\n",
       "\n",
       "    .dataframe tbody tr th {\n",
       "        vertical-align: top;\n",
       "    }\n",
       "\n",
       "    .dataframe thead th {\n",
       "        text-align: right;\n",
       "    }\n",
       "</style>\n",
       "<table border=\"1\" class=\"dataframe\">\n",
       "  <thead>\n",
       "    <tr style=\"text-align: right;\">\n",
       "      <th></th>\n",
       "      <th>Survived</th>\n",
       "      <th>Pclass</th>\n",
       "      <th>Sex</th>\n",
       "      <th>Age</th>\n",
       "      <th>Embarked</th>\n",
       "      <th>FamilySize</th>\n",
       "    </tr>\n",
       "  </thead>\n",
       "  <tbody>\n",
       "    <tr>\n",
       "      <th>0</th>\n",
       "      <td>0</td>\n",
       "      <td>3</td>\n",
       "      <td>1</td>\n",
       "      <td>22.0</td>\n",
       "      <td>2</td>\n",
       "      <td>1</td>\n",
       "    </tr>\n",
       "    <tr>\n",
       "      <th>1</th>\n",
       "      <td>1</td>\n",
       "      <td>1</td>\n",
       "      <td>0</td>\n",
       "      <td>38.0</td>\n",
       "      <td>0</td>\n",
       "      <td>1</td>\n",
       "    </tr>\n",
       "    <tr>\n",
       "      <th>2</th>\n",
       "      <td>1</td>\n",
       "      <td>3</td>\n",
       "      <td>0</td>\n",
       "      <td>26.0</td>\n",
       "      <td>2</td>\n",
       "      <td>0</td>\n",
       "    </tr>\n",
       "    <tr>\n",
       "      <th>3</th>\n",
       "      <td>1</td>\n",
       "      <td>1</td>\n",
       "      <td>0</td>\n",
       "      <td>35.0</td>\n",
       "      <td>2</td>\n",
       "      <td>1</td>\n",
       "    </tr>\n",
       "    <tr>\n",
       "      <th>4</th>\n",
       "      <td>0</td>\n",
       "      <td>3</td>\n",
       "      <td>1</td>\n",
       "      <td>35.0</td>\n",
       "      <td>2</td>\n",
       "      <td>0</td>\n",
       "    </tr>\n",
       "    <tr>\n",
       "      <th>5</th>\n",
       "      <td>0</td>\n",
       "      <td>3</td>\n",
       "      <td>1</td>\n",
       "      <td>28.0</td>\n",
       "      <td>1</td>\n",
       "      <td>0</td>\n",
       "    </tr>\n",
       "    <tr>\n",
       "      <th>6</th>\n",
       "      <td>0</td>\n",
       "      <td>1</td>\n",
       "      <td>1</td>\n",
       "      <td>54.0</td>\n",
       "      <td>2</td>\n",
       "      <td>0</td>\n",
       "    </tr>\n",
       "    <tr>\n",
       "      <th>7</th>\n",
       "      <td>0</td>\n",
       "      <td>3</td>\n",
       "      <td>1</td>\n",
       "      <td>2.0</td>\n",
       "      <td>2</td>\n",
       "      <td>4</td>\n",
       "    </tr>\n",
       "    <tr>\n",
       "      <th>8</th>\n",
       "      <td>1</td>\n",
       "      <td>3</td>\n",
       "      <td>0</td>\n",
       "      <td>27.0</td>\n",
       "      <td>2</td>\n",
       "      <td>2</td>\n",
       "    </tr>\n",
       "    <tr>\n",
       "      <th>9</th>\n",
       "      <td>1</td>\n",
       "      <td>2</td>\n",
       "      <td>0</td>\n",
       "      <td>14.0</td>\n",
       "      <td>0</td>\n",
       "      <td>1</td>\n",
       "    </tr>\n",
       "  </tbody>\n",
       "</table>\n",
       "</div>"
      ],
      "text/plain": [
       "   Survived  Pclass  Sex   Age  Embarked  FamilySize\n",
       "0         0       3    1  22.0         2           1\n",
       "1         1       1    0  38.0         0           1\n",
       "2         1       3    0  26.0         2           0\n",
       "3         1       1    0  35.0         2           1\n",
       "4         0       3    1  35.0         2           0\n",
       "5         0       3    1  28.0         1           0\n",
       "6         0       1    1  54.0         2           0\n",
       "7         0       3    1   2.0         2           4\n",
       "8         1       3    0  27.0         2           2\n",
       "9         1       2    0  14.0         0           1"
      ]
     },
     "execution_count": 27,
     "metadata": {},
     "output_type": "execute_result"
    }
   ],
   "source": [
    "train_titanic.head(10)"
   ]
  },
  {
   "cell_type": "markdown",
   "id": "db9f8698",
   "metadata": {
    "papermill": {
     "duration": 0.028286,
     "end_time": "2023-08-07T11:53:38.510651",
     "exception": false,
     "start_time": "2023-08-07T11:53:38.482365",
     "status": "completed"
    },
    "tags": []
   },
   "source": [
    "# **Scaling**"
   ]
  },
  {
   "cell_type": "markdown",
   "id": "e903506e",
   "metadata": {
    "papermill": {
     "duration": 0.027113,
     "end_time": "2023-08-07T11:53:38.565822",
     "exception": false,
     "start_time": "2023-08-07T11:53:38.538709",
     "status": "completed"
    },
    "tags": []
   },
   "source": [
    " For scaling, I will use **`Age`**. I will use **`StandardScaler`** to scale these features, which will transform them to have a mean of 0 and a standard deviation of 1."
   ]
  },
  {
   "cell_type": "code",
   "execution_count": 28,
   "id": "2a10608c",
   "metadata": {
    "execution": {
     "iopub.execute_input": "2023-08-07T11:53:38.624937Z",
     "iopub.status.busy": "2023-08-07T11:53:38.624069Z",
     "iopub.status.idle": "2023-08-07T11:53:38.647684Z",
     "shell.execute_reply": "2023-08-07T11:53:38.646863Z"
    },
    "papermill": {
     "duration": 0.054701,
     "end_time": "2023-08-07T11:53:38.649889",
     "exception": false,
     "start_time": "2023-08-07T11:53:38.595188",
     "status": "completed"
    },
    "tags": []
   },
   "outputs": [
    {
     "data": {
      "text/html": [
       "<div>\n",
       "<style scoped>\n",
       "    .dataframe tbody tr th:only-of-type {\n",
       "        vertical-align: middle;\n",
       "    }\n",
       "\n",
       "    .dataframe tbody tr th {\n",
       "        vertical-align: top;\n",
       "    }\n",
       "\n",
       "    .dataframe thead th {\n",
       "        text-align: right;\n",
       "    }\n",
       "</style>\n",
       "<table border=\"1\" class=\"dataframe\">\n",
       "  <thead>\n",
       "    <tr style=\"text-align: right;\">\n",
       "      <th></th>\n",
       "      <th>Survived</th>\n",
       "      <th>Pclass</th>\n",
       "      <th>Sex</th>\n",
       "      <th>Age</th>\n",
       "      <th>Embarked</th>\n",
       "      <th>FamilySize</th>\n",
       "    </tr>\n",
       "  </thead>\n",
       "  <tbody>\n",
       "    <tr>\n",
       "      <th>0</th>\n",
       "      <td>0</td>\n",
       "      <td>3</td>\n",
       "      <td>1</td>\n",
       "      <td>-0.565736</td>\n",
       "      <td>2</td>\n",
       "      <td>0.059160</td>\n",
       "    </tr>\n",
       "    <tr>\n",
       "      <th>1</th>\n",
       "      <td>1</td>\n",
       "      <td>1</td>\n",
       "      <td>0</td>\n",
       "      <td>0.663861</td>\n",
       "      <td>0</td>\n",
       "      <td>0.059160</td>\n",
       "    </tr>\n",
       "    <tr>\n",
       "      <th>2</th>\n",
       "      <td>1</td>\n",
       "      <td>3</td>\n",
       "      <td>0</td>\n",
       "      <td>-0.258337</td>\n",
       "      <td>2</td>\n",
       "      <td>-0.560975</td>\n",
       "    </tr>\n",
       "    <tr>\n",
       "      <th>3</th>\n",
       "      <td>1</td>\n",
       "      <td>1</td>\n",
       "      <td>0</td>\n",
       "      <td>0.433312</td>\n",
       "      <td>2</td>\n",
       "      <td>0.059160</td>\n",
       "    </tr>\n",
       "    <tr>\n",
       "      <th>4</th>\n",
       "      <td>0</td>\n",
       "      <td>3</td>\n",
       "      <td>1</td>\n",
       "      <td>0.433312</td>\n",
       "      <td>2</td>\n",
       "      <td>-0.560975</td>\n",
       "    </tr>\n",
       "    <tr>\n",
       "      <th>...</th>\n",
       "      <td>...</td>\n",
       "      <td>...</td>\n",
       "      <td>...</td>\n",
       "      <td>...</td>\n",
       "      <td>...</td>\n",
       "      <td>...</td>\n",
       "    </tr>\n",
       "    <tr>\n",
       "      <th>886</th>\n",
       "      <td>0</td>\n",
       "      <td>2</td>\n",
       "      <td>1</td>\n",
       "      <td>-0.181487</td>\n",
       "      <td>2</td>\n",
       "      <td>-0.560975</td>\n",
       "    </tr>\n",
       "    <tr>\n",
       "      <th>887</th>\n",
       "      <td>1</td>\n",
       "      <td>1</td>\n",
       "      <td>0</td>\n",
       "      <td>-0.796286</td>\n",
       "      <td>2</td>\n",
       "      <td>-0.560975</td>\n",
       "    </tr>\n",
       "    <tr>\n",
       "      <th>888</th>\n",
       "      <td>0</td>\n",
       "      <td>3</td>\n",
       "      <td>0</td>\n",
       "      <td>-0.104637</td>\n",
       "      <td>2</td>\n",
       "      <td>1.299429</td>\n",
       "    </tr>\n",
       "    <tr>\n",
       "      <th>889</th>\n",
       "      <td>1</td>\n",
       "      <td>1</td>\n",
       "      <td>1</td>\n",
       "      <td>-0.258337</td>\n",
       "      <td>0</td>\n",
       "      <td>-0.560975</td>\n",
       "    </tr>\n",
       "    <tr>\n",
       "      <th>890</th>\n",
       "      <td>0</td>\n",
       "      <td>3</td>\n",
       "      <td>1</td>\n",
       "      <td>0.202762</td>\n",
       "      <td>1</td>\n",
       "      <td>-0.560975</td>\n",
       "    </tr>\n",
       "  </tbody>\n",
       "</table>\n",
       "<p>891 rows × 6 columns</p>\n",
       "</div>"
      ],
      "text/plain": [
       "     Survived  Pclass  Sex       Age  Embarked  FamilySize\n",
       "0           0       3    1 -0.565736         2    0.059160\n",
       "1           1       1    0  0.663861         0    0.059160\n",
       "2           1       3    0 -0.258337         2   -0.560975\n",
       "3           1       1    0  0.433312         2    0.059160\n",
       "4           0       3    1  0.433312         2   -0.560975\n",
       "..        ...     ...  ...       ...       ...         ...\n",
       "886         0       2    1 -0.181487         2   -0.560975\n",
       "887         1       1    0 -0.796286         2   -0.560975\n",
       "888         0       3    0 -0.104637         2    1.299429\n",
       "889         1       1    1 -0.258337         0   -0.560975\n",
       "890         0       3    1  0.202762         1   -0.560975\n",
       "\n",
       "[891 rows x 6 columns]"
      ]
     },
     "execution_count": 28,
     "metadata": {},
     "output_type": "execute_result"
    }
   ],
   "source": [
    "from sklearn.preprocessing import StandardScaler\n",
    "\n",
    "scaler = StandardScaler()\n",
    "\n",
    "train_titanic[['Age', 'FamilySize']] = scaler.fit_transform(train_titanic[['Age', 'FamilySize']])\n",
    "train_titanic"
   ]
  },
  {
   "cell_type": "markdown",
   "id": "2833271a",
   "metadata": {
    "papermill": {
     "duration": 0.027317,
     "end_time": "2023-08-07T11:53:38.704944",
     "exception": false,
     "start_time": "2023-08-07T11:53:38.677627",
     "status": "completed"
    },
    "tags": []
   },
   "source": [
    "# Checking Correlation Matrix"
   ]
  },
  {
   "cell_type": "code",
   "execution_count": 29,
   "id": "8787ad8d",
   "metadata": {
    "execution": {
     "iopub.execute_input": "2023-08-07T11:53:38.765984Z",
     "iopub.status.busy": "2023-08-07T11:53:38.765553Z",
     "iopub.status.idle": "2023-08-07T11:53:39.253416Z",
     "shell.execute_reply": "2023-08-07T11:53:39.252030Z"
    },
    "papermill": {
     "duration": 0.522753,
     "end_time": "2023-08-07T11:53:39.256113",
     "exception": false,
     "start_time": "2023-08-07T11:53:38.733360",
     "status": "completed"
    },
    "tags": []
   },
   "outputs": [
    {
     "data": {
      "image/png": "[encoded data removed]",
      "text/plain": [
       "<Figure size 900x900 with 2 Axes>"
      ]
     },
     "metadata": {},
     "output_type": "display_data"
    }
   ],
   "source": [
    "plt.figure(figsize=(9, 9))\n",
    "sns.heatmap(train_titanic.corr(), annot=True, cmap='coolwarm')\n",
    "plt.title('Correlation Matrix')\n",
    "plt.show()"
   ]
  },
  {
   "cell_type": "markdown",
   "id": "d7833cb5",
   "metadata": {
    "papermill": {
     "duration": 0.028512,
     "end_time": "2023-08-07T11:53:39.313664",
     "exception": false,
     "start_time": "2023-08-07T11:53:39.285152",
     "status": "completed"
    },
    "tags": []
   },
   "source": [
    "# **Train Test Split**"
   ]
  },
  {
   "cell_type": "code",
   "execution_count": 30,
   "id": "e9c15683",
   "metadata": {
    "execution": {
     "iopub.execute_input": "2023-08-07T11:53:39.374935Z",
     "iopub.status.busy": "2023-08-07T11:53:39.374541Z",
     "iopub.status.idle": "2023-08-07T11:53:39.500935Z",
     "shell.execute_reply": "2023-08-07T11:53:39.499847Z"
    },
    "papermill": {
     "duration": 0.160772,
     "end_time": "2023-08-07T11:53:39.503559",
     "exception": false,
     "start_time": "2023-08-07T11:53:39.342787",
     "status": "completed"
    },
    "tags": []
   },
   "outputs": [],
   "source": [
    "#Assign features and target\n",
    "X = train_titanic.drop(['Survived'], axis=1)\n",
    "y = train_titanic.Survived\n",
    "#train test split\n",
    "from sklearn.model_selection import train_test_split\n",
    "X_train, X_test, y_train, y_test = train_test_split(X, y, test_size=0.2)"
   ]
  },
  {
   "cell_type": "markdown",
   "id": "6e82c25c",
   "metadata": {
    "papermill": {
     "duration": 0.029898,
     "end_time": "2023-08-07T11:53:39.563427",
     "exception": false,
     "start_time": "2023-08-07T11:53:39.533529",
     "status": "completed"
    },
    "tags": []
   },
   "source": [
    "# **Using Decision Tree**"
   ]
  },
  {
   "cell_type": "code",
   "execution_count": 31,
   "id": "dfd03f41",
   "metadata": {
    "execution": {
     "iopub.execute_input": "2023-08-07T11:53:39.627953Z",
     "iopub.status.busy": "2023-08-07T11:53:39.627512Z",
     "iopub.status.idle": "2023-08-07T11:53:40.105991Z",
     "shell.execute_reply": "2023-08-07T11:53:40.104820Z"
    },
    "papermill": {
     "duration": 0.515264,
     "end_time": "2023-08-07T11:53:40.108551",
     "exception": false,
     "start_time": "2023-08-07T11:53:39.593287",
     "status": "completed"
    },
    "tags": []
   },
   "outputs": [
    {
     "data": {
      "text/html": [
       "<style>#sk-container-id-1 {color: black;background-color: white;}#sk-container-id-1 pre{padding: 0;}#sk-container-id-1 div.sk-toggleable {background-color: white;}#sk-container-id-1 label.sk-toggleable__label {cursor: pointer;display: block;width: 100%;margin-bottom: 0;padding: 0.3em;box-sizing: border-box;text-align: center;}#sk-container-id-1 label.sk-toggleable__label-arrow:before {content: \"▸\";float: left;margin-right: 0.25em;color: #696969;}#sk-container-id-1 label.sk-toggleable__label-arrow:hover:before {color: black;}#sk-container-id-1 div.sk-estimator:hover label.sk-toggleable__label-arrow:before {color: black;}#sk-container-id-1 div.sk-toggleable__content {max-height: 0;max-width: 0;overflow: hidden;text-align: left;background-color: #f0f8ff;}#sk-container-id-1 div.sk-toggleable__content pre {margin: 0.2em;color: black;border-radius: 0.25em;background-color: #f0f8ff;}#sk-container-id-1 input.sk-toggleable__control:checked~div.sk-toggleable__content {max-height: 200px;max-width: 100%;overflow: auto;}#sk-container-id-1 input.sk-toggleable__control:checked~label.sk-toggleable__label-arrow:before {content: \"▾\";}#sk-container-id-1 div.sk-estimator input.sk-toggleable__control:checked~label.sk-toggleable__label {background-color: #d4ebff;}#sk-container-id-1 div.sk-label input.sk-toggleable__control:checked~label.sk-toggleable__label {background-color: #d4ebff;}#sk-container-id-1 input.sk-hidden--visually {border: 0;clip: rect(1px 1px 1px 1px);clip: rect(1px, 1px, 1px, 1px);height: 1px;margin: -1px;overflow: hidden;padding: 0;position: absolute;width: 1px;}#sk-container-id-1 div.sk-estimator {font-family: monospace;background-color: #f0f8ff;border: 1px dotted black;border-radius: 0.25em;box-sizing: border-box;margin-bottom: 0.5em;}#sk-container-id-1 div.sk-estimator:hover {background-color: #d4ebff;}#sk-container-id-1 div.sk-parallel-item::after {content: \"\";width: 100%;border-bottom: 1px solid gray;flex-grow: 1;}#sk-container-id-1 div.sk-label:hover label.sk-toggleable__label {background-color: #d4ebff;}#sk-container-id-1 div.sk-serial::before {content: \"\";position: absolute;border-left: 1px solid gray;box-sizing: border-box;top: 0;bottom: 0;left: 50%;z-index: 0;}#sk-container-id-1 div.sk-serial {display: flex;flex-direction: column;align-items: center;background-color: white;padding-right: 0.2em;padding-left: 0.2em;position: relative;}#sk-container-id-1 div.sk-item {position: relative;z-index: 1;}#sk-container-id-1 div.sk-parallel {display: flex;align-items: stretch;justify-content: center;background-color: white;position: relative;}#sk-container-id-1 div.sk-item::before, #sk-container-id-1 div.sk-parallel-item::before {content: \"\";position: absolute;border-left: 1px solid gray;box-sizing: border-box;top: 0;bottom: 0;left: 50%;z-index: -1;}#sk-container-id-1 div.sk-parallel-item {display: flex;flex-direction: column;z-index: 1;position: relative;background-color: white;}#sk-container-id-1 div.sk-parallel-item:first-child::after {align-self: flex-end;width: 50%;}#sk-container-id-1 div.sk-parallel-item:last-child::after {align-self: flex-start;width: 50%;}#sk-container-id-1 div.sk-parallel-item:only-child::after {width: 0;}#sk-container-id-1 div.sk-dashed-wrapped {border: 1px dashed gray;margin: 0 0.4em 0.5em 0.4em;box-sizing: border-box;padding-bottom: 0.4em;background-color: white;}#sk-container-id-1 div.sk-label label {font-family: monospace;font-weight: bold;display: inline-block;line-height: 1.2em;}#sk-container-id-1 div.sk-label-container {text-align: center;}#sk-container-id-1 div.sk-container {/* jupyter's `normalize.less` sets `[hidden] { display: none; }` but bootstrap.min.css set `[hidden] { display: none !important; }` so we also need the `!important` here to be able to override the default hidden behavior on the sphinx rendered scikit-learn.org. See: https://github.com/scikit-learn/scikit-learn/issues/21755 */display: inline-block !important;position: relative;}#sk-container-id-1 div.sk-text-repr-fallback {display: none;}</style><div id=\"sk-container-id-1\" class=\"sk-top-container\"><div class=\"sk-text-repr-fallback\"><pre>DecisionTreeClassifier()</pre><b>In a Jupyter environment, please rerun this cell to show the HTML representation or trust the notebook. <br />On GitHub, the HTML representation is unable to render, please try loading this page with nbviewer.org.</b></div><div class=\"sk-container\" hidden><div class=\"sk-item\"><div class=\"sk-estimator sk-toggleable\"><input class=\"sk-toggleable__control sk-hidden--visually\" id=\"sk-estimator-id-1\" type=\"checkbox\" checked><label for=\"sk-estimator-id-1\" class=\"sk-toggleable__label sk-toggleable__label-arrow\">DecisionTreeClassifier</label><div class=\"sk-toggleable__content\"><pre>DecisionTreeClassifier()</pre></div></div></div></div></div>"
      ],
      "text/plain": [
       "DecisionTreeClassifier()"
      ]
     },
     "execution_count": 31,
     "metadata": {},
     "output_type": "execute_result"
    }
   ],
   "source": [
    "from sklearn.tree import DecisionTreeClassifier\n",
    "from sklearn.model_selection import GridSearchCV\n",
    "\n",
    "tree_model = DecisionTreeClassifier()\n",
    "tree_model.fit(X_train, y_train)"
   ]
  },
  {
   "cell_type": "code",
   "execution_count": 32,
   "id": "41e8f947",
   "metadata": {
    "execution": {
     "iopub.execute_input": "2023-08-07T11:53:40.171712Z",
     "iopub.status.busy": "2023-08-07T11:53:40.171301Z",
     "iopub.status.idle": "2023-08-07T11:53:40.181621Z",
     "shell.execute_reply": "2023-08-07T11:53:40.180605Z"
    },
    "papermill": {
     "duration": 0.044107,
     "end_time": "2023-08-07T11:53:40.183952",
     "exception": false,
     "start_time": "2023-08-07T11:53:40.139845",
     "status": "completed"
    },
    "tags": []
   },
   "outputs": [
    {
     "data": {
      "text/plain": [
       "0.8379888268156425"
      ]
     },
     "execution_count": 32,
     "metadata": {},
     "output_type": "execute_result"
    }
   ],
   "source": [
    "tree_model.score(X_test, y_test)"
   ]
  },
  {
   "cell_type": "code",
   "execution_count": 33,
   "id": "4ef1fdc1",
   "metadata": {
    "execution": {
     "iopub.execute_input": "2023-08-07T11:53:40.246645Z",
     "iopub.status.busy": "2023-08-07T11:53:40.246194Z",
     "iopub.status.idle": "2023-08-07T11:53:41.819721Z",
     "shell.execute_reply": "2023-08-07T11:53:41.818635Z"
    },
    "papermill": {
     "duration": 1.608519,
     "end_time": "2023-08-07T11:53:41.822565",
     "exception": false,
     "start_time": "2023-08-07T11:53:40.214046",
     "status": "completed"
    },
    "tags": []
   },
   "outputs": [
    {
     "data": {
      "text/html": [
       "<style>#sk-container-id-2 {color: black;background-color: white;}#sk-container-id-2 pre{padding: 0;}#sk-container-id-2 div.sk-toggleable {background-color: white;}#sk-container-id-2 label.sk-toggleable__label {cursor: pointer;display: block;width: 100%;margin-bottom: 0;padding: 0.3em;box-sizing: border-box;text-align: center;}#sk-container-id-2 label.sk-toggleable__label-arrow:before {content: \"▸\";float: left;margin-right: 0.25em;color: #696969;}#sk-container-id-2 label.sk-toggleable__label-arrow:hover:before {color: black;}#sk-container-id-2 div.sk-estimator:hover label.sk-toggleable__label-arrow:before {color: black;}#sk-container-id-2 div.sk-toggleable__content {max-height: 0;max-width: 0;overflow: hidden;text-align: left;background-color: #f0f8ff;}#sk-container-id-2 div.sk-toggleable__content pre {margin: 0.2em;color: black;border-radius: 0.25em;background-color: #f0f8ff;}#sk-container-id-2 input.sk-toggleable__control:checked~div.sk-toggleable__content {max-height: 200px;max-width: 100%;overflow: auto;}#sk-container-id-2 input.sk-toggleable__control:checked~label.sk-toggleable__label-arrow:before {content: \"▾\";}#sk-container-id-2 div.sk-estimator input.sk-toggleable__control:checked~label.sk-toggleable__label {background-color: #d4ebff;}#sk-container-id-2 div.sk-label input.sk-toggleable__control:checked~label.sk-toggleable__label {background-color: #d4ebff;}#sk-container-id-2 input.sk-hidden--visually {border: 0;clip: rect(1px 1px 1px 1px);clip: rect(1px, 1px, 1px, 1px);height: 1px;margin: -1px;overflow: hidden;padding: 0;position: absolute;width: 1px;}#sk-container-id-2 div.sk-estimator {font-family: monospace;background-color: #f0f8ff;border: 1px dotted black;border-radius: 0.25em;box-sizing: border-box;margin-bottom: 0.5em;}#sk-container-id-2 div.sk-estimator:hover {background-color: #d4ebff;}#sk-container-id-2 div.sk-parallel-item::after {content: \"\";width: 100%;border-bottom: 1px solid gray;flex-grow: 1;}#sk-container-id-2 div.sk-label:hover label.sk-toggleable__label {background-color: #d4ebff;}#sk-container-id-2 div.sk-serial::before {content: \"\";position: absolute;border-left: 1px solid gray;box-sizing: border-box;top: 0;bottom: 0;left: 50%;z-index: 0;}#sk-container-id-2 div.sk-serial {display: flex;flex-direction: column;align-items: center;background-color: white;padding-right: 0.2em;padding-left: 0.2em;position: relative;}#sk-container-id-2 div.sk-item {position: relative;z-index: 1;}#sk-container-id-2 div.sk-parallel {display: flex;align-items: stretch;justify-content: center;background-color: white;position: relative;}#sk-container-id-2 div.sk-item::before, #sk-container-id-2 div.sk-parallel-item::before {content: \"\";position: absolute;border-left: 1px solid gray;box-sizing: border-box;top: 0;bottom: 0;left: 50%;z-index: -1;}#sk-container-id-2 div.sk-parallel-item {display: flex;flex-direction: column;z-index: 1;position: relative;background-color: white;}#sk-container-id-2 div.sk-parallel-item:first-child::after {align-self: flex-end;width: 50%;}#sk-container-id-2 div.sk-parallel-item:last-child::after {align-self: flex-start;width: 50%;}#sk-container-id-2 div.sk-parallel-item:only-child::after {width: 0;}#sk-container-id-2 div.sk-dashed-wrapped {border: 1px dashed gray;margin: 0 0.4em 0.5em 0.4em;box-sizing: border-box;padding-bottom: 0.4em;background-color: white;}#sk-container-id-2 div.sk-label label {font-family: monospace;font-weight: bold;display: inline-block;line-height: 1.2em;}#sk-container-id-2 div.sk-label-container {text-align: center;}#sk-container-id-2 div.sk-container {/* jupyter's `normalize.less` sets `[hidden] { display: none; }` but bootstrap.min.css set `[hidden] { display: none !important; }` so we also need the `!important` here to be able to override the default hidden behavior on the sphinx rendered scikit-learn.org. See: https://github.com/scikit-learn/scikit-learn/issues/21755 */display: inline-block !important;position: relative;}#sk-container-id-2 div.sk-text-repr-fallback {display: none;}</style><div id=\"sk-container-id-2\" class=\"sk-top-container\"><div class=\"sk-text-repr-fallback\"><pre>DecisionTreeClassifier(criterion=&#x27;entropy&#x27;, max_depth=5, min_samples_leaf=2,\n",
       "                       random_state=42)</pre><b>In a Jupyter environment, please rerun this cell to show the HTML representation or trust the notebook. <br />On GitHub, the HTML representation is unable to render, please try loading this page with nbviewer.org.</b></div><div class=\"sk-container\" hidden><div class=\"sk-item\"><div class=\"sk-estimator sk-toggleable\"><input class=\"sk-toggleable__control sk-hidden--visually\" id=\"sk-estimator-id-2\" type=\"checkbox\" checked><label for=\"sk-estimator-id-2\" class=\"sk-toggleable__label sk-toggleable__label-arrow\">DecisionTreeClassifier</label><div class=\"sk-toggleable__content\"><pre>DecisionTreeClassifier(criterion=&#x27;entropy&#x27;, max_depth=5, min_samples_leaf=2,\n",
       "                       random_state=42)</pre></div></div></div></div></div>"
      ],
      "text/plain": [
       "DecisionTreeClassifier(criterion='entropy', max_depth=5, min_samples_leaf=2,\n",
       "                       random_state=42)"
      ]
     },
     "execution_count": 33,
     "metadata": {},
     "output_type": "execute_result"
    }
   ],
   "source": [
    "param_grid = {\n",
    "    'criterion': ['gini', 'entropy'],\n",
    "    'max_depth': [None, 5, 10, 15],\n",
    "    'min_samples_leaf': [1,2,5],\n",
    "    'random_state': [0, 42]\n",
    "}\n",
    "grid_search = GridSearchCV(tree_model, param_grid, cv=5)\n",
    "grid_search.fit(X_train, y_train)\n",
    "tree_model_grid = grid_search.best_estimator_\n",
    "tree_model_grid"
   ]
  },
  {
   "cell_type": "code",
   "execution_count": 34,
   "id": "159fdb8f",
   "metadata": {
    "execution": {
     "iopub.execute_input": "2023-08-07T11:53:41.890052Z",
     "iopub.status.busy": "2023-08-07T11:53:41.889190Z",
     "iopub.status.idle": "2023-08-07T11:53:41.900738Z",
     "shell.execute_reply": "2023-08-07T11:53:41.899527Z"
    },
    "papermill": {
     "duration": 0.049834,
     "end_time": "2023-08-07T11:53:41.903496",
     "exception": false,
     "start_time": "2023-08-07T11:53:41.853662",
     "status": "completed"
    },
    "tags": []
   },
   "outputs": [
    {
     "data": {
      "text/plain": [
       "0.8212290502793296"
      ]
     },
     "execution_count": 34,
     "metadata": {},
     "output_type": "execute_result"
    }
   ],
   "source": [
    "tree_model_grid.score(X_test, y_test)"
   ]
  },
  {
   "cell_type": "code",
   "execution_count": 35,
   "id": "ebc1c68e",
   "metadata": {
    "execution": {
     "iopub.execute_input": "2023-08-07T11:53:41.965422Z",
     "iopub.status.busy": "2023-08-07T11:53:41.964982Z",
     "iopub.status.idle": "2023-08-07T11:53:41.971899Z",
     "shell.execute_reply": "2023-08-07T11:53:41.970951Z"
    },
    "papermill": {
     "duration": 0.040677,
     "end_time": "2023-08-07T11:53:41.974128",
     "exception": false,
     "start_time": "2023-08-07T11:53:41.933451",
     "status": "completed"
    },
    "tags": []
   },
   "outputs": [],
   "source": [
    "tree_pred = tree_model_grid.predict(X_test)"
   ]
  },
  {
   "cell_type": "code",
   "execution_count": 36,
   "id": "9d6d195a",
   "metadata": {
    "execution": {
     "iopub.execute_input": "2023-08-07T11:53:42.038635Z",
     "iopub.status.busy": "2023-08-07T11:53:42.037405Z",
     "iopub.status.idle": "2023-08-07T11:53:42.051522Z",
     "shell.execute_reply": "2023-08-07T11:53:42.050237Z"
    },
    "papermill": {
     "duration": 0.0496,
     "end_time": "2023-08-07T11:53:42.054015",
     "exception": false,
     "start_time": "2023-08-07T11:53:42.004415",
     "status": "completed"
    },
    "tags": []
   },
   "outputs": [
    {
     "name": "stdout",
     "output_type": "stream",
     "text": [
      "              precision    recall  f1-score   support\n",
      "\n",
      "           0       0.84      0.92      0.88       122\n",
      "           1       0.78      0.61      0.69        57\n",
      "\n",
      "    accuracy                           0.82       179\n",
      "   macro avg       0.81      0.77      0.78       179\n",
      "weighted avg       0.82      0.82      0.81       179\n",
      "\n"
     ]
    }
   ],
   "source": [
    "from sklearn.metrics import classification_report\n",
    "print(classification_report(y_test, tree_pred))"
   ]
  },
  {
   "cell_type": "code",
   "execution_count": 37,
   "id": "67441cda",
   "metadata": {
    "execution": {
     "iopub.execute_input": "2023-08-07T11:53:42.116294Z",
     "iopub.status.busy": "2023-08-07T11:53:42.115334Z",
     "iopub.status.idle": "2023-08-07T11:53:42.428169Z",
     "shell.execute_reply": "2023-08-07T11:53:42.426728Z"
    },
    "papermill": {
     "duration": 0.347373,
     "end_time": "2023-08-07T11:53:42.431331",
     "exception": false,
     "start_time": "2023-08-07T11:53:42.083958",
     "status": "completed"
    },
    "tags": []
   },
   "outputs": [
    {
     "data": {
      "image/png": "[encoded data removed]",
      "text/plain": [
       "<Figure size 800x600 with 2 Axes>"
      ]
     },
     "metadata": {},
     "output_type": "display_data"
    }
   ],
   "source": [
    "from sklearn.metrics import confusion_matrix\n",
    "plt.figure(figsize=(8, 6))\n",
    "sns.heatmap(confusion_matrix(y_test, tree_pred), annot=True, fmt='d', cmap='Blues')\n",
    "plt.xlabel('Predicted')\n",
    "plt.ylabel('Actual')\n",
    "plt.title('Confusion Matrix for Logistic Regression')\n",
    "plt.show()"
   ]
  },
  {
   "cell_type": "code",
   "execution_count": 38,
   "id": "2965a08c",
   "metadata": {
    "execution": {
     "iopub.execute_input": "2023-08-07T11:53:42.495416Z",
     "iopub.status.busy": "2023-08-07T11:53:42.494999Z",
     "iopub.status.idle": "2023-08-07T11:53:42.503903Z",
     "shell.execute_reply": "2023-08-07T11:53:42.502630Z"
    },
    "papermill": {
     "duration": 0.044119,
     "end_time": "2023-08-07T11:53:42.506709",
     "exception": false,
     "start_time": "2023-08-07T11:53:42.462590",
     "status": "completed"
    },
    "tags": []
   },
   "outputs": [
    {
     "name": "stdout",
     "output_type": "stream",
     "text": [
      "Accuracy Score;  0.8212290502793296\n",
      "Mean Absolute Error:  0.1787709497206704\n",
      "R2 Score:  0.17630140926085724\n"
     ]
    }
   ],
   "source": [
    "from sklearn.metrics import accuracy_score, mean_absolute_error, r2_score\n",
    "\n",
    "print(\"Accuracy Score; \", accuracy_score(y_test, tree_pred))\n",
    "print(\"Mean Absolute Error: \", mean_absolute_error(y_test, tree_pred))\n",
    "print(\"R2 Score: \", r2_score(y_test, tree_pred))"
   ]
  },
  {
   "cell_type": "markdown",
   "id": "ba6e96e7",
   "metadata": {
    "papermill": {
     "duration": 0.03093,
     "end_time": "2023-08-07T11:53:42.569409",
     "exception": false,
     "start_time": "2023-08-07T11:53:42.538479",
     "status": "completed"
    },
    "tags": []
   },
   "source": [
    "# **Predition using the test.csv data**"
   ]
  },
  {
   "cell_type": "code",
   "execution_count": 39,
   "id": "e9f4a534",
   "metadata": {
    "execution": {
     "iopub.execute_input": "2023-08-07T11:53:42.633989Z",
     "iopub.status.busy": "2023-08-07T11:53:42.633593Z",
     "iopub.status.idle": "2023-08-07T11:53:42.659355Z",
     "shell.execute_reply": "2023-08-07T11:53:42.658166Z"
    },
    "papermill": {
     "duration": 0.061558,
     "end_time": "2023-08-07T11:53:42.661853",
     "exception": false,
     "start_time": "2023-08-07T11:53:42.600295",
     "status": "completed"
    },
    "tags": []
   },
   "outputs": [
    {
     "data": {
      "text/html": [
       "<div>\n",
       "<style scoped>\n",
       "    .dataframe tbody tr th:only-of-type {\n",
       "        vertical-align: middle;\n",
       "    }\n",
       "\n",
       "    .dataframe tbody tr th {\n",
       "        vertical-align: top;\n",
       "    }\n",
       "\n",
       "    .dataframe thead th {\n",
       "        text-align: right;\n",
       "    }\n",
       "</style>\n",
       "<table border=\"1\" class=\"dataframe\">\n",
       "  <thead>\n",
       "    <tr style=\"text-align: right;\">\n",
       "      <th></th>\n",
       "      <th>PassengerId</th>\n",
       "      <th>Pclass</th>\n",
       "      <th>Name</th>\n",
       "      <th>Sex</th>\n",
       "      <th>Age</th>\n",
       "      <th>SibSp</th>\n",
       "      <th>Parch</th>\n",
       "      <th>Ticket</th>\n",
       "      <th>Fare</th>\n",
       "      <th>Cabin</th>\n",
       "      <th>Embarked</th>\n",
       "    </tr>\n",
       "  </thead>\n",
       "  <tbody>\n",
       "    <tr>\n",
       "      <th>0</th>\n",
       "      <td>892</td>\n",
       "      <td>3</td>\n",
       "      <td>Kelly, Mr. James</td>\n",
       "      <td>male</td>\n",
       "      <td>34.5</td>\n",
       "      <td>0</td>\n",
       "      <td>0</td>\n",
       "      <td>330911</td>\n",
       "      <td>7.8292</td>\n",
       "      <td>NaN</td>\n",
       "      <td>Q</td>\n",
       "    </tr>\n",
       "    <tr>\n",
       "      <th>1</th>\n",
       "      <td>893</td>\n",
       "      <td>3</td>\n",
       "      <td>Wilkes, Mrs. James (Ellen Needs)</td>\n",
       "      <td>female</td>\n",
       "      <td>47.0</td>\n",
       "      <td>1</td>\n",
       "      <td>0</td>\n",
       "      <td>363272</td>\n",
       "      <td>7.0000</td>\n",
       "      <td>NaN</td>\n",
       "      <td>S</td>\n",
       "    </tr>\n",
       "    <tr>\n",
       "      <th>2</th>\n",
       "      <td>894</td>\n",
       "      <td>2</td>\n",
       "      <td>Myles, Mr. Thomas Francis</td>\n",
       "      <td>male</td>\n",
       "      <td>62.0</td>\n",
       "      <td>0</td>\n",
       "      <td>0</td>\n",
       "      <td>240276</td>\n",
       "      <td>9.6875</td>\n",
       "      <td>NaN</td>\n",
       "      <td>Q</td>\n",
       "    </tr>\n",
       "    <tr>\n",
       "      <th>3</th>\n",
       "      <td>895</td>\n",
       "      <td>3</td>\n",
       "      <td>Wirz, Mr. Albert</td>\n",
       "      <td>male</td>\n",
       "      <td>27.0</td>\n",
       "      <td>0</td>\n",
       "      <td>0</td>\n",
       "      <td>315154</td>\n",
       "      <td>8.6625</td>\n",
       "      <td>NaN</td>\n",
       "      <td>S</td>\n",
       "    </tr>\n",
       "    <tr>\n",
       "      <th>4</th>\n",
       "      <td>896</td>\n",
       "      <td>3</td>\n",
       "      <td>Hirvonen, Mrs. Alexander (Helga E Lindqvist)</td>\n",
       "      <td>female</td>\n",
       "      <td>22.0</td>\n",
       "      <td>1</td>\n",
       "      <td>1</td>\n",
       "      <td>3101298</td>\n",
       "      <td>12.2875</td>\n",
       "      <td>NaN</td>\n",
       "      <td>S</td>\n",
       "    </tr>\n",
       "  </tbody>\n",
       "</table>\n",
       "</div>"
      ],
      "text/plain": [
       "   PassengerId  Pclass                                          Name     Sex  \\\n",
       "0          892       3                              Kelly, Mr. James    male   \n",
       "1          893       3              Wilkes, Mrs. James (Ellen Needs)  female   \n",
       "2          894       2                     Myles, Mr. Thomas Francis    male   \n",
       "3          895       3                              Wirz, Mr. Albert    male   \n",
       "4          896       3  Hirvonen, Mrs. Alexander (Helga E Lindqvist)  female   \n",
       "\n",
       "    Age  SibSp  Parch   Ticket     Fare Cabin Embarked  \n",
       "0  34.5      0      0   330911   7.8292   NaN        Q  \n",
       "1  47.0      1      0   363272   7.0000   NaN        S  \n",
       "2  62.0      0      0   240276   9.6875   NaN        Q  \n",
       "3  27.0      0      0   315154   8.6625   NaN        S  \n",
       "4  22.0      1      1  3101298  12.2875   NaN        S  "
      ]
     },
     "execution_count": 39,
     "metadata": {},
     "output_type": "execute_result"
    }
   ],
   "source": [
    "test_titanic = pd.read_csv('/kaggle/input/titanic/test.csv')\n",
    "test_titanic.head()"
   ]
  },
  {
   "cell_type": "code",
   "execution_count": 40,
   "id": "c99a3894",
   "metadata": {
    "execution": {
     "iopub.execute_input": "2023-08-07T11:53:42.726633Z",
     "iopub.status.busy": "2023-08-07T11:53:42.726200Z",
     "iopub.status.idle": "2023-08-07T11:53:42.733642Z",
     "shell.execute_reply": "2023-08-07T11:53:42.732202Z"
    },
    "papermill": {
     "duration": 0.042512,
     "end_time": "2023-08-07T11:53:42.736077",
     "exception": false,
     "start_time": "2023-08-07T11:53:42.693565",
     "status": "completed"
    },
    "tags": []
   },
   "outputs": [
    {
     "data": {
      "text/plain": [
       "(418, 11)"
      ]
     },
     "execution_count": 40,
     "metadata": {},
     "output_type": "execute_result"
    }
   ],
   "source": [
    "test_titanic.shape"
   ]
  },
  {
   "cell_type": "code",
   "execution_count": 41,
   "id": "dcee716d",
   "metadata": {
    "execution": {
     "iopub.execute_input": "2023-08-07T11:53:42.801799Z",
     "iopub.status.busy": "2023-08-07T11:53:42.801298Z",
     "iopub.status.idle": "2023-08-07T11:53:42.811862Z",
     "shell.execute_reply": "2023-08-07T11:53:42.810580Z"
    },
    "papermill": {
     "duration": 0.046081,
     "end_time": "2023-08-07T11:53:42.814229",
     "exception": false,
     "start_time": "2023-08-07T11:53:42.768148",
     "status": "completed"
    },
    "tags": []
   },
   "outputs": [
    {
     "name": "stdout",
     "output_type": "stream",
     "text": [
      "Sex [1 0]\n",
      "Embarked [1 2 0]\n"
     ]
    }
   ],
   "source": [
    "from sklearn.preprocessing import LabelEncoder\n",
    "\n",
    "var = ['Sex', 'Embarked']\n",
    "le = LabelEncoder()\n",
    "for i in var:\n",
    "    le.fit(test_titanic[i].unique())\n",
    "    test_titanic[i] = le.transform(test_titanic[i])\n",
    "    print(i, test_titanic[i].unique())"
   ]
  },
  {
   "cell_type": "code",
   "execution_count": 42,
   "id": "a2130274",
   "metadata": {
    "execution": {
     "iopub.execute_input": "2023-08-07T11:53:42.881106Z",
     "iopub.status.busy": "2023-08-07T11:53:42.880659Z",
     "iopub.status.idle": "2023-08-07T11:53:42.898330Z",
     "shell.execute_reply": "2023-08-07T11:53:42.897225Z"
    },
    "papermill": {
     "duration": 0.053966,
     "end_time": "2023-08-07T11:53:42.900702",
     "exception": false,
     "start_time": "2023-08-07T11:53:42.846736",
     "status": "completed"
    },
    "tags": []
   },
   "outputs": [
    {
     "data": {
      "text/html": [
       "<div>\n",
       "<style scoped>\n",
       "    .dataframe tbody tr th:only-of-type {\n",
       "        vertical-align: middle;\n",
       "    }\n",
       "\n",
       "    .dataframe tbody tr th {\n",
       "        vertical-align: top;\n",
       "    }\n",
       "\n",
       "    .dataframe thead th {\n",
       "        text-align: right;\n",
       "    }\n",
       "</style>\n",
       "<table border=\"1\" class=\"dataframe\">\n",
       "  <thead>\n",
       "    <tr style=\"text-align: right;\">\n",
       "      <th></th>\n",
       "      <th>PassengerId</th>\n",
       "      <th>Pclass</th>\n",
       "      <th>Name</th>\n",
       "      <th>Sex</th>\n",
       "      <th>Age</th>\n",
       "      <th>SibSp</th>\n",
       "      <th>Parch</th>\n",
       "      <th>Ticket</th>\n",
       "      <th>Fare</th>\n",
       "      <th>Cabin</th>\n",
       "      <th>Embarked</th>\n",
       "    </tr>\n",
       "  </thead>\n",
       "  <tbody>\n",
       "    <tr>\n",
       "      <th>0</th>\n",
       "      <td>892</td>\n",
       "      <td>3</td>\n",
       "      <td>Kelly, Mr. James</td>\n",
       "      <td>1</td>\n",
       "      <td>34.5</td>\n",
       "      <td>0</td>\n",
       "      <td>0</td>\n",
       "      <td>330911</td>\n",
       "      <td>7.8292</td>\n",
       "      <td>NaN</td>\n",
       "      <td>1</td>\n",
       "    </tr>\n",
       "    <tr>\n",
       "      <th>1</th>\n",
       "      <td>893</td>\n",
       "      <td>3</td>\n",
       "      <td>Wilkes, Mrs. James (Ellen Needs)</td>\n",
       "      <td>0</td>\n",
       "      <td>47.0</td>\n",
       "      <td>1</td>\n",
       "      <td>0</td>\n",
       "      <td>363272</td>\n",
       "      <td>7.0000</td>\n",
       "      <td>NaN</td>\n",
       "      <td>2</td>\n",
       "    </tr>\n",
       "    <tr>\n",
       "      <th>2</th>\n",
       "      <td>894</td>\n",
       "      <td>2</td>\n",
       "      <td>Myles, Mr. Thomas Francis</td>\n",
       "      <td>1</td>\n",
       "      <td>62.0</td>\n",
       "      <td>0</td>\n",
       "      <td>0</td>\n",
       "      <td>240276</td>\n",
       "      <td>9.6875</td>\n",
       "      <td>NaN</td>\n",
       "      <td>1</td>\n",
       "    </tr>\n",
       "    <tr>\n",
       "      <th>3</th>\n",
       "      <td>895</td>\n",
       "      <td>3</td>\n",
       "      <td>Wirz, Mr. Albert</td>\n",
       "      <td>1</td>\n",
       "      <td>27.0</td>\n",
       "      <td>0</td>\n",
       "      <td>0</td>\n",
       "      <td>315154</td>\n",
       "      <td>8.6625</td>\n",
       "      <td>NaN</td>\n",
       "      <td>2</td>\n",
       "    </tr>\n",
       "    <tr>\n",
       "      <th>4</th>\n",
       "      <td>896</td>\n",
       "      <td>3</td>\n",
       "      <td>Hirvonen, Mrs. Alexander (Helga E Lindqvist)</td>\n",
       "      <td>0</td>\n",
       "      <td>22.0</td>\n",
       "      <td>1</td>\n",
       "      <td>1</td>\n",
       "      <td>3101298</td>\n",
       "      <td>12.2875</td>\n",
       "      <td>NaN</td>\n",
       "      <td>2</td>\n",
       "    </tr>\n",
       "  </tbody>\n",
       "</table>\n",
       "</div>"
      ],
      "text/plain": [
       "   PassengerId  Pclass                                          Name  Sex  \\\n",
       "0          892       3                              Kelly, Mr. James    1   \n",
       "1          893       3              Wilkes, Mrs. James (Ellen Needs)    0   \n",
       "2          894       2                     Myles, Mr. Thomas Francis    1   \n",
       "3          895       3                              Wirz, Mr. Albert    1   \n",
       "4          896       3  Hirvonen, Mrs. Alexander (Helga E Lindqvist)    0   \n",
       "\n",
       "    Age  SibSp  Parch   Ticket     Fare Cabin  Embarked  \n",
       "0  34.5      0      0   330911   7.8292   NaN         1  \n",
       "1  47.0      1      0   363272   7.0000   NaN         2  \n",
       "2  62.0      0      0   240276   9.6875   NaN         1  \n",
       "3  27.0      0      0   315154   8.6625   NaN         2  \n",
       "4  22.0      1      1  3101298  12.2875   NaN         2  "
      ]
     },
     "execution_count": 42,
     "metadata": {},
     "output_type": "execute_result"
    }
   ],
   "source": [
    "test_titanic.head()"
   ]
  },
  {
   "cell_type": "code",
   "execution_count": 43,
   "id": "e24f780a",
   "metadata": {
    "execution": {
     "iopub.execute_input": "2023-08-07T11:53:42.966717Z",
     "iopub.status.busy": "2023-08-07T11:53:42.965032Z",
     "iopub.status.idle": "2023-08-07T11:53:42.972784Z",
     "shell.execute_reply": "2023-08-07T11:53:42.971608Z"
    },
    "papermill": {
     "duration": 0.04322,
     "end_time": "2023-08-07T11:53:42.975486",
     "exception": false,
     "start_time": "2023-08-07T11:53:42.932266",
     "status": "completed"
    },
    "tags": []
   },
   "outputs": [],
   "source": [
    "test_x = test_titanic.drop(['PassengerId','Name','Ticket', 'Fare', 'Cabin'], axis=1)"
   ]
  },
  {
   "cell_type": "code",
   "execution_count": 44,
   "id": "d4104ee2",
   "metadata": {
    "execution": {
     "iopub.execute_input": "2023-08-07T11:53:43.048823Z",
     "iopub.status.busy": "2023-08-07T11:53:43.048102Z",
     "iopub.status.idle": "2023-08-07T11:53:43.054669Z",
     "shell.execute_reply": "2023-08-07T11:53:43.053436Z"
    },
    "papermill": {
     "duration": 0.043948,
     "end_time": "2023-08-07T11:53:43.057088",
     "exception": false,
     "start_time": "2023-08-07T11:53:43.013140",
     "status": "completed"
    },
    "tags": []
   },
   "outputs": [],
   "source": [
    "# Fill missing values in Age column of test.csv\n",
    "median_age = test_x['Age'].median()\n",
    "test_x['Age'].fillna(median_age, inplace=True)"
   ]
  },
  {
   "cell_type": "code",
   "execution_count": 45,
   "id": "9b0bcc08",
   "metadata": {
    "execution": {
     "iopub.execute_input": "2023-08-07T11:53:43.124216Z",
     "iopub.status.busy": "2023-08-07T11:53:43.123482Z",
     "iopub.status.idle": "2023-08-07T11:53:43.130992Z",
     "shell.execute_reply": "2023-08-07T11:53:43.129709Z"
    },
    "papermill": {
     "duration": 0.043929,
     "end_time": "2023-08-07T11:53:43.133890",
     "exception": false,
     "start_time": "2023-08-07T11:53:43.089961",
     "status": "completed"
    },
    "tags": []
   },
   "outputs": [],
   "source": [
    "test_x['FamilySize'] = test_x['SibSp'] + test_x['Parch']\n",
    "test_x = test_x.drop(['SibSp', 'Parch'], axis=1)"
   ]
  },
  {
   "cell_type": "code",
   "execution_count": 46,
   "id": "6b7fed78",
   "metadata": {
    "execution": {
     "iopub.execute_input": "2023-08-07T11:53:43.202624Z",
     "iopub.status.busy": "2023-08-07T11:53:43.201477Z",
     "iopub.status.idle": "2023-08-07T11:53:43.224479Z",
     "shell.execute_reply": "2023-08-07T11:53:43.223265Z"
    },
    "papermill": {
     "duration": 0.059678,
     "end_time": "2023-08-07T11:53:43.227187",
     "exception": false,
     "start_time": "2023-08-07T11:53:43.167509",
     "status": "completed"
    },
    "tags": []
   },
   "outputs": [
    {
     "data": {
      "text/html": [
       "<div>\n",
       "<style scoped>\n",
       "    .dataframe tbody tr th:only-of-type {\n",
       "        vertical-align: middle;\n",
       "    }\n",
       "\n",
       "    .dataframe tbody tr th {\n",
       "        vertical-align: top;\n",
       "    }\n",
       "\n",
       "    .dataframe thead th {\n",
       "        text-align: right;\n",
       "    }\n",
       "</style>\n",
       "<table border=\"1\" class=\"dataframe\">\n",
       "  <thead>\n",
       "    <tr style=\"text-align: right;\">\n",
       "      <th></th>\n",
       "      <th>Pclass</th>\n",
       "      <th>Sex</th>\n",
       "      <th>Age</th>\n",
       "      <th>Embarked</th>\n",
       "      <th>FamilySize</th>\n",
       "    </tr>\n",
       "  </thead>\n",
       "  <tbody>\n",
       "    <tr>\n",
       "      <th>0</th>\n",
       "      <td>3</td>\n",
       "      <td>1</td>\n",
       "      <td>0.386231</td>\n",
       "      <td>1</td>\n",
       "      <td>-0.553443</td>\n",
       "    </tr>\n",
       "    <tr>\n",
       "      <th>1</th>\n",
       "      <td>3</td>\n",
       "      <td>0</td>\n",
       "      <td>1.371370</td>\n",
       "      <td>2</td>\n",
       "      <td>0.105643</td>\n",
       "    </tr>\n",
       "    <tr>\n",
       "      <th>2</th>\n",
       "      <td>2</td>\n",
       "      <td>1</td>\n",
       "      <td>2.553537</td>\n",
       "      <td>1</td>\n",
       "      <td>-0.553443</td>\n",
       "    </tr>\n",
       "    <tr>\n",
       "      <th>3</th>\n",
       "      <td>3</td>\n",
       "      <td>1</td>\n",
       "      <td>-0.204852</td>\n",
       "      <td>2</td>\n",
       "      <td>-0.553443</td>\n",
       "    </tr>\n",
       "    <tr>\n",
       "      <th>4</th>\n",
       "      <td>3</td>\n",
       "      <td>0</td>\n",
       "      <td>-0.598908</td>\n",
       "      <td>2</td>\n",
       "      <td>0.764728</td>\n",
       "    </tr>\n",
       "    <tr>\n",
       "      <th>...</th>\n",
       "      <td>...</td>\n",
       "      <td>...</td>\n",
       "      <td>...</td>\n",
       "      <td>...</td>\n",
       "      <td>...</td>\n",
       "    </tr>\n",
       "    <tr>\n",
       "      <th>413</th>\n",
       "      <td>3</td>\n",
       "      <td>1</td>\n",
       "      <td>-0.204852</td>\n",
       "      <td>2</td>\n",
       "      <td>-0.553443</td>\n",
       "    </tr>\n",
       "    <tr>\n",
       "      <th>414</th>\n",
       "      <td>1</td>\n",
       "      <td>0</td>\n",
       "      <td>0.740881</td>\n",
       "      <td>0</td>\n",
       "      <td>-0.553443</td>\n",
       "    </tr>\n",
       "    <tr>\n",
       "      <th>415</th>\n",
       "      <td>3</td>\n",
       "      <td>1</td>\n",
       "      <td>0.701476</td>\n",
       "      <td>2</td>\n",
       "      <td>-0.553443</td>\n",
       "    </tr>\n",
       "    <tr>\n",
       "      <th>416</th>\n",
       "      <td>3</td>\n",
       "      <td>1</td>\n",
       "      <td>-0.204852</td>\n",
       "      <td>2</td>\n",
       "      <td>-0.553443</td>\n",
       "    </tr>\n",
       "    <tr>\n",
       "      <th>417</th>\n",
       "      <td>3</td>\n",
       "      <td>1</td>\n",
       "      <td>-0.204852</td>\n",
       "      <td>0</td>\n",
       "      <td>0.764728</td>\n",
       "    </tr>\n",
       "  </tbody>\n",
       "</table>\n",
       "<p>418 rows × 5 columns</p>\n",
       "</div>"
      ],
      "text/plain": [
       "     Pclass  Sex       Age  Embarked  FamilySize\n",
       "0         3    1  0.386231         1   -0.553443\n",
       "1         3    0  1.371370         2    0.105643\n",
       "2         2    1  2.553537         1   -0.553443\n",
       "3         3    1 -0.204852         2   -0.553443\n",
       "4         3    0 -0.598908         2    0.764728\n",
       "..      ...  ...       ...       ...         ...\n",
       "413       3    1 -0.204852         2   -0.553443\n",
       "414       1    0  0.740881         0   -0.553443\n",
       "415       3    1  0.701476         2   -0.553443\n",
       "416       3    1 -0.204852         2   -0.553443\n",
       "417       3    1 -0.204852         0    0.764728\n",
       "\n",
       "[418 rows x 5 columns]"
      ]
     },
     "execution_count": 46,
     "metadata": {},
     "output_type": "execute_result"
    }
   ],
   "source": [
    "from sklearn.preprocessing import StandardScaler\n",
    "\n",
    "scaler = StandardScaler()\n",
    "\n",
    "test_x[['Age', 'FamilySize']] = scaler.fit_transform(test_x[['Age', 'FamilySize']])\n",
    "test_x"
   ]
  },
  {
   "cell_type": "code",
   "execution_count": 47,
   "id": "d16ccf6b",
   "metadata": {
    "execution": {
     "iopub.execute_input": "2023-08-07T11:53:43.295541Z",
     "iopub.status.busy": "2023-08-07T11:53:43.295101Z",
     "iopub.status.idle": "2023-08-07T11:53:43.302667Z",
     "shell.execute_reply": "2023-08-07T11:53:43.301493Z"
    },
    "papermill": {
     "duration": 0.044488,
     "end_time": "2023-08-07T11:53:43.305149",
     "exception": false,
     "start_time": "2023-08-07T11:53:43.260661",
     "status": "completed"
    },
    "tags": []
   },
   "outputs": [],
   "source": [
    "predictions = tree_model.predict(test_x)"
   ]
  },
  {
   "cell_type": "code",
   "execution_count": 48,
   "id": "59ec87c7",
   "metadata": {
    "execution": {
     "iopub.execute_input": "2023-08-07T11:53:43.372435Z",
     "iopub.status.busy": "2023-08-07T11:53:43.372004Z",
     "iopub.status.idle": "2023-08-07T11:53:43.385691Z",
     "shell.execute_reply": "2023-08-07T11:53:43.384489Z"
    },
    "papermill": {
     "duration": 0.051001,
     "end_time": "2023-08-07T11:53:43.388056",
     "exception": false,
     "start_time": "2023-08-07T11:53:43.337055",
     "status": "completed"
    },
    "tags": []
   },
   "outputs": [
    {
     "data": {
      "text/html": [
       "<div>\n",
       "<style scoped>\n",
       "    .dataframe tbody tr th:only-of-type {\n",
       "        vertical-align: middle;\n",
       "    }\n",
       "\n",
       "    .dataframe tbody tr th {\n",
       "        vertical-align: top;\n",
       "    }\n",
       "\n",
       "    .dataframe thead th {\n",
       "        text-align: right;\n",
       "    }\n",
       "</style>\n",
       "<table border=\"1\" class=\"dataframe\">\n",
       "  <thead>\n",
       "    <tr style=\"text-align: right;\">\n",
       "      <th></th>\n",
       "      <th>PassengerId</th>\n",
       "      <th>Survived</th>\n",
       "    </tr>\n",
       "  </thead>\n",
       "  <tbody>\n",
       "    <tr>\n",
       "      <th>0</th>\n",
       "      <td>892</td>\n",
       "      <td>0</td>\n",
       "    </tr>\n",
       "    <tr>\n",
       "      <th>1</th>\n",
       "      <td>893</td>\n",
       "      <td>0</td>\n",
       "    </tr>\n",
       "    <tr>\n",
       "      <th>2</th>\n",
       "      <td>894</td>\n",
       "      <td>1</td>\n",
       "    </tr>\n",
       "    <tr>\n",
       "      <th>3</th>\n",
       "      <td>895</td>\n",
       "      <td>1</td>\n",
       "    </tr>\n",
       "    <tr>\n",
       "      <th>4</th>\n",
       "      <td>896</td>\n",
       "      <td>0</td>\n",
       "    </tr>\n",
       "    <tr>\n",
       "      <th>...</th>\n",
       "      <td>...</td>\n",
       "      <td>...</td>\n",
       "    </tr>\n",
       "    <tr>\n",
       "      <th>413</th>\n",
       "      <td>1305</td>\n",
       "      <td>1</td>\n",
       "    </tr>\n",
       "    <tr>\n",
       "      <th>414</th>\n",
       "      <td>1306</td>\n",
       "      <td>1</td>\n",
       "    </tr>\n",
       "    <tr>\n",
       "      <th>415</th>\n",
       "      <td>1307</td>\n",
       "      <td>0</td>\n",
       "    </tr>\n",
       "    <tr>\n",
       "      <th>416</th>\n",
       "      <td>1308</td>\n",
       "      <td>1</td>\n",
       "    </tr>\n",
       "    <tr>\n",
       "      <th>417</th>\n",
       "      <td>1309</td>\n",
       "      <td>0</td>\n",
       "    </tr>\n",
       "  </tbody>\n",
       "</table>\n",
       "<p>418 rows × 2 columns</p>\n",
       "</div>"
      ],
      "text/plain": [
       "     PassengerId  Survived\n",
       "0            892         0\n",
       "1            893         0\n",
       "2            894         1\n",
       "3            895         1\n",
       "4            896         0\n",
       "..           ...       ...\n",
       "413         1305         1\n",
       "414         1306         1\n",
       "415         1307         0\n",
       "416         1308         1\n",
       "417         1309         0\n",
       "\n",
       "[418 rows x 2 columns]"
      ]
     },
     "execution_count": 48,
     "metadata": {},
     "output_type": "execute_result"
    }
   ],
   "source": [
    "output= pd.DataFrame({'PassengerId':test_titanic.PassengerId,'Survived':predictions})\n",
    "output"
   ]
  },
  {
   "cell_type": "code",
   "execution_count": 49,
   "id": "0955f753",
   "metadata": {
    "execution": {
     "iopub.execute_input": "2023-08-07T11:53:43.456593Z",
     "iopub.status.busy": "2023-08-07T11:53:43.456139Z",
     "iopub.status.idle": "2023-08-07T11:53:43.465456Z",
     "shell.execute_reply": "2023-08-07T11:53:43.464486Z"
    },
    "papermill": {
     "duration": 0.047147,
     "end_time": "2023-08-07T11:53:43.467878",
     "exception": false,
     "start_time": "2023-08-07T11:53:43.420731",
     "status": "completed"
    },
    "tags": []
   },
   "outputs": [],
   "source": [
    "output.to_csv('Titanic_Competition_DecisionTree_JaylordVhan_Fabor.csv', index=False)"
   ]
  }
 ],
 "metadata": {
  "kernelspec": {
   "display_name": "Python 3",
   "language": "python",
   "name": "python3"
  },
  "language_info": {
   "codemirror_mode": {
    "name": "ipython",
    "version": 3
   },
   "file_extension": ".py",
   "mimetype": "text/x-python",
   "name": "python",
   "nbconvert_exporter": "python",
   "pygments_lexer": "ipython3",
   "version": "3.10.12"
  },
  "papermill": {
   "default_parameters": {},
   "duration": 25.422707,
   "end_time": "2023-08-07T11:53:44.626518",
   "environment_variables": {},
   "exception": null,
   "input_path": "__notebook__.ipynb",
   "output_path": "__notebook__.ipynb",
   "parameters": {},
   "start_time": "2023-08-07T11:53:19.203811",
   "version": "2.4.0"
  }
 },
 "nbformat": 4,
 "nbformat_minor": 5
}
