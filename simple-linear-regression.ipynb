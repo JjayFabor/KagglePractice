{
 "cells": [
  {
   "cell_type": "code",
   "execution_count": 1,
   "id": "81a4a80c",
   "metadata": {
    "_cell_guid": "b1076dfc-b9ad-4769-8c92-a6c4dae69d19",
    "_uuid": "8f2839f25d086af736a60e9eeb907d3b93b6e0e5",
    "execution": {
     "iopub.execute_input": "2023-07-31T14:30:21.376332Z",
     "iopub.status.busy": "2023-07-31T14:30:21.375975Z",
     "iopub.status.idle": "2023-07-31T14:30:21.393083Z",
     "shell.execute_reply": "2023-07-31T14:30:21.392299Z"
    },
    "papermill": {
     "duration": 0.027955,
     "end_time": "2023-07-31T14:30:21.395578",
     "exception": false,
     "start_time": "2023-07-31T14:30:21.367623",
     "status": "completed"
    },
    "tags": []
   },
   "outputs": [
    {
     "name": "stdout",
     "output_type": "stream",
     "text": [
      "/kaggle/input/salary-dataset-simple-linear-regression/Salary_dataset.csv\n"
     ]
    }
   ],
   "source": [
    "# This Python 3 environment comes with many helpful analytics libraries installed\n",
    "# It is defined by the kaggle/python Docker image: https://github.com/kaggle/docker-python\n",
    "# For example, here's several helpful packages to load\n",
    "\n",
    "import numpy as np # linear algebra\n",
    "import pandas as pd # data processing, CSV file I/O (e.g. pd.read_csv)\n",
    "\n",
    "# Input data files are available in the read-only \"../input/\" directory\n",
    "# For example, running this (by clicking run or pressing Shift+Enter) will list all files under the input directory\n",
    "\n",
    "import os\n",
    "for dirname, _, filenames in os.walk('/kaggle/input'):\n",
    "    for filename in filenames:\n",
    "        print(os.path.join(dirname, filename))\n",
    "\n",
    "# You can write up to 20GB to the current directory (/kaggle/working/) that gets preserved as output when you create a version using \"Save & Run All\" \n",
    "# You can also write temporary files to /kaggle/temp/, but they won't be saved outside of the current session"
   ]
  },
  {
   "cell_type": "code",
   "execution_count": 2,
   "id": "c4136ada",
   "metadata": {
    "execution": {
     "iopub.execute_input": "2023-07-31T14:30:21.409793Z",
     "iopub.status.busy": "2023-07-31T14:30:21.409406Z",
     "iopub.status.idle": "2023-07-31T14:30:22.632756Z",
     "shell.execute_reply": "2023-07-31T14:30:22.631490Z"
    },
    "papermill": {
     "duration": 1.233569,
     "end_time": "2023-07-31T14:30:22.635558",
     "exception": false,
     "start_time": "2023-07-31T14:30:21.401989",
     "status": "completed"
    },
    "tags": []
   },
   "outputs": [
    {
     "name": "stderr",
     "output_type": "stream",
     "text": [
      "/opt/conda/lib/python3.10/site-packages/scipy/__init__.py:146: UserWarning: A NumPy version >=1.16.5 and <1.23.0 is required for this version of SciPy (detected version 1.23.5\n",
      "  warnings.warn(f\"A NumPy version >={np_minversion} and <{np_maxversion}\"\n"
     ]
    }
   ],
   "source": [
    "from sklearn.linear_model import LinearRegression\n",
    "import matplotlib.pyplot as plt"
   ]
  },
  {
   "cell_type": "code",
   "execution_count": 3,
   "id": "e1dc8ca7",
   "metadata": {
    "execution": {
     "iopub.execute_input": "2023-07-31T14:30:22.650517Z",
     "iopub.status.busy": "2023-07-31T14:30:22.650103Z",
     "iopub.status.idle": "2023-07-31T14:30:22.686329Z",
     "shell.execute_reply": "2023-07-31T14:30:22.684968Z"
    },
    "papermill": {
     "duration": 0.047044,
     "end_time": "2023-07-31T14:30:22.689277",
     "exception": false,
     "start_time": "2023-07-31T14:30:22.642233",
     "status": "completed"
    },
    "tags": []
   },
   "outputs": [
    {
     "data": {
      "text/html": [
       "<div>\n",
       "<style scoped>\n",
       "    .dataframe tbody tr th:only-of-type {\n",
       "        vertical-align: middle;\n",
       "    }\n",
       "\n",
       "    .dataframe tbody tr th {\n",
       "        vertical-align: top;\n",
       "    }\n",
       "\n",
       "    .dataframe thead th {\n",
       "        text-align: right;\n",
       "    }\n",
       "</style>\n",
       "<table border=\"1\" class=\"dataframe\">\n",
       "  <thead>\n",
       "    <tr style=\"text-align: right;\">\n",
       "      <th></th>\n",
       "      <th>Unnamed: 0</th>\n",
       "      <th>YearsExperience</th>\n",
       "      <th>Salary</th>\n",
       "    </tr>\n",
       "  </thead>\n",
       "  <tbody>\n",
       "    <tr>\n",
       "      <th>0</th>\n",
       "      <td>0</td>\n",
       "      <td>1.2</td>\n",
       "      <td>39344.0</td>\n",
       "    </tr>\n",
       "    <tr>\n",
       "      <th>1</th>\n",
       "      <td>1</td>\n",
       "      <td>1.4</td>\n",
       "      <td>46206.0</td>\n",
       "    </tr>\n",
       "    <tr>\n",
       "      <th>2</th>\n",
       "      <td>2</td>\n",
       "      <td>1.6</td>\n",
       "      <td>37732.0</td>\n",
       "    </tr>\n",
       "    <tr>\n",
       "      <th>3</th>\n",
       "      <td>3</td>\n",
       "      <td>2.1</td>\n",
       "      <td>43526.0</td>\n",
       "    </tr>\n",
       "    <tr>\n",
       "      <th>4</th>\n",
       "      <td>4</td>\n",
       "      <td>2.3</td>\n",
       "      <td>39892.0</td>\n",
       "    </tr>\n",
       "  </tbody>\n",
       "</table>\n",
       "</div>"
      ],
      "text/plain": [
       "   Unnamed: 0  YearsExperience   Salary\n",
       "0           0              1.2  39344.0\n",
       "1           1              1.4  46206.0\n",
       "2           2              1.6  37732.0\n",
       "3           3              2.1  43526.0\n",
       "4           4              2.3  39892.0"
      ]
     },
     "execution_count": 3,
     "metadata": {},
     "output_type": "execute_result"
    }
   ],
   "source": [
    "#Read Data\n",
    "# Read data\n",
    "df = pd.read_csv('/kaggle/input/salary-dataset-simple-linear-regression/Salary_dataset.csv')\n",
    "df.head()"
   ]
  },
  {
   "cell_type": "code",
   "execution_count": 4,
   "id": "97dc73bd",
   "metadata": {
    "execution": {
     "iopub.execute_input": "2023-07-31T14:30:22.704133Z",
     "iopub.status.busy": "2023-07-31T14:30:22.703724Z",
     "iopub.status.idle": "2023-07-31T14:30:22.727144Z",
     "shell.execute_reply": "2023-07-31T14:30:22.725962Z"
    },
    "papermill": {
     "duration": 0.033954,
     "end_time": "2023-07-31T14:30:22.729917",
     "exception": false,
     "start_time": "2023-07-31T14:30:22.695963",
     "status": "completed"
    },
    "tags": []
   },
   "outputs": [
    {
     "data": {
      "text/html": [
       "<div>\n",
       "<style scoped>\n",
       "    .dataframe tbody tr th:only-of-type {\n",
       "        vertical-align: middle;\n",
       "    }\n",
       "\n",
       "    .dataframe tbody tr th {\n",
       "        vertical-align: top;\n",
       "    }\n",
       "\n",
       "    .dataframe thead th {\n",
       "        text-align: right;\n",
       "    }\n",
       "</style>\n",
       "<table border=\"1\" class=\"dataframe\">\n",
       "  <thead>\n",
       "    <tr style=\"text-align: right;\">\n",
       "      <th></th>\n",
       "      <th>YearsExperience</th>\n",
       "      <th>Salary</th>\n",
       "    </tr>\n",
       "  </thead>\n",
       "  <tbody>\n",
       "    <tr>\n",
       "      <th>0</th>\n",
       "      <td>1.2</td>\n",
       "      <td>39344.0</td>\n",
       "    </tr>\n",
       "    <tr>\n",
       "      <th>1</th>\n",
       "      <td>1.4</td>\n",
       "      <td>46206.0</td>\n",
       "    </tr>\n",
       "    <tr>\n",
       "      <th>2</th>\n",
       "      <td>1.6</td>\n",
       "      <td>37732.0</td>\n",
       "    </tr>\n",
       "    <tr>\n",
       "      <th>3</th>\n",
       "      <td>2.1</td>\n",
       "      <td>43526.0</td>\n",
       "    </tr>\n",
       "    <tr>\n",
       "      <th>4</th>\n",
       "      <td>2.3</td>\n",
       "      <td>39892.0</td>\n",
       "    </tr>\n",
       "    <tr>\n",
       "      <th>5</th>\n",
       "      <td>3.0</td>\n",
       "      <td>56643.0</td>\n",
       "    </tr>\n",
       "    <tr>\n",
       "      <th>6</th>\n",
       "      <td>3.1</td>\n",
       "      <td>60151.0</td>\n",
       "    </tr>\n",
       "    <tr>\n",
       "      <th>7</th>\n",
       "      <td>3.3</td>\n",
       "      <td>54446.0</td>\n",
       "    </tr>\n",
       "    <tr>\n",
       "      <th>8</th>\n",
       "      <td>3.3</td>\n",
       "      <td>64446.0</td>\n",
       "    </tr>\n",
       "    <tr>\n",
       "      <th>9</th>\n",
       "      <td>3.8</td>\n",
       "      <td>57190.0</td>\n",
       "    </tr>\n",
       "    <tr>\n",
       "      <th>10</th>\n",
       "      <td>4.0</td>\n",
       "      <td>63219.0</td>\n",
       "    </tr>\n",
       "    <tr>\n",
       "      <th>11</th>\n",
       "      <td>4.1</td>\n",
       "      <td>55795.0</td>\n",
       "    </tr>\n",
       "    <tr>\n",
       "      <th>12</th>\n",
       "      <td>4.1</td>\n",
       "      <td>56958.0</td>\n",
       "    </tr>\n",
       "    <tr>\n",
       "      <th>13</th>\n",
       "      <td>4.2</td>\n",
       "      <td>57082.0</td>\n",
       "    </tr>\n",
       "    <tr>\n",
       "      <th>14</th>\n",
       "      <td>4.6</td>\n",
       "      <td>61112.0</td>\n",
       "    </tr>\n",
       "    <tr>\n",
       "      <th>15</th>\n",
       "      <td>5.0</td>\n",
       "      <td>67939.0</td>\n",
       "    </tr>\n",
       "    <tr>\n",
       "      <th>16</th>\n",
       "      <td>5.2</td>\n",
       "      <td>66030.0</td>\n",
       "    </tr>\n",
       "    <tr>\n",
       "      <th>17</th>\n",
       "      <td>5.4</td>\n",
       "      <td>83089.0</td>\n",
       "    </tr>\n",
       "    <tr>\n",
       "      <th>18</th>\n",
       "      <td>6.0</td>\n",
       "      <td>81364.0</td>\n",
       "    </tr>\n",
       "    <tr>\n",
       "      <th>19</th>\n",
       "      <td>6.1</td>\n",
       "      <td>93941.0</td>\n",
       "    </tr>\n",
       "    <tr>\n",
       "      <th>20</th>\n",
       "      <td>6.9</td>\n",
       "      <td>91739.0</td>\n",
       "    </tr>\n",
       "    <tr>\n",
       "      <th>21</th>\n",
       "      <td>7.2</td>\n",
       "      <td>98274.0</td>\n",
       "    </tr>\n",
       "    <tr>\n",
       "      <th>22</th>\n",
       "      <td>8.0</td>\n",
       "      <td>101303.0</td>\n",
       "    </tr>\n",
       "    <tr>\n",
       "      <th>23</th>\n",
       "      <td>8.3</td>\n",
       "      <td>113813.0</td>\n",
       "    </tr>\n",
       "    <tr>\n",
       "      <th>24</th>\n",
       "      <td>8.8</td>\n",
       "      <td>109432.0</td>\n",
       "    </tr>\n",
       "    <tr>\n",
       "      <th>25</th>\n",
       "      <td>9.1</td>\n",
       "      <td>105583.0</td>\n",
       "    </tr>\n",
       "    <tr>\n",
       "      <th>26</th>\n",
       "      <td>9.6</td>\n",
       "      <td>116970.0</td>\n",
       "    </tr>\n",
       "    <tr>\n",
       "      <th>27</th>\n",
       "      <td>9.7</td>\n",
       "      <td>112636.0</td>\n",
       "    </tr>\n",
       "    <tr>\n",
       "      <th>28</th>\n",
       "      <td>10.4</td>\n",
       "      <td>122392.0</td>\n",
       "    </tr>\n",
       "    <tr>\n",
       "      <th>29</th>\n",
       "      <td>10.6</td>\n",
       "      <td>121873.0</td>\n",
       "    </tr>\n",
       "  </tbody>\n",
       "</table>\n",
       "</div>"
      ],
      "text/plain": [
       "    YearsExperience    Salary\n",
       "0               1.2   39344.0\n",
       "1               1.4   46206.0\n",
       "2               1.6   37732.0\n",
       "3               2.1   43526.0\n",
       "4               2.3   39892.0\n",
       "5               3.0   56643.0\n",
       "6               3.1   60151.0\n",
       "7               3.3   54446.0\n",
       "8               3.3   64446.0\n",
       "9               3.8   57190.0\n",
       "10              4.0   63219.0\n",
       "11              4.1   55795.0\n",
       "12              4.1   56958.0\n",
       "13              4.2   57082.0\n",
       "14              4.6   61112.0\n",
       "15              5.0   67939.0\n",
       "16              5.2   66030.0\n",
       "17              5.4   83089.0\n",
       "18              6.0   81364.0\n",
       "19              6.1   93941.0\n",
       "20              6.9   91739.0\n",
       "21              7.2   98274.0\n",
       "22              8.0  101303.0\n",
       "23              8.3  113813.0\n",
       "24              8.8  109432.0\n",
       "25              9.1  105583.0\n",
       "26              9.6  116970.0\n",
       "27              9.7  112636.0\n",
       "28             10.4  122392.0\n",
       "29             10.6  121873.0"
      ]
     },
     "execution_count": 4,
     "metadata": {},
     "output_type": "execute_result"
    }
   ],
   "source": [
    "# remove useless column\n",
    "updated_df = df.drop(['Unnamed: 0'], axis='columns')\n",
    "updated_df"
   ]
  },
  {
   "cell_type": "code",
   "execution_count": 5,
   "id": "efbe1e5c",
   "metadata": {
    "execution": {
     "iopub.execute_input": "2023-07-31T14:30:22.745719Z",
     "iopub.status.busy": "2023-07-31T14:30:22.745337Z",
     "iopub.status.idle": "2023-07-31T14:30:22.756887Z",
     "shell.execute_reply": "2023-07-31T14:30:22.755818Z"
    },
    "papermill": {
     "duration": 0.022572,
     "end_time": "2023-07-31T14:30:22.759581",
     "exception": false,
     "start_time": "2023-07-31T14:30:22.737009",
     "status": "completed"
    },
    "tags": []
   },
   "outputs": [
    {
     "name": "stdout",
     "output_type": "stream",
     "text": [
      "Number of Missing values:  0\n",
      "Number of Duplicate values:  0\n"
     ]
    }
   ],
   "source": [
    "# check for missing and duplicate values\n",
    "check_missing_val = updated_df.isnull().values.sum()\n",
    "check_duplicate_val = updated_df.duplicated().sum()\n",
    "print(\"Number of Missing values: \", check_missing_val)\n",
    "print(\"Number of Duplicate values: \", check_duplicate_val)"
   ]
  },
  {
   "cell_type": "code",
   "execution_count": 6,
   "id": "5c5da3cc",
   "metadata": {
    "execution": {
     "iopub.execute_input": "2023-07-31T14:30:22.775437Z",
     "iopub.status.busy": "2023-07-31T14:30:22.775064Z",
     "iopub.status.idle": "2023-07-31T14:30:22.788750Z",
     "shell.execute_reply": "2023-07-31T14:30:22.787728Z"
    },
    "papermill": {
     "duration": 0.024545,
     "end_time": "2023-07-31T14:30:22.791230",
     "exception": false,
     "start_time": "2023-07-31T14:30:22.766685",
     "status": "completed"
    },
    "tags": []
   },
   "outputs": [
    {
     "data": {
      "text/html": [
       "<div>\n",
       "<style scoped>\n",
       "    .dataframe tbody tr th:only-of-type {\n",
       "        vertical-align: middle;\n",
       "    }\n",
       "\n",
       "    .dataframe tbody tr th {\n",
       "        vertical-align: top;\n",
       "    }\n",
       "\n",
       "    .dataframe thead th {\n",
       "        text-align: right;\n",
       "    }\n",
       "</style>\n",
       "<table border=\"1\" class=\"dataframe\">\n",
       "  <thead>\n",
       "    <tr style=\"text-align: right;\">\n",
       "      <th></th>\n",
       "      <th>YearsExperience</th>\n",
       "      <th>Salary</th>\n",
       "    </tr>\n",
       "  </thead>\n",
       "  <tbody>\n",
       "    <tr>\n",
       "      <th>YearsExperience</th>\n",
       "      <td>1.000000</td>\n",
       "      <td>0.978242</td>\n",
       "    </tr>\n",
       "    <tr>\n",
       "      <th>Salary</th>\n",
       "      <td>0.978242</td>\n",
       "      <td>1.000000</td>\n",
       "    </tr>\n",
       "  </tbody>\n",
       "</table>\n",
       "</div>"
      ],
      "text/plain": [
       "                 YearsExperience    Salary\n",
       "YearsExperience         1.000000  0.978242\n",
       "Salary                  0.978242  1.000000"
      ]
     },
     "execution_count": 6,
     "metadata": {},
     "output_type": "execute_result"
    }
   ],
   "source": [
    "# check for correlation of the data\n",
    "updated_df.corr()"
   ]
  },
  {
   "cell_type": "markdown",
   "id": "e4492437",
   "metadata": {
    "papermill": {
     "duration": 0.006892,
     "end_time": "2023-07-31T14:30:22.805423",
     "exception": false,
     "start_time": "2023-07-31T14:30:22.798531",
     "status": "completed"
    },
    "tags": []
   },
   "source": [
    "Using corr() to check for the correlation of our data, we can say that almost 98% is the correlation of our data, therefore it suggests that we have a strong linear relationship."
   ]
  },
  {
   "cell_type": "code",
   "execution_count": 7,
   "id": "7cc8be6b",
   "metadata": {
    "execution": {
     "iopub.execute_input": "2023-07-31T14:30:22.821523Z",
     "iopub.status.busy": "2023-07-31T14:30:22.821138Z",
     "iopub.status.idle": "2023-07-31T14:30:23.137555Z",
     "shell.execute_reply": "2023-07-31T14:30:23.136425Z"
    },
    "papermill": {
     "duration": 0.327505,
     "end_time": "2023-07-31T14:30:23.139951",
     "exception": false,
     "start_time": "2023-07-31T14:30:22.812446",
     "status": "completed"
    },
    "tags": []
   },
   "outputs": [
    {
     "data": {
      "image/png": "[encoded data removed]",
      "text/plain": [
       "<Figure size 640x480 with 1 Axes>"
      ]
     },
     "metadata": {},
     "output_type": "display_data"
    }
   ],
   "source": [
    "# Plot the points using scatter plot to visualize our data\n",
    "plt.scatter(updated_df['Salary'], updated_df['YearsExperience'])\n",
    "plt.title('Scatter Plot of Salary vs YearsExperience')\n",
    "plt.xlabel('Salary')\n",
    "plt.ylabel('YearsExperience')\n",
    "\n",
    "plt.show()"
   ]
  },
  {
   "cell_type": "code",
   "execution_count": 8,
   "id": "9e70b9c8",
   "metadata": {
    "execution": {
     "iopub.execute_input": "2023-07-31T14:30:23.157592Z",
     "iopub.status.busy": "2023-07-31T14:30:23.156959Z",
     "iopub.status.idle": "2023-07-31T14:30:23.188506Z",
     "shell.execute_reply": "2023-07-31T14:30:23.187639Z"
    },
    "papermill": {
     "duration": 0.043225,
     "end_time": "2023-07-31T14:30:23.190916",
     "exception": false,
     "start_time": "2023-07-31T14:30:23.147691",
     "status": "completed"
    },
    "tags": []
   },
   "outputs": [
    {
     "data": {
      "text/html": [
       "<style>#sk-container-id-1 {color: black;background-color: white;}#sk-container-id-1 pre{padding: 0;}#sk-container-id-1 div.sk-toggleable {background-color: white;}#sk-container-id-1 label.sk-toggleable__label {cursor: pointer;display: block;width: 100%;margin-bottom: 0;padding: 0.3em;box-sizing: border-box;text-align: center;}#sk-container-id-1 label.sk-toggleable__label-arrow:before {content: \"▸\";float: left;margin-right: 0.25em;color: #696969;}#sk-container-id-1 label.sk-toggleable__label-arrow:hover:before {color: black;}#sk-container-id-1 div.sk-estimator:hover label.sk-toggleable__label-arrow:before {color: black;}#sk-container-id-1 div.sk-toggleable__content {max-height: 0;max-width: 0;overflow: hidden;text-align: left;background-color: #f0f8ff;}#sk-container-id-1 div.sk-toggleable__content pre {margin: 0.2em;color: black;border-radius: 0.25em;background-color: #f0f8ff;}#sk-container-id-1 input.sk-toggleable__control:checked~div.sk-toggleable__content {max-height: 200px;max-width: 100%;overflow: auto;}#sk-container-id-1 input.sk-toggleable__control:checked~label.sk-toggleable__label-arrow:before {content: \"▾\";}#sk-container-id-1 div.sk-estimator input.sk-toggleable__control:checked~label.sk-toggleable__label {background-color: #d4ebff;}#sk-container-id-1 div.sk-label input.sk-toggleable__control:checked~label.sk-toggleable__label {background-color: #d4ebff;}#sk-container-id-1 input.sk-hidden--visually {border: 0;clip: rect(1px 1px 1px 1px);clip: rect(1px, 1px, 1px, 1px);height: 1px;margin: -1px;overflow: hidden;padding: 0;position: absolute;width: 1px;}#sk-container-id-1 div.sk-estimator {font-family: monospace;background-color: #f0f8ff;border: 1px dotted black;border-radius: 0.25em;box-sizing: border-box;margin-bottom: 0.5em;}#sk-container-id-1 div.sk-estimator:hover {background-color: #d4ebff;}#sk-container-id-1 div.sk-parallel-item::after {content: \"\";width: 100%;border-bottom: 1px solid gray;flex-grow: 1;}#sk-container-id-1 div.sk-label:hover label.sk-toggleable__label {background-color: #d4ebff;}#sk-container-id-1 div.sk-serial::before {content: \"\";position: absolute;border-left: 1px solid gray;box-sizing: border-box;top: 0;bottom: 0;left: 50%;z-index: 0;}#sk-container-id-1 div.sk-serial {display: flex;flex-direction: column;align-items: center;background-color: white;padding-right: 0.2em;padding-left: 0.2em;position: relative;}#sk-container-id-1 div.sk-item {position: relative;z-index: 1;}#sk-container-id-1 div.sk-parallel {display: flex;align-items: stretch;justify-content: center;background-color: white;position: relative;}#sk-container-id-1 div.sk-item::before, #sk-container-id-1 div.sk-parallel-item::before {content: \"\";position: absolute;border-left: 1px solid gray;box-sizing: border-box;top: 0;bottom: 0;left: 50%;z-index: -1;}#sk-container-id-1 div.sk-parallel-item {display: flex;flex-direction: column;z-index: 1;position: relative;background-color: white;}#sk-container-id-1 div.sk-parallel-item:first-child::after {align-self: flex-end;width: 50%;}#sk-container-id-1 div.sk-parallel-item:last-child::after {align-self: flex-start;width: 50%;}#sk-container-id-1 div.sk-parallel-item:only-child::after {width: 0;}#sk-container-id-1 div.sk-dashed-wrapped {border: 1px dashed gray;margin: 0 0.4em 0.5em 0.4em;box-sizing: border-box;padding-bottom: 0.4em;background-color: white;}#sk-container-id-1 div.sk-label label {font-family: monospace;font-weight: bold;display: inline-block;line-height: 1.2em;}#sk-container-id-1 div.sk-label-container {text-align: center;}#sk-container-id-1 div.sk-container {/* jupyter's `normalize.less` sets `[hidden] { display: none; }` but bootstrap.min.css set `[hidden] { display: none !important; }` so we also need the `!important` here to be able to override the default hidden behavior on the sphinx rendered scikit-learn.org. See: https://github.com/scikit-learn/scikit-learn/issues/21755 */display: inline-block !important;position: relative;}#sk-container-id-1 div.sk-text-repr-fallback {display: none;}</style><div id=\"sk-container-id-1\" class=\"sk-top-container\"><div class=\"sk-text-repr-fallback\"><pre>LinearRegression()</pre><b>In a Jupyter environment, please rerun this cell to show the HTML representation or trust the notebook. <br />On GitHub, the HTML representation is unable to render, please try loading this page with nbviewer.org.</b></div><div class=\"sk-container\" hidden><div class=\"sk-item\"><div class=\"sk-estimator sk-toggleable\"><input class=\"sk-toggleable__control sk-hidden--visually\" id=\"sk-estimator-id-1\" type=\"checkbox\" checked><label for=\"sk-estimator-id-1\" class=\"sk-toggleable__label sk-toggleable__label-arrow\">LinearRegression</label><div class=\"sk-toggleable__content\"><pre>LinearRegression()</pre></div></div></div></div></div>"
      ],
      "text/plain": [
       "LinearRegression()"
      ]
     },
     "execution_count": 8,
     "metadata": {},
     "output_type": "execute_result"
    }
   ],
   "source": [
    "# For this dataset, I am going to use train_test_split to predict the salary for more than 11 years of experience\n",
    "from sklearn.model_selection import train_test_split\n",
    "\n",
    "# Set the X = features and y = target\n",
    "X = updated_df[['YearsExperience']].values\n",
    "y = updated_df.Salary\n",
    "\n",
    "# Set our train and test variable and also the test_size for 20%\n",
    "# that means that our train data would be 80% and 20% test data\n",
    "X_train, X_test, y_train, y_test = train_test_split(X, y, test_size=0.2)\n",
    "\n",
    "# Create a model and fit\n",
    "lr_model = LinearRegression()\n",
    "lr_model.fit(X_train, y_train)"
   ]
  },
  {
   "cell_type": "code",
   "execution_count": 9,
   "id": "4ec9ee52",
   "metadata": {
    "execution": {
     "iopub.execute_input": "2023-07-31T14:30:23.210839Z",
     "iopub.status.busy": "2023-07-31T14:30:23.210190Z",
     "iopub.status.idle": "2023-07-31T14:30:23.231608Z",
     "shell.execute_reply": "2023-07-31T14:30:23.229972Z"
    },
    "papermill": {
     "duration": 0.035289,
     "end_time": "2023-07-31T14:30:23.234343",
     "exception": false,
     "start_time": "2023-07-31T14:30:23.199054",
     "status": "completed"
    },
    "tags": []
   },
   "outputs": [
    {
     "data": {
      "text/html": [
       "<div>\n",
       "<style scoped>\n",
       "    .dataframe tbody tr th:only-of-type {\n",
       "        vertical-align: middle;\n",
       "    }\n",
       "\n",
       "    .dataframe tbody tr th {\n",
       "        vertical-align: top;\n",
       "    }\n",
       "\n",
       "    .dataframe thead th {\n",
       "        text-align: right;\n",
       "    }\n",
       "</style>\n",
       "<table border=\"1\" class=\"dataframe\">\n",
       "  <thead>\n",
       "    <tr style=\"text-align: right;\">\n",
       "      <th></th>\n",
       "      <th>YearsExperience</th>\n",
       "      <th>Actual Salary</th>\n",
       "      <th>Predicted Salary</th>\n",
       "    </tr>\n",
       "  </thead>\n",
       "  <tbody>\n",
       "    <tr>\n",
       "      <th>0</th>\n",
       "      <td>10.6</td>\n",
       "      <td>121873.0</td>\n",
       "      <td>124820.809859</td>\n",
       "    </tr>\n",
       "    <tr>\n",
       "      <th>1</th>\n",
       "      <td>6.1</td>\n",
       "      <td>93941.0</td>\n",
       "      <td>82113.109264</td>\n",
       "    </tr>\n",
       "    <tr>\n",
       "      <th>2</th>\n",
       "      <td>4.2</td>\n",
       "      <td>57082.0</td>\n",
       "      <td>64080.969013</td>\n",
       "    </tr>\n",
       "    <tr>\n",
       "      <th>3</th>\n",
       "      <td>3.3</td>\n",
       "      <td>64446.0</td>\n",
       "      <td>55539.428894</td>\n",
       "    </tr>\n",
       "    <tr>\n",
       "      <th>4</th>\n",
       "      <td>4.1</td>\n",
       "      <td>56958.0</td>\n",
       "      <td>63131.909000</td>\n",
       "    </tr>\n",
       "    <tr>\n",
       "      <th>5</th>\n",
       "      <td>5.4</td>\n",
       "      <td>83089.0</td>\n",
       "      <td>75469.689172</td>\n",
       "    </tr>\n",
       "  </tbody>\n",
       "</table>\n",
       "</div>"
      ],
      "text/plain": [
       "   YearsExperience  Actual Salary  Predicted Salary\n",
       "0             10.6       121873.0     124820.809859\n",
       "1              6.1        93941.0      82113.109264\n",
       "2              4.2        57082.0      64080.969013\n",
       "3              3.3        64446.0      55539.428894\n",
       "4              4.1        56958.0      63131.909000\n",
       "5              5.4        83089.0      75469.689172"
      ]
     },
     "execution_count": 9,
     "metadata": {},
     "output_type": "execute_result"
    }
   ],
   "source": [
    "# We will predict our X_test value and see if its align to our actual test data\n",
    "X_test_values = X_test\n",
    "y_test_predicted = lr_model.predict(X_test_values)\n",
    "\n",
    "#Create a dataframe for the X_test_values\n",
    "X_test_values_df = pd.DataFrame(X_test_values, columns=['YearsExperience'])\n",
    "\n",
    "# Reset the index for X_test_values_df\n",
    "X_test_values_df.reset_index(drop=True, inplace=True)\n",
    "\n",
    "#Create a dataframe for the predicted values (y_test_predicted)\n",
    "y_test_predicted_df = pd.DataFrame(pd.Series(y_test_predicted, name='Predicted Salary'))\n",
    "\n",
    "# Reset the index for y_predicted_df\n",
    "y_test_predicted_df.reset_index(drop=True, inplace=True)\n",
    "\n",
    "#Create a Dataframe for the actual target values (y_test)\n",
    "y_test_df = pd.DataFrame(pd.Series(y_test, name='Actual Salary'))\n",
    "\n",
    "# Reset the index for y_test_df\n",
    "y_test_df.reset_index(drop=True, inplace=True)\n",
    "\n",
    "#Concatenate the DataFrame horizontally to create a final DataFrame\n",
    "final_df = pd.concat([X_test_values_df, y_test_df, y_test_predicted_df], axis=1)\n",
    "final_df"
   ]
  },
  {
   "cell_type": "code",
   "execution_count": 10,
   "id": "ffbef599",
   "metadata": {
    "execution": {
     "iopub.execute_input": "2023-07-31T14:30:23.253863Z",
     "iopub.status.busy": "2023-07-31T14:30:23.253476Z",
     "iopub.status.idle": "2023-07-31T14:30:23.618273Z",
     "shell.execute_reply": "2023-07-31T14:30:23.617252Z"
    },
    "papermill": {
     "duration": 0.377924,
     "end_time": "2023-07-31T14:30:23.620763",
     "exception": false,
     "start_time": "2023-07-31T14:30:23.242839",
     "status": "completed"
    },
    "tags": []
   },
   "outputs": [
    {
     "data": {
      "image/png": "[encoded data removed]",
      "text/plain": [
       "<Figure size 640x480 with 1 Axes>"
      ]
     },
     "metadata": {},
     "output_type": "display_data"
    },
    {
     "name": "stdout",
     "output_type": "stream",
     "text": [
      "Coefficients:  [9490.60013227] Intecept:  24220.4484573636\n",
      "Linear Model Prediction Percentage: 88.54%\n"
     ]
    }
   ],
   "source": [
    "# Now we will plot our Actual and Predicted Salary to compare the value when we use Linear Regression\n",
    "\n",
    "# Plot 'Actual Salary' against the test set features\n",
    "plt.scatter(final_df.iloc[:, 0], final_df['Actual Salary'], color='blue', label='Actual Salary')\n",
    "\n",
    "# Plot 'Predicted Salary' against the test set features\n",
    "plt.scatter(final_df.iloc[:, 0], final_df['Predicted Salary'], color='red', label='Predicted Salary')\n",
    "\n",
    "# Get the coefficient and intercept\n",
    "coef = lr_model.coef_\n",
    "intercept = lr_model.intercept_ \n",
    "\n",
    "# Plot the line of linear regression\n",
    "x_values = np.linspace(final_df.iloc[:, 0].min(), final_df.iloc[:, 0].max(), 100)\n",
    "y_values = coef[0] * x_values + intercept\n",
    "plt.plot(x_values, y_values, color='green', label='Linear Regression')\n",
    "\n",
    "# Set labels and title\n",
    "plt.xlabel('Test Set Features')\n",
    "plt.ylabel('Salary')\n",
    "plt.title('Actual Salary vs. Predicted Salary with Linear Regression')\n",
    "\n",
    "# Add legend\n",
    "plt.legend()\n",
    "\n",
    "# Show the plot\n",
    "plt.show()\n",
    "\n",
    "# Get the Linear Model score or R-square score of our train data and convert in into a percentage with two decimal places\n",
    "lr_model_score = lr_model.score(X_test, y_test)\n",
    "lr_model_percentage = round(lr_model_score * 100, 2)\n",
    "\n",
    "print(\"Coefficients: \", coef, \"Intecept: \", intercept)\n",
    "print(\"Linear Model Prediction Percentage: {}%\".format(lr_model_percentage))"
   ]
  },
  {
   "cell_type": "markdown",
   "id": "99229c93",
   "metadata": {
    "papermill": {
     "duration": 0.009545,
     "end_time": "2023-07-31T14:30:23.639980",
     "exception": false,
     "start_time": "2023-07-31T14:30:23.630435",
     "status": "completed"
    },
    "tags": []
   },
   "source": [
    "We say here that our Linear Regression Model is not highly accurate since it has only a 87.11% accuracy for predicting the values for our test data."
   ]
  },
  {
   "cell_type": "code",
   "execution_count": 11,
   "id": "da510635",
   "metadata": {
    "execution": {
     "iopub.execute_input": "2023-07-31T14:30:23.662062Z",
     "iopub.status.busy": "2023-07-31T14:30:23.661645Z",
     "iopub.status.idle": "2023-07-31T14:30:23.934546Z",
     "shell.execute_reply": "2023-07-31T14:30:23.933377Z"
    },
    "papermill": {
     "duration": 0.287875,
     "end_time": "2023-07-31T14:30:23.937653",
     "exception": false,
     "start_time": "2023-07-31T14:30:23.649778",
     "status": "completed"
    },
    "tags": []
   },
   "outputs": [
    {
     "data": {
      "image/png": "[encoded data removed]",
      "text/plain": [
       "<Figure size 640x480 with 1 Axes>"
      ]
     },
     "metadata": {},
     "output_type": "display_data"
    },
    {
     "name": "stdout",
     "output_type": "stream",
     "text": [
      "Linear Model Prediction Percentage: 95.7%\n"
     ]
    }
   ],
   "source": [
    "# Now, we will plot our Linear Regression Model on our Actual Data\n",
    "%matplotlib inline\n",
    "\n",
    "# Create a model and fit for our actual data\n",
    "lr_model.fit(X, y)\n",
    "y_predicted = lr_model.predict(X)\n",
    "\n",
    "# Plot the points using scatter plot to visualize our data\n",
    "plt.scatter(X,y, label='Data Points')\n",
    "\n",
    "# Plot the Linear Regression Line\n",
    "\n",
    "plt.plot(X, y_predicted, color='red', label='Linear Regression')\n",
    "\n",
    "plt.title('Scatter Plot of Salary vs YearsExperience')\n",
    "plt.xlabel('Salary')\n",
    "plt.ylabel('YearsExperience')\n",
    "\n",
    "plt.legend() \n",
    "plt.show()\n",
    "\n",
    "# Get the Linear Model score or R-square score of our actual data and convert in into a percentage with two decimal places\n",
    "lr_model_score = lr_model.score(X, y)\n",
    "lr_model_percentage = round(lr_model_score * 100, 2)\n",
    "print(\"Linear Model Prediction Percentage: {}%\".format(lr_model_percentage))"
   ]
  },
  {
   "cell_type": "markdown",
   "id": "d7e67238",
   "metadata": {
    "papermill": {
     "duration": 0.01022,
     "end_time": "2023-07-31T14:30:23.958148",
     "exception": false,
     "start_time": "2023-07-31T14:30:23.947928",
     "status": "completed"
    },
    "tags": []
   },
   "source": [
    "Based on our plot with the actual value, we can see that some are accurately predicted while others are not.\n",
    "\n",
    "\n",
    "Now, to make use of our train_test_split, we will try to predict new values based on the YearsExperience."
   ]
  },
  {
   "cell_type": "code",
   "execution_count": 12,
   "id": "d94582df",
   "metadata": {
    "execution": {
     "iopub.execute_input": "2023-07-31T14:30:23.980686Z",
     "iopub.status.busy": "2023-07-31T14:30:23.980270Z",
     "iopub.status.idle": "2023-07-31T14:30:23.991270Z",
     "shell.execute_reply": "2023-07-31T14:30:23.990304Z"
    },
    "papermill": {
     "duration": 0.025114,
     "end_time": "2023-07-31T14:30:23.993675",
     "exception": false,
     "start_time": "2023-07-31T14:30:23.968561",
     "status": "completed"
    },
    "tags": []
   },
   "outputs": [
    {
     "data": {
      "text/html": [
       "<div>\n",
       "<style scoped>\n",
       "    .dataframe tbody tr th:only-of-type {\n",
       "        vertical-align: middle;\n",
       "    }\n",
       "\n",
       "    .dataframe tbody tr th {\n",
       "        vertical-align: top;\n",
       "    }\n",
       "\n",
       "    .dataframe thead th {\n",
       "        text-align: right;\n",
       "    }\n",
       "</style>\n",
       "<table border=\"1\" class=\"dataframe\">\n",
       "  <thead>\n",
       "    <tr style=\"text-align: right;\">\n",
       "      <th></th>\n",
       "      <th>New_YearsExperience</th>\n",
       "    </tr>\n",
       "  </thead>\n",
       "  <tbody>\n",
       "    <tr>\n",
       "      <th>0</th>\n",
       "      <td>11.5</td>\n",
       "    </tr>\n",
       "    <tr>\n",
       "      <th>1</th>\n",
       "      <td>12.3</td>\n",
       "    </tr>\n",
       "    <tr>\n",
       "      <th>2</th>\n",
       "      <td>13.8</td>\n",
       "    </tr>\n",
       "    <tr>\n",
       "      <th>3</th>\n",
       "      <td>14.1</td>\n",
       "    </tr>\n",
       "    <tr>\n",
       "      <th>4</th>\n",
       "      <td>15.7</td>\n",
       "    </tr>\n",
       "  </tbody>\n",
       "</table>\n",
       "</div>"
      ],
      "text/plain": [
       "   New_YearsExperience\n",
       "0                 11.5\n",
       "1                 12.3\n",
       "2                 13.8\n",
       "3                 14.1\n",
       "4                 15.7"
      ]
     },
     "execution_count": 12,
     "metadata": {},
     "output_type": "execute_result"
    }
   ],
   "source": [
    "# I will create a new DataFrame with values [11.5, 12.3, 13.8, 14.1, 15.7]\n",
    "new_YearsExperience = [11.5, 12.3, 13.8, 14.1, 15.7]\n",
    "new_df = pd.DataFrame({'New_YearsExperience': new_YearsExperience})\n",
    "new_df"
   ]
  },
  {
   "cell_type": "code",
   "execution_count": 13,
   "id": "ed8717f1",
   "metadata": {
    "execution": {
     "iopub.execute_input": "2023-07-31T14:30:24.017112Z",
     "iopub.status.busy": "2023-07-31T14:30:24.016680Z",
     "iopub.status.idle": "2023-07-31T14:30:24.035666Z",
     "shell.execute_reply": "2023-07-31T14:30:24.034472Z"
    },
    "papermill": {
     "duration": 0.033526,
     "end_time": "2023-07-31T14:30:24.038241",
     "exception": false,
     "start_time": "2023-07-31T14:30:24.004715",
     "status": "completed"
    },
    "tags": []
   },
   "outputs": [
    {
     "name": "stderr",
     "output_type": "stream",
     "text": [
      "/opt/conda/lib/python3.10/site-packages/sklearn/base.py:432: UserWarning: X has feature names, but LinearRegression was fitted without feature names\n",
      "  warnings.warn(\n"
     ]
    },
    {
     "data": {
      "text/html": [
       "<div>\n",
       "<style scoped>\n",
       "    .dataframe tbody tr th:only-of-type {\n",
       "        vertical-align: middle;\n",
       "    }\n",
       "\n",
       "    .dataframe tbody tr th {\n",
       "        vertical-align: top;\n",
       "    }\n",
       "\n",
       "    .dataframe thead th {\n",
       "        text-align: right;\n",
       "    }\n",
       "</style>\n",
       "<table border=\"1\" class=\"dataframe\">\n",
       "  <thead>\n",
       "    <tr style=\"text-align: right;\">\n",
       "      <th></th>\n",
       "      <th>New_YearsExperience</th>\n",
       "      <th>New_PredictedSalary</th>\n",
       "    </tr>\n",
       "  </thead>\n",
       "  <tbody>\n",
       "    <tr>\n",
       "      <th>0</th>\n",
       "      <td>11.5</td>\n",
       "      <td>133522.770663</td>\n",
       "    </tr>\n",
       "    <tr>\n",
       "      <th>1</th>\n",
       "      <td>12.3</td>\n",
       "      <td>141082.740520</td>\n",
       "    </tr>\n",
       "    <tr>\n",
       "      <th>2</th>\n",
       "      <td>13.8</td>\n",
       "      <td>155257.684003</td>\n",
       "    </tr>\n",
       "    <tr>\n",
       "      <th>3</th>\n",
       "      <td>14.1</td>\n",
       "      <td>158092.672699</td>\n",
       "    </tr>\n",
       "    <tr>\n",
       "      <th>4</th>\n",
       "      <td>15.7</td>\n",
       "      <td>173212.612413</td>\n",
       "    </tr>\n",
       "  </tbody>\n",
       "</table>\n",
       "</div>"
      ],
      "text/plain": [
       "   New_YearsExperience  New_PredictedSalary\n",
       "0                 11.5        133522.770663\n",
       "1                 12.3        141082.740520\n",
       "2                 13.8        155257.684003\n",
       "3                 14.1        158092.672699\n",
       "4                 15.7        173212.612413"
      ]
     },
     "execution_count": 13,
     "metadata": {},
     "output_type": "execute_result"
    }
   ],
   "source": [
    "# we will predict our salary for this values\n",
    "new_X = new_df[['New_YearsExperience']]\n",
    "new_predicted_salary = lr_model.predict(new_X)\n",
    "\n",
    "# store the new_predicted_salary to a DataFrame\n",
    "new_predicted_salary_df = pd.DataFrame({'New_PredictedSalary': new_predicted_salary})\n",
    "\n",
    "#Concat the new_X and new_predicted_salary_df\n",
    "final_new_df = pd.concat([new_X, new_predicted_salary_df], axis=1)\n",
    "final_new_df"
   ]
  },
  {
   "cell_type": "markdown",
   "id": "0a175f21",
   "metadata": {
    "papermill": {
     "duration": 0.010345,
     "end_time": "2023-07-31T14:30:24.059321",
     "exception": false,
     "start_time": "2023-07-31T14:30:24.048976",
     "status": "completed"
    },
    "tags": []
   },
   "source": [
    "This is my predicted data using the Linear Regression with newer data. However, I can say that, this may not be the best option of model, or maybe I can improve my model by adding more features or by adding more data to train"
   ]
  },
  {
   "cell_type": "markdown",
   "id": "ff333d6f",
   "metadata": {
    "papermill": {
     "duration": 0.010364,
     "end_time": "2023-07-31T14:30:24.080400",
     "exception": false,
     "start_time": "2023-07-31T14:30:24.070036",
     "status": "completed"
    },
    "tags": []
   },
   "source": [
    "Conclusion:\n",
    "    \n",
    "    Doing this activity, gives me a clear understanding of using train_test_split of the data. When I try to get the Linear Model Score of the test data, it is higher than the actual data. \n",
    "    \n",
    "    \n",
    "    I will get back to this dataset after learning more models and improve my Linear Model Score, and give a more clearer conclusion.\n",
    "    \n",
    "    Thank you for this practice dataset.\n",
    "   "
   ]
  }
 ],
 "metadata": {
  "kernelspec": {
   "display_name": "Python 3",
   "language": "python",
   "name": "python3"
  },
  "language_info": {
   "codemirror_mode": {
    "name": "ipython",
    "version": 3
   },
   "file_extension": ".py",
   "mimetype": "text/x-python",
   "name": "python",
   "nbconvert_exporter": "python",
   "pygments_lexer": "ipython3",
   "version": "3.10.12"
  },
  "papermill": {
   "default_parameters": {},
   "duration": 14.615059,
   "end_time": "2023-07-31T14:30:25.014003",
   "environment_variables": {},
   "exception": null,
   "input_path": "__notebook__.ipynb",
   "output_path": "__notebook__.ipynb",
   "parameters": {},
   "start_time": "2023-07-31T14:30:10.398944",
   "version": "2.4.0"
  }
 },
 "nbformat": 4,
 "nbformat_minor": 5
}
