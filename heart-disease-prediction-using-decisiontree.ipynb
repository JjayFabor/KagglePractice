{
 "cells": [
  {
   "cell_type": "raw",
   "id": "1d9b48e6",
   "metadata": {
    "papermill": {
     "duration": 0.014082,
     "end_time": "2023-09-10T12:52:21.502547",
     "exception": false,
     "start_time": "2023-09-10T12:52:21.488465",
     "status": "completed"
    },
    "tags": []
   },
   "source": []
  },
  {
   "cell_type": "code",
   "execution_count": 1,
   "id": "98cf8724",
   "metadata": {
    "_cell_guid": "b1076dfc-b9ad-4769-8c92-a6c4dae69d19",
    "_uuid": "8f2839f25d086af736a60e9eeb907d3b93b6e0e5",
    "execution": {
     "iopub.execute_input": "2023-09-10T12:52:21.530749Z",
     "iopub.status.busy": "2023-09-10T12:52:21.530377Z",
     "iopub.status.idle": "2023-09-10T12:52:22.426528Z",
     "shell.execute_reply": "2023-09-10T12:52:22.425343Z"
    },
    "papermill": {
     "duration": 0.913152,
     "end_time": "2023-09-10T12:52:22.429058",
     "exception": false,
     "start_time": "2023-09-10T12:52:21.515906",
     "status": "completed"
    },
    "tags": []
   },
   "outputs": [
    {
     "name": "stdout",
     "output_type": "stream",
     "text": [
      "/kaggle/input/heart-disease-dataset/heart.csv\n"
     ]
    }
   ],
   "source": [
    "# This Python 3 environment comes with many helpful analytics libraries installed\n",
    "# It is defined by the kaggle/python Docker image: https://github.com/kaggle/docker-python\n",
    "# For example, here's several helpful packages to load\n",
    "\n",
    "import numpy as np # linear algebra\n",
    "import pandas as pd # data processing, CSV file I/O (e.g. pd.read_csv)\n",
    "\n",
    "# Input data files are available in the read-only \"../input/\" directory\n",
    "# For example, running this (by clicking run or pressing Shift+Enter) will list all files under the input directory\n",
    "\n",
    "import os\n",
    "for dirname, _, filenames in os.walk('/kaggle/input'):\n",
    "    for filename in filenames:\n",
    "        print(os.path.join(dirname, filename))\n",
    "\n",
    "# You can write up to 20GB to the current directory (/kaggle/working/) that gets preserved as output when you create a version using \"Save & Run All\" \n",
    "# You can also write temporary files to /kaggle/temp/, but they won't be saved outside of the current session"
   ]
  },
  {
   "cell_type": "markdown",
   "id": "4c56d989",
   "metadata": {
    "papermill": {
     "duration": 0.012808,
     "end_time": "2023-09-10T12:52:22.455495",
     "exception": false,
     "start_time": "2023-09-10T12:52:22.442687",
     "status": "completed"
    },
    "tags": []
   },
   "source": [
    "# Importing Necessary Libraries"
   ]
  },
  {
   "cell_type": "code",
   "execution_count": 2,
   "id": "6833de0c",
   "metadata": {
    "execution": {
     "iopub.execute_input": "2023-09-10T12:52:22.484635Z",
     "iopub.status.busy": "2023-09-10T12:52:22.483302Z",
     "iopub.status.idle": "2023-09-10T12:52:24.811132Z",
     "shell.execute_reply": "2023-09-10T12:52:24.809540Z"
    },
    "papermill": {
     "duration": 2.345597,
     "end_time": "2023-09-10T12:52:24.814282",
     "exception": false,
     "start_time": "2023-09-10T12:52:22.468685",
     "status": "completed"
    },
    "tags": []
   },
   "outputs": [],
   "source": [
    "import matplotlib.pyplot as plt\n",
    "import seaborn as sns\n",
    "import warnings\n",
    "warnings.filterwarnings('ignore')\n",
    "%matplotlib inline\n",
    "\n",
    "# Sklearn imports\n",
    "from sklearn.model_selection import train_test_split\n",
    "from sklearn.tree import DecisionTreeClassifier\n",
    "from sklearn.metrics import accuracy_score, classification_report\n",
    "from sklearn.model_selection import RandomizedSearchCV"
   ]
  },
  {
   "cell_type": "markdown",
   "id": "121634a6",
   "metadata": {
    "papermill": {
     "duration": 0.012776,
     "end_time": "2023-09-10T12:52:24.840585",
     "exception": false,
     "start_time": "2023-09-10T12:52:24.827809",
     "status": "completed"
    },
    "tags": []
   },
   "source": [
    "# Import Data\n",
    "\n",
    "## Understanding the Data"
   ]
  },
  {
   "cell_type": "code",
   "execution_count": 3,
   "id": "b964c846",
   "metadata": {
    "execution": {
     "iopub.execute_input": "2023-09-10T12:52:24.869412Z",
     "iopub.status.busy": "2023-09-10T12:52:24.868981Z",
     "iopub.status.idle": "2023-09-10T12:52:24.957180Z",
     "shell.execute_reply": "2023-09-10T12:52:24.955897Z"
    },
    "papermill": {
     "duration": 0.105205,
     "end_time": "2023-09-10T12:52:24.959438",
     "exception": false,
     "start_time": "2023-09-10T12:52:24.854233",
     "status": "completed"
    },
    "tags": []
   },
   "outputs": [
    {
     "data": {
      "text/html": [
       "<div>\n",
       "<style scoped>\n",
       "    .dataframe tbody tr th:only-of-type {\n",
       "        vertical-align: middle;\n",
       "    }\n",
       "\n",
       "    .dataframe tbody tr th {\n",
       "        vertical-align: top;\n",
       "    }\n",
       "\n",
       "    .dataframe thead th {\n",
       "        text-align: right;\n",
       "    }\n",
       "</style>\n",
       "<table border=\"1\" class=\"dataframe\">\n",
       "  <thead>\n",
       "    <tr style=\"text-align: right;\">\n",
       "      <th></th>\n",
       "      <th>age</th>\n",
       "      <th>sex</th>\n",
       "      <th>cp</th>\n",
       "      <th>trestbps</th>\n",
       "      <th>chol</th>\n",
       "      <th>fbs</th>\n",
       "      <th>restecg</th>\n",
       "      <th>thalach</th>\n",
       "      <th>exang</th>\n",
       "      <th>oldpeak</th>\n",
       "      <th>slope</th>\n",
       "      <th>ca</th>\n",
       "      <th>thal</th>\n",
       "      <th>target</th>\n",
       "    </tr>\n",
       "  </thead>\n",
       "  <tbody>\n",
       "    <tr>\n",
       "      <th>0</th>\n",
       "      <td>52</td>\n",
       "      <td>1</td>\n",
       "      <td>0</td>\n",
       "      <td>125</td>\n",
       "      <td>212</td>\n",
       "      <td>0</td>\n",
       "      <td>1</td>\n",
       "      <td>168</td>\n",
       "      <td>0</td>\n",
       "      <td>1.0</td>\n",
       "      <td>2</td>\n",
       "      <td>2</td>\n",
       "      <td>3</td>\n",
       "      <td>0</td>\n",
       "    </tr>\n",
       "    <tr>\n",
       "      <th>1</th>\n",
       "      <td>53</td>\n",
       "      <td>1</td>\n",
       "      <td>0</td>\n",
       "      <td>140</td>\n",
       "      <td>203</td>\n",
       "      <td>1</td>\n",
       "      <td>0</td>\n",
       "      <td>155</td>\n",
       "      <td>1</td>\n",
       "      <td>3.1</td>\n",
       "      <td>0</td>\n",
       "      <td>0</td>\n",
       "      <td>3</td>\n",
       "      <td>0</td>\n",
       "    </tr>\n",
       "    <tr>\n",
       "      <th>2</th>\n",
       "      <td>70</td>\n",
       "      <td>1</td>\n",
       "      <td>0</td>\n",
       "      <td>145</td>\n",
       "      <td>174</td>\n",
       "      <td>0</td>\n",
       "      <td>1</td>\n",
       "      <td>125</td>\n",
       "      <td>1</td>\n",
       "      <td>2.6</td>\n",
       "      <td>0</td>\n",
       "      <td>0</td>\n",
       "      <td>3</td>\n",
       "      <td>0</td>\n",
       "    </tr>\n",
       "    <tr>\n",
       "      <th>3</th>\n",
       "      <td>61</td>\n",
       "      <td>1</td>\n",
       "      <td>0</td>\n",
       "      <td>148</td>\n",
       "      <td>203</td>\n",
       "      <td>0</td>\n",
       "      <td>1</td>\n",
       "      <td>161</td>\n",
       "      <td>0</td>\n",
       "      <td>0.0</td>\n",
       "      <td>2</td>\n",
       "      <td>1</td>\n",
       "      <td>3</td>\n",
       "      <td>0</td>\n",
       "    </tr>\n",
       "    <tr>\n",
       "      <th>4</th>\n",
       "      <td>62</td>\n",
       "      <td>0</td>\n",
       "      <td>0</td>\n",
       "      <td>138</td>\n",
       "      <td>294</td>\n",
       "      <td>1</td>\n",
       "      <td>1</td>\n",
       "      <td>106</td>\n",
       "      <td>0</td>\n",
       "      <td>1.9</td>\n",
       "      <td>1</td>\n",
       "      <td>3</td>\n",
       "      <td>2</td>\n",
       "      <td>0</td>\n",
       "    </tr>\n",
       "    <tr>\n",
       "      <th>5</th>\n",
       "      <td>58</td>\n",
       "      <td>0</td>\n",
       "      <td>0</td>\n",
       "      <td>100</td>\n",
       "      <td>248</td>\n",
       "      <td>0</td>\n",
       "      <td>0</td>\n",
       "      <td>122</td>\n",
       "      <td>0</td>\n",
       "      <td>1.0</td>\n",
       "      <td>1</td>\n",
       "      <td>0</td>\n",
       "      <td>2</td>\n",
       "      <td>1</td>\n",
       "    </tr>\n",
       "    <tr>\n",
       "      <th>6</th>\n",
       "      <td>58</td>\n",
       "      <td>1</td>\n",
       "      <td>0</td>\n",
       "      <td>114</td>\n",
       "      <td>318</td>\n",
       "      <td>0</td>\n",
       "      <td>2</td>\n",
       "      <td>140</td>\n",
       "      <td>0</td>\n",
       "      <td>4.4</td>\n",
       "      <td>0</td>\n",
       "      <td>3</td>\n",
       "      <td>1</td>\n",
       "      <td>0</td>\n",
       "    </tr>\n",
       "    <tr>\n",
       "      <th>7</th>\n",
       "      <td>55</td>\n",
       "      <td>1</td>\n",
       "      <td>0</td>\n",
       "      <td>160</td>\n",
       "      <td>289</td>\n",
       "      <td>0</td>\n",
       "      <td>0</td>\n",
       "      <td>145</td>\n",
       "      <td>1</td>\n",
       "      <td>0.8</td>\n",
       "      <td>1</td>\n",
       "      <td>1</td>\n",
       "      <td>3</td>\n",
       "      <td>0</td>\n",
       "    </tr>\n",
       "    <tr>\n",
       "      <th>8</th>\n",
       "      <td>46</td>\n",
       "      <td>1</td>\n",
       "      <td>0</td>\n",
       "      <td>120</td>\n",
       "      <td>249</td>\n",
       "      <td>0</td>\n",
       "      <td>0</td>\n",
       "      <td>144</td>\n",
       "      <td>0</td>\n",
       "      <td>0.8</td>\n",
       "      <td>2</td>\n",
       "      <td>0</td>\n",
       "      <td>3</td>\n",
       "      <td>0</td>\n",
       "    </tr>\n",
       "    <tr>\n",
       "      <th>9</th>\n",
       "      <td>54</td>\n",
       "      <td>1</td>\n",
       "      <td>0</td>\n",
       "      <td>122</td>\n",
       "      <td>286</td>\n",
       "      <td>0</td>\n",
       "      <td>0</td>\n",
       "      <td>116</td>\n",
       "      <td>1</td>\n",
       "      <td>3.2</td>\n",
       "      <td>1</td>\n",
       "      <td>2</td>\n",
       "      <td>2</td>\n",
       "      <td>0</td>\n",
       "    </tr>\n",
       "    <tr>\n",
       "      <th>10</th>\n",
       "      <td>71</td>\n",
       "      <td>0</td>\n",
       "      <td>0</td>\n",
       "      <td>112</td>\n",
       "      <td>149</td>\n",
       "      <td>0</td>\n",
       "      <td>1</td>\n",
       "      <td>125</td>\n",
       "      <td>0</td>\n",
       "      <td>1.6</td>\n",
       "      <td>1</td>\n",
       "      <td>0</td>\n",
       "      <td>2</td>\n",
       "      <td>1</td>\n",
       "    </tr>\n",
       "    <tr>\n",
       "      <th>11</th>\n",
       "      <td>43</td>\n",
       "      <td>0</td>\n",
       "      <td>0</td>\n",
       "      <td>132</td>\n",
       "      <td>341</td>\n",
       "      <td>1</td>\n",
       "      <td>0</td>\n",
       "      <td>136</td>\n",
       "      <td>1</td>\n",
       "      <td>3.0</td>\n",
       "      <td>1</td>\n",
       "      <td>0</td>\n",
       "      <td>3</td>\n",
       "      <td>0</td>\n",
       "    </tr>\n",
       "    <tr>\n",
       "      <th>12</th>\n",
       "      <td>34</td>\n",
       "      <td>0</td>\n",
       "      <td>1</td>\n",
       "      <td>118</td>\n",
       "      <td>210</td>\n",
       "      <td>0</td>\n",
       "      <td>1</td>\n",
       "      <td>192</td>\n",
       "      <td>0</td>\n",
       "      <td>0.7</td>\n",
       "      <td>2</td>\n",
       "      <td>0</td>\n",
       "      <td>2</td>\n",
       "      <td>1</td>\n",
       "    </tr>\n",
       "    <tr>\n",
       "      <th>13</th>\n",
       "      <td>51</td>\n",
       "      <td>1</td>\n",
       "      <td>0</td>\n",
       "      <td>140</td>\n",
       "      <td>298</td>\n",
       "      <td>0</td>\n",
       "      <td>1</td>\n",
       "      <td>122</td>\n",
       "      <td>1</td>\n",
       "      <td>4.2</td>\n",
       "      <td>1</td>\n",
       "      <td>3</td>\n",
       "      <td>3</td>\n",
       "      <td>0</td>\n",
       "    </tr>\n",
       "    <tr>\n",
       "      <th>14</th>\n",
       "      <td>52</td>\n",
       "      <td>1</td>\n",
       "      <td>0</td>\n",
       "      <td>128</td>\n",
       "      <td>204</td>\n",
       "      <td>1</td>\n",
       "      <td>1</td>\n",
       "      <td>156</td>\n",
       "      <td>1</td>\n",
       "      <td>1.0</td>\n",
       "      <td>1</td>\n",
       "      <td>0</td>\n",
       "      <td>0</td>\n",
       "      <td>0</td>\n",
       "    </tr>\n",
       "    <tr>\n",
       "      <th>15</th>\n",
       "      <td>34</td>\n",
       "      <td>0</td>\n",
       "      <td>1</td>\n",
       "      <td>118</td>\n",
       "      <td>210</td>\n",
       "      <td>0</td>\n",
       "      <td>1</td>\n",
       "      <td>192</td>\n",
       "      <td>0</td>\n",
       "      <td>0.7</td>\n",
       "      <td>2</td>\n",
       "      <td>0</td>\n",
       "      <td>2</td>\n",
       "      <td>1</td>\n",
       "    </tr>\n",
       "    <tr>\n",
       "      <th>16</th>\n",
       "      <td>51</td>\n",
       "      <td>0</td>\n",
       "      <td>2</td>\n",
       "      <td>140</td>\n",
       "      <td>308</td>\n",
       "      <td>0</td>\n",
       "      <td>0</td>\n",
       "      <td>142</td>\n",
       "      <td>0</td>\n",
       "      <td>1.5</td>\n",
       "      <td>2</td>\n",
       "      <td>1</td>\n",
       "      <td>2</td>\n",
       "      <td>1</td>\n",
       "    </tr>\n",
       "    <tr>\n",
       "      <th>17</th>\n",
       "      <td>54</td>\n",
       "      <td>1</td>\n",
       "      <td>0</td>\n",
       "      <td>124</td>\n",
       "      <td>266</td>\n",
       "      <td>0</td>\n",
       "      <td>0</td>\n",
       "      <td>109</td>\n",
       "      <td>1</td>\n",
       "      <td>2.2</td>\n",
       "      <td>1</td>\n",
       "      <td>1</td>\n",
       "      <td>3</td>\n",
       "      <td>0</td>\n",
       "    </tr>\n",
       "    <tr>\n",
       "      <th>18</th>\n",
       "      <td>50</td>\n",
       "      <td>0</td>\n",
       "      <td>1</td>\n",
       "      <td>120</td>\n",
       "      <td>244</td>\n",
       "      <td>0</td>\n",
       "      <td>1</td>\n",
       "      <td>162</td>\n",
       "      <td>0</td>\n",
       "      <td>1.1</td>\n",
       "      <td>2</td>\n",
       "      <td>0</td>\n",
       "      <td>2</td>\n",
       "      <td>1</td>\n",
       "    </tr>\n",
       "    <tr>\n",
       "      <th>19</th>\n",
       "      <td>58</td>\n",
       "      <td>1</td>\n",
       "      <td>2</td>\n",
       "      <td>140</td>\n",
       "      <td>211</td>\n",
       "      <td>1</td>\n",
       "      <td>0</td>\n",
       "      <td>165</td>\n",
       "      <td>0</td>\n",
       "      <td>0.0</td>\n",
       "      <td>2</td>\n",
       "      <td>0</td>\n",
       "      <td>2</td>\n",
       "      <td>1</td>\n",
       "    </tr>\n",
       "  </tbody>\n",
       "</table>\n",
       "</div>"
      ],
      "text/plain": [
       "    age  sex  cp  trestbps  chol  fbs  restecg  thalach  exang  oldpeak  \\\n",
       "0    52    1   0       125   212    0        1      168      0      1.0   \n",
       "1    53    1   0       140   203    1        0      155      1      3.1   \n",
       "2    70    1   0       145   174    0        1      125      1      2.6   \n",
       "3    61    1   0       148   203    0        1      161      0      0.0   \n",
       "4    62    0   0       138   294    1        1      106      0      1.9   \n",
       "5    58    0   0       100   248    0        0      122      0      1.0   \n",
       "6    58    1   0       114   318    0        2      140      0      4.4   \n",
       "7    55    1   0       160   289    0        0      145      1      0.8   \n",
       "8    46    1   0       120   249    0        0      144      0      0.8   \n",
       "9    54    1   0       122   286    0        0      116      1      3.2   \n",
       "10   71    0   0       112   149    0        1      125      0      1.6   \n",
       "11   43    0   0       132   341    1        0      136      1      3.0   \n",
       "12   34    0   1       118   210    0        1      192      0      0.7   \n",
       "13   51    1   0       140   298    0        1      122      1      4.2   \n",
       "14   52    1   0       128   204    1        1      156      1      1.0   \n",
       "15   34    0   1       118   210    0        1      192      0      0.7   \n",
       "16   51    0   2       140   308    0        0      142      0      1.5   \n",
       "17   54    1   0       124   266    0        0      109      1      2.2   \n",
       "18   50    0   1       120   244    0        1      162      0      1.1   \n",
       "19   58    1   2       140   211    1        0      165      0      0.0   \n",
       "\n",
       "    slope  ca  thal  target  \n",
       "0       2   2     3       0  \n",
       "1       0   0     3       0  \n",
       "2       0   0     3       0  \n",
       "3       2   1     3       0  \n",
       "4       1   3     2       0  \n",
       "5       1   0     2       1  \n",
       "6       0   3     1       0  \n",
       "7       1   1     3       0  \n",
       "8       2   0     3       0  \n",
       "9       1   2     2       0  \n",
       "10      1   0     2       1  \n",
       "11      1   0     3       0  \n",
       "12      2   0     2       1  \n",
       "13      1   3     3       0  \n",
       "14      1   0     0       0  \n",
       "15      2   0     2       1  \n",
       "16      2   1     2       1  \n",
       "17      1   1     3       0  \n",
       "18      2   0     2       1  \n",
       "19      2   0     2       1  "
      ]
     },
     "execution_count": 3,
     "metadata": {},
     "output_type": "execute_result"
    }
   ],
   "source": [
    "heart_df = pd.read_csv('/kaggle/input/heart-disease-dataset/heart.csv')\n",
    "heart_df.head(20)"
   ]
  },
  {
   "cell_type": "code",
   "execution_count": 4,
   "id": "180c59b5",
   "metadata": {
    "execution": {
     "iopub.execute_input": "2023-09-10T12:52:24.989622Z",
     "iopub.status.busy": "2023-09-10T12:52:24.988832Z",
     "iopub.status.idle": "2023-09-10T12:52:24.997828Z",
     "shell.execute_reply": "2023-09-10T12:52:24.996560Z"
    },
    "papermill": {
     "duration": 0.026593,
     "end_time": "2023-09-10T12:52:25.000178",
     "exception": false,
     "start_time": "2023-09-10T12:52:24.973585",
     "status": "completed"
    },
    "tags": []
   },
   "outputs": [
    {
     "data": {
      "text/plain": [
       "(1025, 14)"
      ]
     },
     "execution_count": 4,
     "metadata": {},
     "output_type": "execute_result"
    }
   ],
   "source": [
    "heart_df.shape"
   ]
  },
  {
   "cell_type": "code",
   "execution_count": 5,
   "id": "4d6a700a",
   "metadata": {
    "execution": {
     "iopub.execute_input": "2023-09-10T12:52:25.030978Z",
     "iopub.status.busy": "2023-09-10T12:52:25.029953Z",
     "iopub.status.idle": "2023-09-10T12:52:25.059336Z",
     "shell.execute_reply": "2023-09-10T12:52:25.057875Z"
    },
    "papermill": {
     "duration": 0.047501,
     "end_time": "2023-09-10T12:52:25.061905",
     "exception": false,
     "start_time": "2023-09-10T12:52:25.014404",
     "status": "completed"
    },
    "tags": []
   },
   "outputs": [
    {
     "name": "stdout",
     "output_type": "stream",
     "text": [
      "<class 'pandas.core.frame.DataFrame'>\n",
      "RangeIndex: 1025 entries, 0 to 1024\n",
      "Data columns (total 14 columns):\n",
      " #   Column    Non-Null Count  Dtype  \n",
      "---  ------    --------------  -----  \n",
      " 0   age       1025 non-null   int64  \n",
      " 1   sex       1025 non-null   int64  \n",
      " 2   cp        1025 non-null   int64  \n",
      " 3   trestbps  1025 non-null   int64  \n",
      " 4   chol      1025 non-null   int64  \n",
      " 5   fbs       1025 non-null   int64  \n",
      " 6   restecg   1025 non-null   int64  \n",
      " 7   thalach   1025 non-null   int64  \n",
      " 8   exang     1025 non-null   int64  \n",
      " 9   oldpeak   1025 non-null   float64\n",
      " 10  slope     1025 non-null   int64  \n",
      " 11  ca        1025 non-null   int64  \n",
      " 12  thal      1025 non-null   int64  \n",
      " 13  target    1025 non-null   int64  \n",
      "dtypes: float64(1), int64(13)\n",
      "memory usage: 112.2 KB\n"
     ]
    }
   ],
   "source": [
    "heart_df.info()"
   ]
  },
  {
   "cell_type": "code",
   "execution_count": 6,
   "id": "237d2cc3",
   "metadata": {
    "execution": {
     "iopub.execute_input": "2023-09-10T12:52:25.092940Z",
     "iopub.status.busy": "2023-09-10T12:52:25.091966Z",
     "iopub.status.idle": "2023-09-10T12:52:25.102486Z",
     "shell.execute_reply": "2023-09-10T12:52:25.101294Z"
    },
    "papermill": {
     "duration": 0.028827,
     "end_time": "2023-09-10T12:52:25.105115",
     "exception": false,
     "start_time": "2023-09-10T12:52:25.076288",
     "status": "completed"
    },
    "tags": []
   },
   "outputs": [
    {
     "data": {
      "text/plain": [
       "age         0\n",
       "sex         0\n",
       "cp          0\n",
       "trestbps    0\n",
       "chol        0\n",
       "fbs         0\n",
       "restecg     0\n",
       "thalach     0\n",
       "exang       0\n",
       "oldpeak     0\n",
       "slope       0\n",
       "ca          0\n",
       "thal        0\n",
       "target      0\n",
       "dtype: int64"
      ]
     },
     "execution_count": 6,
     "metadata": {},
     "output_type": "execute_result"
    }
   ],
   "source": [
    "# Check for missing values\n",
    "heart_df.isnull().sum()"
   ]
  },
  {
   "cell_type": "code",
   "execution_count": 7,
   "id": "a20d3adf",
   "metadata": {
    "execution": {
     "iopub.execute_input": "2023-09-10T12:52:25.137234Z",
     "iopub.status.busy": "2023-09-10T12:52:25.136789Z",
     "iopub.status.idle": "2023-09-10T12:52:25.195457Z",
     "shell.execute_reply": "2023-09-10T12:52:25.194254Z"
    },
    "papermill": {
     "duration": 0.078166,
     "end_time": "2023-09-10T12:52:25.198159",
     "exception": false,
     "start_time": "2023-09-10T12:52:25.119993",
     "status": "completed"
    },
    "tags": []
   },
   "outputs": [
    {
     "data": {
      "text/html": [
       "<div>\n",
       "<style scoped>\n",
       "    .dataframe tbody tr th:only-of-type {\n",
       "        vertical-align: middle;\n",
       "    }\n",
       "\n",
       "    .dataframe tbody tr th {\n",
       "        vertical-align: top;\n",
       "    }\n",
       "\n",
       "    .dataframe thead th {\n",
       "        text-align: right;\n",
       "    }\n",
       "</style>\n",
       "<table border=\"1\" class=\"dataframe\">\n",
       "  <thead>\n",
       "    <tr style=\"text-align: right;\">\n",
       "      <th></th>\n",
       "      <th>age</th>\n",
       "      <th>sex</th>\n",
       "      <th>cp</th>\n",
       "      <th>trestbps</th>\n",
       "      <th>chol</th>\n",
       "      <th>fbs</th>\n",
       "      <th>restecg</th>\n",
       "      <th>thalach</th>\n",
       "      <th>exang</th>\n",
       "      <th>oldpeak</th>\n",
       "      <th>slope</th>\n",
       "      <th>ca</th>\n",
       "      <th>thal</th>\n",
       "      <th>target</th>\n",
       "    </tr>\n",
       "  </thead>\n",
       "  <tbody>\n",
       "    <tr>\n",
       "      <th>count</th>\n",
       "      <td>1025.000000</td>\n",
       "      <td>1025.000000</td>\n",
       "      <td>1025.000000</td>\n",
       "      <td>1025.000000</td>\n",
       "      <td>1025.00000</td>\n",
       "      <td>1025.000000</td>\n",
       "      <td>1025.000000</td>\n",
       "      <td>1025.000000</td>\n",
       "      <td>1025.000000</td>\n",
       "      <td>1025.000000</td>\n",
       "      <td>1025.000000</td>\n",
       "      <td>1025.000000</td>\n",
       "      <td>1025.000000</td>\n",
       "      <td>1025.000000</td>\n",
       "    </tr>\n",
       "    <tr>\n",
       "      <th>mean</th>\n",
       "      <td>54.434146</td>\n",
       "      <td>0.695610</td>\n",
       "      <td>0.942439</td>\n",
       "      <td>131.611707</td>\n",
       "      <td>246.00000</td>\n",
       "      <td>0.149268</td>\n",
       "      <td>0.529756</td>\n",
       "      <td>149.114146</td>\n",
       "      <td>0.336585</td>\n",
       "      <td>1.071512</td>\n",
       "      <td>1.385366</td>\n",
       "      <td>0.754146</td>\n",
       "      <td>2.323902</td>\n",
       "      <td>0.513171</td>\n",
       "    </tr>\n",
       "    <tr>\n",
       "      <th>std</th>\n",
       "      <td>9.072290</td>\n",
       "      <td>0.460373</td>\n",
       "      <td>1.029641</td>\n",
       "      <td>17.516718</td>\n",
       "      <td>51.59251</td>\n",
       "      <td>0.356527</td>\n",
       "      <td>0.527878</td>\n",
       "      <td>23.005724</td>\n",
       "      <td>0.472772</td>\n",
       "      <td>1.175053</td>\n",
       "      <td>0.617755</td>\n",
       "      <td>1.030798</td>\n",
       "      <td>0.620660</td>\n",
       "      <td>0.500070</td>\n",
       "    </tr>\n",
       "    <tr>\n",
       "      <th>min</th>\n",
       "      <td>29.000000</td>\n",
       "      <td>0.000000</td>\n",
       "      <td>0.000000</td>\n",
       "      <td>94.000000</td>\n",
       "      <td>126.00000</td>\n",
       "      <td>0.000000</td>\n",
       "      <td>0.000000</td>\n",
       "      <td>71.000000</td>\n",
       "      <td>0.000000</td>\n",
       "      <td>0.000000</td>\n",
       "      <td>0.000000</td>\n",
       "      <td>0.000000</td>\n",
       "      <td>0.000000</td>\n",
       "      <td>0.000000</td>\n",
       "    </tr>\n",
       "    <tr>\n",
       "      <th>25%</th>\n",
       "      <td>48.000000</td>\n",
       "      <td>0.000000</td>\n",
       "      <td>0.000000</td>\n",
       "      <td>120.000000</td>\n",
       "      <td>211.00000</td>\n",
       "      <td>0.000000</td>\n",
       "      <td>0.000000</td>\n",
       "      <td>132.000000</td>\n",
       "      <td>0.000000</td>\n",
       "      <td>0.000000</td>\n",
       "      <td>1.000000</td>\n",
       "      <td>0.000000</td>\n",
       "      <td>2.000000</td>\n",
       "      <td>0.000000</td>\n",
       "    </tr>\n",
       "    <tr>\n",
       "      <th>50%</th>\n",
       "      <td>56.000000</td>\n",
       "      <td>1.000000</td>\n",
       "      <td>1.000000</td>\n",
       "      <td>130.000000</td>\n",
       "      <td>240.00000</td>\n",
       "      <td>0.000000</td>\n",
       "      <td>1.000000</td>\n",
       "      <td>152.000000</td>\n",
       "      <td>0.000000</td>\n",
       "      <td>0.800000</td>\n",
       "      <td>1.000000</td>\n",
       "      <td>0.000000</td>\n",
       "      <td>2.000000</td>\n",
       "      <td>1.000000</td>\n",
       "    </tr>\n",
       "    <tr>\n",
       "      <th>75%</th>\n",
       "      <td>61.000000</td>\n",
       "      <td>1.000000</td>\n",
       "      <td>2.000000</td>\n",
       "      <td>140.000000</td>\n",
       "      <td>275.00000</td>\n",
       "      <td>0.000000</td>\n",
       "      <td>1.000000</td>\n",
       "      <td>166.000000</td>\n",
       "      <td>1.000000</td>\n",
       "      <td>1.800000</td>\n",
       "      <td>2.000000</td>\n",
       "      <td>1.000000</td>\n",
       "      <td>3.000000</td>\n",
       "      <td>1.000000</td>\n",
       "    </tr>\n",
       "    <tr>\n",
       "      <th>max</th>\n",
       "      <td>77.000000</td>\n",
       "      <td>1.000000</td>\n",
       "      <td>3.000000</td>\n",
       "      <td>200.000000</td>\n",
       "      <td>564.00000</td>\n",
       "      <td>1.000000</td>\n",
       "      <td>2.000000</td>\n",
       "      <td>202.000000</td>\n",
       "      <td>1.000000</td>\n",
       "      <td>6.200000</td>\n",
       "      <td>2.000000</td>\n",
       "      <td>4.000000</td>\n",
       "      <td>3.000000</td>\n",
       "      <td>1.000000</td>\n",
       "    </tr>\n",
       "  </tbody>\n",
       "</table>\n",
       "</div>"
      ],
      "text/plain": [
       "               age          sex           cp     trestbps        chol  \\\n",
       "count  1025.000000  1025.000000  1025.000000  1025.000000  1025.00000   \n",
       "mean     54.434146     0.695610     0.942439   131.611707   246.00000   \n",
       "std       9.072290     0.460373     1.029641    17.516718    51.59251   \n",
       "min      29.000000     0.000000     0.000000    94.000000   126.00000   \n",
       "25%      48.000000     0.000000     0.000000   120.000000   211.00000   \n",
       "50%      56.000000     1.000000     1.000000   130.000000   240.00000   \n",
       "75%      61.000000     1.000000     2.000000   140.000000   275.00000   \n",
       "max      77.000000     1.000000     3.000000   200.000000   564.00000   \n",
       "\n",
       "               fbs      restecg      thalach        exang      oldpeak  \\\n",
       "count  1025.000000  1025.000000  1025.000000  1025.000000  1025.000000   \n",
       "mean      0.149268     0.529756   149.114146     0.336585     1.071512   \n",
       "std       0.356527     0.527878    23.005724     0.472772     1.175053   \n",
       "min       0.000000     0.000000    71.000000     0.000000     0.000000   \n",
       "25%       0.000000     0.000000   132.000000     0.000000     0.000000   \n",
       "50%       0.000000     1.000000   152.000000     0.000000     0.800000   \n",
       "75%       0.000000     1.000000   166.000000     1.000000     1.800000   \n",
       "max       1.000000     2.000000   202.000000     1.000000     6.200000   \n",
       "\n",
       "             slope           ca         thal       target  \n",
       "count  1025.000000  1025.000000  1025.000000  1025.000000  \n",
       "mean      1.385366     0.754146     2.323902     0.513171  \n",
       "std       0.617755     1.030798     0.620660     0.500070  \n",
       "min       0.000000     0.000000     0.000000     0.000000  \n",
       "25%       1.000000     0.000000     2.000000     0.000000  \n",
       "50%       1.000000     0.000000     2.000000     1.000000  \n",
       "75%       2.000000     1.000000     3.000000     1.000000  \n",
       "max       2.000000     4.000000     3.000000     1.000000  "
      ]
     },
     "execution_count": 7,
     "metadata": {},
     "output_type": "execute_result"
    }
   ],
   "source": [
    "# Statistical measures\n",
    "heart_df.describe()"
   ]
  },
  {
   "cell_type": "code",
   "execution_count": 8,
   "id": "d259d647",
   "metadata": {
    "execution": {
     "iopub.execute_input": "2023-09-10T12:52:25.230313Z",
     "iopub.status.busy": "2023-09-10T12:52:25.229890Z",
     "iopub.status.idle": "2023-09-10T12:52:25.239924Z",
     "shell.execute_reply": "2023-09-10T12:52:25.238645Z"
    },
    "papermill": {
     "duration": 0.028972,
     "end_time": "2023-09-10T12:52:25.242459",
     "exception": false,
     "start_time": "2023-09-10T12:52:25.213487",
     "status": "completed"
    },
    "tags": []
   },
   "outputs": [
    {
     "data": {
      "text/plain": [
       "target\n",
       "1    526\n",
       "0    499\n",
       "Name: count, dtype: int64"
      ]
     },
     "execution_count": 8,
     "metadata": {},
     "output_type": "execute_result"
    }
   ],
   "source": [
    "# Check for the distribution of the Target Variable\n",
    "heart_df['target'].value_counts()"
   ]
  },
  {
   "cell_type": "code",
   "execution_count": 9,
   "id": "5328c208",
   "metadata": {
    "execution": {
     "iopub.execute_input": "2023-09-10T12:52:25.274725Z",
     "iopub.status.busy": "2023-09-10T12:52:25.274312Z",
     "iopub.status.idle": "2023-09-10T12:52:25.282228Z",
     "shell.execute_reply": "2023-09-10T12:52:25.280876Z"
    },
    "papermill": {
     "duration": 0.027008,
     "end_time": "2023-09-10T12:52:25.284646",
     "exception": false,
     "start_time": "2023-09-10T12:52:25.257638",
     "status": "completed"
    },
    "tags": []
   },
   "outputs": [
    {
     "data": {
      "text/plain": [
       "Index(['age', 'sex', 'cp', 'trestbps', 'chol', 'fbs', 'restecg', 'thalach',\n",
       "       'exang', 'oldpeak', 'slope', 'ca', 'thal', 'target'],\n",
       "      dtype='object')"
      ]
     },
     "execution_count": 9,
     "metadata": {},
     "output_type": "execute_result"
    }
   ],
   "source": [
    "heart_df.columns"
   ]
  },
  {
   "cell_type": "markdown",
   "id": "a5443565",
   "metadata": {
    "papermill": {
     "duration": 0.01485,
     "end_time": "2023-09-10T12:52:25.314910",
     "exception": false,
     "start_time": "2023-09-10T12:52:25.300060",
     "status": "completed"
    },
    "tags": []
   },
   "source": [
    "# Visualization"
   ]
  },
  {
   "cell_type": "code",
   "execution_count": 10,
   "id": "b9ca4fa5",
   "metadata": {
    "execution": {
     "iopub.execute_input": "2023-09-10T12:52:25.348022Z",
     "iopub.status.busy": "2023-09-10T12:52:25.347537Z",
     "iopub.status.idle": "2023-09-10T12:52:27.314066Z",
     "shell.execute_reply": "2023-09-10T12:52:27.312720Z"
    },
    "papermill": {
     "duration": 1.987223,
     "end_time": "2023-09-10T12:52:27.317337",
     "exception": false,
     "start_time": "2023-09-10T12:52:25.330114",
     "status": "completed"
    },
    "tags": []
   },
   "outputs": [
    {
     "data": {
      "image/png": "[encoded data removed]",
      "text/plain": [
       "<Figure size 800x600 with 6 Axes>"
      ]
     },
     "metadata": {},
     "output_type": "display_data"
    }
   ],
   "source": [
    "sns.set_style('whitegrid')\n",
    "\n",
    "plt.figure(figsize=(8, 6))\n",
    "\n",
    "features = ['trestbps', 'chol', 'thalach']\n",
    "\n",
    "#Create subplots for each numerical column\n",
    "for i, feature in enumerate(features, 1):\n",
    "    plt.subplot(2, 3, i)\n",
    "    sns.histplot(heart_df[feature], bins=30, kde=True)\n",
    "    plt.title(f'Distribution of {feature}')\n",
    "    plt.xlabel(feature)\n",
    "    plt.ylabel('Frequency')\n",
    "    \n",
    "#Create boxplots to check for outliers\n",
    "for i, feature in enumerate(features, i):\n",
    "    plt.subplot(2,3, i+1)\n",
    "    sns.boxplot(y=heart_df[feature])\n",
    "    plt.title(f'Boxplot of {feature}')\n",
    "    \n",
    "plt.tight_layout()\n",
    "plt.show()"
   ]
  },
  {
   "cell_type": "markdown",
   "id": "3f33c823",
   "metadata": {
    "papermill": {
     "duration": 0.01879,
     "end_time": "2023-09-10T12:52:27.352648",
     "exception": false,
     "start_time": "2023-09-10T12:52:27.333858",
     "status": "completed"
    },
    "tags": []
   },
   "source": [
    "As we can see here, we have outliers. We will be back here later for the outliers if our model is not doing good."
   ]
  },
  {
   "cell_type": "code",
   "execution_count": 11,
   "id": "43fa593a",
   "metadata": {
    "execution": {
     "iopub.execute_input": "2023-09-10T12:52:27.387481Z",
     "iopub.status.busy": "2023-09-10T12:52:27.387066Z",
     "iopub.status.idle": "2023-09-10T12:52:27.397057Z",
     "shell.execute_reply": "2023-09-10T12:52:27.395873Z"
    },
    "papermill": {
     "duration": 0.030355,
     "end_time": "2023-09-10T12:52:27.399582",
     "exception": false,
     "start_time": "2023-09-10T12:52:27.369227",
     "status": "completed"
    },
    "tags": []
   },
   "outputs": [
    {
     "data": {
      "text/plain": [
       "sex\n",
       "1    713\n",
       "0    312\n",
       "Name: count, dtype: int64"
      ]
     },
     "execution_count": 11,
     "metadata": {},
     "output_type": "execute_result"
    }
   ],
   "source": [
    "heart_df['sex'].value_counts()"
   ]
  },
  {
   "cell_type": "markdown",
   "id": "5e315be5",
   "metadata": {
    "papermill": {
     "duration": 0.016179,
     "end_time": "2023-09-10T12:52:27.432650",
     "exception": false,
     "start_time": "2023-09-10T12:52:27.416471",
     "status": "completed"
    },
    "tags": []
   },
   "source": [
    "Plot the data to check who has more likely in `Male` and `Female` to have a Heart Disease with respect to their `Age`.  "
   ]
  },
  {
   "cell_type": "code",
   "execution_count": 12,
   "id": "8da92346",
   "metadata": {
    "execution": {
     "iopub.execute_input": "2023-09-10T12:52:27.467700Z",
     "iopub.status.busy": "2023-09-10T12:52:27.467304Z",
     "iopub.status.idle": "2023-09-10T12:52:28.409647Z",
     "shell.execute_reply": "2023-09-10T12:52:28.408266Z"
    },
    "papermill": {
     "duration": 0.963767,
     "end_time": "2023-09-10T12:52:28.412994",
     "exception": false,
     "start_time": "2023-09-10T12:52:27.449227",
     "status": "completed"
    },
    "tags": []
   },
   "outputs": [
    {
     "data": {
      "image/png": "[encoded data removed]",
      "text/plain": [
       "<Figure size 800x600 with 2 Axes>"
      ]
     },
     "metadata": {},
     "output_type": "display_data"
    }
   ],
   "source": [
    "sns.set_style('whitegrid')\n",
    "\n",
    "fig, axes = plt.subplots(2, 1, figsize=(8, 6))\n",
    "\n",
    "# Make a copy of the dataframe heart_df so that I can map the value of 'sex' column to \n",
    "# 'Male' and 'Female' for visualization process only\n",
    "heart_df_copy = pd.DataFrame(heart_df).copy()\n",
    "\n",
    "heart_df_copy['sex'] = heart_df_copy['sex'].map({1: 'Male', 0: 'Female'})\n",
    "\n",
    "sns.barplot(x='target', y='age', hue='sex', data=heart_df_copy, palette='Set1', ax=axes[0])\n",
    "axes[0].set_title('Distribution of Male and Female with Heart Disease (1) with respect to their Age')\n",
    "axes[0].set_xlabel('No Heart Disease(0) & Heart Disease (1)')\n",
    "axes[0].set_ylabel('Age')\n",
    "axes[0].legend(title='Sex')\n",
    "\n",
    "sns.scatterplot(x='target', y='age', hue='sex', data=heart_df_copy, palette='Set1', ax=axes[1])\n",
    "axes[1].set_title('Distribution of Male and Female with Heart Disease (1) with respect to their Age')\n",
    "axes[1].set_xlabel('No Heart Disease(0) & Heart Disease (1)')\n",
    "axes[1].set_ylabel('Age')\n",
    "axes[1].legend(title='Sex')\n",
    "\n",
    "plt.subplots_adjust(top=1.5)\n",
    "\n",
    "\n",
    "plt.show()"
   ]
  },
  {
   "cell_type": "markdown",
   "id": "2e917112",
   "metadata": {
    "papermill": {
     "duration": 0.0172,
     "end_time": "2023-09-10T12:52:28.447794",
     "exception": false,
     "start_time": "2023-09-10T12:52:28.430594",
     "status": "completed"
    },
    "tags": []
   },
   "source": [
    "## Observations:\n",
    "\n",
    "I have uses both the barplot and scatterplot for visualization:\n",
    "\n",
    "   * Barplot for a more visualization to recognize the `Male` and `Female`.\n",
    "   * Scatterplot in order to recognize what `Age` most likely the `Heart Disease` occur.\n",
    "   \n",
    "        1. We can see here that most `Female` has the highest rating of having a `heart disease` than `Male`.\n",
    "        2. We can also see that in the age of `29`, `Heart Disease` can already occur."
   ]
  },
  {
   "cell_type": "markdown",
   "id": "4235e081",
   "metadata": {
    "papermill": {
     "duration": 0.017215,
     "end_time": "2023-09-10T12:52:28.482678",
     "exception": false,
     "start_time": "2023-09-10T12:52:28.465463",
     "status": "completed"
    },
    "tags": []
   },
   "source": [
    "# Model Building"
   ]
  },
  {
   "cell_type": "code",
   "execution_count": 13,
   "id": "cadbf45d",
   "metadata": {
    "execution": {
     "iopub.execute_input": "2023-09-10T12:52:28.519259Z",
     "iopub.status.busy": "2023-09-10T12:52:28.518860Z",
     "iopub.status.idle": "2023-09-10T12:52:28.525523Z",
     "shell.execute_reply": "2023-09-10T12:52:28.524299Z"
    },
    "papermill": {
     "duration": 0.027669,
     "end_time": "2023-09-10T12:52:28.527785",
     "exception": false,
     "start_time": "2023-09-10T12:52:28.500116",
     "status": "completed"
    },
    "tags": []
   },
   "outputs": [],
   "source": [
    "X = heart_df.drop(['target', 'age', 'sex'], axis=1)\n",
    "y = heart_df.target"
   ]
  },
  {
   "cell_type": "code",
   "execution_count": 14,
   "id": "af9269b5",
   "metadata": {
    "execution": {
     "iopub.execute_input": "2023-09-10T12:52:28.565063Z",
     "iopub.status.busy": "2023-09-10T12:52:28.564051Z",
     "iopub.status.idle": "2023-09-10T12:52:28.573028Z",
     "shell.execute_reply": "2023-09-10T12:52:28.571899Z"
    },
    "papermill": {
     "duration": 0.030365,
     "end_time": "2023-09-10T12:52:28.575740",
     "exception": false,
     "start_time": "2023-09-10T12:52:28.545375",
     "status": "completed"
    },
    "tags": []
   },
   "outputs": [],
   "source": [
    "# Split data into train_test_split\n",
    "X_train, X_test, y_train, y_test = train_test_split(X, y, test_size=0.2, stratify=y, random_state=1)"
   ]
  },
  {
   "cell_type": "code",
   "execution_count": 15,
   "id": "06b79346",
   "metadata": {
    "execution": {
     "iopub.execute_input": "2023-09-10T12:52:28.613518Z",
     "iopub.status.busy": "2023-09-10T12:52:28.612334Z",
     "iopub.status.idle": "2023-09-10T12:52:28.619273Z",
     "shell.execute_reply": "2023-09-10T12:52:28.617890Z"
    },
    "papermill": {
     "duration": 0.028304,
     "end_time": "2023-09-10T12:52:28.621896",
     "exception": false,
     "start_time": "2023-09-10T12:52:28.593592",
     "status": "completed"
    },
    "tags": []
   },
   "outputs": [
    {
     "name": "stdout",
     "output_type": "stream",
     "text": [
      "(820, 11)\n",
      "(205, 11)\n"
     ]
    }
   ],
   "source": [
    "print(X_train.shape)\n",
    "print(X_test.shape)"
   ]
  },
  {
   "cell_type": "code",
   "execution_count": 16,
   "id": "e12e3945",
   "metadata": {
    "execution": {
     "iopub.execute_input": "2023-09-10T12:52:28.722788Z",
     "iopub.status.busy": "2023-09-10T12:52:28.722376Z",
     "iopub.status.idle": "2023-09-10T12:52:28.728277Z",
     "shell.execute_reply": "2023-09-10T12:52:28.727133Z"
    },
    "papermill": {
     "duration": 0.02844,
     "end_time": "2023-09-10T12:52:28.731531",
     "exception": false,
     "start_time": "2023-09-10T12:52:28.703091",
     "status": "completed"
    },
    "tags": []
   },
   "outputs": [
    {
     "name": "stdout",
     "output_type": "stream",
     "text": [
      "(820,)\n",
      "(205,)\n"
     ]
    }
   ],
   "source": [
    "print(y_train.shape)\n",
    "print(y_test.shape)"
   ]
  },
  {
   "cell_type": "markdown",
   "id": "334dbfa8",
   "metadata": {
    "papermill": {
     "duration": 0.018547,
     "end_time": "2023-09-10T12:52:28.768908",
     "exception": false,
     "start_time": "2023-09-10T12:52:28.750361",
     "status": "completed"
    },
    "tags": []
   },
   "source": [
    "# Model Training"
   ]
  },
  {
   "cell_type": "code",
   "execution_count": 17,
   "id": "9c5786b3",
   "metadata": {
    "execution": {
     "iopub.execute_input": "2023-09-10T12:52:28.807700Z",
     "iopub.status.busy": "2023-09-10T12:52:28.807290Z",
     "iopub.status.idle": "2023-09-10T12:52:28.826796Z",
     "shell.execute_reply": "2023-09-10T12:52:28.825891Z"
    },
    "papermill": {
     "duration": 0.041675,
     "end_time": "2023-09-10T12:52:28.829213",
     "exception": false,
     "start_time": "2023-09-10T12:52:28.787538",
     "status": "completed"
    },
    "tags": []
   },
   "outputs": [
    {
     "data": {
      "text/html": [
       "<style>#sk-container-id-1 {color: black;background-color: white;}#sk-container-id-1 pre{padding: 0;}#sk-container-id-1 div.sk-toggleable {background-color: white;}#sk-container-id-1 label.sk-toggleable__label {cursor: pointer;display: block;width: 100%;margin-bottom: 0;padding: 0.3em;box-sizing: border-box;text-align: center;}#sk-container-id-1 label.sk-toggleable__label-arrow:before {content: \"▸\";float: left;margin-right: 0.25em;color: #696969;}#sk-container-id-1 label.sk-toggleable__label-arrow:hover:before {color: black;}#sk-container-id-1 div.sk-estimator:hover label.sk-toggleable__label-arrow:before {color: black;}#sk-container-id-1 div.sk-toggleable__content {max-height: 0;max-width: 0;overflow: hidden;text-align: left;background-color: #f0f8ff;}#sk-container-id-1 div.sk-toggleable__content pre {margin: 0.2em;color: black;border-radius: 0.25em;background-color: #f0f8ff;}#sk-container-id-1 input.sk-toggleable__control:checked~div.sk-toggleable__content {max-height: 200px;max-width: 100%;overflow: auto;}#sk-container-id-1 input.sk-toggleable__control:checked~label.sk-toggleable__label-arrow:before {content: \"▾\";}#sk-container-id-1 div.sk-estimator input.sk-toggleable__control:checked~label.sk-toggleable__label {background-color: #d4ebff;}#sk-container-id-1 div.sk-label input.sk-toggleable__control:checked~label.sk-toggleable__label {background-color: #d4ebff;}#sk-container-id-1 input.sk-hidden--visually {border: 0;clip: rect(1px 1px 1px 1px);clip: rect(1px, 1px, 1px, 1px);height: 1px;margin: -1px;overflow: hidden;padding: 0;position: absolute;width: 1px;}#sk-container-id-1 div.sk-estimator {font-family: monospace;background-color: #f0f8ff;border: 1px dotted black;border-radius: 0.25em;box-sizing: border-box;margin-bottom: 0.5em;}#sk-container-id-1 div.sk-estimator:hover {background-color: #d4ebff;}#sk-container-id-1 div.sk-parallel-item::after {content: \"\";width: 100%;border-bottom: 1px solid gray;flex-grow: 1;}#sk-container-id-1 div.sk-label:hover label.sk-toggleable__label {background-color: #d4ebff;}#sk-container-id-1 div.sk-serial::before {content: \"\";position: absolute;border-left: 1px solid gray;box-sizing: border-box;top: 0;bottom: 0;left: 50%;z-index: 0;}#sk-container-id-1 div.sk-serial {display: flex;flex-direction: column;align-items: center;background-color: white;padding-right: 0.2em;padding-left: 0.2em;position: relative;}#sk-container-id-1 div.sk-item {position: relative;z-index: 1;}#sk-container-id-1 div.sk-parallel {display: flex;align-items: stretch;justify-content: center;background-color: white;position: relative;}#sk-container-id-1 div.sk-item::before, #sk-container-id-1 div.sk-parallel-item::before {content: \"\";position: absolute;border-left: 1px solid gray;box-sizing: border-box;top: 0;bottom: 0;left: 50%;z-index: -1;}#sk-container-id-1 div.sk-parallel-item {display: flex;flex-direction: column;z-index: 1;position: relative;background-color: white;}#sk-container-id-1 div.sk-parallel-item:first-child::after {align-self: flex-end;width: 50%;}#sk-container-id-1 div.sk-parallel-item:last-child::after {align-self: flex-start;width: 50%;}#sk-container-id-1 div.sk-parallel-item:only-child::after {width: 0;}#sk-container-id-1 div.sk-dashed-wrapped {border: 1px dashed gray;margin: 0 0.4em 0.5em 0.4em;box-sizing: border-box;padding-bottom: 0.4em;background-color: white;}#sk-container-id-1 div.sk-label label {font-family: monospace;font-weight: bold;display: inline-block;line-height: 1.2em;}#sk-container-id-1 div.sk-label-container {text-align: center;}#sk-container-id-1 div.sk-container {/* jupyter's `normalize.less` sets `[hidden] { display: none; }` but bootstrap.min.css set `[hidden] { display: none !important; }` so we also need the `!important` here to be able to override the default hidden behavior on the sphinx rendered scikit-learn.org. See: https://github.com/scikit-learn/scikit-learn/issues/21755 */display: inline-block !important;position: relative;}#sk-container-id-1 div.sk-text-repr-fallback {display: none;}</style><div id=\"sk-container-id-1\" class=\"sk-top-container\"><div class=\"sk-text-repr-fallback\"><pre>DecisionTreeClassifier()</pre><b>In a Jupyter environment, please rerun this cell to show the HTML representation or trust the notebook. <br />On GitHub, the HTML representation is unable to render, please try loading this page with nbviewer.org.</b></div><div class=\"sk-container\" hidden><div class=\"sk-item\"><div class=\"sk-estimator sk-toggleable\"><input class=\"sk-toggleable__control sk-hidden--visually\" id=\"sk-estimator-id-1\" type=\"checkbox\" checked><label for=\"sk-estimator-id-1\" class=\"sk-toggleable__label sk-toggleable__label-arrow\">DecisionTreeClassifier</label><div class=\"sk-toggleable__content\"><pre>DecisionTreeClassifier()</pre></div></div></div></div></div>"
      ],
      "text/plain": [
       "DecisionTreeClassifier()"
      ]
     },
     "execution_count": 17,
     "metadata": {},
     "output_type": "execute_result"
    }
   ],
   "source": [
    "dt_model = DecisionTreeClassifier()\n",
    "dt_model.fit(X_train, y_train)"
   ]
  },
  {
   "cell_type": "markdown",
   "id": "468f91c8",
   "metadata": {
    "papermill": {
     "duration": 0.018314,
     "end_time": "2023-09-10T12:52:28.866598",
     "exception": false,
     "start_time": "2023-09-10T12:52:28.848284",
     "status": "completed"
    },
    "tags": []
   },
   "source": [
    "### Check for Accuracy Score"
   ]
  },
  {
   "cell_type": "code",
   "execution_count": 18,
   "id": "2eb625ca",
   "metadata": {
    "execution": {
     "iopub.execute_input": "2023-09-10T12:52:28.906885Z",
     "iopub.status.busy": "2023-09-10T12:52:28.906412Z",
     "iopub.status.idle": "2023-09-10T12:52:28.916939Z",
     "shell.execute_reply": "2023-09-10T12:52:28.915608Z"
    },
    "papermill": {
     "duration": 0.033594,
     "end_time": "2023-09-10T12:52:28.919325",
     "exception": false,
     "start_time": "2023-09-10T12:52:28.885731",
     "status": "completed"
    },
    "tags": []
   },
   "outputs": [
    {
     "name": "stdout",
     "output_type": "stream",
     "text": [
      "Accuracy for Training set:  1.0\n"
     ]
    }
   ],
   "source": [
    "dt_X_train_pred = dt_model.predict(X_train)\n",
    "dt_train_accuracy = accuracy_score(dt_X_train_pred, y_train)\n",
    "\n",
    "print(\"Accuracy for Training set: \", dt_train_accuracy)"
   ]
  },
  {
   "cell_type": "code",
   "execution_count": 19,
   "id": "19013569",
   "metadata": {
    "execution": {
     "iopub.execute_input": "2023-09-10T12:52:28.959530Z",
     "iopub.status.busy": "2023-09-10T12:52:28.958529Z",
     "iopub.status.idle": "2023-09-10T12:52:28.968149Z",
     "shell.execute_reply": "2023-09-10T12:52:28.966629Z"
    },
    "papermill": {
     "duration": 0.03252,
     "end_time": "2023-09-10T12:52:28.970734",
     "exception": false,
     "start_time": "2023-09-10T12:52:28.938214",
     "status": "completed"
    },
    "tags": []
   },
   "outputs": [
    {
     "name": "stdout",
     "output_type": "stream",
     "text": [
      "Accuracy for Testing set:  1.0\n"
     ]
    }
   ],
   "source": [
    "dt_X_test_pred = dt_model.predict(X_test)\n",
    "dt_test_accuracy = accuracy_score(dt_X_test_pred, y_test)\n",
    "\n",
    "print(\"Accuracy for Testing set: \", dt_test_accuracy)"
   ]
  },
  {
   "cell_type": "markdown",
   "id": "3b64c266",
   "metadata": {
    "papermill": {
     "duration": 0.018552,
     "end_time": "2023-09-10T12:52:29.008015",
     "exception": false,
     "start_time": "2023-09-10T12:52:28.989463",
     "status": "completed"
    },
    "tags": []
   },
   "source": [
    "As we can here, our training data and test data has the accuracy of `1.0`. This maybe have some factors why is it became a `1.0` in the first try.\n",
    "\n",
    "\n",
    "We will use classification report on our `X` and `y` now to check if it has an error."
   ]
  },
  {
   "cell_type": "code",
   "execution_count": 20,
   "id": "9c44dd1f",
   "metadata": {
    "execution": {
     "iopub.execute_input": "2023-09-10T12:52:29.047318Z",
     "iopub.status.busy": "2023-09-10T12:52:29.046920Z",
     "iopub.status.idle": "2023-09-10T12:52:29.065263Z",
     "shell.execute_reply": "2023-09-10T12:52:29.064107Z"
    },
    "papermill": {
     "duration": 0.040853,
     "end_time": "2023-09-10T12:52:29.067528",
     "exception": false,
     "start_time": "2023-09-10T12:52:29.026675",
     "status": "completed"
    },
    "tags": []
   },
   "outputs": [
    {
     "name": "stdout",
     "output_type": "stream",
     "text": [
      "              precision    recall  f1-score   support\n",
      "\n",
      "           0       1.00      1.00      1.00       499\n",
      "           1       1.00      1.00      1.00       526\n",
      "\n",
      "    accuracy                           1.00      1025\n",
      "   macro avg       1.00      1.00      1.00      1025\n",
      "weighted avg       1.00      1.00      1.00      1025\n",
      "\n"
     ]
    }
   ],
   "source": [
    "y_pred = dt_model.predict(X)\n",
    "\n",
    "report = classification_report(y_pred, y)\n",
    "print(report)"
   ]
  },
  {
   "cell_type": "markdown",
   "id": "9941d9a3",
   "metadata": {
    "papermill": {
     "duration": 0.01881,
     "end_time": "2023-09-10T12:52:29.105082",
     "exception": false,
     "start_time": "2023-09-10T12:52:29.086272",
     "status": "completed"
    },
    "tags": []
   },
   "source": [
    "## Observation:\n",
    "   1. Even by using classification report, our `DecisionTreeClassifier` is maybe the best fit model in this dataset.\n",
    "   2. Maybe the dataset is too small.\n",
    "   \n",
    "   \n",
    "   \n",
    "#### Let's proceed by creating a new unseen data and check for our prediction"
   ]
  },
  {
   "cell_type": "code",
   "execution_count": 21,
   "id": "90aaa428",
   "metadata": {
    "execution": {
     "iopub.execute_input": "2023-09-10T12:52:29.145766Z",
     "iopub.status.busy": "2023-09-10T12:52:29.144960Z",
     "iopub.status.idle": "2023-09-10T12:52:29.151584Z",
     "shell.execute_reply": "2023-09-10T12:52:29.150625Z"
    },
    "papermill": {
     "duration": 0.029597,
     "end_time": "2023-09-10T12:52:29.153750",
     "exception": false,
     "start_time": "2023-09-10T12:52:29.124153",
     "status": "completed"
    },
    "tags": []
   },
   "outputs": [
    {
     "data": {
      "text/plain": [
       "Index(['cp', 'trestbps', 'chol', 'fbs', 'restecg', 'thalach', 'exang',\n",
       "       'oldpeak', 'slope', 'ca', 'thal'],\n",
       "      dtype='object')"
      ]
     },
     "execution_count": 21,
     "metadata": {},
     "output_type": "execute_result"
    }
   ],
   "source": [
    "X.columns"
   ]
  },
  {
   "cell_type": "code",
   "execution_count": 22,
   "id": "d242b5db",
   "metadata": {
    "execution": {
     "iopub.execute_input": "2023-09-10T12:52:29.194248Z",
     "iopub.status.busy": "2023-09-10T12:52:29.193759Z",
     "iopub.status.idle": "2023-09-10T12:52:29.215287Z",
     "shell.execute_reply": "2023-09-10T12:52:29.213879Z"
    },
    "papermill": {
     "duration": 0.045081,
     "end_time": "2023-09-10T12:52:29.218052",
     "exception": false,
     "start_time": "2023-09-10T12:52:29.172971",
     "status": "completed"
    },
    "tags": []
   },
   "outputs": [
    {
     "data": {
      "text/html": [
       "<div>\n",
       "<style scoped>\n",
       "    .dataframe tbody tr th:only-of-type {\n",
       "        vertical-align: middle;\n",
       "    }\n",
       "\n",
       "    .dataframe tbody tr th {\n",
       "        vertical-align: top;\n",
       "    }\n",
       "\n",
       "    .dataframe thead th {\n",
       "        text-align: right;\n",
       "    }\n",
       "</style>\n",
       "<table border=\"1\" class=\"dataframe\">\n",
       "  <thead>\n",
       "    <tr style=\"text-align: right;\">\n",
       "      <th></th>\n",
       "      <th>cp</th>\n",
       "      <th>trestbps</th>\n",
       "      <th>chol</th>\n",
       "      <th>fbs</th>\n",
       "      <th>restecg</th>\n",
       "      <th>thalach</th>\n",
       "      <th>exang</th>\n",
       "      <th>oldpeak</th>\n",
       "      <th>slope</th>\n",
       "      <th>ca</th>\n",
       "      <th>thal</th>\n",
       "    </tr>\n",
       "  </thead>\n",
       "  <tbody>\n",
       "    <tr>\n",
       "      <th>0</th>\n",
       "      <td>2</td>\n",
       "      <td>150</td>\n",
       "      <td>120</td>\n",
       "      <td>1</td>\n",
       "      <td>2</td>\n",
       "      <td>205</td>\n",
       "      <td>1</td>\n",
       "      <td>0.0</td>\n",
       "      <td>2</td>\n",
       "      <td>3</td>\n",
       "      <td>2</td>\n",
       "    </tr>\n",
       "    <tr>\n",
       "      <th>1</th>\n",
       "      <td>2</td>\n",
       "      <td>174</td>\n",
       "      <td>570</td>\n",
       "      <td>0</td>\n",
       "      <td>2</td>\n",
       "      <td>70</td>\n",
       "      <td>0</td>\n",
       "      <td>2.6</td>\n",
       "      <td>0</td>\n",
       "      <td>2</td>\n",
       "      <td>3</td>\n",
       "    </tr>\n",
       "    <tr>\n",
       "      <th>2</th>\n",
       "      <td>3</td>\n",
       "      <td>162</td>\n",
       "      <td>345</td>\n",
       "      <td>1</td>\n",
       "      <td>1</td>\n",
       "      <td>65</td>\n",
       "      <td>1</td>\n",
       "      <td>6.5</td>\n",
       "      <td>1</td>\n",
       "      <td>0</td>\n",
       "      <td>3</td>\n",
       "    </tr>\n",
       "    <tr>\n",
       "      <th>3</th>\n",
       "      <td>1</td>\n",
       "      <td>103</td>\n",
       "      <td>600</td>\n",
       "      <td>1</td>\n",
       "      <td>0</td>\n",
       "      <td>83</td>\n",
       "      <td>1</td>\n",
       "      <td>7.0</td>\n",
       "      <td>2</td>\n",
       "      <td>1</td>\n",
       "      <td>2</td>\n",
       "    </tr>\n",
       "    <tr>\n",
       "      <th>4</th>\n",
       "      <td>0</td>\n",
       "      <td>90</td>\n",
       "      <td>100</td>\n",
       "      <td>0</td>\n",
       "      <td>1</td>\n",
       "      <td>210</td>\n",
       "      <td>1</td>\n",
       "      <td>1.7</td>\n",
       "      <td>1</td>\n",
       "      <td>1</td>\n",
       "      <td>0</td>\n",
       "    </tr>\n",
       "  </tbody>\n",
       "</table>\n",
       "</div>"
      ],
      "text/plain": [
       "   cp  trestbps  chol  fbs  restecg  thalach  exang  oldpeak  slope  ca  thal\n",
       "0   2       150   120    1        2      205      1      0.0      2   3     2\n",
       "1   2       174   570    0        2       70      0      2.6      0   2     3\n",
       "2   3       162   345    1        1       65      1      6.5      1   0     3\n",
       "3   1       103   600    1        0       83      1      7.0      2   1     2\n",
       "4   0        90   100    0        1      210      1      1.7      1   1     0"
      ]
     },
     "execution_count": 22,
     "metadata": {},
     "output_type": "execute_result"
    }
   ],
   "source": [
    "new_data = {\n",
    "    'cp': [2, 2, 3, 1, 0],\n",
    "    'trestbps': [150, 174, 162, 103, 90],\n",
    "    'chol': [120, 570, 345, 600, 100],\n",
    "    'fbs': [1, 0, 1, 1, 0],\n",
    "    'restecg': [2, 2, 1, 0, 1],\n",
    "    'thalach': [205, 70, 65, 83, 210],\n",
    "    'exang': [1, 0, 1, 1, 1],\n",
    "    'oldpeak': [0.0, 2.6, 6.5, 7.0, 1.7],\n",
    "    'slope': [2, 0, 1, 2, 1],\n",
    "    'ca': [3, 2, 0, 1, 1],\n",
    "    'thal': [2, 3, 3, 2, 0]\n",
    "}\n",
    "\n",
    "\n",
    "new_heart_df = pd.DataFrame(new_data)\n",
    "new_heart_df"
   ]
  },
  {
   "cell_type": "code",
   "execution_count": 23,
   "id": "73be3782",
   "metadata": {
    "execution": {
     "iopub.execute_input": "2023-09-10T12:52:29.259084Z",
     "iopub.status.busy": "2023-09-10T12:52:29.258653Z",
     "iopub.status.idle": "2023-09-10T12:52:29.265959Z",
     "shell.execute_reply": "2023-09-10T12:52:29.265045Z"
    },
    "papermill": {
     "duration": 0.031034,
     "end_time": "2023-09-10T12:52:29.268320",
     "exception": false,
     "start_time": "2023-09-10T12:52:29.237286",
     "status": "completed"
    },
    "tags": []
   },
   "outputs": [],
   "source": [
    "new_data_pred = dt_model.predict(new_heart_df)"
   ]
  },
  {
   "cell_type": "code",
   "execution_count": 24,
   "id": "57aee19d",
   "metadata": {
    "execution": {
     "iopub.execute_input": "2023-09-10T12:52:29.309162Z",
     "iopub.status.busy": "2023-09-10T12:52:29.308659Z",
     "iopub.status.idle": "2023-09-10T12:52:29.313793Z",
     "shell.execute_reply": "2023-09-10T12:52:29.312872Z"
    },
    "papermill": {
     "duration": 0.028731,
     "end_time": "2023-09-10T12:52:29.316261",
     "exception": false,
     "start_time": "2023-09-10T12:52:29.287530",
     "status": "completed"
    },
    "tags": []
   },
   "outputs": [],
   "source": [
    "# store new data prediction to the dataframe\n",
    "\n",
    "new_heart_df['target'] = new_data_pred"
   ]
  },
  {
   "cell_type": "code",
   "execution_count": 25,
   "id": "b939a670",
   "metadata": {
    "execution": {
     "iopub.execute_input": "2023-09-10T12:52:29.359865Z",
     "iopub.status.busy": "2023-09-10T12:52:29.359223Z",
     "iopub.status.idle": "2023-09-10T12:52:29.373102Z",
     "shell.execute_reply": "2023-09-10T12:52:29.372249Z"
    },
    "papermill": {
     "duration": 0.03905,
     "end_time": "2023-09-10T12:52:29.375315",
     "exception": false,
     "start_time": "2023-09-10T12:52:29.336265",
     "status": "completed"
    },
    "tags": []
   },
   "outputs": [
    {
     "data": {
      "text/html": [
       "<div>\n",
       "<style scoped>\n",
       "    .dataframe tbody tr th:only-of-type {\n",
       "        vertical-align: middle;\n",
       "    }\n",
       "\n",
       "    .dataframe tbody tr th {\n",
       "        vertical-align: top;\n",
       "    }\n",
       "\n",
       "    .dataframe thead th {\n",
       "        text-align: right;\n",
       "    }\n",
       "</style>\n",
       "<table border=\"1\" class=\"dataframe\">\n",
       "  <thead>\n",
       "    <tr style=\"text-align: right;\">\n",
       "      <th></th>\n",
       "      <th>cp</th>\n",
       "      <th>trestbps</th>\n",
       "      <th>chol</th>\n",
       "      <th>fbs</th>\n",
       "      <th>restecg</th>\n",
       "      <th>thalach</th>\n",
       "      <th>exang</th>\n",
       "      <th>oldpeak</th>\n",
       "      <th>slope</th>\n",
       "      <th>ca</th>\n",
       "      <th>thal</th>\n",
       "      <th>target</th>\n",
       "    </tr>\n",
       "  </thead>\n",
       "  <tbody>\n",
       "    <tr>\n",
       "      <th>0</th>\n",
       "      <td>2</td>\n",
       "      <td>150</td>\n",
       "      <td>120</td>\n",
       "      <td>1</td>\n",
       "      <td>2</td>\n",
       "      <td>205</td>\n",
       "      <td>1</td>\n",
       "      <td>0.0</td>\n",
       "      <td>2</td>\n",
       "      <td>3</td>\n",
       "      <td>2</td>\n",
       "      <td>0</td>\n",
       "    </tr>\n",
       "    <tr>\n",
       "      <th>1</th>\n",
       "      <td>2</td>\n",
       "      <td>174</td>\n",
       "      <td>570</td>\n",
       "      <td>0</td>\n",
       "      <td>2</td>\n",
       "      <td>70</td>\n",
       "      <td>0</td>\n",
       "      <td>2.6</td>\n",
       "      <td>0</td>\n",
       "      <td>2</td>\n",
       "      <td>3</td>\n",
       "      <td>0</td>\n",
       "    </tr>\n",
       "    <tr>\n",
       "      <th>2</th>\n",
       "      <td>3</td>\n",
       "      <td>162</td>\n",
       "      <td>345</td>\n",
       "      <td>1</td>\n",
       "      <td>1</td>\n",
       "      <td>65</td>\n",
       "      <td>1</td>\n",
       "      <td>6.5</td>\n",
       "      <td>1</td>\n",
       "      <td>0</td>\n",
       "      <td>3</td>\n",
       "      <td>0</td>\n",
       "    </tr>\n",
       "    <tr>\n",
       "      <th>3</th>\n",
       "      <td>1</td>\n",
       "      <td>103</td>\n",
       "      <td>600</td>\n",
       "      <td>1</td>\n",
       "      <td>0</td>\n",
       "      <td>83</td>\n",
       "      <td>1</td>\n",
       "      <td>7.0</td>\n",
       "      <td>2</td>\n",
       "      <td>1</td>\n",
       "      <td>2</td>\n",
       "      <td>1</td>\n",
       "    </tr>\n",
       "    <tr>\n",
       "      <th>4</th>\n",
       "      <td>0</td>\n",
       "      <td>90</td>\n",
       "      <td>100</td>\n",
       "      <td>0</td>\n",
       "      <td>1</td>\n",
       "      <td>210</td>\n",
       "      <td>1</td>\n",
       "      <td>1.7</td>\n",
       "      <td>1</td>\n",
       "      <td>1</td>\n",
       "      <td>0</td>\n",
       "      <td>0</td>\n",
       "    </tr>\n",
       "  </tbody>\n",
       "</table>\n",
       "</div>"
      ],
      "text/plain": [
       "   cp  trestbps  chol  fbs  restecg  thalach  exang  oldpeak  slope  ca  thal  \\\n",
       "0   2       150   120    1        2      205      1      0.0      2   3     2   \n",
       "1   2       174   570    0        2       70      0      2.6      0   2     3   \n",
       "2   3       162   345    1        1       65      1      6.5      1   0     3   \n",
       "3   1       103   600    1        0       83      1      7.0      2   1     2   \n",
       "4   0        90   100    0        1      210      1      1.7      1   1     0   \n",
       "\n",
       "   target  \n",
       "0       0  \n",
       "1       0  \n",
       "2       0  \n",
       "3       1  \n",
       "4       0  "
      ]
     },
     "execution_count": 25,
     "metadata": {},
     "output_type": "execute_result"
    }
   ],
   "source": [
    "new_heart_df"
   ]
  },
  {
   "cell_type": "markdown",
   "id": "0cf9e6dd",
   "metadata": {
    "papermill": {
     "duration": 0.019388,
     "end_time": "2023-09-10T12:52:29.414079",
     "exception": false,
     "start_time": "2023-09-10T12:52:29.394691",
     "status": "completed"
    },
    "tags": []
   },
   "source": [
    "### If someone who maybe able to read my model or work, please feel free to comment how was my model or if there is any error that I did.\n",
    "\n",
    "# Your help is much appreciated. Thank you!"
   ]
  }
 ],
 "kernelspec": {
  "display_name": "Python 3",
  "language": "python",
  "name": "python3"
 },
 "language_info": {
  "codemirror_mode": {
   "name": "ipython",
   "version": 3
  },
  "file_extension": ".py",
  "mimetype": "text/x-python",
  "name": "python",
  "nbconvert_exporter": "python",
  "pygments_lexer": "ipython3",
  "version": "3.6.4"
 },
 "metadata": {
  "kernelspec": {
   "display_name": "Python 3",
   "language": "python",
   "name": "python3"
  },
  "language_info": {
   "codemirror_mode": {
    "name": "ipython",
    "version": 3
   },
   "file_extension": ".py",
   "mimetype": "text/x-python",
   "name": "python",
   "nbconvert_exporter": "python",
   "pygments_lexer": "ipython3",
   "version": "3.10.12"
  },
  "papermill": {
   "default_parameters": {},
   "duration": 13.626021,
   "end_time": "2023-09-10T12:52:30.155061",
   "environment_variables": {},
   "exception": null,
   "input_path": "__notebook__.ipynb",
   "output_path": "__notebook__.ipynb",
   "parameters": {},
   "start_time": "2023-09-10T12:52:16.529040",
   "version": "2.4.0"
  }
 },
 "nbformat": 4,
 "nbformat_minor": 5
}
