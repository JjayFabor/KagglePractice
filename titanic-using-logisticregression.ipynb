{
 "cells": [
  {
   "cell_type": "code",
   "execution_count": 1,
   "id": "9ef804eb",
   "metadata": {
    "_cell_guid": "b1076dfc-b9ad-4769-8c92-a6c4dae69d19",
    "_uuid": "8f2839f25d086af736a60e9eeb907d3b93b6e0e5",
    "execution": {
     "iopub.execute_input": "2023-08-07T05:12:29.091610Z",
     "iopub.status.busy": "2023-08-07T05:12:29.090708Z",
     "iopub.status.idle": "2023-08-07T05:12:29.107719Z",
     "shell.execute_reply": "2023-08-07T05:12:29.106628Z"
    },
    "papermill": {
     "duration": 0.040924,
     "end_time": "2023-08-07T05:12:29.110212",
     "exception": false,
     "start_time": "2023-08-07T05:12:29.069288",
     "status": "completed"
    },
    "tags": []
   },
   "outputs": [
    {
     "name": "stdout",
     "output_type": "stream",
     "text": [
      "/kaggle/input/titanic/train.csv\n",
      "/kaggle/input/titanic/test.csv\n",
      "/kaggle/input/titanic/gender_submission.csv\n"
     ]
    }
   ],
   "source": [
    "# This Python 3 environment comes with many helpful analytics libraries installed\n",
    "# It is defined by the kaggle/python Docker image: https://github.com/kaggle/docker-python\n",
    "# For example, here's several helpful packages to load\n",
    "\n",
    "import numpy as np # linear algebra\n",
    "import pandas as pd # data processing, CSV file I/O (e.g. pd.read_csv)\n",
    "\n",
    "# Input data files are available in the read-only \"../input/\" directory\n",
    "# For example, running this (by clicking run or pressing Shift+Enter) will list all files under the input directory\n",
    "\n",
    "import os\n",
    "for dirname, _, filenames in os.walk('/kaggle/input'):\n",
    "    for filename in filenames:\n",
    "        print(os.path.join(dirname, filename))\n",
    "\n",
    "# You can write up to 20GB to the current directory (/kaggle/working/) that gets preserved as output when you create a version using \"Save & Run All\" \n",
    "# You can also write temporary files to /kaggle/temp/, but they won't be saved outside of the current session"
   ]
  },
  {
   "cell_type": "code",
   "execution_count": 2,
   "id": "55602574",
   "metadata": {
    "execution": {
     "iopub.execute_input": "2023-08-07T05:12:29.151189Z",
     "iopub.status.busy": "2023-08-07T05:12:29.150463Z",
     "iopub.status.idle": "2023-08-07T05:12:30.478268Z",
     "shell.execute_reply": "2023-08-07T05:12:30.477193Z"
    },
    "papermill": {
     "duration": 1.351046,
     "end_time": "2023-08-07T05:12:30.480992",
     "exception": false,
     "start_time": "2023-08-07T05:12:29.129946",
     "status": "completed"
    },
    "tags": []
   },
   "outputs": [
    {
     "name": "stderr",
     "output_type": "stream",
     "text": [
      "/opt/conda/lib/python3.10/site-packages/scipy/__init__.py:146: UserWarning: A NumPy version >=1.16.5 and <1.23.0 is required for this version of SciPy (detected version 1.23.5\n",
      "  warnings.warn(f\"A NumPy version >={np_minversion} and <{np_maxversion}\"\n"
     ]
    }
   ],
   "source": [
    "import matplotlib.pyplot as plt\n",
    "import seaborn as sns\n",
    "%matplotlib inline\n",
    "import warnings\n",
    "warnings.filterwarnings(\"ignore\")"
   ]
  },
  {
   "cell_type": "markdown",
   "id": "29e21be7",
   "metadata": {
    "papermill": {
     "duration": 0.018937,
     "end_time": "2023-08-07T05:12:30.519285",
     "exception": false,
     "start_time": "2023-08-07T05:12:30.500348",
     "status": "completed"
    },
    "tags": []
   },
   "source": [
    "# **Reading and Understanding the Data**"
   ]
  },
  {
   "cell_type": "code",
   "execution_count": 3,
   "id": "5d957530",
   "metadata": {
    "execution": {
     "iopub.execute_input": "2023-08-07T05:12:30.560231Z",
     "iopub.status.busy": "2023-08-07T05:12:30.559818Z",
     "iopub.status.idle": "2023-08-07T05:12:30.587364Z",
     "shell.execute_reply": "2023-08-07T05:12:30.586563Z"
    },
    "papermill": {
     "duration": 0.050843,
     "end_time": "2023-08-07T05:12:30.589571",
     "exception": false,
     "start_time": "2023-08-07T05:12:30.538728",
     "status": "completed"
    },
    "tags": []
   },
   "outputs": [
    {
     "data": {
      "text/plain": [
       "(891, 12)"
      ]
     },
     "execution_count": 3,
     "metadata": {},
     "output_type": "execute_result"
    }
   ],
   "source": [
    "train_titanic = pd.read_csv('/kaggle/input/titanic/train.csv')\n",
    "train_titanic.shape"
   ]
  },
  {
   "cell_type": "code",
   "execution_count": 4,
   "id": "76575d13",
   "metadata": {
    "execution": {
     "iopub.execute_input": "2023-08-07T05:12:30.631525Z",
     "iopub.status.busy": "2023-08-07T05:12:30.631129Z",
     "iopub.status.idle": "2023-08-07T05:12:30.662598Z",
     "shell.execute_reply": "2023-08-07T05:12:30.661314Z"
    },
    "papermill": {
     "duration": 0.055757,
     "end_time": "2023-08-07T05:12:30.665177",
     "exception": false,
     "start_time": "2023-08-07T05:12:30.609420",
     "status": "completed"
    },
    "tags": []
   },
   "outputs": [
    {
     "data": {
      "text/html": [
       "<div>\n",
       "<style scoped>\n",
       "    .dataframe tbody tr th:only-of-type {\n",
       "        vertical-align: middle;\n",
       "    }\n",
       "\n",
       "    .dataframe tbody tr th {\n",
       "        vertical-align: top;\n",
       "    }\n",
       "\n",
       "    .dataframe thead th {\n",
       "        text-align: right;\n",
       "    }\n",
       "</style>\n",
       "<table border=\"1\" class=\"dataframe\">\n",
       "  <thead>\n",
       "    <tr style=\"text-align: right;\">\n",
       "      <th></th>\n",
       "      <th>PassengerId</th>\n",
       "      <th>Survived</th>\n",
       "      <th>Pclass</th>\n",
       "      <th>Name</th>\n",
       "      <th>Sex</th>\n",
       "      <th>Age</th>\n",
       "      <th>SibSp</th>\n",
       "      <th>Parch</th>\n",
       "      <th>Ticket</th>\n",
       "      <th>Fare</th>\n",
       "      <th>Cabin</th>\n",
       "      <th>Embarked</th>\n",
       "    </tr>\n",
       "  </thead>\n",
       "  <tbody>\n",
       "    <tr>\n",
       "      <th>0</th>\n",
       "      <td>1</td>\n",
       "      <td>0</td>\n",
       "      <td>3</td>\n",
       "      <td>Braund, Mr. Owen Harris</td>\n",
       "      <td>male</td>\n",
       "      <td>22.0</td>\n",
       "      <td>1</td>\n",
       "      <td>0</td>\n",
       "      <td>A/5 21171</td>\n",
       "      <td>7.2500</td>\n",
       "      <td>NaN</td>\n",
       "      <td>S</td>\n",
       "    </tr>\n",
       "    <tr>\n",
       "      <th>1</th>\n",
       "      <td>2</td>\n",
       "      <td>1</td>\n",
       "      <td>1</td>\n",
       "      <td>Cumings, Mrs. John Bradley (Florence Briggs Th...</td>\n",
       "      <td>female</td>\n",
       "      <td>38.0</td>\n",
       "      <td>1</td>\n",
       "      <td>0</td>\n",
       "      <td>PC 17599</td>\n",
       "      <td>71.2833</td>\n",
       "      <td>C85</td>\n",
       "      <td>C</td>\n",
       "    </tr>\n",
       "    <tr>\n",
       "      <th>2</th>\n",
       "      <td>3</td>\n",
       "      <td>1</td>\n",
       "      <td>3</td>\n",
       "      <td>Heikkinen, Miss. Laina</td>\n",
       "      <td>female</td>\n",
       "      <td>26.0</td>\n",
       "      <td>0</td>\n",
       "      <td>0</td>\n",
       "      <td>STON/O2. 3101282</td>\n",
       "      <td>7.9250</td>\n",
       "      <td>NaN</td>\n",
       "      <td>S</td>\n",
       "    </tr>\n",
       "    <tr>\n",
       "      <th>3</th>\n",
       "      <td>4</td>\n",
       "      <td>1</td>\n",
       "      <td>1</td>\n",
       "      <td>Futrelle, Mrs. Jacques Heath (Lily May Peel)</td>\n",
       "      <td>female</td>\n",
       "      <td>35.0</td>\n",
       "      <td>1</td>\n",
       "      <td>0</td>\n",
       "      <td>113803</td>\n",
       "      <td>53.1000</td>\n",
       "      <td>C123</td>\n",
       "      <td>S</td>\n",
       "    </tr>\n",
       "    <tr>\n",
       "      <th>4</th>\n",
       "      <td>5</td>\n",
       "      <td>0</td>\n",
       "      <td>3</td>\n",
       "      <td>Allen, Mr. William Henry</td>\n",
       "      <td>male</td>\n",
       "      <td>35.0</td>\n",
       "      <td>0</td>\n",
       "      <td>0</td>\n",
       "      <td>373450</td>\n",
       "      <td>8.0500</td>\n",
       "      <td>NaN</td>\n",
       "      <td>S</td>\n",
       "    </tr>\n",
       "    <tr>\n",
       "      <th>5</th>\n",
       "      <td>6</td>\n",
       "      <td>0</td>\n",
       "      <td>3</td>\n",
       "      <td>Moran, Mr. James</td>\n",
       "      <td>male</td>\n",
       "      <td>NaN</td>\n",
       "      <td>0</td>\n",
       "      <td>0</td>\n",
       "      <td>330877</td>\n",
       "      <td>8.4583</td>\n",
       "      <td>NaN</td>\n",
       "      <td>Q</td>\n",
       "    </tr>\n",
       "    <tr>\n",
       "      <th>6</th>\n",
       "      <td>7</td>\n",
       "      <td>0</td>\n",
       "      <td>1</td>\n",
       "      <td>McCarthy, Mr. Timothy J</td>\n",
       "      <td>male</td>\n",
       "      <td>54.0</td>\n",
       "      <td>0</td>\n",
       "      <td>0</td>\n",
       "      <td>17463</td>\n",
       "      <td>51.8625</td>\n",
       "      <td>E46</td>\n",
       "      <td>S</td>\n",
       "    </tr>\n",
       "    <tr>\n",
       "      <th>7</th>\n",
       "      <td>8</td>\n",
       "      <td>0</td>\n",
       "      <td>3</td>\n",
       "      <td>Palsson, Master. Gosta Leonard</td>\n",
       "      <td>male</td>\n",
       "      <td>2.0</td>\n",
       "      <td>3</td>\n",
       "      <td>1</td>\n",
       "      <td>349909</td>\n",
       "      <td>21.0750</td>\n",
       "      <td>NaN</td>\n",
       "      <td>S</td>\n",
       "    </tr>\n",
       "    <tr>\n",
       "      <th>8</th>\n",
       "      <td>9</td>\n",
       "      <td>1</td>\n",
       "      <td>3</td>\n",
       "      <td>Johnson, Mrs. Oscar W (Elisabeth Vilhelmina Berg)</td>\n",
       "      <td>female</td>\n",
       "      <td>27.0</td>\n",
       "      <td>0</td>\n",
       "      <td>2</td>\n",
       "      <td>347742</td>\n",
       "      <td>11.1333</td>\n",
       "      <td>NaN</td>\n",
       "      <td>S</td>\n",
       "    </tr>\n",
       "    <tr>\n",
       "      <th>9</th>\n",
       "      <td>10</td>\n",
       "      <td>1</td>\n",
       "      <td>2</td>\n",
       "      <td>Nasser, Mrs. Nicholas (Adele Achem)</td>\n",
       "      <td>female</td>\n",
       "      <td>14.0</td>\n",
       "      <td>1</td>\n",
       "      <td>0</td>\n",
       "      <td>237736</td>\n",
       "      <td>30.0708</td>\n",
       "      <td>NaN</td>\n",
       "      <td>C</td>\n",
       "    </tr>\n",
       "  </tbody>\n",
       "</table>\n",
       "</div>"
      ],
      "text/plain": [
       "   PassengerId  Survived  Pclass  \\\n",
       "0            1         0       3   \n",
       "1            2         1       1   \n",
       "2            3         1       3   \n",
       "3            4         1       1   \n",
       "4            5         0       3   \n",
       "5            6         0       3   \n",
       "6            7         0       1   \n",
       "7            8         0       3   \n",
       "8            9         1       3   \n",
       "9           10         1       2   \n",
       "\n",
       "                                                Name     Sex   Age  SibSp  \\\n",
       "0                            Braund, Mr. Owen Harris    male  22.0      1   \n",
       "1  Cumings, Mrs. John Bradley (Florence Briggs Th...  female  38.0      1   \n",
       "2                             Heikkinen, Miss. Laina  female  26.0      0   \n",
       "3       Futrelle, Mrs. Jacques Heath (Lily May Peel)  female  35.0      1   \n",
       "4                           Allen, Mr. William Henry    male  35.0      0   \n",
       "5                                   Moran, Mr. James    male   NaN      0   \n",
       "6                            McCarthy, Mr. Timothy J    male  54.0      0   \n",
       "7                     Palsson, Master. Gosta Leonard    male   2.0      3   \n",
       "8  Johnson, Mrs. Oscar W (Elisabeth Vilhelmina Berg)  female  27.0      0   \n",
       "9                Nasser, Mrs. Nicholas (Adele Achem)  female  14.0      1   \n",
       "\n",
       "   Parch            Ticket     Fare Cabin Embarked  \n",
       "0      0         A/5 21171   7.2500   NaN        S  \n",
       "1      0          PC 17599  71.2833   C85        C  \n",
       "2      0  STON/O2. 3101282   7.9250   NaN        S  \n",
       "3      0            113803  53.1000  C123        S  \n",
       "4      0            373450   8.0500   NaN        S  \n",
       "5      0            330877   8.4583   NaN        Q  \n",
       "6      0             17463  51.8625   E46        S  \n",
       "7      1            349909  21.0750   NaN        S  \n",
       "8      2            347742  11.1333   NaN        S  \n",
       "9      0            237736  30.0708   NaN        C  "
      ]
     },
     "execution_count": 4,
     "metadata": {},
     "output_type": "execute_result"
    }
   ],
   "source": [
    "train_titanic.head(10)"
   ]
  },
  {
   "cell_type": "code",
   "execution_count": 5,
   "id": "fc058e5b",
   "metadata": {
    "execution": {
     "iopub.execute_input": "2023-08-07T05:12:30.708186Z",
     "iopub.status.busy": "2023-08-07T05:12:30.707182Z",
     "iopub.status.idle": "2023-08-07T05:12:30.725638Z",
     "shell.execute_reply": "2023-08-07T05:12:30.724508Z"
    },
    "papermill": {
     "duration": 0.042698,
     "end_time": "2023-08-07T05:12:30.728075",
     "exception": false,
     "start_time": "2023-08-07T05:12:30.685377",
     "status": "completed"
    },
    "tags": []
   },
   "outputs": [
    {
     "data": {
      "text/html": [
       "<div>\n",
       "<style scoped>\n",
       "    .dataframe tbody tr th:only-of-type {\n",
       "        vertical-align: middle;\n",
       "    }\n",
       "\n",
       "    .dataframe tbody tr th {\n",
       "        vertical-align: top;\n",
       "    }\n",
       "\n",
       "    .dataframe thead th {\n",
       "        text-align: right;\n",
       "    }\n",
       "</style>\n",
       "<table border=\"1\" class=\"dataframe\">\n",
       "  <thead>\n",
       "    <tr style=\"text-align: right;\">\n",
       "      <th></th>\n",
       "      <th>PassengerId</th>\n",
       "      <th>Survived</th>\n",
       "      <th>Pclass</th>\n",
       "      <th>Name</th>\n",
       "      <th>Sex</th>\n",
       "      <th>Age</th>\n",
       "      <th>SibSp</th>\n",
       "      <th>Parch</th>\n",
       "      <th>Ticket</th>\n",
       "      <th>Fare</th>\n",
       "      <th>Cabin</th>\n",
       "      <th>Embarked</th>\n",
       "    </tr>\n",
       "  </thead>\n",
       "  <tbody>\n",
       "    <tr>\n",
       "      <th>886</th>\n",
       "      <td>887</td>\n",
       "      <td>0</td>\n",
       "      <td>2</td>\n",
       "      <td>Montvila, Rev. Juozas</td>\n",
       "      <td>male</td>\n",
       "      <td>27.0</td>\n",
       "      <td>0</td>\n",
       "      <td>0</td>\n",
       "      <td>211536</td>\n",
       "      <td>13.00</td>\n",
       "      <td>NaN</td>\n",
       "      <td>S</td>\n",
       "    </tr>\n",
       "    <tr>\n",
       "      <th>887</th>\n",
       "      <td>888</td>\n",
       "      <td>1</td>\n",
       "      <td>1</td>\n",
       "      <td>Graham, Miss. Margaret Edith</td>\n",
       "      <td>female</td>\n",
       "      <td>19.0</td>\n",
       "      <td>0</td>\n",
       "      <td>0</td>\n",
       "      <td>112053</td>\n",
       "      <td>30.00</td>\n",
       "      <td>B42</td>\n",
       "      <td>S</td>\n",
       "    </tr>\n",
       "    <tr>\n",
       "      <th>888</th>\n",
       "      <td>889</td>\n",
       "      <td>0</td>\n",
       "      <td>3</td>\n",
       "      <td>Johnston, Miss. Catherine Helen \"Carrie\"</td>\n",
       "      <td>female</td>\n",
       "      <td>NaN</td>\n",
       "      <td>1</td>\n",
       "      <td>2</td>\n",
       "      <td>W./C. 6607</td>\n",
       "      <td>23.45</td>\n",
       "      <td>NaN</td>\n",
       "      <td>S</td>\n",
       "    </tr>\n",
       "    <tr>\n",
       "      <th>889</th>\n",
       "      <td>890</td>\n",
       "      <td>1</td>\n",
       "      <td>1</td>\n",
       "      <td>Behr, Mr. Karl Howell</td>\n",
       "      <td>male</td>\n",
       "      <td>26.0</td>\n",
       "      <td>0</td>\n",
       "      <td>0</td>\n",
       "      <td>111369</td>\n",
       "      <td>30.00</td>\n",
       "      <td>C148</td>\n",
       "      <td>C</td>\n",
       "    </tr>\n",
       "    <tr>\n",
       "      <th>890</th>\n",
       "      <td>891</td>\n",
       "      <td>0</td>\n",
       "      <td>3</td>\n",
       "      <td>Dooley, Mr. Patrick</td>\n",
       "      <td>male</td>\n",
       "      <td>32.0</td>\n",
       "      <td>0</td>\n",
       "      <td>0</td>\n",
       "      <td>370376</td>\n",
       "      <td>7.75</td>\n",
       "      <td>NaN</td>\n",
       "      <td>Q</td>\n",
       "    </tr>\n",
       "  </tbody>\n",
       "</table>\n",
       "</div>"
      ],
      "text/plain": [
       "     PassengerId  Survived  Pclass                                      Name  \\\n",
       "886          887         0       2                     Montvila, Rev. Juozas   \n",
       "887          888         1       1              Graham, Miss. Margaret Edith   \n",
       "888          889         0       3  Johnston, Miss. Catherine Helen \"Carrie\"   \n",
       "889          890         1       1                     Behr, Mr. Karl Howell   \n",
       "890          891         0       3                       Dooley, Mr. Patrick   \n",
       "\n",
       "        Sex   Age  SibSp  Parch      Ticket   Fare Cabin Embarked  \n",
       "886    male  27.0      0      0      211536  13.00   NaN        S  \n",
       "887  female  19.0      0      0      112053  30.00   B42        S  \n",
       "888  female   NaN      1      2  W./C. 6607  23.45   NaN        S  \n",
       "889    male  26.0      0      0      111369  30.00  C148        C  \n",
       "890    male  32.0      0      0      370376   7.75   NaN        Q  "
      ]
     },
     "execution_count": 5,
     "metadata": {},
     "output_type": "execute_result"
    }
   ],
   "source": [
    "train_titanic.tail()"
   ]
  },
  {
   "cell_type": "code",
   "execution_count": 6,
   "id": "c8a9e951",
   "metadata": {
    "execution": {
     "iopub.execute_input": "2023-08-07T05:12:30.771017Z",
     "iopub.status.busy": "2023-08-07T05:12:30.770355Z",
     "iopub.status.idle": "2023-08-07T05:12:30.807988Z",
     "shell.execute_reply": "2023-08-07T05:12:30.806845Z"
    },
    "papermill": {
     "duration": 0.061847,
     "end_time": "2023-08-07T05:12:30.810287",
     "exception": false,
     "start_time": "2023-08-07T05:12:30.748440",
     "status": "completed"
    },
    "tags": []
   },
   "outputs": [
    {
     "data": {
      "text/html": [
       "<div>\n",
       "<style scoped>\n",
       "    .dataframe tbody tr th:only-of-type {\n",
       "        vertical-align: middle;\n",
       "    }\n",
       "\n",
       "    .dataframe tbody tr th {\n",
       "        vertical-align: top;\n",
       "    }\n",
       "\n",
       "    .dataframe thead th {\n",
       "        text-align: right;\n",
       "    }\n",
       "</style>\n",
       "<table border=\"1\" class=\"dataframe\">\n",
       "  <thead>\n",
       "    <tr style=\"text-align: right;\">\n",
       "      <th></th>\n",
       "      <th>PassengerId</th>\n",
       "      <th>Survived</th>\n",
       "      <th>Pclass</th>\n",
       "      <th>Age</th>\n",
       "      <th>SibSp</th>\n",
       "      <th>Parch</th>\n",
       "      <th>Fare</th>\n",
       "    </tr>\n",
       "  </thead>\n",
       "  <tbody>\n",
       "    <tr>\n",
       "      <th>count</th>\n",
       "      <td>891.000000</td>\n",
       "      <td>891.000000</td>\n",
       "      <td>891.000000</td>\n",
       "      <td>714.000000</td>\n",
       "      <td>891.000000</td>\n",
       "      <td>891.000000</td>\n",
       "      <td>891.000000</td>\n",
       "    </tr>\n",
       "    <tr>\n",
       "      <th>mean</th>\n",
       "      <td>446.000000</td>\n",
       "      <td>0.383838</td>\n",
       "      <td>2.308642</td>\n",
       "      <td>29.699118</td>\n",
       "      <td>0.523008</td>\n",
       "      <td>0.381594</td>\n",
       "      <td>32.204208</td>\n",
       "    </tr>\n",
       "    <tr>\n",
       "      <th>std</th>\n",
       "      <td>257.353842</td>\n",
       "      <td>0.486592</td>\n",
       "      <td>0.836071</td>\n",
       "      <td>14.526497</td>\n",
       "      <td>1.102743</td>\n",
       "      <td>0.806057</td>\n",
       "      <td>49.693429</td>\n",
       "    </tr>\n",
       "    <tr>\n",
       "      <th>min</th>\n",
       "      <td>1.000000</td>\n",
       "      <td>0.000000</td>\n",
       "      <td>1.000000</td>\n",
       "      <td>0.420000</td>\n",
       "      <td>0.000000</td>\n",
       "      <td>0.000000</td>\n",
       "      <td>0.000000</td>\n",
       "    </tr>\n",
       "    <tr>\n",
       "      <th>25%</th>\n",
       "      <td>223.500000</td>\n",
       "      <td>0.000000</td>\n",
       "      <td>2.000000</td>\n",
       "      <td>20.125000</td>\n",
       "      <td>0.000000</td>\n",
       "      <td>0.000000</td>\n",
       "      <td>7.910400</td>\n",
       "    </tr>\n",
       "    <tr>\n",
       "      <th>50%</th>\n",
       "      <td>446.000000</td>\n",
       "      <td>0.000000</td>\n",
       "      <td>3.000000</td>\n",
       "      <td>28.000000</td>\n",
       "      <td>0.000000</td>\n",
       "      <td>0.000000</td>\n",
       "      <td>14.454200</td>\n",
       "    </tr>\n",
       "    <tr>\n",
       "      <th>75%</th>\n",
       "      <td>668.500000</td>\n",
       "      <td>1.000000</td>\n",
       "      <td>3.000000</td>\n",
       "      <td>38.000000</td>\n",
       "      <td>1.000000</td>\n",
       "      <td>0.000000</td>\n",
       "      <td>31.000000</td>\n",
       "    </tr>\n",
       "    <tr>\n",
       "      <th>max</th>\n",
       "      <td>891.000000</td>\n",
       "      <td>1.000000</td>\n",
       "      <td>3.000000</td>\n",
       "      <td>80.000000</td>\n",
       "      <td>8.000000</td>\n",
       "      <td>6.000000</td>\n",
       "      <td>512.329200</td>\n",
       "    </tr>\n",
       "  </tbody>\n",
       "</table>\n",
       "</div>"
      ],
      "text/plain": [
       "       PassengerId    Survived      Pclass         Age       SibSp  \\\n",
       "count   891.000000  891.000000  891.000000  714.000000  891.000000   \n",
       "mean    446.000000    0.383838    2.308642   29.699118    0.523008   \n",
       "std     257.353842    0.486592    0.836071   14.526497    1.102743   \n",
       "min       1.000000    0.000000    1.000000    0.420000    0.000000   \n",
       "25%     223.500000    0.000000    2.000000   20.125000    0.000000   \n",
       "50%     446.000000    0.000000    3.000000   28.000000    0.000000   \n",
       "75%     668.500000    1.000000    3.000000   38.000000    1.000000   \n",
       "max     891.000000    1.000000    3.000000   80.000000    8.000000   \n",
       "\n",
       "            Parch        Fare  \n",
       "count  891.000000  891.000000  \n",
       "mean     0.381594   32.204208  \n",
       "std      0.806057   49.693429  \n",
       "min      0.000000    0.000000  \n",
       "25%      0.000000    7.910400  \n",
       "50%      0.000000   14.454200  \n",
       "75%      0.000000   31.000000  \n",
       "max      6.000000  512.329200  "
      ]
     },
     "execution_count": 6,
     "metadata": {},
     "output_type": "execute_result"
    }
   ],
   "source": [
    "train_titanic.describe()"
   ]
  },
  {
   "cell_type": "code",
   "execution_count": 7,
   "id": "526bd9c8",
   "metadata": {
    "execution": {
     "iopub.execute_input": "2023-08-07T05:12:30.853537Z",
     "iopub.status.busy": "2023-08-07T05:12:30.852805Z",
     "iopub.status.idle": "2023-08-07T05:12:30.872650Z",
     "shell.execute_reply": "2023-08-07T05:12:30.871541Z"
    },
    "papermill": {
     "duration": 0.044408,
     "end_time": "2023-08-07T05:12:30.875150",
     "exception": false,
     "start_time": "2023-08-07T05:12:30.830742",
     "status": "completed"
    },
    "tags": []
   },
   "outputs": [
    {
     "data": {
      "text/html": [
       "<div>\n",
       "<style scoped>\n",
       "    .dataframe tbody tr th:only-of-type {\n",
       "        vertical-align: middle;\n",
       "    }\n",
       "\n",
       "    .dataframe tbody tr th {\n",
       "        vertical-align: top;\n",
       "    }\n",
       "\n",
       "    .dataframe thead th {\n",
       "        text-align: right;\n",
       "    }\n",
       "</style>\n",
       "<table border=\"1\" class=\"dataframe\">\n",
       "  <thead>\n",
       "    <tr style=\"text-align: right;\">\n",
       "      <th></th>\n",
       "      <th>PassengerId</th>\n",
       "      <th>Survived</th>\n",
       "      <th>Pclass</th>\n",
       "      <th>Age</th>\n",
       "      <th>SibSp</th>\n",
       "      <th>Parch</th>\n",
       "      <th>Fare</th>\n",
       "    </tr>\n",
       "  </thead>\n",
       "  <tbody>\n",
       "    <tr>\n",
       "      <th>PassengerId</th>\n",
       "      <td>1.000000</td>\n",
       "      <td>-0.005007</td>\n",
       "      <td>-0.035144</td>\n",
       "      <td>0.036847</td>\n",
       "      <td>-0.057527</td>\n",
       "      <td>-0.001652</td>\n",
       "      <td>0.012658</td>\n",
       "    </tr>\n",
       "    <tr>\n",
       "      <th>Survived</th>\n",
       "      <td>-0.005007</td>\n",
       "      <td>1.000000</td>\n",
       "      <td>-0.338481</td>\n",
       "      <td>-0.077221</td>\n",
       "      <td>-0.035322</td>\n",
       "      <td>0.081629</td>\n",
       "      <td>0.257307</td>\n",
       "    </tr>\n",
       "    <tr>\n",
       "      <th>Pclass</th>\n",
       "      <td>-0.035144</td>\n",
       "      <td>-0.338481</td>\n",
       "      <td>1.000000</td>\n",
       "      <td>-0.369226</td>\n",
       "      <td>0.083081</td>\n",
       "      <td>0.018443</td>\n",
       "      <td>-0.549500</td>\n",
       "    </tr>\n",
       "    <tr>\n",
       "      <th>Age</th>\n",
       "      <td>0.036847</td>\n",
       "      <td>-0.077221</td>\n",
       "      <td>-0.369226</td>\n",
       "      <td>1.000000</td>\n",
       "      <td>-0.308247</td>\n",
       "      <td>-0.189119</td>\n",
       "      <td>0.096067</td>\n",
       "    </tr>\n",
       "    <tr>\n",
       "      <th>SibSp</th>\n",
       "      <td>-0.057527</td>\n",
       "      <td>-0.035322</td>\n",
       "      <td>0.083081</td>\n",
       "      <td>-0.308247</td>\n",
       "      <td>1.000000</td>\n",
       "      <td>0.414838</td>\n",
       "      <td>0.159651</td>\n",
       "    </tr>\n",
       "    <tr>\n",
       "      <th>Parch</th>\n",
       "      <td>-0.001652</td>\n",
       "      <td>0.081629</td>\n",
       "      <td>0.018443</td>\n",
       "      <td>-0.189119</td>\n",
       "      <td>0.414838</td>\n",
       "      <td>1.000000</td>\n",
       "      <td>0.216225</td>\n",
       "    </tr>\n",
       "    <tr>\n",
       "      <th>Fare</th>\n",
       "      <td>0.012658</td>\n",
       "      <td>0.257307</td>\n",
       "      <td>-0.549500</td>\n",
       "      <td>0.096067</td>\n",
       "      <td>0.159651</td>\n",
       "      <td>0.216225</td>\n",
       "      <td>1.000000</td>\n",
       "    </tr>\n",
       "  </tbody>\n",
       "</table>\n",
       "</div>"
      ],
      "text/plain": [
       "             PassengerId  Survived    Pclass       Age     SibSp     Parch  \\\n",
       "PassengerId     1.000000 -0.005007 -0.035144  0.036847 -0.057527 -0.001652   \n",
       "Survived       -0.005007  1.000000 -0.338481 -0.077221 -0.035322  0.081629   \n",
       "Pclass         -0.035144 -0.338481  1.000000 -0.369226  0.083081  0.018443   \n",
       "Age             0.036847 -0.077221 -0.369226  1.000000 -0.308247 -0.189119   \n",
       "SibSp          -0.057527 -0.035322  0.083081 -0.308247  1.000000  0.414838   \n",
       "Parch          -0.001652  0.081629  0.018443 -0.189119  0.414838  1.000000   \n",
       "Fare            0.012658  0.257307 -0.549500  0.096067  0.159651  0.216225   \n",
       "\n",
       "                 Fare  \n",
       "PassengerId  0.012658  \n",
       "Survived     0.257307  \n",
       "Pclass      -0.549500  \n",
       "Age          0.096067  \n",
       "SibSp        0.159651  \n",
       "Parch        0.216225  \n",
       "Fare         1.000000  "
      ]
     },
     "execution_count": 7,
     "metadata": {},
     "output_type": "execute_result"
    }
   ],
   "source": [
    "train_titanic.corr()"
   ]
  },
  {
   "cell_type": "code",
   "execution_count": 8,
   "id": "95a7a9f1",
   "metadata": {
    "execution": {
     "iopub.execute_input": "2023-08-07T05:12:30.919694Z",
     "iopub.status.busy": "2023-08-07T05:12:30.918930Z",
     "iopub.status.idle": "2023-08-07T05:12:30.927464Z",
     "shell.execute_reply": "2023-08-07T05:12:30.926404Z"
    },
    "papermill": {
     "duration": 0.033422,
     "end_time": "2023-08-07T05:12:30.929850",
     "exception": false,
     "start_time": "2023-08-07T05:12:30.896428",
     "status": "completed"
    },
    "tags": []
   },
   "outputs": [
    {
     "data": {
      "text/plain": [
       "PassengerId      int64\n",
       "Survived         int64\n",
       "Pclass           int64\n",
       "Name            object\n",
       "Sex             object\n",
       "Age            float64\n",
       "SibSp            int64\n",
       "Parch            int64\n",
       "Ticket          object\n",
       "Fare           float64\n",
       "Cabin           object\n",
       "Embarked        object\n",
       "dtype: object"
      ]
     },
     "execution_count": 8,
     "metadata": {},
     "output_type": "execute_result"
    }
   ],
   "source": [
    "train_titanic.dtypes"
   ]
  },
  {
   "cell_type": "code",
   "execution_count": 9,
   "id": "eceee2d5",
   "metadata": {
    "execution": {
     "iopub.execute_input": "2023-08-07T05:12:30.973962Z",
     "iopub.status.busy": "2023-08-07T05:12:30.973538Z",
     "iopub.status.idle": "2023-08-07T05:12:30.981020Z",
     "shell.execute_reply": "2023-08-07T05:12:30.979654Z"
    },
    "papermill": {
     "duration": 0.031936,
     "end_time": "2023-08-07T05:12:30.983133",
     "exception": false,
     "start_time": "2023-08-07T05:12:30.951197",
     "status": "completed"
    },
    "tags": []
   },
   "outputs": [
    {
     "data": {
      "text/plain": [
       "Index(['PassengerId', 'Survived', 'Pclass', 'Name', 'Sex', 'Age', 'SibSp',\n",
       "       'Parch', 'Ticket', 'Fare', 'Cabin', 'Embarked'],\n",
       "      dtype='object')"
      ]
     },
     "execution_count": 9,
     "metadata": {},
     "output_type": "execute_result"
    }
   ],
   "source": [
    "train_titanic.columns"
   ]
  },
  {
   "cell_type": "code",
   "execution_count": 10,
   "id": "f7dfd168",
   "metadata": {
    "execution": {
     "iopub.execute_input": "2023-08-07T05:12:31.029236Z",
     "iopub.status.busy": "2023-08-07T05:12:31.028840Z",
     "iopub.status.idle": "2023-08-07T05:12:31.054413Z",
     "shell.execute_reply": "2023-08-07T05:12:31.052714Z"
    },
    "papermill": {
     "duration": 0.052387,
     "end_time": "2023-08-07T05:12:31.056710",
     "exception": false,
     "start_time": "2023-08-07T05:12:31.004323",
     "status": "completed"
    },
    "tags": []
   },
   "outputs": [
    {
     "name": "stdout",
     "output_type": "stream",
     "text": [
      "<class 'pandas.core.frame.DataFrame'>\n",
      "RangeIndex: 891 entries, 0 to 890\n",
      "Data columns (total 12 columns):\n",
      " #   Column       Non-Null Count  Dtype  \n",
      "---  ------       --------------  -----  \n",
      " 0   PassengerId  891 non-null    int64  \n",
      " 1   Survived     891 non-null    int64  \n",
      " 2   Pclass       891 non-null    int64  \n",
      " 3   Name         891 non-null    object \n",
      " 4   Sex          891 non-null    object \n",
      " 5   Age          714 non-null    float64\n",
      " 6   SibSp        891 non-null    int64  \n",
      " 7   Parch        891 non-null    int64  \n",
      " 8   Ticket       891 non-null    object \n",
      " 9   Fare         891 non-null    float64\n",
      " 10  Cabin        204 non-null    object \n",
      " 11  Embarked     889 non-null    object \n",
      "dtypes: float64(2), int64(5), object(5)\n",
      "memory usage: 83.7+ KB\n"
     ]
    }
   ],
   "source": [
    "train_titanic.info()"
   ]
  },
  {
   "cell_type": "code",
   "execution_count": 11,
   "id": "14bdb8a7",
   "metadata": {
    "execution": {
     "iopub.execute_input": "2023-08-07T05:12:31.101392Z",
     "iopub.status.busy": "2023-08-07T05:12:31.100979Z",
     "iopub.status.idle": "2023-08-07T05:12:31.111404Z",
     "shell.execute_reply": "2023-08-07T05:12:31.110379Z"
    },
    "papermill": {
     "duration": 0.035497,
     "end_time": "2023-08-07T05:12:31.113745",
     "exception": false,
     "start_time": "2023-08-07T05:12:31.078248",
     "status": "completed"
    },
    "tags": []
   },
   "outputs": [
    {
     "data": {
      "text/plain": [
       "PassengerId      0\n",
       "Survived         0\n",
       "Pclass           0\n",
       "Name             0\n",
       "Sex              0\n",
       "Age            177\n",
       "SibSp            0\n",
       "Parch            0\n",
       "Ticket           0\n",
       "Fare             0\n",
       "Cabin          687\n",
       "Embarked         2\n",
       "dtype: int64"
      ]
     },
     "execution_count": 11,
     "metadata": {},
     "output_type": "execute_result"
    }
   ],
   "source": [
    "# Check for missing value counts\n",
    "train_titanic.isna().sum()"
   ]
  },
  {
   "cell_type": "code",
   "execution_count": 12,
   "id": "1f1f34c2",
   "metadata": {
    "execution": {
     "iopub.execute_input": "2023-08-07T05:12:31.158712Z",
     "iopub.status.busy": "2023-08-07T05:12:31.158332Z",
     "iopub.status.idle": "2023-08-07T05:12:31.703517Z",
     "shell.execute_reply": "2023-08-07T05:12:31.702225Z"
    },
    "papermill": {
     "duration": 0.570971,
     "end_time": "2023-08-07T05:12:31.706488",
     "exception": false,
     "start_time": "2023-08-07T05:12:31.135517",
     "status": "completed"
    },
    "tags": []
   },
   "outputs": [
    {
     "name": "stdout",
     "output_type": "stream",
     "text": [
      "Skewness of Age: 0.3882898514698657\n"
     ]
    },
    {
     "data": {
      "image/png": "[encoded data removed]",
      "text/plain": [
       "<Figure size 1400x1200 with 1 Axes>"
      ]
     },
     "metadata": {},
     "output_type": "display_data"
    }
   ],
   "source": [
    "# I can see that I have missing value in the Age column\n",
    "# get the skewness to determine whether to fill the missing value of a mean, median, mode or etc.\n",
    "from scipy.stats import skew\n",
    "# Distribution of Age\n",
    "plt.figure(figsize=(14,12))\n",
    "sns.histplot(train_titanic['Age'].dropna(), kde=True, color='skyblue')\n",
    "plt.title('Distribution of Age')\n",
    "plt.xlabel('Age')\n",
    "plt.ylabel('Frequency')\n",
    "\n",
    "skewness = skew(train_titanic['Age'].dropna())\n",
    "print(f\"Skewness of Age: {skewness}\")"
   ]
  },
  {
   "cell_type": "code",
   "execution_count": 13,
   "id": "06b0c03b",
   "metadata": {
    "execution": {
     "iopub.execute_input": "2023-08-07T05:12:31.754402Z",
     "iopub.status.busy": "2023-08-07T05:12:31.754033Z",
     "iopub.status.idle": "2023-08-07T05:12:31.760478Z",
     "shell.execute_reply": "2023-08-07T05:12:31.759600Z"
    },
    "papermill": {
     "duration": 0.03291,
     "end_time": "2023-08-07T05:12:31.762667",
     "exception": false,
     "start_time": "2023-08-07T05:12:31.729757",
     "status": "completed"
    },
    "tags": []
   },
   "outputs": [],
   "source": [
    "# Based on the skewness I am gonna use the median value of the Age column to fill the missing values\n",
    "median_age = train_titanic['Age'].median()\n",
    "train_titanic['Age'].fillna(median_age, inplace=True)"
   ]
  },
  {
   "cell_type": "code",
   "execution_count": 14,
   "id": "87ea4b1a",
   "metadata": {
    "execution": {
     "iopub.execute_input": "2023-08-07T05:12:31.809583Z",
     "iopub.status.busy": "2023-08-07T05:12:31.809185Z",
     "iopub.status.idle": "2023-08-07T05:12:31.815390Z",
     "shell.execute_reply": "2023-08-07T05:12:31.814335Z"
    },
    "papermill": {
     "duration": 0.032489,
     "end_time": "2023-08-07T05:12:31.817683",
     "exception": false,
     "start_time": "2023-08-07T05:12:31.785194",
     "status": "completed"
    },
    "tags": []
   },
   "outputs": [],
   "source": [
    "# Fill missing values in the Embarked column using mode imputation\n",
    "train_titanic['Embarked'].fillna(train_titanic['Embarked'].mode()[0], inplace=True)"
   ]
  },
  {
   "cell_type": "code",
   "execution_count": 15,
   "id": "d121dbf1",
   "metadata": {
    "execution": {
     "iopub.execute_input": "2023-08-07T05:12:31.865193Z",
     "iopub.status.busy": "2023-08-07T05:12:31.864822Z",
     "iopub.status.idle": "2023-08-07T05:12:31.884064Z",
     "shell.execute_reply": "2023-08-07T05:12:31.882986Z"
    },
    "papermill": {
     "duration": 0.045865,
     "end_time": "2023-08-07T05:12:31.886415",
     "exception": false,
     "start_time": "2023-08-07T05:12:31.840550",
     "status": "completed"
    },
    "tags": []
   },
   "outputs": [
    {
     "data": {
      "text/html": [
       "<div>\n",
       "<style scoped>\n",
       "    .dataframe tbody tr th:only-of-type {\n",
       "        vertical-align: middle;\n",
       "    }\n",
       "\n",
       "    .dataframe tbody tr th {\n",
       "        vertical-align: top;\n",
       "    }\n",
       "\n",
       "    .dataframe thead th {\n",
       "        text-align: right;\n",
       "    }\n",
       "</style>\n",
       "<table border=\"1\" class=\"dataframe\">\n",
       "  <thead>\n",
       "    <tr style=\"text-align: right;\">\n",
       "      <th></th>\n",
       "      <th>Survived</th>\n",
       "      <th>Pclass</th>\n",
       "      <th>Sex</th>\n",
       "      <th>Age</th>\n",
       "      <th>SibSp</th>\n",
       "      <th>Parch</th>\n",
       "      <th>Embarked</th>\n",
       "    </tr>\n",
       "  </thead>\n",
       "  <tbody>\n",
       "    <tr>\n",
       "      <th>0</th>\n",
       "      <td>0</td>\n",
       "      <td>3</td>\n",
       "      <td>male</td>\n",
       "      <td>22.0</td>\n",
       "      <td>1</td>\n",
       "      <td>0</td>\n",
       "      <td>S</td>\n",
       "    </tr>\n",
       "    <tr>\n",
       "      <th>1</th>\n",
       "      <td>1</td>\n",
       "      <td>1</td>\n",
       "      <td>female</td>\n",
       "      <td>38.0</td>\n",
       "      <td>1</td>\n",
       "      <td>0</td>\n",
       "      <td>C</td>\n",
       "    </tr>\n",
       "    <tr>\n",
       "      <th>2</th>\n",
       "      <td>1</td>\n",
       "      <td>3</td>\n",
       "      <td>female</td>\n",
       "      <td>26.0</td>\n",
       "      <td>0</td>\n",
       "      <td>0</td>\n",
       "      <td>S</td>\n",
       "    </tr>\n",
       "    <tr>\n",
       "      <th>3</th>\n",
       "      <td>1</td>\n",
       "      <td>1</td>\n",
       "      <td>female</td>\n",
       "      <td>35.0</td>\n",
       "      <td>1</td>\n",
       "      <td>0</td>\n",
       "      <td>S</td>\n",
       "    </tr>\n",
       "    <tr>\n",
       "      <th>4</th>\n",
       "      <td>0</td>\n",
       "      <td>3</td>\n",
       "      <td>male</td>\n",
       "      <td>35.0</td>\n",
       "      <td>0</td>\n",
       "      <td>0</td>\n",
       "      <td>S</td>\n",
       "    </tr>\n",
       "    <tr>\n",
       "      <th>...</th>\n",
       "      <td>...</td>\n",
       "      <td>...</td>\n",
       "      <td>...</td>\n",
       "      <td>...</td>\n",
       "      <td>...</td>\n",
       "      <td>...</td>\n",
       "      <td>...</td>\n",
       "    </tr>\n",
       "    <tr>\n",
       "      <th>886</th>\n",
       "      <td>0</td>\n",
       "      <td>2</td>\n",
       "      <td>male</td>\n",
       "      <td>27.0</td>\n",
       "      <td>0</td>\n",
       "      <td>0</td>\n",
       "      <td>S</td>\n",
       "    </tr>\n",
       "    <tr>\n",
       "      <th>887</th>\n",
       "      <td>1</td>\n",
       "      <td>1</td>\n",
       "      <td>female</td>\n",
       "      <td>19.0</td>\n",
       "      <td>0</td>\n",
       "      <td>0</td>\n",
       "      <td>S</td>\n",
       "    </tr>\n",
       "    <tr>\n",
       "      <th>888</th>\n",
       "      <td>0</td>\n",
       "      <td>3</td>\n",
       "      <td>female</td>\n",
       "      <td>28.0</td>\n",
       "      <td>1</td>\n",
       "      <td>2</td>\n",
       "      <td>S</td>\n",
       "    </tr>\n",
       "    <tr>\n",
       "      <th>889</th>\n",
       "      <td>1</td>\n",
       "      <td>1</td>\n",
       "      <td>male</td>\n",
       "      <td>26.0</td>\n",
       "      <td>0</td>\n",
       "      <td>0</td>\n",
       "      <td>C</td>\n",
       "    </tr>\n",
       "    <tr>\n",
       "      <th>890</th>\n",
       "      <td>0</td>\n",
       "      <td>3</td>\n",
       "      <td>male</td>\n",
       "      <td>32.0</td>\n",
       "      <td>0</td>\n",
       "      <td>0</td>\n",
       "      <td>Q</td>\n",
       "    </tr>\n",
       "  </tbody>\n",
       "</table>\n",
       "<p>891 rows × 7 columns</p>\n",
       "</div>"
      ],
      "text/plain": [
       "     Survived  Pclass     Sex   Age  SibSp  Parch Embarked\n",
       "0           0       3    male  22.0      1      0        S\n",
       "1           1       1  female  38.0      1      0        C\n",
       "2           1       3  female  26.0      0      0        S\n",
       "3           1       1  female  35.0      1      0        S\n",
       "4           0       3    male  35.0      0      0        S\n",
       "..        ...     ...     ...   ...    ...    ...      ...\n",
       "886         0       2    male  27.0      0      0        S\n",
       "887         1       1  female  19.0      0      0        S\n",
       "888         0       3  female  28.0      1      2        S\n",
       "889         1       1    male  26.0      0      0        C\n",
       "890         0       3    male  32.0      0      0        Q\n",
       "\n",
       "[891 rows x 7 columns]"
      ]
     },
     "execution_count": 15,
     "metadata": {},
     "output_type": "execute_result"
    }
   ],
   "source": [
    "# Dropping unnecessary columns\n",
    "train_titanic = train_titanic.drop(['PassengerId', 'Name', 'Cabin', 'Ticket', 'Fare'], axis=1)\n",
    "train_titanic"
   ]
  },
  {
   "cell_type": "markdown",
   "id": "87b75d01",
   "metadata": {
    "papermill": {
     "duration": 0.022571,
     "end_time": "2023-08-07T05:12:31.932457",
     "exception": false,
     "start_time": "2023-08-07T05:12:31.909886",
     "status": "completed"
    },
    "tags": []
   },
   "source": [
    "# **Exploratory Data Analysis**"
   ]
  },
  {
   "cell_type": "markdown",
   "id": "b153eafd",
   "metadata": {
    "papermill": {
     "duration": 0.022989,
     "end_time": "2023-08-07T05:12:31.978710",
     "exception": false,
     "start_time": "2023-08-07T05:12:31.955721",
     "status": "completed"
    },
    "tags": []
   },
   "source": [
    "### Import data visualization packages"
   ]
  },
  {
   "cell_type": "code",
   "execution_count": 16,
   "id": "8ce08442",
   "metadata": {
    "execution": {
     "iopub.execute_input": "2023-08-07T05:12:32.028407Z",
     "iopub.status.busy": "2023-08-07T05:12:32.028003Z",
     "iopub.status.idle": "2023-08-07T05:12:32.034248Z",
     "shell.execute_reply": "2023-08-07T05:12:32.033176Z"
    },
    "papermill": {
     "duration": 0.034451,
     "end_time": "2023-08-07T05:12:32.036451",
     "exception": false,
     "start_time": "2023-08-07T05:12:32.002000",
     "status": "completed"
    },
    "tags": []
   },
   "outputs": [],
   "source": [
    "%matplotlib inline\n",
    "import matplotlib.pyplot as plt\n",
    "import seaborn as sns"
   ]
  },
  {
   "cell_type": "code",
   "execution_count": 17,
   "id": "b293e6dd",
   "metadata": {
    "execution": {
     "iopub.execute_input": "2023-08-07T05:12:32.085156Z",
     "iopub.status.busy": "2023-08-07T05:12:32.084435Z",
     "iopub.status.idle": "2023-08-07T05:12:32.352396Z",
     "shell.execute_reply": "2023-08-07T05:12:32.351310Z"
    },
    "papermill": {
     "duration": 0.295019,
     "end_time": "2023-08-07T05:12:32.354951",
     "exception": false,
     "start_time": "2023-08-07T05:12:32.059932",
     "status": "completed"
    },
    "tags": []
   },
   "outputs": [
    {
     "data": {
      "image/png": "[encoded data removed]",
      "text/plain": [
       "<Figure size 640x480 with 1 Axes>"
      ]
     },
     "metadata": {},
     "output_type": "display_data"
    }
   ],
   "source": [
    "# Male and Female survivor\n",
    "sns.countplot(x='Sex', data=train_titanic, hue='Survived')\n",
    "plt.title('Male vs Female Survivor')\n",
    "plt.xlabel('Survived')\n",
    "plt.ylabel('Count')\n",
    "plt.legend(title='Survived', labels=['No', 'Yes'])\n",
    "\n",
    "plt.show()"
   ]
  },
  {
   "cell_type": "markdown",
   "id": "4ca59d98",
   "metadata": {
    "papermill": {
     "duration": 0.023278,
     "end_time": "2023-08-07T05:12:32.401533",
     "exception": false,
     "start_time": "2023-08-07T05:12:32.378255",
     "status": "completed"
    },
    "tags": []
   },
   "source": [
    "As shown in the graph, majority of **Male** did not survived the titanic."
   ]
  },
  {
   "cell_type": "code",
   "execution_count": 18,
   "id": "3800558f",
   "metadata": {
    "execution": {
     "iopub.execute_input": "2023-08-07T05:12:32.450138Z",
     "iopub.status.busy": "2023-08-07T05:12:32.449702Z",
     "iopub.status.idle": "2023-08-07T05:12:32.610230Z",
     "shell.execute_reply": "2023-08-07T05:12:32.608819Z"
    },
    "papermill": {
     "duration": 0.188006,
     "end_time": "2023-08-07T05:12:32.612904",
     "exception": false,
     "start_time": "2023-08-07T05:12:32.424898",
     "status": "completed"
    },
    "tags": []
   },
   "outputs": [
    {
     "data": {
      "image/png": "[encoded data removed]",
      "text/plain": [
       "<Figure size 1000x600 with 1 Axes>"
      ]
     },
     "metadata": {},
     "output_type": "display_data"
    }
   ],
   "source": [
    "# Pie chart for the percentage of Male and Female survivor\n",
    "plt.figure(figsize=(10, 6))\n",
    "plt.pie(train_titanic['Survived'].value_counts(),labels=['No', 'Yes'], autopct='%1.2f%%')\n",
    "plt.title('Survivor Percentage')\n",
    "plt.show()"
   ]
  },
  {
   "cell_type": "markdown",
   "id": "a7e35b1d",
   "metadata": {
    "execution": {
     "iopub.execute_input": "2023-08-04T10:37:15.783700Z",
     "iopub.status.busy": "2023-08-04T10:37:15.783291Z",
     "iopub.status.idle": "2023-08-04T10:37:15.790640Z",
     "shell.execute_reply": "2023-08-04T10:37:15.789430Z",
     "shell.execute_reply.started": "2023-08-04T10:37:15.783667Z"
    },
    "papermill": {
     "duration": 0.023484,
     "end_time": "2023-08-07T05:12:32.684156",
     "exception": false,
     "start_time": "2023-08-07T05:12:32.660672",
     "status": "completed"
    },
    "tags": []
   },
   "source": [
    "The percentage of the survivor in the dataset are only 38.38%."
   ]
  },
  {
   "cell_type": "markdown",
   "id": "8c111175",
   "metadata": {
    "papermill": {
     "duration": 0.023234,
     "end_time": "2023-08-07T05:12:32.731222",
     "exception": false,
     "start_time": "2023-08-07T05:12:32.707988",
     "status": "completed"
    },
    "tags": []
   },
   "source": [
    "## **Age Count**"
   ]
  },
  {
   "cell_type": "code",
   "execution_count": 19,
   "id": "9f1bc001",
   "metadata": {
    "execution": {
     "iopub.execute_input": "2023-08-07T05:12:32.782287Z",
     "iopub.status.busy": "2023-08-07T05:12:32.781484Z",
     "iopub.status.idle": "2023-08-07T05:12:33.311296Z",
     "shell.execute_reply": "2023-08-07T05:12:33.310488Z"
    },
    "papermill": {
     "duration": 0.558155,
     "end_time": "2023-08-07T05:12:33.314319",
     "exception": false,
     "start_time": "2023-08-07T05:12:32.756164",
     "status": "completed"
    },
    "tags": []
   },
   "outputs": [
    {
     "data": {
      "text/plain": [
       "<matplotlib.legend.Legend at 0x7c44481f7910>"
      ]
     },
     "execution_count": 19,
     "metadata": {},
     "output_type": "execute_result"
    },
    {
     "data": {
      "image/png": "[encoded data removed]",
      "text/plain": [
       "<Figure size 640x480 with 1 Axes>"
      ]
     },
     "metadata": {},
     "output_type": "display_data"
    }
   ],
   "source": [
    "# Survivor count based on Age\n",
    "sns.histplot(data=train_titanic, x='Age', hue='Survived', multiple='stack', kde=True)\n",
    "plt.legend(title='Survived', labels=['No', 'Yes'])\n"
   ]
  },
  {
   "cell_type": "markdown",
   "id": "5cc47a8e",
   "metadata": {
    "papermill": {
     "duration": 0.024509,
     "end_time": "2023-08-07T05:12:33.364231",
     "exception": false,
     "start_time": "2023-08-07T05:12:33.339722",
     "status": "completed"
    },
    "tags": []
   },
   "source": [
    "The majority of the people that did not survived are from age group 25-30 years old."
   ]
  },
  {
   "cell_type": "markdown",
   "id": "37591f0c",
   "metadata": {
    "papermill": {
     "duration": 0.024357,
     "end_time": "2023-08-07T05:12:33.413210",
     "exception": false,
     "start_time": "2023-08-07T05:12:33.388853",
     "status": "completed"
    },
    "tags": []
   },
   "source": [
    "## **Port of Embarkation**"
   ]
  },
  {
   "cell_type": "code",
   "execution_count": 20,
   "id": "e3817133",
   "metadata": {
    "execution": {
     "iopub.execute_input": "2023-08-07T05:12:33.464617Z",
     "iopub.status.busy": "2023-08-07T05:12:33.463867Z",
     "iopub.status.idle": "2023-08-07T05:12:33.785917Z",
     "shell.execute_reply": "2023-08-07T05:12:33.784741Z"
    },
    "papermill": {
     "duration": 0.350729,
     "end_time": "2023-08-07T05:12:33.788450",
     "exception": false,
     "start_time": "2023-08-07T05:12:33.437721",
     "status": "completed"
    },
    "tags": []
   },
   "outputs": [
    {
     "data": {
      "image/png": "[encoded data removed]",
      "text/plain": [
       "<Figure size 640x480 with 1 Axes>"
      ]
     },
     "metadata": {},
     "output_type": "display_data"
    }
   ],
   "source": [
    "sns.countplot(x='Embarked', hue='Survived', data=train_titanic)\n",
    "plt.title('Survivor based on their Port of Embarkation')\n",
    "plt.xlabel('Port of Embarkation (S=Southampton),(C=Cherbourg),(Q=Queenstown)')\n",
    "plt.ylabel('Count')\n",
    "plt.legend(title='Survived', labels=['No', 'Yes'])\n",
    "plt.show()"
   ]
  },
  {
   "cell_type": "markdown",
   "id": "02afbd88",
   "metadata": {
    "papermill": {
     "duration": 0.025007,
     "end_time": "2023-08-07T05:12:33.838513",
     "exception": false,
     "start_time": "2023-08-07T05:12:33.813506",
     "status": "completed"
    },
    "tags": []
   },
   "source": [
    "This graph shows the number of people who did not survived based on their port of embarkation. Majority of people who did not survived and who survived are from **S=>Southampton** port, followed by **C=>Cherbourg** and **Q=>Queenstown**."
   ]
  },
  {
   "cell_type": "markdown",
   "id": "4a0e3d6d",
   "metadata": {
    "papermill": {
     "duration": 0.024803,
     "end_time": "2023-08-07T05:12:33.888508",
     "exception": false,
     "start_time": "2023-08-07T05:12:33.863705",
     "status": "completed"
    },
    "tags": []
   },
   "source": [
    "## **Ticket class**"
   ]
  },
  {
   "cell_type": "code",
   "execution_count": 21,
   "id": "8de2e44b",
   "metadata": {
    "execution": {
     "iopub.execute_input": "2023-08-07T05:12:33.940604Z",
     "iopub.status.busy": "2023-08-07T05:12:33.940199Z",
     "iopub.status.idle": "2023-08-07T05:12:34.248316Z",
     "shell.execute_reply": "2023-08-07T05:12:34.247110Z"
    },
    "papermill": {
     "duration": 0.337197,
     "end_time": "2023-08-07T05:12:34.250838",
     "exception": false,
     "start_time": "2023-08-07T05:12:33.913641",
     "status": "completed"
    },
    "tags": []
   },
   "outputs": [
    {
     "data": {
      "image/png": "[encoded data removed]",
      "text/plain": [
       "<Figure size 640x480 with 1 Axes>"
      ]
     },
     "metadata": {},
     "output_type": "display_data"
    }
   ],
   "source": [
    "sns.countplot(x='Pclass', hue='Survived', data=train_titanic)\n",
    "plt.title('Survivor based on their Ticket class (Pclass)')\n",
    "plt.xlabel('Ticket class (Pclass)')\n",
    "plt.ylabel('Count')\n",
    "plt.legend(title='Survived', labels=['No', 'Yes'])\n",
    "plt.show()"
   ]
  },
  {
   "cell_type": "markdown",
   "id": "9ceac9b0",
   "metadata": {
    "papermill": {
     "duration": 0.028858,
     "end_time": "2023-08-07T05:12:34.306592",
     "exception": false,
     "start_time": "2023-08-07T05:12:34.277734",
     "status": "completed"
    },
    "tags": []
   },
   "source": [
    "This graph shows the number of people who did not survived based on the ticket class **(Pclass)**. Majority of people who did not survived are from **3rd class** followed by **2nd class** and **1st class**. In contrast, majority of people who survived are from **1st class**, followed by **3rd class** and **2nd class**. "
   ]
  },
  {
   "cell_type": "markdown",
   "id": "db1005b9",
   "metadata": {
    "papermill": {
     "duration": 0.025483,
     "end_time": "2023-08-07T05:12:34.357755",
     "exception": false,
     "start_time": "2023-08-07T05:12:34.332272",
     "status": "completed"
    },
    "tags": []
   },
   "source": [
    "## **Sibsp** and **Parch**"
   ]
  },
  {
   "cell_type": "code",
   "execution_count": 22,
   "id": "cf2cb584",
   "metadata": {
    "execution": {
     "iopub.execute_input": "2023-08-07T05:12:34.411029Z",
     "iopub.status.busy": "2023-08-07T05:12:34.410307Z",
     "iopub.status.idle": "2023-08-07T05:12:35.030604Z",
     "shell.execute_reply": "2023-08-07T05:12:35.029509Z"
    },
    "papermill": {
     "duration": 0.650576,
     "end_time": "2023-08-07T05:12:35.033716",
     "exception": false,
     "start_time": "2023-08-07T05:12:34.383140",
     "status": "completed"
    },
    "tags": []
   },
   "outputs": [
    {
     "data": {
      "image/png": "[encoded data removed]",
      "text/plain": [
       "<Figure size 1500x500 with 2 Axes>"
      ]
     },
     "metadata": {},
     "output_type": "display_data"
    }
   ],
   "source": [
    "\n",
    "fig, ax= plt.subplots(1,2,figsize=(15, 5))\n",
    "sns.countplot(x='SibSp', hue='Survived', data=train_titanic, ax=ax[0])\n",
    "ax[0].set_title('Number of Survivor who has Siblings/Spouses onboard')\n",
    "ax[0].set_xlabel('Sibling/Spouse (SibSp)')\n",
    "ax[0].legend(title='Survived', labels=['No', 'Yes'])\n",
    "\n",
    "\n",
    "sns.countplot(x='Parch', hue='Survived', data=train_titanic, ax=ax[1])\n",
    "ax[1].set_title('Number of Survivor who has Parents/Children onboard')\n",
    "ax[1].set_xlabel('Parents/Children (Parch)')\n",
    "ax[1].legend(title='Survived', labels=['No', 'Yes'])\n",
    "\n",
    "plt.show()"
   ]
  },
  {
   "cell_type": "markdown",
   "id": "d8a62028",
   "metadata": {
    "papermill": {
     "duration": 0.025907,
     "end_time": "2023-08-07T05:12:35.087217",
     "exception": false,
     "start_time": "2023-08-07T05:12:35.061310",
     "status": "completed"
    },
    "tags": []
   },
   "source": [
    "The graph shows the number of survivor who have **Sibling/Spouse** and **Parents/Children** aboard the titanic. Majority of people who did not survived the titanic don't have **Sibling/Spouse** and **Parents/Children** aboard the titanic."
   ]
  },
  {
   "cell_type": "markdown",
   "id": "94161e29",
   "metadata": {
    "papermill": {
     "duration": 0.025845,
     "end_time": "2023-08-07T05:12:35.139763",
     "exception": false,
     "start_time": "2023-08-07T05:12:35.113918",
     "status": "completed"
    },
    "tags": []
   },
   "source": [
    "# **Data Preprocessing Part 2**"
   ]
  },
  {
   "cell_type": "code",
   "execution_count": 23,
   "id": "5f2e0a69",
   "metadata": {
    "execution": {
     "iopub.execute_input": "2023-08-07T05:12:35.195226Z",
     "iopub.status.busy": "2023-08-07T05:12:35.194444Z",
     "iopub.status.idle": "2023-08-07T05:12:35.209757Z",
     "shell.execute_reply": "2023-08-07T05:12:35.208655Z"
    },
    "papermill": {
     "duration": 0.046094,
     "end_time": "2023-08-07T05:12:35.212035",
     "exception": false,
     "start_time": "2023-08-07T05:12:35.165941",
     "status": "completed"
    },
    "tags": []
   },
   "outputs": [
    {
     "data": {
      "text/html": [
       "<div>\n",
       "<style scoped>\n",
       "    .dataframe tbody tr th:only-of-type {\n",
       "        vertical-align: middle;\n",
       "    }\n",
       "\n",
       "    .dataframe tbody tr th {\n",
       "        vertical-align: top;\n",
       "    }\n",
       "\n",
       "    .dataframe thead th {\n",
       "        text-align: right;\n",
       "    }\n",
       "</style>\n",
       "<table border=\"1\" class=\"dataframe\">\n",
       "  <thead>\n",
       "    <tr style=\"text-align: right;\">\n",
       "      <th></th>\n",
       "      <th>Survived</th>\n",
       "      <th>Pclass</th>\n",
       "      <th>Sex</th>\n",
       "      <th>Age</th>\n",
       "      <th>SibSp</th>\n",
       "      <th>Parch</th>\n",
       "      <th>Embarked</th>\n",
       "    </tr>\n",
       "  </thead>\n",
       "  <tbody>\n",
       "    <tr>\n",
       "      <th>0</th>\n",
       "      <td>0</td>\n",
       "      <td>3</td>\n",
       "      <td>male</td>\n",
       "      <td>22.0</td>\n",
       "      <td>1</td>\n",
       "      <td>0</td>\n",
       "      <td>S</td>\n",
       "    </tr>\n",
       "    <tr>\n",
       "      <th>1</th>\n",
       "      <td>1</td>\n",
       "      <td>1</td>\n",
       "      <td>female</td>\n",
       "      <td>38.0</td>\n",
       "      <td>1</td>\n",
       "      <td>0</td>\n",
       "      <td>C</td>\n",
       "    </tr>\n",
       "    <tr>\n",
       "      <th>2</th>\n",
       "      <td>1</td>\n",
       "      <td>3</td>\n",
       "      <td>female</td>\n",
       "      <td>26.0</td>\n",
       "      <td>0</td>\n",
       "      <td>0</td>\n",
       "      <td>S</td>\n",
       "    </tr>\n",
       "    <tr>\n",
       "      <th>3</th>\n",
       "      <td>1</td>\n",
       "      <td>1</td>\n",
       "      <td>female</td>\n",
       "      <td>35.0</td>\n",
       "      <td>1</td>\n",
       "      <td>0</td>\n",
       "      <td>S</td>\n",
       "    </tr>\n",
       "    <tr>\n",
       "      <th>4</th>\n",
       "      <td>0</td>\n",
       "      <td>3</td>\n",
       "      <td>male</td>\n",
       "      <td>35.0</td>\n",
       "      <td>0</td>\n",
       "      <td>0</td>\n",
       "      <td>S</td>\n",
       "    </tr>\n",
       "    <tr>\n",
       "      <th>5</th>\n",
       "      <td>0</td>\n",
       "      <td>3</td>\n",
       "      <td>male</td>\n",
       "      <td>28.0</td>\n",
       "      <td>0</td>\n",
       "      <td>0</td>\n",
       "      <td>Q</td>\n",
       "    </tr>\n",
       "    <tr>\n",
       "      <th>6</th>\n",
       "      <td>0</td>\n",
       "      <td>1</td>\n",
       "      <td>male</td>\n",
       "      <td>54.0</td>\n",
       "      <td>0</td>\n",
       "      <td>0</td>\n",
       "      <td>S</td>\n",
       "    </tr>\n",
       "    <tr>\n",
       "      <th>7</th>\n",
       "      <td>0</td>\n",
       "      <td>3</td>\n",
       "      <td>male</td>\n",
       "      <td>2.0</td>\n",
       "      <td>3</td>\n",
       "      <td>1</td>\n",
       "      <td>S</td>\n",
       "    </tr>\n",
       "    <tr>\n",
       "      <th>8</th>\n",
       "      <td>1</td>\n",
       "      <td>3</td>\n",
       "      <td>female</td>\n",
       "      <td>27.0</td>\n",
       "      <td>0</td>\n",
       "      <td>2</td>\n",
       "      <td>S</td>\n",
       "    </tr>\n",
       "    <tr>\n",
       "      <th>9</th>\n",
       "      <td>1</td>\n",
       "      <td>2</td>\n",
       "      <td>female</td>\n",
       "      <td>14.0</td>\n",
       "      <td>1</td>\n",
       "      <td>0</td>\n",
       "      <td>C</td>\n",
       "    </tr>\n",
       "  </tbody>\n",
       "</table>\n",
       "</div>"
      ],
      "text/plain": [
       "   Survived  Pclass     Sex   Age  SibSp  Parch Embarked\n",
       "0         0       3    male  22.0      1      0        S\n",
       "1         1       1  female  38.0      1      0        C\n",
       "2         1       3  female  26.0      0      0        S\n",
       "3         1       1  female  35.0      1      0        S\n",
       "4         0       3    male  35.0      0      0        S\n",
       "5         0       3    male  28.0      0      0        Q\n",
       "6         0       1    male  54.0      0      0        S\n",
       "7         0       3    male   2.0      3      1        S\n",
       "8         1       3  female  27.0      0      2        S\n",
       "9         1       2  female  14.0      1      0        C"
      ]
     },
     "execution_count": 23,
     "metadata": {},
     "output_type": "execute_result"
    }
   ],
   "source": [
    "train_titanic.head(10)"
   ]
  },
  {
   "cell_type": "markdown",
   "id": "f7c0b49f",
   "metadata": {
    "papermill": {
     "duration": 0.026458,
     "end_time": "2023-08-07T05:12:35.265164",
     "exception": false,
     "start_time": "2023-08-07T05:12:35.238706",
     "status": "completed"
    },
    "tags": []
   },
   "source": [
    "Since there are two categorical values in my final dataframe,\n",
    "I will use LabelEncoder on the **Sex** column and **Embarked** column"
   ]
  },
  {
   "cell_type": "code",
   "execution_count": 24,
   "id": "73ae5556",
   "metadata": {
    "execution": {
     "iopub.execute_input": "2023-08-07T05:12:35.321530Z",
     "iopub.status.busy": "2023-08-07T05:12:35.320700Z",
     "iopub.status.idle": "2023-08-07T05:12:35.479554Z",
     "shell.execute_reply": "2023-08-07T05:12:35.478103Z"
    },
    "papermill": {
     "duration": 0.190297,
     "end_time": "2023-08-07T05:12:35.482408",
     "exception": false,
     "start_time": "2023-08-07T05:12:35.292111",
     "status": "completed"
    },
    "tags": []
   },
   "outputs": [
    {
     "name": "stdout",
     "output_type": "stream",
     "text": [
      "Sex [1 0]\n",
      "Embarked [2 0 1]\n"
     ]
    }
   ],
   "source": [
    "#  Male => 1, female => 0\n",
    "#  S => 2, C => 0, Q => 1\n",
    "from sklearn.preprocessing import LabelEncoder\n",
    "\n",
    "var = ['Sex', 'Embarked']\n",
    "le = LabelEncoder()\n",
    "for i in var:\n",
    "    le.fit(train_titanic[i].unique())\n",
    "    train_titanic[i] = le.transform(train_titanic[i])\n",
    "    print(i, train_titanic[i].unique())"
   ]
  },
  {
   "cell_type": "code",
   "execution_count": 25,
   "id": "bc3a5c38",
   "metadata": {
    "execution": {
     "iopub.execute_input": "2023-08-07T05:12:35.538721Z",
     "iopub.status.busy": "2023-08-07T05:12:35.537943Z",
     "iopub.status.idle": "2023-08-07T05:12:35.552340Z",
     "shell.execute_reply": "2023-08-07T05:12:35.551248Z"
    },
    "papermill": {
     "duration": 0.045034,
     "end_time": "2023-08-07T05:12:35.554611",
     "exception": false,
     "start_time": "2023-08-07T05:12:35.509577",
     "status": "completed"
    },
    "tags": []
   },
   "outputs": [
    {
     "data": {
      "text/html": [
       "<div>\n",
       "<style scoped>\n",
       "    .dataframe tbody tr th:only-of-type {\n",
       "        vertical-align: middle;\n",
       "    }\n",
       "\n",
       "    .dataframe tbody tr th {\n",
       "        vertical-align: top;\n",
       "    }\n",
       "\n",
       "    .dataframe thead th {\n",
       "        text-align: right;\n",
       "    }\n",
       "</style>\n",
       "<table border=\"1\" class=\"dataframe\">\n",
       "  <thead>\n",
       "    <tr style=\"text-align: right;\">\n",
       "      <th></th>\n",
       "      <th>Survived</th>\n",
       "      <th>Pclass</th>\n",
       "      <th>Sex</th>\n",
       "      <th>Age</th>\n",
       "      <th>SibSp</th>\n",
       "      <th>Parch</th>\n",
       "      <th>Embarked</th>\n",
       "    </tr>\n",
       "  </thead>\n",
       "  <tbody>\n",
       "    <tr>\n",
       "      <th>0</th>\n",
       "      <td>0</td>\n",
       "      <td>3</td>\n",
       "      <td>1</td>\n",
       "      <td>22.0</td>\n",
       "      <td>1</td>\n",
       "      <td>0</td>\n",
       "      <td>2</td>\n",
       "    </tr>\n",
       "    <tr>\n",
       "      <th>1</th>\n",
       "      <td>1</td>\n",
       "      <td>1</td>\n",
       "      <td>0</td>\n",
       "      <td>38.0</td>\n",
       "      <td>1</td>\n",
       "      <td>0</td>\n",
       "      <td>0</td>\n",
       "    </tr>\n",
       "    <tr>\n",
       "      <th>2</th>\n",
       "      <td>1</td>\n",
       "      <td>3</td>\n",
       "      <td>0</td>\n",
       "      <td>26.0</td>\n",
       "      <td>0</td>\n",
       "      <td>0</td>\n",
       "      <td>2</td>\n",
       "    </tr>\n",
       "    <tr>\n",
       "      <th>3</th>\n",
       "      <td>1</td>\n",
       "      <td>1</td>\n",
       "      <td>0</td>\n",
       "      <td>35.0</td>\n",
       "      <td>1</td>\n",
       "      <td>0</td>\n",
       "      <td>2</td>\n",
       "    </tr>\n",
       "    <tr>\n",
       "      <th>4</th>\n",
       "      <td>0</td>\n",
       "      <td>3</td>\n",
       "      <td>1</td>\n",
       "      <td>35.0</td>\n",
       "      <td>0</td>\n",
       "      <td>0</td>\n",
       "      <td>2</td>\n",
       "    </tr>\n",
       "    <tr>\n",
       "      <th>5</th>\n",
       "      <td>0</td>\n",
       "      <td>3</td>\n",
       "      <td>1</td>\n",
       "      <td>28.0</td>\n",
       "      <td>0</td>\n",
       "      <td>0</td>\n",
       "      <td>1</td>\n",
       "    </tr>\n",
       "    <tr>\n",
       "      <th>6</th>\n",
       "      <td>0</td>\n",
       "      <td>1</td>\n",
       "      <td>1</td>\n",
       "      <td>54.0</td>\n",
       "      <td>0</td>\n",
       "      <td>0</td>\n",
       "      <td>2</td>\n",
       "    </tr>\n",
       "    <tr>\n",
       "      <th>7</th>\n",
       "      <td>0</td>\n",
       "      <td>3</td>\n",
       "      <td>1</td>\n",
       "      <td>2.0</td>\n",
       "      <td>3</td>\n",
       "      <td>1</td>\n",
       "      <td>2</td>\n",
       "    </tr>\n",
       "    <tr>\n",
       "      <th>8</th>\n",
       "      <td>1</td>\n",
       "      <td>3</td>\n",
       "      <td>0</td>\n",
       "      <td>27.0</td>\n",
       "      <td>0</td>\n",
       "      <td>2</td>\n",
       "      <td>2</td>\n",
       "    </tr>\n",
       "    <tr>\n",
       "      <th>9</th>\n",
       "      <td>1</td>\n",
       "      <td>2</td>\n",
       "      <td>0</td>\n",
       "      <td>14.0</td>\n",
       "      <td>1</td>\n",
       "      <td>0</td>\n",
       "      <td>0</td>\n",
       "    </tr>\n",
       "  </tbody>\n",
       "</table>\n",
       "</div>"
      ],
      "text/plain": [
       "   Survived  Pclass  Sex   Age  SibSp  Parch  Embarked\n",
       "0         0       3    1  22.0      1      0         2\n",
       "1         1       1    0  38.0      1      0         0\n",
       "2         1       3    0  26.0      0      0         2\n",
       "3         1       1    0  35.0      1      0         2\n",
       "4         0       3    1  35.0      0      0         2\n",
       "5         0       3    1  28.0      0      0         1\n",
       "6         0       1    1  54.0      0      0         2\n",
       "7         0       3    1   2.0      3      1         2\n",
       "8         1       3    0  27.0      0      2         2\n",
       "9         1       2    0  14.0      1      0         0"
      ]
     },
     "execution_count": 25,
     "metadata": {},
     "output_type": "execute_result"
    }
   ],
   "source": [
    "train_titanic.head(10)"
   ]
  },
  {
   "cell_type": "markdown",
   "id": "43df60b3",
   "metadata": {
    "papermill": {
     "duration": 0.026967,
     "end_time": "2023-08-07T05:12:35.608526",
     "exception": false,
     "start_time": "2023-08-07T05:12:35.581559",
     "status": "completed"
    },
    "tags": []
   },
   "source": [
    "# **Scaling**"
   ]
  },
  {
   "cell_type": "markdown",
   "id": "154df2b0",
   "metadata": {
    "papermill": {
     "duration": 0.026535,
     "end_time": "2023-08-07T05:12:35.662059",
     "exception": false,
     "start_time": "2023-08-07T05:12:35.635524",
     "status": "completed"
    },
    "tags": []
   },
   "source": [
    " For scaling, I will use **`Age`**. I will use **`StandardScaler`** to scale these features, which will transform them to have a mean of 0 and a standard deviation of 1."
   ]
  },
  {
   "cell_type": "code",
   "execution_count": 26,
   "id": "502c2a0e",
   "metadata": {
    "execution": {
     "iopub.execute_input": "2023-08-07T05:12:35.719824Z",
     "iopub.status.busy": "2023-08-07T05:12:35.719010Z",
     "iopub.status.idle": "2023-08-07T05:12:35.740665Z",
     "shell.execute_reply": "2023-08-07T05:12:35.739519Z"
    },
    "papermill": {
     "duration": 0.05378,
     "end_time": "2023-08-07T05:12:35.743210",
     "exception": false,
     "start_time": "2023-08-07T05:12:35.689430",
     "status": "completed"
    },
    "tags": []
   },
   "outputs": [
    {
     "data": {
      "text/html": [
       "<div>\n",
       "<style scoped>\n",
       "    .dataframe tbody tr th:only-of-type {\n",
       "        vertical-align: middle;\n",
       "    }\n",
       "\n",
       "    .dataframe tbody tr th {\n",
       "        vertical-align: top;\n",
       "    }\n",
       "\n",
       "    .dataframe thead th {\n",
       "        text-align: right;\n",
       "    }\n",
       "</style>\n",
       "<table border=\"1\" class=\"dataframe\">\n",
       "  <thead>\n",
       "    <tr style=\"text-align: right;\">\n",
       "      <th></th>\n",
       "      <th>Survived</th>\n",
       "      <th>Pclass</th>\n",
       "      <th>Sex</th>\n",
       "      <th>Age</th>\n",
       "      <th>SibSp</th>\n",
       "      <th>Parch</th>\n",
       "      <th>Embarked</th>\n",
       "    </tr>\n",
       "  </thead>\n",
       "  <tbody>\n",
       "    <tr>\n",
       "      <th>0</th>\n",
       "      <td>0</td>\n",
       "      <td>3</td>\n",
       "      <td>1</td>\n",
       "      <td>-0.565736</td>\n",
       "      <td>1</td>\n",
       "      <td>0</td>\n",
       "      <td>2</td>\n",
       "    </tr>\n",
       "    <tr>\n",
       "      <th>1</th>\n",
       "      <td>1</td>\n",
       "      <td>1</td>\n",
       "      <td>0</td>\n",
       "      <td>0.663861</td>\n",
       "      <td>1</td>\n",
       "      <td>0</td>\n",
       "      <td>0</td>\n",
       "    </tr>\n",
       "    <tr>\n",
       "      <th>2</th>\n",
       "      <td>1</td>\n",
       "      <td>3</td>\n",
       "      <td>0</td>\n",
       "      <td>-0.258337</td>\n",
       "      <td>0</td>\n",
       "      <td>0</td>\n",
       "      <td>2</td>\n",
       "    </tr>\n",
       "    <tr>\n",
       "      <th>3</th>\n",
       "      <td>1</td>\n",
       "      <td>1</td>\n",
       "      <td>0</td>\n",
       "      <td>0.433312</td>\n",
       "      <td>1</td>\n",
       "      <td>0</td>\n",
       "      <td>2</td>\n",
       "    </tr>\n",
       "    <tr>\n",
       "      <th>4</th>\n",
       "      <td>0</td>\n",
       "      <td>3</td>\n",
       "      <td>1</td>\n",
       "      <td>0.433312</td>\n",
       "      <td>0</td>\n",
       "      <td>0</td>\n",
       "      <td>2</td>\n",
       "    </tr>\n",
       "    <tr>\n",
       "      <th>...</th>\n",
       "      <td>...</td>\n",
       "      <td>...</td>\n",
       "      <td>...</td>\n",
       "      <td>...</td>\n",
       "      <td>...</td>\n",
       "      <td>...</td>\n",
       "      <td>...</td>\n",
       "    </tr>\n",
       "    <tr>\n",
       "      <th>886</th>\n",
       "      <td>0</td>\n",
       "      <td>2</td>\n",
       "      <td>1</td>\n",
       "      <td>-0.181487</td>\n",
       "      <td>0</td>\n",
       "      <td>0</td>\n",
       "      <td>2</td>\n",
       "    </tr>\n",
       "    <tr>\n",
       "      <th>887</th>\n",
       "      <td>1</td>\n",
       "      <td>1</td>\n",
       "      <td>0</td>\n",
       "      <td>-0.796286</td>\n",
       "      <td>0</td>\n",
       "      <td>0</td>\n",
       "      <td>2</td>\n",
       "    </tr>\n",
       "    <tr>\n",
       "      <th>888</th>\n",
       "      <td>0</td>\n",
       "      <td>3</td>\n",
       "      <td>0</td>\n",
       "      <td>-0.104637</td>\n",
       "      <td>1</td>\n",
       "      <td>2</td>\n",
       "      <td>2</td>\n",
       "    </tr>\n",
       "    <tr>\n",
       "      <th>889</th>\n",
       "      <td>1</td>\n",
       "      <td>1</td>\n",
       "      <td>1</td>\n",
       "      <td>-0.258337</td>\n",
       "      <td>0</td>\n",
       "      <td>0</td>\n",
       "      <td>0</td>\n",
       "    </tr>\n",
       "    <tr>\n",
       "      <th>890</th>\n",
       "      <td>0</td>\n",
       "      <td>3</td>\n",
       "      <td>1</td>\n",
       "      <td>0.202762</td>\n",
       "      <td>0</td>\n",
       "      <td>0</td>\n",
       "      <td>1</td>\n",
       "    </tr>\n",
       "  </tbody>\n",
       "</table>\n",
       "<p>891 rows × 7 columns</p>\n",
       "</div>"
      ],
      "text/plain": [
       "     Survived  Pclass  Sex       Age  SibSp  Parch  Embarked\n",
       "0           0       3    1 -0.565736      1      0         2\n",
       "1           1       1    0  0.663861      1      0         0\n",
       "2           1       3    0 -0.258337      0      0         2\n",
       "3           1       1    0  0.433312      1      0         2\n",
       "4           0       3    1  0.433312      0      0         2\n",
       "..        ...     ...  ...       ...    ...    ...       ...\n",
       "886         0       2    1 -0.181487      0      0         2\n",
       "887         1       1    0 -0.796286      0      0         2\n",
       "888         0       3    0 -0.104637      1      2         2\n",
       "889         1       1    1 -0.258337      0      0         0\n",
       "890         0       3    1  0.202762      0      0         1\n",
       "\n",
       "[891 rows x 7 columns]"
      ]
     },
     "execution_count": 26,
     "metadata": {},
     "output_type": "execute_result"
    }
   ],
   "source": [
    "from sklearn.preprocessing import StandardScaler\n",
    "\n",
    "scaler = StandardScaler()\n",
    "\n",
    "train_titanic[['Age']] = scaler.fit_transform(train_titanic[['Age']])\n",
    "train_titanic"
   ]
  },
  {
   "cell_type": "markdown",
   "id": "c3715059",
   "metadata": {
    "papermill": {
     "duration": 0.027245,
     "end_time": "2023-08-07T05:12:35.797990",
     "exception": false,
     "start_time": "2023-08-07T05:12:35.770745",
     "status": "completed"
    },
    "tags": []
   },
   "source": [
    "# Checking Correlation Matrix"
   ]
  },
  {
   "cell_type": "code",
   "execution_count": 27,
   "id": "a10023aa",
   "metadata": {
    "execution": {
     "iopub.execute_input": "2023-08-07T05:12:35.854663Z",
     "iopub.status.busy": "2023-08-07T05:12:35.854287Z",
     "iopub.status.idle": "2023-08-07T05:12:36.375005Z",
     "shell.execute_reply": "2023-08-07T05:12:36.374162Z"
    },
    "papermill": {
     "duration": 0.551858,
     "end_time": "2023-08-07T05:12:36.377200",
     "exception": false,
     "start_time": "2023-08-07T05:12:35.825342",
     "status": "completed"
    },
    "tags": []
   },
   "outputs": [
    {
     "data": {
      "image/png": "[encoded data removed]",
      "text/plain": [
       "<Figure size 900x900 with 2 Axes>"
      ]
     },
     "metadata": {},
     "output_type": "display_data"
    }
   ],
   "source": [
    "plt.figure(figsize=(9, 9))\n",
    "sns.heatmap(train_titanic.corr(), annot=True, cmap='coolwarm')\n",
    "plt.title('Correlation Matrix')\n",
    "plt.show()"
   ]
  },
  {
   "cell_type": "markdown",
   "id": "a64f8ce6",
   "metadata": {
    "papermill": {
     "duration": 0.029141,
     "end_time": "2023-08-07T05:12:36.435521",
     "exception": false,
     "start_time": "2023-08-07T05:12:36.406380",
     "status": "completed"
    },
    "tags": []
   },
   "source": [
    "# **Train Test Split**"
   ]
  },
  {
   "cell_type": "code",
   "execution_count": 28,
   "id": "c60edda1",
   "metadata": {
    "execution": {
     "iopub.execute_input": "2023-08-07T05:12:36.496508Z",
     "iopub.status.busy": "2023-08-07T05:12:36.495365Z",
     "iopub.status.idle": "2023-08-07T05:12:36.610214Z",
     "shell.execute_reply": "2023-08-07T05:12:36.609112Z"
    },
    "papermill": {
     "duration": 0.148073,
     "end_time": "2023-08-07T05:12:36.612886",
     "exception": false,
     "start_time": "2023-08-07T05:12:36.464813",
     "status": "completed"
    },
    "tags": []
   },
   "outputs": [],
   "source": [
    "#Assign features and target\n",
    "X = train_titanic.drop(['Survived'], axis=1)\n",
    "y = train_titanic.Survived\n",
    "#train test split\n",
    "from sklearn.model_selection import train_test_split\n",
    "X_train, X_test, y_train, y_test = train_test_split(X, y, test_size=0.2)"
   ]
  },
  {
   "cell_type": "markdown",
   "id": "01db3d13",
   "metadata": {
    "papermill": {
     "duration": 0.028695,
     "end_time": "2023-08-07T05:12:36.670769",
     "exception": false,
     "start_time": "2023-08-07T05:12:36.642074",
     "status": "completed"
    },
    "tags": []
   },
   "source": [
    "# **Using LogisticRegression**"
   ]
  },
  {
   "cell_type": "code",
   "execution_count": 29,
   "id": "d9bd497c",
   "metadata": {
    "execution": {
     "iopub.execute_input": "2023-08-07T05:12:36.730039Z",
     "iopub.status.busy": "2023-08-07T05:12:36.729369Z",
     "iopub.status.idle": "2023-08-07T05:12:36.988856Z",
     "shell.execute_reply": "2023-08-07T05:12:36.987592Z"
    },
    "papermill": {
     "duration": 0.291968,
     "end_time": "2023-08-07T05:12:36.991310",
     "exception": false,
     "start_time": "2023-08-07T05:12:36.699342",
     "status": "completed"
    },
    "tags": []
   },
   "outputs": [
    {
     "data": {
      "text/html": [
       "<style>#sk-container-id-1 {color: black;background-color: white;}#sk-container-id-1 pre{padding: 0;}#sk-container-id-1 div.sk-toggleable {background-color: white;}#sk-container-id-1 label.sk-toggleable__label {cursor: pointer;display: block;width: 100%;margin-bottom: 0;padding: 0.3em;box-sizing: border-box;text-align: center;}#sk-container-id-1 label.sk-toggleable__label-arrow:before {content: \"▸\";float: left;margin-right: 0.25em;color: #696969;}#sk-container-id-1 label.sk-toggleable__label-arrow:hover:before {color: black;}#sk-container-id-1 div.sk-estimator:hover label.sk-toggleable__label-arrow:before {color: black;}#sk-container-id-1 div.sk-toggleable__content {max-height: 0;max-width: 0;overflow: hidden;text-align: left;background-color: #f0f8ff;}#sk-container-id-1 div.sk-toggleable__content pre {margin: 0.2em;color: black;border-radius: 0.25em;background-color: #f0f8ff;}#sk-container-id-1 input.sk-toggleable__control:checked~div.sk-toggleable__content {max-height: 200px;max-width: 100%;overflow: auto;}#sk-container-id-1 input.sk-toggleable__control:checked~label.sk-toggleable__label-arrow:before {content: \"▾\";}#sk-container-id-1 div.sk-estimator input.sk-toggleable__control:checked~label.sk-toggleable__label {background-color: #d4ebff;}#sk-container-id-1 div.sk-label input.sk-toggleable__control:checked~label.sk-toggleable__label {background-color: #d4ebff;}#sk-container-id-1 input.sk-hidden--visually {border: 0;clip: rect(1px 1px 1px 1px);clip: rect(1px, 1px, 1px, 1px);height: 1px;margin: -1px;overflow: hidden;padding: 0;position: absolute;width: 1px;}#sk-container-id-1 div.sk-estimator {font-family: monospace;background-color: #f0f8ff;border: 1px dotted black;border-radius: 0.25em;box-sizing: border-box;margin-bottom: 0.5em;}#sk-container-id-1 div.sk-estimator:hover {background-color: #d4ebff;}#sk-container-id-1 div.sk-parallel-item::after {content: \"\";width: 100%;border-bottom: 1px solid gray;flex-grow: 1;}#sk-container-id-1 div.sk-label:hover label.sk-toggleable__label {background-color: #d4ebff;}#sk-container-id-1 div.sk-serial::before {content: \"\";position: absolute;border-left: 1px solid gray;box-sizing: border-box;top: 0;bottom: 0;left: 50%;z-index: 0;}#sk-container-id-1 div.sk-serial {display: flex;flex-direction: column;align-items: center;background-color: white;padding-right: 0.2em;padding-left: 0.2em;position: relative;}#sk-container-id-1 div.sk-item {position: relative;z-index: 1;}#sk-container-id-1 div.sk-parallel {display: flex;align-items: stretch;justify-content: center;background-color: white;position: relative;}#sk-container-id-1 div.sk-item::before, #sk-container-id-1 div.sk-parallel-item::before {content: \"\";position: absolute;border-left: 1px solid gray;box-sizing: border-box;top: 0;bottom: 0;left: 50%;z-index: -1;}#sk-container-id-1 div.sk-parallel-item {display: flex;flex-direction: column;z-index: 1;position: relative;background-color: white;}#sk-container-id-1 div.sk-parallel-item:first-child::after {align-self: flex-end;width: 50%;}#sk-container-id-1 div.sk-parallel-item:last-child::after {align-self: flex-start;width: 50%;}#sk-container-id-1 div.sk-parallel-item:only-child::after {width: 0;}#sk-container-id-1 div.sk-dashed-wrapped {border: 1px dashed gray;margin: 0 0.4em 0.5em 0.4em;box-sizing: border-box;padding-bottom: 0.4em;background-color: white;}#sk-container-id-1 div.sk-label label {font-family: monospace;font-weight: bold;display: inline-block;line-height: 1.2em;}#sk-container-id-1 div.sk-label-container {text-align: center;}#sk-container-id-1 div.sk-container {/* jupyter's `normalize.less` sets `[hidden] { display: none; }` but bootstrap.min.css set `[hidden] { display: none !important; }` so we also need the `!important` here to be able to override the default hidden behavior on the sphinx rendered scikit-learn.org. See: https://github.com/scikit-learn/scikit-learn/issues/21755 */display: inline-block !important;position: relative;}#sk-container-id-1 div.sk-text-repr-fallback {display: none;}</style><div id=\"sk-container-id-1\" class=\"sk-top-container\"><div class=\"sk-text-repr-fallback\"><pre>LogisticRegression()</pre><b>In a Jupyter environment, please rerun this cell to show the HTML representation or trust the notebook. <br />On GitHub, the HTML representation is unable to render, please try loading this page with nbviewer.org.</b></div><div class=\"sk-container\" hidden><div class=\"sk-item\"><div class=\"sk-estimator sk-toggleable\"><input class=\"sk-toggleable__control sk-hidden--visually\" id=\"sk-estimator-id-1\" type=\"checkbox\" checked><label for=\"sk-estimator-id-1\" class=\"sk-toggleable__label sk-toggleable__label-arrow\">LogisticRegression</label><div class=\"sk-toggleable__content\"><pre>LogisticRegression()</pre></div></div></div></div></div>"
      ],
      "text/plain": [
       "LogisticRegression()"
      ]
     },
     "execution_count": 29,
     "metadata": {},
     "output_type": "execute_result"
    }
   ],
   "source": [
    "from sklearn.linear_model import LogisticRegression\n",
    "logreg = LogisticRegression()\n",
    "logreg"
   ]
  },
  {
   "cell_type": "code",
   "execution_count": 30,
   "id": "a0b81610",
   "metadata": {
    "execution": {
     "iopub.execute_input": "2023-08-07T05:12:37.053195Z",
     "iopub.status.busy": "2023-08-07T05:12:37.052767Z",
     "iopub.status.idle": "2023-08-07T05:12:37.072945Z",
     "shell.execute_reply": "2023-08-07T05:12:37.071917Z"
    },
    "papermill": {
     "duration": 0.054744,
     "end_time": "2023-08-07T05:12:37.075403",
     "exception": false,
     "start_time": "2023-08-07T05:12:37.020659",
     "status": "completed"
    },
    "tags": []
   },
   "outputs": [
    {
     "data": {
      "text/plain": [
       "0.797752808988764"
      ]
     },
     "execution_count": 30,
     "metadata": {},
     "output_type": "execute_result"
    }
   ],
   "source": [
    "logreg.fit(X_train, y_train)\n",
    "logreg.score(X_train, y_train)"
   ]
  },
  {
   "cell_type": "code",
   "execution_count": 31,
   "id": "474aeb1b",
   "metadata": {
    "execution": {
     "iopub.execute_input": "2023-08-07T05:12:37.148888Z",
     "iopub.status.busy": "2023-08-07T05:12:37.148363Z",
     "iopub.status.idle": "2023-08-07T05:12:37.164912Z",
     "shell.execute_reply": "2023-08-07T05:12:37.163853Z"
    },
    "papermill": {
     "duration": 0.059636,
     "end_time": "2023-08-07T05:12:37.168575",
     "exception": false,
     "start_time": "2023-08-07T05:12:37.108939",
     "status": "completed"
    },
    "tags": []
   },
   "outputs": [
    {
     "data": {
      "text/html": [
       "<div>\n",
       "<style scoped>\n",
       "    .dataframe tbody tr th:only-of-type {\n",
       "        vertical-align: middle;\n",
       "    }\n",
       "\n",
       "    .dataframe tbody tr th {\n",
       "        vertical-align: top;\n",
       "    }\n",
       "\n",
       "    .dataframe thead th {\n",
       "        text-align: right;\n",
       "    }\n",
       "</style>\n",
       "<table border=\"1\" class=\"dataframe\">\n",
       "  <thead>\n",
       "    <tr style=\"text-align: right;\">\n",
       "      <th></th>\n",
       "      <th>Pclass</th>\n",
       "      <th>Sex</th>\n",
       "      <th>Age</th>\n",
       "      <th>SibSp</th>\n",
       "      <th>Parch</th>\n",
       "      <th>Embarked</th>\n",
       "    </tr>\n",
       "  </thead>\n",
       "  <tbody>\n",
       "    <tr>\n",
       "      <th>830</th>\n",
       "      <td>3</td>\n",
       "      <td>0</td>\n",
       "      <td>-1.103685</td>\n",
       "      <td>1</td>\n",
       "      <td>0</td>\n",
       "      <td>0</td>\n",
       "    </tr>\n",
       "    <tr>\n",
       "      <th>661</th>\n",
       "      <td>3</td>\n",
       "      <td>1</td>\n",
       "      <td>0.817561</td>\n",
       "      <td>0</td>\n",
       "      <td>0</td>\n",
       "      <td>0</td>\n",
       "    </tr>\n",
       "    <tr>\n",
       "      <th>59</th>\n",
       "      <td>3</td>\n",
       "      <td>1</td>\n",
       "      <td>-1.411085</td>\n",
       "      <td>5</td>\n",
       "      <td>2</td>\n",
       "      <td>2</td>\n",
       "    </tr>\n",
       "    <tr>\n",
       "      <th>44</th>\n",
       "      <td>3</td>\n",
       "      <td>0</td>\n",
       "      <td>-0.796286</td>\n",
       "      <td>0</td>\n",
       "      <td>0</td>\n",
       "      <td>1</td>\n",
       "    </tr>\n",
       "    <tr>\n",
       "      <th>498</th>\n",
       "      <td>1</td>\n",
       "      <td>0</td>\n",
       "      <td>-0.335187</td>\n",
       "      <td>1</td>\n",
       "      <td>2</td>\n",
       "      <td>2</td>\n",
       "    </tr>\n",
       "    <tr>\n",
       "      <th>...</th>\n",
       "      <td>...</td>\n",
       "      <td>...</td>\n",
       "      <td>...</td>\n",
       "      <td>...</td>\n",
       "      <td>...</td>\n",
       "      <td>...</td>\n",
       "    </tr>\n",
       "    <tr>\n",
       "      <th>7</th>\n",
       "      <td>3</td>\n",
       "      <td>1</td>\n",
       "      <td>-2.102733</td>\n",
       "      <td>3</td>\n",
       "      <td>1</td>\n",
       "      <td>2</td>\n",
       "    </tr>\n",
       "    <tr>\n",
       "      <th>351</th>\n",
       "      <td>1</td>\n",
       "      <td>1</td>\n",
       "      <td>-0.104637</td>\n",
       "      <td>0</td>\n",
       "      <td>0</td>\n",
       "      <td>2</td>\n",
       "    </tr>\n",
       "    <tr>\n",
       "      <th>216</th>\n",
       "      <td>3</td>\n",
       "      <td>0</td>\n",
       "      <td>-0.181487</td>\n",
       "      <td>0</td>\n",
       "      <td>0</td>\n",
       "      <td>2</td>\n",
       "    </tr>\n",
       "    <tr>\n",
       "      <th>579</th>\n",
       "      <td>3</td>\n",
       "      <td>1</td>\n",
       "      <td>0.202762</td>\n",
       "      <td>0</td>\n",
       "      <td>0</td>\n",
       "      <td>2</td>\n",
       "    </tr>\n",
       "    <tr>\n",
       "      <th>838</th>\n",
       "      <td>3</td>\n",
       "      <td>1</td>\n",
       "      <td>0.202762</td>\n",
       "      <td>0</td>\n",
       "      <td>0</td>\n",
       "      <td>2</td>\n",
       "    </tr>\n",
       "  </tbody>\n",
       "</table>\n",
       "<p>179 rows × 6 columns</p>\n",
       "</div>"
      ],
      "text/plain": [
       "     Pclass  Sex       Age  SibSp  Parch  Embarked\n",
       "830       3    0 -1.103685      1      0         0\n",
       "661       3    1  0.817561      0      0         0\n",
       "59        3    1 -1.411085      5      2         2\n",
       "44        3    0 -0.796286      0      0         1\n",
       "498       1    0 -0.335187      1      2         2\n",
       "..      ...  ...       ...    ...    ...       ...\n",
       "7         3    1 -2.102733      3      1         2\n",
       "351       1    1 -0.104637      0      0         2\n",
       "216       3    0 -0.181487      0      0         2\n",
       "579       3    1  0.202762      0      0         2\n",
       "838       3    1  0.202762      0      0         2\n",
       "\n",
       "[179 rows x 6 columns]"
      ]
     },
     "execution_count": 31,
     "metadata": {},
     "output_type": "execute_result"
    }
   ],
   "source": [
    "X_test"
   ]
  },
  {
   "cell_type": "code",
   "execution_count": 32,
   "id": "6523d09b",
   "metadata": {
    "execution": {
     "iopub.execute_input": "2023-08-07T05:12:37.234745Z",
     "iopub.status.busy": "2023-08-07T05:12:37.234337Z",
     "iopub.status.idle": "2023-08-07T05:12:37.241206Z",
     "shell.execute_reply": "2023-08-07T05:12:37.240145Z"
    },
    "papermill": {
     "duration": 0.04084,
     "end_time": "2023-08-07T05:12:37.243509",
     "exception": false,
     "start_time": "2023-08-07T05:12:37.202669",
     "status": "completed"
    },
    "tags": []
   },
   "outputs": [],
   "source": [
    "logreg_pred = logreg.predict(X_test)"
   ]
  },
  {
   "cell_type": "code",
   "execution_count": 33,
   "id": "50fbe267",
   "metadata": {
    "execution": {
     "iopub.execute_input": "2023-08-07T05:12:37.308384Z",
     "iopub.status.busy": "2023-08-07T05:12:37.307989Z",
     "iopub.status.idle": "2023-08-07T05:12:37.626187Z",
     "shell.execute_reply": "2023-08-07T05:12:37.625080Z"
    },
    "papermill": {
     "duration": 0.355343,
     "end_time": "2023-08-07T05:12:37.628514",
     "exception": false,
     "start_time": "2023-08-07T05:12:37.273171",
     "status": "completed"
    },
    "tags": []
   },
   "outputs": [
    {
     "data": {
      "image/png": "[encoded data removed]",
      "text/plain": [
       "<Figure size 800x600 with 2 Axes>"
      ]
     },
     "metadata": {},
     "output_type": "display_data"
    }
   ],
   "source": [
    "from sklearn.metrics import confusion_matrix\n",
    "plt.figure(figsize=(8, 6))\n",
    "sns.heatmap(confusion_matrix(y_test, logreg_pred), annot=True, fmt='d', cmap='Blues')\n",
    "plt.xlabel('Predicted')\n",
    "plt.ylabel('Actual')\n",
    "plt.title('Confusion Matrix for Logistic Regression')\n",
    "plt.show()"
   ]
  },
  {
   "cell_type": "code",
   "execution_count": 34,
   "id": "717e7fb5",
   "metadata": {
    "execution": {
     "iopub.execute_input": "2023-08-07T05:12:37.690708Z",
     "iopub.status.busy": "2023-08-07T05:12:37.689986Z",
     "iopub.status.idle": "2023-08-07T05:12:37.703315Z",
     "shell.execute_reply": "2023-08-07T05:12:37.701942Z"
    },
    "papermill": {
     "duration": 0.047182,
     "end_time": "2023-08-07T05:12:37.705754",
     "exception": false,
     "start_time": "2023-08-07T05:12:37.658572",
     "status": "completed"
    },
    "tags": []
   },
   "outputs": [
    {
     "name": "stdout",
     "output_type": "stream",
     "text": [
      "              precision    recall  f1-score   support\n",
      "\n",
      "           0       0.79      0.88      0.83       106\n",
      "           1       0.79      0.67      0.73        73\n",
      "\n",
      "    accuracy                           0.79       179\n",
      "   macro avg       0.79      0.77      0.78       179\n",
      "weighted avg       0.79      0.79      0.79       179\n",
      "\n"
     ]
    }
   ],
   "source": [
    "from sklearn.metrics import classification_report\n",
    "print(classification_report(y_test, logreg_pred))"
   ]
  },
  {
   "cell_type": "code",
   "execution_count": 35,
   "id": "b2f99990",
   "metadata": {
    "execution": {
     "iopub.execute_input": "2023-08-07T05:12:37.768644Z",
     "iopub.status.busy": "2023-08-07T05:12:37.768242Z",
     "iopub.status.idle": "2023-08-07T05:12:37.777531Z",
     "shell.execute_reply": "2023-08-07T05:12:37.776417Z"
    },
    "papermill": {
     "duration": 0.043551,
     "end_time": "2023-08-07T05:12:37.779615",
     "exception": false,
     "start_time": "2023-08-07T05:12:37.736064",
     "status": "completed"
    },
    "tags": []
   },
   "outputs": [
    {
     "name": "stdout",
     "output_type": "stream",
     "text": [
      "Accuracy Score;  0.7932960893854749\n",
      "Mean Absolute Error:  0.20670391061452514\n",
      "R2 Score:  0.14409408115792177\n"
     ]
    }
   ],
   "source": [
    "from sklearn.metrics import accuracy_score, mean_absolute_error, r2_score\n",
    "\n",
    "print(\"Accuracy Score; \", accuracy_score(y_test, logreg_pred))\n",
    "print(\"Mean Absolute Error: \", mean_absolute_error(y_test, logreg_pred))\n",
    "print(\"R2 Score: \", r2_score(y_test, logreg_pred))"
   ]
  },
  {
   "cell_type": "markdown",
   "id": "e87c4f9e",
   "metadata": {
    "papermill": {
     "duration": 0.029991,
     "end_time": "2023-08-07T05:12:37.840251",
     "exception": false,
     "start_time": "2023-08-07T05:12:37.810260",
     "status": "completed"
    },
    "tags": []
   },
   "source": [
    "# **Using Decision Tree**"
   ]
  },
  {
   "cell_type": "code",
   "execution_count": 36,
   "id": "4eefadd6",
   "metadata": {
    "execution": {
     "iopub.execute_input": "2023-08-07T05:12:37.902632Z",
     "iopub.status.busy": "2023-08-07T05:12:37.902012Z",
     "iopub.status.idle": "2023-08-07T05:12:38.076649Z",
     "shell.execute_reply": "2023-08-07T05:12:38.075571Z"
    },
    "papermill": {
     "duration": 0.208585,
     "end_time": "2023-08-07T05:12:38.078914",
     "exception": false,
     "start_time": "2023-08-07T05:12:37.870329",
     "status": "completed"
    },
    "tags": []
   },
   "outputs": [
    {
     "data": {
      "text/html": [
       "<style>#sk-container-id-2 {color: black;background-color: white;}#sk-container-id-2 pre{padding: 0;}#sk-container-id-2 div.sk-toggleable {background-color: white;}#sk-container-id-2 label.sk-toggleable__label {cursor: pointer;display: block;width: 100%;margin-bottom: 0;padding: 0.3em;box-sizing: border-box;text-align: center;}#sk-container-id-2 label.sk-toggleable__label-arrow:before {content: \"▸\";float: left;margin-right: 0.25em;color: #696969;}#sk-container-id-2 label.sk-toggleable__label-arrow:hover:before {color: black;}#sk-container-id-2 div.sk-estimator:hover label.sk-toggleable__label-arrow:before {color: black;}#sk-container-id-2 div.sk-toggleable__content {max-height: 0;max-width: 0;overflow: hidden;text-align: left;background-color: #f0f8ff;}#sk-container-id-2 div.sk-toggleable__content pre {margin: 0.2em;color: black;border-radius: 0.25em;background-color: #f0f8ff;}#sk-container-id-2 input.sk-toggleable__control:checked~div.sk-toggleable__content {max-height: 200px;max-width: 100%;overflow: auto;}#sk-container-id-2 input.sk-toggleable__control:checked~label.sk-toggleable__label-arrow:before {content: \"▾\";}#sk-container-id-2 div.sk-estimator input.sk-toggleable__control:checked~label.sk-toggleable__label {background-color: #d4ebff;}#sk-container-id-2 div.sk-label input.sk-toggleable__control:checked~label.sk-toggleable__label {background-color: #d4ebff;}#sk-container-id-2 input.sk-hidden--visually {border: 0;clip: rect(1px 1px 1px 1px);clip: rect(1px, 1px, 1px, 1px);height: 1px;margin: -1px;overflow: hidden;padding: 0;position: absolute;width: 1px;}#sk-container-id-2 div.sk-estimator {font-family: monospace;background-color: #f0f8ff;border: 1px dotted black;border-radius: 0.25em;box-sizing: border-box;margin-bottom: 0.5em;}#sk-container-id-2 div.sk-estimator:hover {background-color: #d4ebff;}#sk-container-id-2 div.sk-parallel-item::after {content: \"\";width: 100%;border-bottom: 1px solid gray;flex-grow: 1;}#sk-container-id-2 div.sk-label:hover label.sk-toggleable__label {background-color: #d4ebff;}#sk-container-id-2 div.sk-serial::before {content: \"\";position: absolute;border-left: 1px solid gray;box-sizing: border-box;top: 0;bottom: 0;left: 50%;z-index: 0;}#sk-container-id-2 div.sk-serial {display: flex;flex-direction: column;align-items: center;background-color: white;padding-right: 0.2em;padding-left: 0.2em;position: relative;}#sk-container-id-2 div.sk-item {position: relative;z-index: 1;}#sk-container-id-2 div.sk-parallel {display: flex;align-items: stretch;justify-content: center;background-color: white;position: relative;}#sk-container-id-2 div.sk-item::before, #sk-container-id-2 div.sk-parallel-item::before {content: \"\";position: absolute;border-left: 1px solid gray;box-sizing: border-box;top: 0;bottom: 0;left: 50%;z-index: -1;}#sk-container-id-2 div.sk-parallel-item {display: flex;flex-direction: column;z-index: 1;position: relative;background-color: white;}#sk-container-id-2 div.sk-parallel-item:first-child::after {align-self: flex-end;width: 50%;}#sk-container-id-2 div.sk-parallel-item:last-child::after {align-self: flex-start;width: 50%;}#sk-container-id-2 div.sk-parallel-item:only-child::after {width: 0;}#sk-container-id-2 div.sk-dashed-wrapped {border: 1px dashed gray;margin: 0 0.4em 0.5em 0.4em;box-sizing: border-box;padding-bottom: 0.4em;background-color: white;}#sk-container-id-2 div.sk-label label {font-family: monospace;font-weight: bold;display: inline-block;line-height: 1.2em;}#sk-container-id-2 div.sk-label-container {text-align: center;}#sk-container-id-2 div.sk-container {/* jupyter's `normalize.less` sets `[hidden] { display: none; }` but bootstrap.min.css set `[hidden] { display: none !important; }` so we also need the `!important` here to be able to override the default hidden behavior on the sphinx rendered scikit-learn.org. See: https://github.com/scikit-learn/scikit-learn/issues/21755 */display: inline-block !important;position: relative;}#sk-container-id-2 div.sk-text-repr-fallback {display: none;}</style><div id=\"sk-container-id-2\" class=\"sk-top-container\"><div class=\"sk-text-repr-fallback\"><pre>DecisionTreeClassifier()</pre><b>In a Jupyter environment, please rerun this cell to show the HTML representation or trust the notebook. <br />On GitHub, the HTML representation is unable to render, please try loading this page with nbviewer.org.</b></div><div class=\"sk-container\" hidden><div class=\"sk-item\"><div class=\"sk-estimator sk-toggleable\"><input class=\"sk-toggleable__control sk-hidden--visually\" id=\"sk-estimator-id-2\" type=\"checkbox\" checked><label for=\"sk-estimator-id-2\" class=\"sk-toggleable__label sk-toggleable__label-arrow\">DecisionTreeClassifier</label><div class=\"sk-toggleable__content\"><pre>DecisionTreeClassifier()</pre></div></div></div></div></div>"
      ],
      "text/plain": [
       "DecisionTreeClassifier()"
      ]
     },
     "execution_count": 36,
     "metadata": {},
     "output_type": "execute_result"
    }
   ],
   "source": [
    "from sklearn.tree import DecisionTreeClassifier\n",
    "\n",
    "tree_model = DecisionTreeClassifier()\n",
    "tree_model.fit(X_train, y_train)"
   ]
  },
  {
   "cell_type": "code",
   "execution_count": 37,
   "id": "4e75a46b",
   "metadata": {
    "execution": {
     "iopub.execute_input": "2023-08-07T05:12:38.143502Z",
     "iopub.status.busy": "2023-08-07T05:12:38.142859Z",
     "iopub.status.idle": "2023-08-07T05:12:38.152448Z",
     "shell.execute_reply": "2023-08-07T05:12:38.151484Z"
    },
    "papermill": {
     "duration": 0.044657,
     "end_time": "2023-08-07T05:12:38.154532",
     "exception": false,
     "start_time": "2023-08-07T05:12:38.109875",
     "status": "completed"
    },
    "tags": []
   },
   "outputs": [
    {
     "data": {
      "text/plain": [
       "0.9452247191011236"
      ]
     },
     "execution_count": 37,
     "metadata": {},
     "output_type": "execute_result"
    }
   ],
   "source": [
    "tree_model.score(X_train, y_train)"
   ]
  },
  {
   "cell_type": "code",
   "execution_count": 38,
   "id": "46ebaa24",
   "metadata": {
    "execution": {
     "iopub.execute_input": "2023-08-07T05:12:38.219255Z",
     "iopub.status.busy": "2023-08-07T05:12:38.218581Z",
     "iopub.status.idle": "2023-08-07T05:12:38.225239Z",
     "shell.execute_reply": "2023-08-07T05:12:38.224403Z"
    },
    "papermill": {
     "duration": 0.041642,
     "end_time": "2023-08-07T05:12:38.227386",
     "exception": false,
     "start_time": "2023-08-07T05:12:38.185744",
     "status": "completed"
    },
    "tags": []
   },
   "outputs": [],
   "source": [
    "tree_pred = tree_model.predict(X_test)"
   ]
  },
  {
   "cell_type": "code",
   "execution_count": 39,
   "id": "1821a68b",
   "metadata": {
    "execution": {
     "iopub.execute_input": "2023-08-07T05:12:38.291239Z",
     "iopub.status.busy": "2023-08-07T05:12:38.290785Z",
     "iopub.status.idle": "2023-08-07T05:12:38.610848Z",
     "shell.execute_reply": "2023-08-07T05:12:38.609928Z"
    },
    "papermill": {
     "duration": 0.355083,
     "end_time": "2023-08-07T05:12:38.613305",
     "exception": false,
     "start_time": "2023-08-07T05:12:38.258222",
     "status": "completed"
    },
    "tags": []
   },
   "outputs": [
    {
     "data": {
      "image/png": "[encoded data removed]",
      "text/plain": [
       "<Figure size 800x600 with 2 Axes>"
      ]
     },
     "metadata": {},
     "output_type": "display_data"
    }
   ],
   "source": [
    "from sklearn.metrics import confusion_matrix\n",
    "plt.figure(figsize=(8, 6))\n",
    "sns.heatmap(confusion_matrix(y_test, tree_pred), annot=True, fmt='d', cmap='Blues')\n",
    "plt.xlabel('Predicted')\n",
    "plt.ylabel('Actual')\n",
    "plt.title('Confusion Matrix for Logistic Regression')\n",
    "plt.show()"
   ]
  },
  {
   "cell_type": "code",
   "execution_count": 40,
   "id": "b2b96d9e",
   "metadata": {
    "execution": {
     "iopub.execute_input": "2023-08-07T05:12:38.677653Z",
     "iopub.status.busy": "2023-08-07T05:12:38.677229Z",
     "iopub.status.idle": "2023-08-07T05:12:38.685931Z",
     "shell.execute_reply": "2023-08-07T05:12:38.684670Z"
    },
    "papermill": {
     "duration": 0.043631,
     "end_time": "2023-08-07T05:12:38.688092",
     "exception": false,
     "start_time": "2023-08-07T05:12:38.644461",
     "status": "completed"
    },
    "tags": []
   },
   "outputs": [
    {
     "name": "stdout",
     "output_type": "stream",
     "text": [
      "Accuracy Score;  0.7597765363128491\n",
      "Mean Absolute Error:  0.24022346368715083\n",
      "R2 Score:  0.005298526751098209\n"
     ]
    }
   ],
   "source": [
    "from sklearn.metrics import accuracy_score, mean_absolute_error, r2_score\n",
    "\n",
    "print(\"Accuracy Score; \", accuracy_score(y_test, tree_pred))\n",
    "print(\"Mean Absolute Error: \", mean_absolute_error(y_test, tree_pred))\n",
    "print(\"R2 Score: \", r2_score(y_test, tree_pred))"
   ]
  },
  {
   "cell_type": "markdown",
   "id": "56f33ebe",
   "metadata": {
    "papermill": {
     "duration": 0.030917,
     "end_time": "2023-08-07T05:12:38.750941",
     "exception": false,
     "start_time": "2023-08-07T05:12:38.720024",
     "status": "completed"
    },
    "tags": []
   },
   "source": [
    "# **Predition using the test.csv data**\n",
    "# **I will use DecisionTree model since it has a good model accuracy**"
   ]
  },
  {
   "cell_type": "code",
   "execution_count": 41,
   "id": "2770eb8d",
   "metadata": {
    "execution": {
     "iopub.execute_input": "2023-08-07T05:12:38.815238Z",
     "iopub.status.busy": "2023-08-07T05:12:38.814566Z",
     "iopub.status.idle": "2023-08-07T05:12:38.840668Z",
     "shell.execute_reply": "2023-08-07T05:12:38.839616Z"
    },
    "papermill": {
     "duration": 0.060959,
     "end_time": "2023-08-07T05:12:38.842920",
     "exception": false,
     "start_time": "2023-08-07T05:12:38.781961",
     "status": "completed"
    },
    "tags": []
   },
   "outputs": [
    {
     "data": {
      "text/html": [
       "<div>\n",
       "<style scoped>\n",
       "    .dataframe tbody tr th:only-of-type {\n",
       "        vertical-align: middle;\n",
       "    }\n",
       "\n",
       "    .dataframe tbody tr th {\n",
       "        vertical-align: top;\n",
       "    }\n",
       "\n",
       "    .dataframe thead th {\n",
       "        text-align: right;\n",
       "    }\n",
       "</style>\n",
       "<table border=\"1\" class=\"dataframe\">\n",
       "  <thead>\n",
       "    <tr style=\"text-align: right;\">\n",
       "      <th></th>\n",
       "      <th>PassengerId</th>\n",
       "      <th>Pclass</th>\n",
       "      <th>Name</th>\n",
       "      <th>Sex</th>\n",
       "      <th>Age</th>\n",
       "      <th>SibSp</th>\n",
       "      <th>Parch</th>\n",
       "      <th>Ticket</th>\n",
       "      <th>Fare</th>\n",
       "      <th>Cabin</th>\n",
       "      <th>Embarked</th>\n",
       "    </tr>\n",
       "  </thead>\n",
       "  <tbody>\n",
       "    <tr>\n",
       "      <th>0</th>\n",
       "      <td>892</td>\n",
       "      <td>3</td>\n",
       "      <td>Kelly, Mr. James</td>\n",
       "      <td>male</td>\n",
       "      <td>34.5</td>\n",
       "      <td>0</td>\n",
       "      <td>0</td>\n",
       "      <td>330911</td>\n",
       "      <td>7.8292</td>\n",
       "      <td>NaN</td>\n",
       "      <td>Q</td>\n",
       "    </tr>\n",
       "    <tr>\n",
       "      <th>1</th>\n",
       "      <td>893</td>\n",
       "      <td>3</td>\n",
       "      <td>Wilkes, Mrs. James (Ellen Needs)</td>\n",
       "      <td>female</td>\n",
       "      <td>47.0</td>\n",
       "      <td>1</td>\n",
       "      <td>0</td>\n",
       "      <td>363272</td>\n",
       "      <td>7.0000</td>\n",
       "      <td>NaN</td>\n",
       "      <td>S</td>\n",
       "    </tr>\n",
       "    <tr>\n",
       "      <th>2</th>\n",
       "      <td>894</td>\n",
       "      <td>2</td>\n",
       "      <td>Myles, Mr. Thomas Francis</td>\n",
       "      <td>male</td>\n",
       "      <td>62.0</td>\n",
       "      <td>0</td>\n",
       "      <td>0</td>\n",
       "      <td>240276</td>\n",
       "      <td>9.6875</td>\n",
       "      <td>NaN</td>\n",
       "      <td>Q</td>\n",
       "    </tr>\n",
       "    <tr>\n",
       "      <th>3</th>\n",
       "      <td>895</td>\n",
       "      <td>3</td>\n",
       "      <td>Wirz, Mr. Albert</td>\n",
       "      <td>male</td>\n",
       "      <td>27.0</td>\n",
       "      <td>0</td>\n",
       "      <td>0</td>\n",
       "      <td>315154</td>\n",
       "      <td>8.6625</td>\n",
       "      <td>NaN</td>\n",
       "      <td>S</td>\n",
       "    </tr>\n",
       "    <tr>\n",
       "      <th>4</th>\n",
       "      <td>896</td>\n",
       "      <td>3</td>\n",
       "      <td>Hirvonen, Mrs. Alexander (Helga E Lindqvist)</td>\n",
       "      <td>female</td>\n",
       "      <td>22.0</td>\n",
       "      <td>1</td>\n",
       "      <td>1</td>\n",
       "      <td>3101298</td>\n",
       "      <td>12.2875</td>\n",
       "      <td>NaN</td>\n",
       "      <td>S</td>\n",
       "    </tr>\n",
       "  </tbody>\n",
       "</table>\n",
       "</div>"
      ],
      "text/plain": [
       "   PassengerId  Pclass                                          Name     Sex  \\\n",
       "0          892       3                              Kelly, Mr. James    male   \n",
       "1          893       3              Wilkes, Mrs. James (Ellen Needs)  female   \n",
       "2          894       2                     Myles, Mr. Thomas Francis    male   \n",
       "3          895       3                              Wirz, Mr. Albert    male   \n",
       "4          896       3  Hirvonen, Mrs. Alexander (Helga E Lindqvist)  female   \n",
       "\n",
       "    Age  SibSp  Parch   Ticket     Fare Cabin Embarked  \n",
       "0  34.5      0      0   330911   7.8292   NaN        Q  \n",
       "1  47.0      1      0   363272   7.0000   NaN        S  \n",
       "2  62.0      0      0   240276   9.6875   NaN        Q  \n",
       "3  27.0      0      0   315154   8.6625   NaN        S  \n",
       "4  22.0      1      1  3101298  12.2875   NaN        S  "
      ]
     },
     "execution_count": 41,
     "metadata": {},
     "output_type": "execute_result"
    }
   ],
   "source": [
    "test_titanic = pd.read_csv('/kaggle/input/titanic/test.csv')\n",
    "test_titanic.head()"
   ]
  },
  {
   "cell_type": "code",
   "execution_count": 42,
   "id": "3c5d1dc2",
   "metadata": {
    "execution": {
     "iopub.execute_input": "2023-08-07T05:12:38.907895Z",
     "iopub.status.busy": "2023-08-07T05:12:38.907199Z",
     "iopub.status.idle": "2023-08-07T05:12:38.912871Z",
     "shell.execute_reply": "2023-08-07T05:12:38.912088Z"
    },
    "papermill": {
     "duration": 0.040675,
     "end_time": "2023-08-07T05:12:38.915016",
     "exception": false,
     "start_time": "2023-08-07T05:12:38.874341",
     "status": "completed"
    },
    "tags": []
   },
   "outputs": [
    {
     "data": {
      "text/plain": [
       "(418, 11)"
      ]
     },
     "execution_count": 42,
     "metadata": {},
     "output_type": "execute_result"
    }
   ],
   "source": [
    "test_titanic.shape"
   ]
  },
  {
   "cell_type": "code",
   "execution_count": 43,
   "id": "c87d834a",
   "metadata": {
    "execution": {
     "iopub.execute_input": "2023-08-07T05:12:38.981110Z",
     "iopub.status.busy": "2023-08-07T05:12:38.980378Z",
     "iopub.status.idle": "2023-08-07T05:12:38.989390Z",
     "shell.execute_reply": "2023-08-07T05:12:38.988233Z"
    },
    "papermill": {
     "duration": 0.045436,
     "end_time": "2023-08-07T05:12:38.991842",
     "exception": false,
     "start_time": "2023-08-07T05:12:38.946406",
     "status": "completed"
    },
    "tags": []
   },
   "outputs": [
    {
     "name": "stdout",
     "output_type": "stream",
     "text": [
      "Sex [1 0]\n",
      "Embarked [1 2 0]\n"
     ]
    }
   ],
   "source": [
    "from sklearn.preprocessing import LabelEncoder\n",
    "\n",
    "var = ['Sex', 'Embarked']\n",
    "le = LabelEncoder()\n",
    "for i in var:\n",
    "    le.fit(test_titanic[i].unique())\n",
    "    test_titanic[i] = le.transform(test_titanic[i])\n",
    "    print(i, test_titanic[i].unique())"
   ]
  },
  {
   "cell_type": "code",
   "execution_count": 44,
   "id": "51a1a07d",
   "metadata": {
    "execution": {
     "iopub.execute_input": "2023-08-07T05:12:39.066136Z",
     "iopub.status.busy": "2023-08-07T05:12:39.065218Z",
     "iopub.status.idle": "2023-08-07T05:12:39.086971Z",
     "shell.execute_reply": "2023-08-07T05:12:39.085145Z"
    },
    "papermill": {
     "duration": 0.065898,
     "end_time": "2023-08-07T05:12:39.089921",
     "exception": false,
     "start_time": "2023-08-07T05:12:39.024023",
     "status": "completed"
    },
    "tags": []
   },
   "outputs": [
    {
     "data": {
      "text/html": [
       "<div>\n",
       "<style scoped>\n",
       "    .dataframe tbody tr th:only-of-type {\n",
       "        vertical-align: middle;\n",
       "    }\n",
       "\n",
       "    .dataframe tbody tr th {\n",
       "        vertical-align: top;\n",
       "    }\n",
       "\n",
       "    .dataframe thead th {\n",
       "        text-align: right;\n",
       "    }\n",
       "</style>\n",
       "<table border=\"1\" class=\"dataframe\">\n",
       "  <thead>\n",
       "    <tr style=\"text-align: right;\">\n",
       "      <th></th>\n",
       "      <th>PassengerId</th>\n",
       "      <th>Pclass</th>\n",
       "      <th>Name</th>\n",
       "      <th>Sex</th>\n",
       "      <th>Age</th>\n",
       "      <th>SibSp</th>\n",
       "      <th>Parch</th>\n",
       "      <th>Ticket</th>\n",
       "      <th>Fare</th>\n",
       "      <th>Cabin</th>\n",
       "      <th>Embarked</th>\n",
       "    </tr>\n",
       "  </thead>\n",
       "  <tbody>\n",
       "    <tr>\n",
       "      <th>0</th>\n",
       "      <td>892</td>\n",
       "      <td>3</td>\n",
       "      <td>Kelly, Mr. James</td>\n",
       "      <td>1</td>\n",
       "      <td>34.5</td>\n",
       "      <td>0</td>\n",
       "      <td>0</td>\n",
       "      <td>330911</td>\n",
       "      <td>7.8292</td>\n",
       "      <td>NaN</td>\n",
       "      <td>1</td>\n",
       "    </tr>\n",
       "    <tr>\n",
       "      <th>1</th>\n",
       "      <td>893</td>\n",
       "      <td>3</td>\n",
       "      <td>Wilkes, Mrs. James (Ellen Needs)</td>\n",
       "      <td>0</td>\n",
       "      <td>47.0</td>\n",
       "      <td>1</td>\n",
       "      <td>0</td>\n",
       "      <td>363272</td>\n",
       "      <td>7.0000</td>\n",
       "      <td>NaN</td>\n",
       "      <td>2</td>\n",
       "    </tr>\n",
       "    <tr>\n",
       "      <th>2</th>\n",
       "      <td>894</td>\n",
       "      <td>2</td>\n",
       "      <td>Myles, Mr. Thomas Francis</td>\n",
       "      <td>1</td>\n",
       "      <td>62.0</td>\n",
       "      <td>0</td>\n",
       "      <td>0</td>\n",
       "      <td>240276</td>\n",
       "      <td>9.6875</td>\n",
       "      <td>NaN</td>\n",
       "      <td>1</td>\n",
       "    </tr>\n",
       "    <tr>\n",
       "      <th>3</th>\n",
       "      <td>895</td>\n",
       "      <td>3</td>\n",
       "      <td>Wirz, Mr. Albert</td>\n",
       "      <td>1</td>\n",
       "      <td>27.0</td>\n",
       "      <td>0</td>\n",
       "      <td>0</td>\n",
       "      <td>315154</td>\n",
       "      <td>8.6625</td>\n",
       "      <td>NaN</td>\n",
       "      <td>2</td>\n",
       "    </tr>\n",
       "    <tr>\n",
       "      <th>4</th>\n",
       "      <td>896</td>\n",
       "      <td>3</td>\n",
       "      <td>Hirvonen, Mrs. Alexander (Helga E Lindqvist)</td>\n",
       "      <td>0</td>\n",
       "      <td>22.0</td>\n",
       "      <td>1</td>\n",
       "      <td>1</td>\n",
       "      <td>3101298</td>\n",
       "      <td>12.2875</td>\n",
       "      <td>NaN</td>\n",
       "      <td>2</td>\n",
       "    </tr>\n",
       "  </tbody>\n",
       "</table>\n",
       "</div>"
      ],
      "text/plain": [
       "   PassengerId  Pclass                                          Name  Sex  \\\n",
       "0          892       3                              Kelly, Mr. James    1   \n",
       "1          893       3              Wilkes, Mrs. James (Ellen Needs)    0   \n",
       "2          894       2                     Myles, Mr. Thomas Francis    1   \n",
       "3          895       3                              Wirz, Mr. Albert    1   \n",
       "4          896       3  Hirvonen, Mrs. Alexander (Helga E Lindqvist)    0   \n",
       "\n",
       "    Age  SibSp  Parch   Ticket     Fare Cabin  Embarked  \n",
       "0  34.5      0      0   330911   7.8292   NaN         1  \n",
       "1  47.0      1      0   363272   7.0000   NaN         2  \n",
       "2  62.0      0      0   240276   9.6875   NaN         1  \n",
       "3  27.0      0      0   315154   8.6625   NaN         2  \n",
       "4  22.0      1      1  3101298  12.2875   NaN         2  "
      ]
     },
     "execution_count": 44,
     "metadata": {},
     "output_type": "execute_result"
    }
   ],
   "source": [
    "test_titanic.head()"
   ]
  },
  {
   "cell_type": "code",
   "execution_count": 45,
   "id": "bc7e0fe4",
   "metadata": {
    "execution": {
     "iopub.execute_input": "2023-08-07T05:12:39.178301Z",
     "iopub.status.busy": "2023-08-07T05:12:39.177902Z",
     "iopub.status.idle": "2023-08-07T05:12:39.184249Z",
     "shell.execute_reply": "2023-08-07T05:12:39.183161Z"
    },
    "papermill": {
     "duration": 0.050317,
     "end_time": "2023-08-07T05:12:39.186666",
     "exception": false,
     "start_time": "2023-08-07T05:12:39.136349",
     "status": "completed"
    },
    "tags": []
   },
   "outputs": [],
   "source": [
    "test_x = test_titanic.drop(['PassengerId','Name','Ticket', 'Fare', 'Cabin'], axis=1)"
   ]
  },
  {
   "cell_type": "code",
   "execution_count": 46,
   "id": "4aaa7fd1",
   "metadata": {
    "execution": {
     "iopub.execute_input": "2023-08-07T05:12:39.254601Z",
     "iopub.status.busy": "2023-08-07T05:12:39.253739Z",
     "iopub.status.idle": "2023-08-07T05:12:39.260298Z",
     "shell.execute_reply": "2023-08-07T05:12:39.259497Z"
    },
    "papermill": {
     "duration": 0.043344,
     "end_time": "2023-08-07T05:12:39.262732",
     "exception": false,
     "start_time": "2023-08-07T05:12:39.219388",
     "status": "completed"
    },
    "tags": []
   },
   "outputs": [],
   "source": [
    "# Fill missing values in Age column of test.csv\n",
    "median_age = test_x['Age'].median()\n",
    "test_x['Age'].fillna(median_age, inplace=True)"
   ]
  },
  {
   "cell_type": "code",
   "execution_count": 47,
   "id": "358b80fe",
   "metadata": {
    "execution": {
     "iopub.execute_input": "2023-08-07T05:12:39.338501Z",
     "iopub.status.busy": "2023-08-07T05:12:39.338095Z",
     "iopub.status.idle": "2023-08-07T05:12:39.347060Z",
     "shell.execute_reply": "2023-08-07T05:12:39.346163Z"
    },
    "papermill": {
     "duration": 0.051054,
     "end_time": "2023-08-07T05:12:39.349682",
     "exception": false,
     "start_time": "2023-08-07T05:12:39.298628",
     "status": "completed"
    },
    "tags": []
   },
   "outputs": [],
   "source": [
    "predictions = tree_model.predict(test_x)"
   ]
  },
  {
   "cell_type": "code",
   "execution_count": 48,
   "id": "ba948622",
   "metadata": {
    "execution": {
     "iopub.execute_input": "2023-08-07T05:12:39.418090Z",
     "iopub.status.busy": "2023-08-07T05:12:39.417302Z",
     "iopub.status.idle": "2023-08-07T05:12:39.429632Z",
     "shell.execute_reply": "2023-08-07T05:12:39.428550Z"
    },
    "papermill": {
     "duration": 0.048798,
     "end_time": "2023-08-07T05:12:39.431946",
     "exception": false,
     "start_time": "2023-08-07T05:12:39.383148",
     "status": "completed"
    },
    "tags": []
   },
   "outputs": [
    {
     "data": {
      "text/html": [
       "<div>\n",
       "<style scoped>\n",
       "    .dataframe tbody tr th:only-of-type {\n",
       "        vertical-align: middle;\n",
       "    }\n",
       "\n",
       "    .dataframe tbody tr th {\n",
       "        vertical-align: top;\n",
       "    }\n",
       "\n",
       "    .dataframe thead th {\n",
       "        text-align: right;\n",
       "    }\n",
       "</style>\n",
       "<table border=\"1\" class=\"dataframe\">\n",
       "  <thead>\n",
       "    <tr style=\"text-align: right;\">\n",
       "      <th></th>\n",
       "      <th>PassengerId</th>\n",
       "      <th>Survived</th>\n",
       "    </tr>\n",
       "  </thead>\n",
       "  <tbody>\n",
       "    <tr>\n",
       "      <th>0</th>\n",
       "      <td>892</td>\n",
       "      <td>0</td>\n",
       "    </tr>\n",
       "    <tr>\n",
       "      <th>1</th>\n",
       "      <td>893</td>\n",
       "      <td>1</td>\n",
       "    </tr>\n",
       "    <tr>\n",
       "      <th>2</th>\n",
       "      <td>894</td>\n",
       "      <td>0</td>\n",
       "    </tr>\n",
       "    <tr>\n",
       "      <th>3</th>\n",
       "      <td>895</td>\n",
       "      <td>0</td>\n",
       "    </tr>\n",
       "    <tr>\n",
       "      <th>4</th>\n",
       "      <td>896</td>\n",
       "      <td>1</td>\n",
       "    </tr>\n",
       "    <tr>\n",
       "      <th>...</th>\n",
       "      <td>...</td>\n",
       "      <td>...</td>\n",
       "    </tr>\n",
       "    <tr>\n",
       "      <th>413</th>\n",
       "      <td>1305</td>\n",
       "      <td>0</td>\n",
       "    </tr>\n",
       "    <tr>\n",
       "      <th>414</th>\n",
       "      <td>1306</td>\n",
       "      <td>1</td>\n",
       "    </tr>\n",
       "    <tr>\n",
       "      <th>415</th>\n",
       "      <td>1307</td>\n",
       "      <td>0</td>\n",
       "    </tr>\n",
       "    <tr>\n",
       "      <th>416</th>\n",
       "      <td>1308</td>\n",
       "      <td>0</td>\n",
       "    </tr>\n",
       "    <tr>\n",
       "      <th>417</th>\n",
       "      <td>1309</td>\n",
       "      <td>0</td>\n",
       "    </tr>\n",
       "  </tbody>\n",
       "</table>\n",
       "<p>418 rows × 2 columns</p>\n",
       "</div>"
      ],
      "text/plain": [
       "     PassengerId  Survived\n",
       "0            892         0\n",
       "1            893         1\n",
       "2            894         0\n",
       "3            895         0\n",
       "4            896         1\n",
       "..           ...       ...\n",
       "413         1305         0\n",
       "414         1306         1\n",
       "415         1307         0\n",
       "416         1308         0\n",
       "417         1309         0\n",
       "\n",
       "[418 rows x 2 columns]"
      ]
     },
     "execution_count": 48,
     "metadata": {},
     "output_type": "execute_result"
    }
   ],
   "source": [
    "output= pd.DataFrame({'PassengerId':test_titanic.PassengerId,'Survived':predictions})\n",
    "output"
   ]
  },
  {
   "cell_type": "code",
   "execution_count": 49,
   "id": "f7cd9c15",
   "metadata": {
    "execution": {
     "iopub.execute_input": "2023-08-07T05:12:39.513065Z",
     "iopub.status.busy": "2023-08-07T05:12:39.512211Z",
     "iopub.status.idle": "2023-08-07T05:12:39.521132Z",
     "shell.execute_reply": "2023-08-07T05:12:39.520135Z"
    },
    "papermill": {
     "duration": 0.052158,
     "end_time": "2023-08-07T05:12:39.523646",
     "exception": false,
     "start_time": "2023-08-07T05:12:39.471488",
     "status": "completed"
    },
    "tags": []
   },
   "outputs": [],
   "source": [
    "output.to_csv('Titanic_Competition_LogReg_JaylordVhan_Fabor.csv', index=False)"
   ]
  }
 ],
 "metadata": {
  "kernelspec": {
   "display_name": "Python 3",
   "language": "python",
   "name": "python3"
  },
  "language_info": {
   "codemirror_mode": {
    "name": "ipython",
    "version": 3
   },
   "file_extension": ".py",
   "mimetype": "text/x-python",
   "name": "python",
   "nbconvert_exporter": "python",
   "pygments_lexer": "ipython3",
   "version": "3.10.12"
  },
  "papermill": {
   "default_parameters": {},
   "duration": 22.298862,
   "end_time": "2023-08-07T05:12:40.579008",
   "environment_variables": {},
   "exception": null,
   "input_path": "__notebook__.ipynb",
   "output_path": "__notebook__.ipynb",
   "parameters": {},
   "start_time": "2023-08-07T05:12:18.280146",
   "version": "2.4.0"
  }
 },
 "nbformat": 4,
 "nbformat_minor": 5
}
