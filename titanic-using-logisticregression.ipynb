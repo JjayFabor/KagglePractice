{
 "cells": [
  {
   "cell_type": "code",
   "execution_count": 1,
   "id": "22b1467b",
   "metadata": {
    "_cell_guid": "b1076dfc-b9ad-4769-8c92-a6c4dae69d19",
    "_uuid": "8f2839f25d086af736a60e9eeb907d3b93b6e0e5",
    "execution": {
     "iopub.execute_input": "2023-08-05T00:58:20.466304Z",
     "iopub.status.busy": "2023-08-05T00:58:20.465771Z",
     "iopub.status.idle": "2023-08-05T00:58:20.484423Z",
     "shell.execute_reply": "2023-08-05T00:58:20.482730Z"
    },
    "papermill": {
     "duration": 0.041664,
     "end_time": "2023-08-05T00:58:20.487777",
     "exception": false,
     "start_time": "2023-08-05T00:58:20.446113",
     "status": "completed"
    },
    "tags": []
   },
   "outputs": [
    {
     "name": "stdout",
     "output_type": "stream",
     "text": [
      "/kaggle/input/titanic/train.csv\n",
      "/kaggle/input/titanic/test.csv\n",
      "/kaggle/input/titanic/gender_submission.csv\n"
     ]
    }
   ],
   "source": [
    "# This Python 3 environment comes with many helpful analytics libraries installed\n",
    "# It is defined by the kaggle/python Docker image: https://github.com/kaggle/docker-python\n",
    "# For example, here's several helpful packages to load\n",
    "\n",
    "import numpy as np # linear algebra\n",
    "import pandas as pd # data processing, CSV file I/O (e.g. pd.read_csv)\n",
    "\n",
    "# Input data files are available in the read-only \"../input/\" directory\n",
    "# For example, running this (by clicking run or pressing Shift+Enter) will list all files under the input directory\n",
    "\n",
    "import os\n",
    "for dirname, _, filenames in os.walk('/kaggle/input'):\n",
    "    for filename in filenames:\n",
    "        print(os.path.join(dirname, filename))\n",
    "\n",
    "# You can write up to 20GB to the current directory (/kaggle/working/) that gets preserved as output when you create a version using \"Save & Run All\" \n",
    "# You can also write temporary files to /kaggle/temp/, but they won't be saved outside of the current session"
   ]
  },
  {
   "cell_type": "markdown",
   "id": "c601d814",
   "metadata": {
    "papermill": {
     "duration": 0.017169,
     "end_time": "2023-08-05T00:58:20.522229",
     "exception": false,
     "start_time": "2023-08-05T00:58:20.505060",
     "status": "completed"
    },
    "tags": []
   },
   "source": [
    "# **Reading and Understanding the Data**"
   ]
  },
  {
   "cell_type": "code",
   "execution_count": 2,
   "id": "c315e149",
   "metadata": {
    "execution": {
     "iopub.execute_input": "2023-08-05T00:58:20.558607Z",
     "iopub.status.busy": "2023-08-05T00:58:20.558082Z",
     "iopub.status.idle": "2023-08-05T00:58:20.598343Z",
     "shell.execute_reply": "2023-08-05T00:58:20.597340Z"
    },
    "papermill": {
     "duration": 0.061794,
     "end_time": "2023-08-05T00:58:20.601132",
     "exception": false,
     "start_time": "2023-08-05T00:58:20.539338",
     "status": "completed"
    },
    "tags": []
   },
   "outputs": [
    {
     "data": {
      "text/plain": [
       "(891, 12)"
      ]
     },
     "execution_count": 2,
     "metadata": {},
     "output_type": "execute_result"
    }
   ],
   "source": [
    "train_titanic = pd.read_csv('/kaggle/input/titanic/train.csv')\n",
    "train_titanic.shape"
   ]
  },
  {
   "cell_type": "code",
   "execution_count": 3,
   "id": "baa84ce7",
   "metadata": {
    "execution": {
     "iopub.execute_input": "2023-08-05T00:58:20.638597Z",
     "iopub.status.busy": "2023-08-05T00:58:20.638126Z",
     "iopub.status.idle": "2023-08-05T00:58:20.671226Z",
     "shell.execute_reply": "2023-08-05T00:58:20.669545Z"
    },
    "papermill": {
     "duration": 0.055453,
     "end_time": "2023-08-05T00:58:20.674285",
     "exception": false,
     "start_time": "2023-08-05T00:58:20.618832",
     "status": "completed"
    },
    "tags": []
   },
   "outputs": [
    {
     "data": {
      "text/html": [
       "<div>\n",
       "<style scoped>\n",
       "    .dataframe tbody tr th:only-of-type {\n",
       "        vertical-align: middle;\n",
       "    }\n",
       "\n",
       "    .dataframe tbody tr th {\n",
       "        vertical-align: top;\n",
       "    }\n",
       "\n",
       "    .dataframe thead th {\n",
       "        text-align: right;\n",
       "    }\n",
       "</style>\n",
       "<table border=\"1\" class=\"dataframe\">\n",
       "  <thead>\n",
       "    <tr style=\"text-align: right;\">\n",
       "      <th></th>\n",
       "      <th>PassengerId</th>\n",
       "      <th>Survived</th>\n",
       "      <th>Pclass</th>\n",
       "      <th>Name</th>\n",
       "      <th>Sex</th>\n",
       "      <th>Age</th>\n",
       "      <th>SibSp</th>\n",
       "      <th>Parch</th>\n",
       "      <th>Ticket</th>\n",
       "      <th>Fare</th>\n",
       "      <th>Cabin</th>\n",
       "      <th>Embarked</th>\n",
       "    </tr>\n",
       "  </thead>\n",
       "  <tbody>\n",
       "    <tr>\n",
       "      <th>0</th>\n",
       "      <td>1</td>\n",
       "      <td>0</td>\n",
       "      <td>3</td>\n",
       "      <td>Braund, Mr. Owen Harris</td>\n",
       "      <td>male</td>\n",
       "      <td>22.0</td>\n",
       "      <td>1</td>\n",
       "      <td>0</td>\n",
       "      <td>A/5 21171</td>\n",
       "      <td>7.2500</td>\n",
       "      <td>NaN</td>\n",
       "      <td>S</td>\n",
       "    </tr>\n",
       "    <tr>\n",
       "      <th>1</th>\n",
       "      <td>2</td>\n",
       "      <td>1</td>\n",
       "      <td>1</td>\n",
       "      <td>Cumings, Mrs. John Bradley (Florence Briggs Th...</td>\n",
       "      <td>female</td>\n",
       "      <td>38.0</td>\n",
       "      <td>1</td>\n",
       "      <td>0</td>\n",
       "      <td>PC 17599</td>\n",
       "      <td>71.2833</td>\n",
       "      <td>C85</td>\n",
       "      <td>C</td>\n",
       "    </tr>\n",
       "    <tr>\n",
       "      <th>2</th>\n",
       "      <td>3</td>\n",
       "      <td>1</td>\n",
       "      <td>3</td>\n",
       "      <td>Heikkinen, Miss. Laina</td>\n",
       "      <td>female</td>\n",
       "      <td>26.0</td>\n",
       "      <td>0</td>\n",
       "      <td>0</td>\n",
       "      <td>STON/O2. 3101282</td>\n",
       "      <td>7.9250</td>\n",
       "      <td>NaN</td>\n",
       "      <td>S</td>\n",
       "    </tr>\n",
       "    <tr>\n",
       "      <th>3</th>\n",
       "      <td>4</td>\n",
       "      <td>1</td>\n",
       "      <td>1</td>\n",
       "      <td>Futrelle, Mrs. Jacques Heath (Lily May Peel)</td>\n",
       "      <td>female</td>\n",
       "      <td>35.0</td>\n",
       "      <td>1</td>\n",
       "      <td>0</td>\n",
       "      <td>113803</td>\n",
       "      <td>53.1000</td>\n",
       "      <td>C123</td>\n",
       "      <td>S</td>\n",
       "    </tr>\n",
       "    <tr>\n",
       "      <th>4</th>\n",
       "      <td>5</td>\n",
       "      <td>0</td>\n",
       "      <td>3</td>\n",
       "      <td>Allen, Mr. William Henry</td>\n",
       "      <td>male</td>\n",
       "      <td>35.0</td>\n",
       "      <td>0</td>\n",
       "      <td>0</td>\n",
       "      <td>373450</td>\n",
       "      <td>8.0500</td>\n",
       "      <td>NaN</td>\n",
       "      <td>S</td>\n",
       "    </tr>\n",
       "    <tr>\n",
       "      <th>5</th>\n",
       "      <td>6</td>\n",
       "      <td>0</td>\n",
       "      <td>3</td>\n",
       "      <td>Moran, Mr. James</td>\n",
       "      <td>male</td>\n",
       "      <td>NaN</td>\n",
       "      <td>0</td>\n",
       "      <td>0</td>\n",
       "      <td>330877</td>\n",
       "      <td>8.4583</td>\n",
       "      <td>NaN</td>\n",
       "      <td>Q</td>\n",
       "    </tr>\n",
       "    <tr>\n",
       "      <th>6</th>\n",
       "      <td>7</td>\n",
       "      <td>0</td>\n",
       "      <td>1</td>\n",
       "      <td>McCarthy, Mr. Timothy J</td>\n",
       "      <td>male</td>\n",
       "      <td>54.0</td>\n",
       "      <td>0</td>\n",
       "      <td>0</td>\n",
       "      <td>17463</td>\n",
       "      <td>51.8625</td>\n",
       "      <td>E46</td>\n",
       "      <td>S</td>\n",
       "    </tr>\n",
       "    <tr>\n",
       "      <th>7</th>\n",
       "      <td>8</td>\n",
       "      <td>0</td>\n",
       "      <td>3</td>\n",
       "      <td>Palsson, Master. Gosta Leonard</td>\n",
       "      <td>male</td>\n",
       "      <td>2.0</td>\n",
       "      <td>3</td>\n",
       "      <td>1</td>\n",
       "      <td>349909</td>\n",
       "      <td>21.0750</td>\n",
       "      <td>NaN</td>\n",
       "      <td>S</td>\n",
       "    </tr>\n",
       "    <tr>\n",
       "      <th>8</th>\n",
       "      <td>9</td>\n",
       "      <td>1</td>\n",
       "      <td>3</td>\n",
       "      <td>Johnson, Mrs. Oscar W (Elisabeth Vilhelmina Berg)</td>\n",
       "      <td>female</td>\n",
       "      <td>27.0</td>\n",
       "      <td>0</td>\n",
       "      <td>2</td>\n",
       "      <td>347742</td>\n",
       "      <td>11.1333</td>\n",
       "      <td>NaN</td>\n",
       "      <td>S</td>\n",
       "    </tr>\n",
       "    <tr>\n",
       "      <th>9</th>\n",
       "      <td>10</td>\n",
       "      <td>1</td>\n",
       "      <td>2</td>\n",
       "      <td>Nasser, Mrs. Nicholas (Adele Achem)</td>\n",
       "      <td>female</td>\n",
       "      <td>14.0</td>\n",
       "      <td>1</td>\n",
       "      <td>0</td>\n",
       "      <td>237736</td>\n",
       "      <td>30.0708</td>\n",
       "      <td>NaN</td>\n",
       "      <td>C</td>\n",
       "    </tr>\n",
       "  </tbody>\n",
       "</table>\n",
       "</div>"
      ],
      "text/plain": [
       "   PassengerId  Survived  Pclass  \\\n",
       "0            1         0       3   \n",
       "1            2         1       1   \n",
       "2            3         1       3   \n",
       "3            4         1       1   \n",
       "4            5         0       3   \n",
       "5            6         0       3   \n",
       "6            7         0       1   \n",
       "7            8         0       3   \n",
       "8            9         1       3   \n",
       "9           10         1       2   \n",
       "\n",
       "                                                Name     Sex   Age  SibSp  \\\n",
       "0                            Braund, Mr. Owen Harris    male  22.0      1   \n",
       "1  Cumings, Mrs. John Bradley (Florence Briggs Th...  female  38.0      1   \n",
       "2                             Heikkinen, Miss. Laina  female  26.0      0   \n",
       "3       Futrelle, Mrs. Jacques Heath (Lily May Peel)  female  35.0      1   \n",
       "4                           Allen, Mr. William Henry    male  35.0      0   \n",
       "5                                   Moran, Mr. James    male   NaN      0   \n",
       "6                            McCarthy, Mr. Timothy J    male  54.0      0   \n",
       "7                     Palsson, Master. Gosta Leonard    male   2.0      3   \n",
       "8  Johnson, Mrs. Oscar W (Elisabeth Vilhelmina Berg)  female  27.0      0   \n",
       "9                Nasser, Mrs. Nicholas (Adele Achem)  female  14.0      1   \n",
       "\n",
       "   Parch            Ticket     Fare Cabin Embarked  \n",
       "0      0         A/5 21171   7.2500   NaN        S  \n",
       "1      0          PC 17599  71.2833   C85        C  \n",
       "2      0  STON/O2. 3101282   7.9250   NaN        S  \n",
       "3      0            113803  53.1000  C123        S  \n",
       "4      0            373450   8.0500   NaN        S  \n",
       "5      0            330877   8.4583   NaN        Q  \n",
       "6      0             17463  51.8625   E46        S  \n",
       "7      1            349909  21.0750   NaN        S  \n",
       "8      2            347742  11.1333   NaN        S  \n",
       "9      0            237736  30.0708   NaN        C  "
      ]
     },
     "execution_count": 3,
     "metadata": {},
     "output_type": "execute_result"
    }
   ],
   "source": [
    "train_titanic.head(10)"
   ]
  },
  {
   "cell_type": "code",
   "execution_count": 4,
   "id": "eed03760",
   "metadata": {
    "execution": {
     "iopub.execute_input": "2023-08-05T00:58:20.711386Z",
     "iopub.status.busy": "2023-08-05T00:58:20.710972Z",
     "iopub.status.idle": "2023-08-05T00:58:20.730794Z",
     "shell.execute_reply": "2023-08-05T00:58:20.729360Z"
    },
    "papermill": {
     "duration": 0.041222,
     "end_time": "2023-08-05T00:58:20.733162",
     "exception": false,
     "start_time": "2023-08-05T00:58:20.691940",
     "status": "completed"
    },
    "tags": []
   },
   "outputs": [
    {
     "data": {
      "text/html": [
       "<div>\n",
       "<style scoped>\n",
       "    .dataframe tbody tr th:only-of-type {\n",
       "        vertical-align: middle;\n",
       "    }\n",
       "\n",
       "    .dataframe tbody tr th {\n",
       "        vertical-align: top;\n",
       "    }\n",
       "\n",
       "    .dataframe thead th {\n",
       "        text-align: right;\n",
       "    }\n",
       "</style>\n",
       "<table border=\"1\" class=\"dataframe\">\n",
       "  <thead>\n",
       "    <tr style=\"text-align: right;\">\n",
       "      <th></th>\n",
       "      <th>PassengerId</th>\n",
       "      <th>Survived</th>\n",
       "      <th>Pclass</th>\n",
       "      <th>Name</th>\n",
       "      <th>Sex</th>\n",
       "      <th>Age</th>\n",
       "      <th>SibSp</th>\n",
       "      <th>Parch</th>\n",
       "      <th>Ticket</th>\n",
       "      <th>Fare</th>\n",
       "      <th>Cabin</th>\n",
       "      <th>Embarked</th>\n",
       "    </tr>\n",
       "  </thead>\n",
       "  <tbody>\n",
       "    <tr>\n",
       "      <th>886</th>\n",
       "      <td>887</td>\n",
       "      <td>0</td>\n",
       "      <td>2</td>\n",
       "      <td>Montvila, Rev. Juozas</td>\n",
       "      <td>male</td>\n",
       "      <td>27.0</td>\n",
       "      <td>0</td>\n",
       "      <td>0</td>\n",
       "      <td>211536</td>\n",
       "      <td>13.00</td>\n",
       "      <td>NaN</td>\n",
       "      <td>S</td>\n",
       "    </tr>\n",
       "    <tr>\n",
       "      <th>887</th>\n",
       "      <td>888</td>\n",
       "      <td>1</td>\n",
       "      <td>1</td>\n",
       "      <td>Graham, Miss. Margaret Edith</td>\n",
       "      <td>female</td>\n",
       "      <td>19.0</td>\n",
       "      <td>0</td>\n",
       "      <td>0</td>\n",
       "      <td>112053</td>\n",
       "      <td>30.00</td>\n",
       "      <td>B42</td>\n",
       "      <td>S</td>\n",
       "    </tr>\n",
       "    <tr>\n",
       "      <th>888</th>\n",
       "      <td>889</td>\n",
       "      <td>0</td>\n",
       "      <td>3</td>\n",
       "      <td>Johnston, Miss. Catherine Helen \"Carrie\"</td>\n",
       "      <td>female</td>\n",
       "      <td>NaN</td>\n",
       "      <td>1</td>\n",
       "      <td>2</td>\n",
       "      <td>W./C. 6607</td>\n",
       "      <td>23.45</td>\n",
       "      <td>NaN</td>\n",
       "      <td>S</td>\n",
       "    </tr>\n",
       "    <tr>\n",
       "      <th>889</th>\n",
       "      <td>890</td>\n",
       "      <td>1</td>\n",
       "      <td>1</td>\n",
       "      <td>Behr, Mr. Karl Howell</td>\n",
       "      <td>male</td>\n",
       "      <td>26.0</td>\n",
       "      <td>0</td>\n",
       "      <td>0</td>\n",
       "      <td>111369</td>\n",
       "      <td>30.00</td>\n",
       "      <td>C148</td>\n",
       "      <td>C</td>\n",
       "    </tr>\n",
       "    <tr>\n",
       "      <th>890</th>\n",
       "      <td>891</td>\n",
       "      <td>0</td>\n",
       "      <td>3</td>\n",
       "      <td>Dooley, Mr. Patrick</td>\n",
       "      <td>male</td>\n",
       "      <td>32.0</td>\n",
       "      <td>0</td>\n",
       "      <td>0</td>\n",
       "      <td>370376</td>\n",
       "      <td>7.75</td>\n",
       "      <td>NaN</td>\n",
       "      <td>Q</td>\n",
       "    </tr>\n",
       "  </tbody>\n",
       "</table>\n",
       "</div>"
      ],
      "text/plain": [
       "     PassengerId  Survived  Pclass                                      Name  \\\n",
       "886          887         0       2                     Montvila, Rev. Juozas   \n",
       "887          888         1       1              Graham, Miss. Margaret Edith   \n",
       "888          889         0       3  Johnston, Miss. Catherine Helen \"Carrie\"   \n",
       "889          890         1       1                     Behr, Mr. Karl Howell   \n",
       "890          891         0       3                       Dooley, Mr. Patrick   \n",
       "\n",
       "        Sex   Age  SibSp  Parch      Ticket   Fare Cabin Embarked  \n",
       "886    male  27.0      0      0      211536  13.00   NaN        S  \n",
       "887  female  19.0      0      0      112053  30.00   B42        S  \n",
       "888  female   NaN      1      2  W./C. 6607  23.45   NaN        S  \n",
       "889    male  26.0      0      0      111369  30.00  C148        C  \n",
       "890    male  32.0      0      0      370376   7.75   NaN        Q  "
      ]
     },
     "execution_count": 4,
     "metadata": {},
     "output_type": "execute_result"
    }
   ],
   "source": [
    "train_titanic.tail()"
   ]
  },
  {
   "cell_type": "code",
   "execution_count": 5,
   "id": "3e1801bb",
   "metadata": {
    "execution": {
     "iopub.execute_input": "2023-08-05T00:58:20.771261Z",
     "iopub.status.busy": "2023-08-05T00:58:20.770814Z",
     "iopub.status.idle": "2023-08-05T00:58:20.812046Z",
     "shell.execute_reply": "2023-08-05T00:58:20.811082Z"
    },
    "papermill": {
     "duration": 0.063636,
     "end_time": "2023-08-05T00:58:20.814597",
     "exception": false,
     "start_time": "2023-08-05T00:58:20.750961",
     "status": "completed"
    },
    "tags": []
   },
   "outputs": [
    {
     "data": {
      "text/html": [
       "<div>\n",
       "<style scoped>\n",
       "    .dataframe tbody tr th:only-of-type {\n",
       "        vertical-align: middle;\n",
       "    }\n",
       "\n",
       "    .dataframe tbody tr th {\n",
       "        vertical-align: top;\n",
       "    }\n",
       "\n",
       "    .dataframe thead th {\n",
       "        text-align: right;\n",
       "    }\n",
       "</style>\n",
       "<table border=\"1\" class=\"dataframe\">\n",
       "  <thead>\n",
       "    <tr style=\"text-align: right;\">\n",
       "      <th></th>\n",
       "      <th>PassengerId</th>\n",
       "      <th>Survived</th>\n",
       "      <th>Pclass</th>\n",
       "      <th>Age</th>\n",
       "      <th>SibSp</th>\n",
       "      <th>Parch</th>\n",
       "      <th>Fare</th>\n",
       "    </tr>\n",
       "  </thead>\n",
       "  <tbody>\n",
       "    <tr>\n",
       "      <th>count</th>\n",
       "      <td>891.000000</td>\n",
       "      <td>891.000000</td>\n",
       "      <td>891.000000</td>\n",
       "      <td>714.000000</td>\n",
       "      <td>891.000000</td>\n",
       "      <td>891.000000</td>\n",
       "      <td>891.000000</td>\n",
       "    </tr>\n",
       "    <tr>\n",
       "      <th>mean</th>\n",
       "      <td>446.000000</td>\n",
       "      <td>0.383838</td>\n",
       "      <td>2.308642</td>\n",
       "      <td>29.699118</td>\n",
       "      <td>0.523008</td>\n",
       "      <td>0.381594</td>\n",
       "      <td>32.204208</td>\n",
       "    </tr>\n",
       "    <tr>\n",
       "      <th>std</th>\n",
       "      <td>257.353842</td>\n",
       "      <td>0.486592</td>\n",
       "      <td>0.836071</td>\n",
       "      <td>14.526497</td>\n",
       "      <td>1.102743</td>\n",
       "      <td>0.806057</td>\n",
       "      <td>49.693429</td>\n",
       "    </tr>\n",
       "    <tr>\n",
       "      <th>min</th>\n",
       "      <td>1.000000</td>\n",
       "      <td>0.000000</td>\n",
       "      <td>1.000000</td>\n",
       "      <td>0.420000</td>\n",
       "      <td>0.000000</td>\n",
       "      <td>0.000000</td>\n",
       "      <td>0.000000</td>\n",
       "    </tr>\n",
       "    <tr>\n",
       "      <th>25%</th>\n",
       "      <td>223.500000</td>\n",
       "      <td>0.000000</td>\n",
       "      <td>2.000000</td>\n",
       "      <td>20.125000</td>\n",
       "      <td>0.000000</td>\n",
       "      <td>0.000000</td>\n",
       "      <td>7.910400</td>\n",
       "    </tr>\n",
       "    <tr>\n",
       "      <th>50%</th>\n",
       "      <td>446.000000</td>\n",
       "      <td>0.000000</td>\n",
       "      <td>3.000000</td>\n",
       "      <td>28.000000</td>\n",
       "      <td>0.000000</td>\n",
       "      <td>0.000000</td>\n",
       "      <td>14.454200</td>\n",
       "    </tr>\n",
       "    <tr>\n",
       "      <th>75%</th>\n",
       "      <td>668.500000</td>\n",
       "      <td>1.000000</td>\n",
       "      <td>3.000000</td>\n",
       "      <td>38.000000</td>\n",
       "      <td>1.000000</td>\n",
       "      <td>0.000000</td>\n",
       "      <td>31.000000</td>\n",
       "    </tr>\n",
       "    <tr>\n",
       "      <th>max</th>\n",
       "      <td>891.000000</td>\n",
       "      <td>1.000000</td>\n",
       "      <td>3.000000</td>\n",
       "      <td>80.000000</td>\n",
       "      <td>8.000000</td>\n",
       "      <td>6.000000</td>\n",
       "      <td>512.329200</td>\n",
       "    </tr>\n",
       "  </tbody>\n",
       "</table>\n",
       "</div>"
      ],
      "text/plain": [
       "       PassengerId    Survived      Pclass         Age       SibSp  \\\n",
       "count   891.000000  891.000000  891.000000  714.000000  891.000000   \n",
       "mean    446.000000    0.383838    2.308642   29.699118    0.523008   \n",
       "std     257.353842    0.486592    0.836071   14.526497    1.102743   \n",
       "min       1.000000    0.000000    1.000000    0.420000    0.000000   \n",
       "25%     223.500000    0.000000    2.000000   20.125000    0.000000   \n",
       "50%     446.000000    0.000000    3.000000   28.000000    0.000000   \n",
       "75%     668.500000    1.000000    3.000000   38.000000    1.000000   \n",
       "max     891.000000    1.000000    3.000000   80.000000    8.000000   \n",
       "\n",
       "            Parch        Fare  \n",
       "count  891.000000  891.000000  \n",
       "mean     0.381594   32.204208  \n",
       "std      0.806057   49.693429  \n",
       "min      0.000000    0.000000  \n",
       "25%      0.000000    7.910400  \n",
       "50%      0.000000   14.454200  \n",
       "75%      0.000000   31.000000  \n",
       "max      6.000000  512.329200  "
      ]
     },
     "execution_count": 5,
     "metadata": {},
     "output_type": "execute_result"
    }
   ],
   "source": [
    "train_titanic.describe()"
   ]
  },
  {
   "cell_type": "code",
   "execution_count": 6,
   "id": "8d1b0ad9",
   "metadata": {
    "execution": {
     "iopub.execute_input": "2023-08-05T00:58:20.856890Z",
     "iopub.status.busy": "2023-08-05T00:58:20.855559Z",
     "iopub.status.idle": "2023-08-05T00:58:20.877094Z",
     "shell.execute_reply": "2023-08-05T00:58:20.876229Z"
    },
    "papermill": {
     "duration": 0.047948,
     "end_time": "2023-08-05T00:58:20.881922",
     "exception": false,
     "start_time": "2023-08-05T00:58:20.833974",
     "status": "completed"
    },
    "tags": []
   },
   "outputs": [
    {
     "name": "stderr",
     "output_type": "stream",
     "text": [
      "/tmp/ipykernel_20/1931558059.py:1: FutureWarning: The default value of numeric_only in DataFrame.corr is deprecated. In a future version, it will default to False. Select only valid columns or specify the value of numeric_only to silence this warning.\n",
      "  train_titanic.corr()\n"
     ]
    },
    {
     "data": {
      "text/html": [
       "<div>\n",
       "<style scoped>\n",
       "    .dataframe tbody tr th:only-of-type {\n",
       "        vertical-align: middle;\n",
       "    }\n",
       "\n",
       "    .dataframe tbody tr th {\n",
       "        vertical-align: top;\n",
       "    }\n",
       "\n",
       "    .dataframe thead th {\n",
       "        text-align: right;\n",
       "    }\n",
       "</style>\n",
       "<table border=\"1\" class=\"dataframe\">\n",
       "  <thead>\n",
       "    <tr style=\"text-align: right;\">\n",
       "      <th></th>\n",
       "      <th>PassengerId</th>\n",
       "      <th>Survived</th>\n",
       "      <th>Pclass</th>\n",
       "      <th>Age</th>\n",
       "      <th>SibSp</th>\n",
       "      <th>Parch</th>\n",
       "      <th>Fare</th>\n",
       "    </tr>\n",
       "  </thead>\n",
       "  <tbody>\n",
       "    <tr>\n",
       "      <th>PassengerId</th>\n",
       "      <td>1.000000</td>\n",
       "      <td>-0.005007</td>\n",
       "      <td>-0.035144</td>\n",
       "      <td>0.036847</td>\n",
       "      <td>-0.057527</td>\n",
       "      <td>-0.001652</td>\n",
       "      <td>0.012658</td>\n",
       "    </tr>\n",
       "    <tr>\n",
       "      <th>Survived</th>\n",
       "      <td>-0.005007</td>\n",
       "      <td>1.000000</td>\n",
       "      <td>-0.338481</td>\n",
       "      <td>-0.077221</td>\n",
       "      <td>-0.035322</td>\n",
       "      <td>0.081629</td>\n",
       "      <td>0.257307</td>\n",
       "    </tr>\n",
       "    <tr>\n",
       "      <th>Pclass</th>\n",
       "      <td>-0.035144</td>\n",
       "      <td>-0.338481</td>\n",
       "      <td>1.000000</td>\n",
       "      <td>-0.369226</td>\n",
       "      <td>0.083081</td>\n",
       "      <td>0.018443</td>\n",
       "      <td>-0.549500</td>\n",
       "    </tr>\n",
       "    <tr>\n",
       "      <th>Age</th>\n",
       "      <td>0.036847</td>\n",
       "      <td>-0.077221</td>\n",
       "      <td>-0.369226</td>\n",
       "      <td>1.000000</td>\n",
       "      <td>-0.308247</td>\n",
       "      <td>-0.189119</td>\n",
       "      <td>0.096067</td>\n",
       "    </tr>\n",
       "    <tr>\n",
       "      <th>SibSp</th>\n",
       "      <td>-0.057527</td>\n",
       "      <td>-0.035322</td>\n",
       "      <td>0.083081</td>\n",
       "      <td>-0.308247</td>\n",
       "      <td>1.000000</td>\n",
       "      <td>0.414838</td>\n",
       "      <td>0.159651</td>\n",
       "    </tr>\n",
       "    <tr>\n",
       "      <th>Parch</th>\n",
       "      <td>-0.001652</td>\n",
       "      <td>0.081629</td>\n",
       "      <td>0.018443</td>\n",
       "      <td>-0.189119</td>\n",
       "      <td>0.414838</td>\n",
       "      <td>1.000000</td>\n",
       "      <td>0.216225</td>\n",
       "    </tr>\n",
       "    <tr>\n",
       "      <th>Fare</th>\n",
       "      <td>0.012658</td>\n",
       "      <td>0.257307</td>\n",
       "      <td>-0.549500</td>\n",
       "      <td>0.096067</td>\n",
       "      <td>0.159651</td>\n",
       "      <td>0.216225</td>\n",
       "      <td>1.000000</td>\n",
       "    </tr>\n",
       "  </tbody>\n",
       "</table>\n",
       "</div>"
      ],
      "text/plain": [
       "             PassengerId  Survived    Pclass       Age     SibSp     Parch  \\\n",
       "PassengerId     1.000000 -0.005007 -0.035144  0.036847 -0.057527 -0.001652   \n",
       "Survived       -0.005007  1.000000 -0.338481 -0.077221 -0.035322  0.081629   \n",
       "Pclass         -0.035144 -0.338481  1.000000 -0.369226  0.083081  0.018443   \n",
       "Age             0.036847 -0.077221 -0.369226  1.000000 -0.308247 -0.189119   \n",
       "SibSp          -0.057527 -0.035322  0.083081 -0.308247  1.000000  0.414838   \n",
       "Parch          -0.001652  0.081629  0.018443 -0.189119  0.414838  1.000000   \n",
       "Fare            0.012658  0.257307 -0.549500  0.096067  0.159651  0.216225   \n",
       "\n",
       "                 Fare  \n",
       "PassengerId  0.012658  \n",
       "Survived     0.257307  \n",
       "Pclass      -0.549500  \n",
       "Age          0.096067  \n",
       "SibSp        0.159651  \n",
       "Parch        0.216225  \n",
       "Fare         1.000000  "
      ]
     },
     "execution_count": 6,
     "metadata": {},
     "output_type": "execute_result"
    }
   ],
   "source": [
    "train_titanic.corr()"
   ]
  },
  {
   "cell_type": "code",
   "execution_count": 7,
   "id": "55182e2f",
   "metadata": {
    "execution": {
     "iopub.execute_input": "2023-08-05T00:58:20.924058Z",
     "iopub.status.busy": "2023-08-05T00:58:20.923245Z",
     "iopub.status.idle": "2023-08-05T00:58:20.932821Z",
     "shell.execute_reply": "2023-08-05T00:58:20.931605Z"
    },
    "papermill": {
     "duration": 0.034075,
     "end_time": "2023-08-05T00:58:20.935933",
     "exception": false,
     "start_time": "2023-08-05T00:58:20.901858",
     "status": "completed"
    },
    "tags": []
   },
   "outputs": [
    {
     "data": {
      "text/plain": [
       "PassengerId      int64\n",
       "Survived         int64\n",
       "Pclass           int64\n",
       "Name            object\n",
       "Sex             object\n",
       "Age            float64\n",
       "SibSp            int64\n",
       "Parch            int64\n",
       "Ticket          object\n",
       "Fare           float64\n",
       "Cabin           object\n",
       "Embarked        object\n",
       "dtype: object"
      ]
     },
     "execution_count": 7,
     "metadata": {},
     "output_type": "execute_result"
    }
   ],
   "source": [
    "train_titanic.dtypes"
   ]
  },
  {
   "cell_type": "code",
   "execution_count": 8,
   "id": "896d57aa",
   "metadata": {
    "execution": {
     "iopub.execute_input": "2023-08-05T00:58:20.977345Z",
     "iopub.status.busy": "2023-08-05T00:58:20.976432Z",
     "iopub.status.idle": "2023-08-05T00:58:20.986147Z",
     "shell.execute_reply": "2023-08-05T00:58:20.984710Z"
    },
    "papermill": {
     "duration": 0.033063,
     "end_time": "2023-08-05T00:58:20.989229",
     "exception": false,
     "start_time": "2023-08-05T00:58:20.956166",
     "status": "completed"
    },
    "tags": []
   },
   "outputs": [
    {
     "data": {
      "text/plain": [
       "Index(['PassengerId', 'Survived', 'Pclass', 'Name', 'Sex', 'Age', 'SibSp',\n",
       "       'Parch', 'Ticket', 'Fare', 'Cabin', 'Embarked'],\n",
       "      dtype='object')"
      ]
     },
     "execution_count": 8,
     "metadata": {},
     "output_type": "execute_result"
    }
   ],
   "source": [
    "train_titanic.columns"
   ]
  },
  {
   "cell_type": "code",
   "execution_count": 9,
   "id": "4c0a6a09",
   "metadata": {
    "execution": {
     "iopub.execute_input": "2023-08-05T00:58:21.034134Z",
     "iopub.status.busy": "2023-08-05T00:58:21.033731Z",
     "iopub.status.idle": "2023-08-05T00:58:21.060563Z",
     "shell.execute_reply": "2023-08-05T00:58:21.058960Z"
    },
    "papermill": {
     "duration": 0.053156,
     "end_time": "2023-08-05T00:58:21.063154",
     "exception": false,
     "start_time": "2023-08-05T00:58:21.009998",
     "status": "completed"
    },
    "tags": []
   },
   "outputs": [
    {
     "name": "stdout",
     "output_type": "stream",
     "text": [
      "<class 'pandas.core.frame.DataFrame'>\n",
      "RangeIndex: 891 entries, 0 to 890\n",
      "Data columns (total 12 columns):\n",
      " #   Column       Non-Null Count  Dtype  \n",
      "---  ------       --------------  -----  \n",
      " 0   PassengerId  891 non-null    int64  \n",
      " 1   Survived     891 non-null    int64  \n",
      " 2   Pclass       891 non-null    int64  \n",
      " 3   Name         891 non-null    object \n",
      " 4   Sex          891 non-null    object \n",
      " 5   Age          714 non-null    float64\n",
      " 6   SibSp        891 non-null    int64  \n",
      " 7   Parch        891 non-null    int64  \n",
      " 8   Ticket       891 non-null    object \n",
      " 9   Fare         891 non-null    float64\n",
      " 10  Cabin        204 non-null    object \n",
      " 11  Embarked     889 non-null    object \n",
      "dtypes: float64(2), int64(5), object(5)\n",
      "memory usage: 83.7+ KB\n"
     ]
    }
   ],
   "source": [
    "train_titanic.info()"
   ]
  },
  {
   "cell_type": "code",
   "execution_count": 10,
   "id": "3d8ab6d4",
   "metadata": {
    "execution": {
     "iopub.execute_input": "2023-08-05T00:58:21.103759Z",
     "iopub.status.busy": "2023-08-05T00:58:21.102938Z",
     "iopub.status.idle": "2023-08-05T00:58:21.115047Z",
     "shell.execute_reply": "2023-08-05T00:58:21.113645Z"
    },
    "papermill": {
     "duration": 0.035831,
     "end_time": "2023-08-05T00:58:21.117943",
     "exception": false,
     "start_time": "2023-08-05T00:58:21.082112",
     "status": "completed"
    },
    "tags": []
   },
   "outputs": [
    {
     "data": {
      "text/plain": [
       "PassengerId      0\n",
       "Survived         0\n",
       "Pclass           0\n",
       "Name             0\n",
       "Sex              0\n",
       "Age            177\n",
       "SibSp            0\n",
       "Parch            0\n",
       "Ticket           0\n",
       "Fare             0\n",
       "Cabin          687\n",
       "Embarked         2\n",
       "dtype: int64"
      ]
     },
     "execution_count": 10,
     "metadata": {},
     "output_type": "execute_result"
    }
   ],
   "source": [
    "# Check for missing value counts\n",
    "train_titanic.isna().sum()"
   ]
  },
  {
   "cell_type": "code",
   "execution_count": 11,
   "id": "844c8316",
   "metadata": {
    "execution": {
     "iopub.execute_input": "2023-08-05T00:58:21.158878Z",
     "iopub.status.busy": "2023-08-05T00:58:21.158367Z",
     "iopub.status.idle": "2023-08-05T00:58:22.274972Z",
     "shell.execute_reply": "2023-08-05T00:58:22.273711Z"
    },
    "papermill": {
     "duration": 1.140527,
     "end_time": "2023-08-05T00:58:22.277807",
     "exception": false,
     "start_time": "2023-08-05T00:58:21.137280",
     "status": "completed"
    },
    "tags": []
   },
   "outputs": [
    {
     "name": "stderr",
     "output_type": "stream",
     "text": [
      "/opt/conda/lib/python3.10/site-packages/scipy/__init__.py:146: UserWarning: A NumPy version >=1.16.5 and <1.23.0 is required for this version of SciPy (detected version 1.23.5\n",
      "  warnings.warn(f\"A NumPy version >={np_minversion} and <{np_maxversion}\"\n"
     ]
    },
    {
     "name": "stdout",
     "output_type": "stream",
     "text": [
      "Skewness of Age: 0.3882898514698657\n"
     ]
    }
   ],
   "source": [
    "# I can see that I have missing value in the Age column\n",
    "# get the skewness to determine whether to fill the missing value of a mean, median, mode or etc.\n",
    "from scipy.stats import skew\n",
    "skewness = skew(train_titanic['Age'].dropna())\n",
    "print(f\"Skewness of Age: {skewness}\")"
   ]
  },
  {
   "cell_type": "code",
   "execution_count": 12,
   "id": "ae3a1117",
   "metadata": {
    "execution": {
     "iopub.execute_input": "2023-08-05T00:58:22.320151Z",
     "iopub.status.busy": "2023-08-05T00:58:22.319756Z",
     "iopub.status.idle": "2023-08-05T00:58:22.327967Z",
     "shell.execute_reply": "2023-08-05T00:58:22.326421Z"
    },
    "papermill": {
     "duration": 0.032958,
     "end_time": "2023-08-05T00:58:22.330894",
     "exception": false,
     "start_time": "2023-08-05T00:58:22.297936",
     "status": "completed"
    },
    "tags": []
   },
   "outputs": [],
   "source": [
    "# Based on the skewness I am gonna use the mean value of the Age column to fill the missing values\n",
    "mean_age = train_titanic['Age'].mean()\n",
    "train_titanic['Age'].fillna(round(mean_age, 2), inplace=True)"
   ]
  },
  {
   "cell_type": "code",
   "execution_count": 13,
   "id": "2f6a4770",
   "metadata": {
    "execution": {
     "iopub.execute_input": "2023-08-05T00:58:22.371491Z",
     "iopub.status.busy": "2023-08-05T00:58:22.371091Z",
     "iopub.status.idle": "2023-08-05T00:58:22.378230Z",
     "shell.execute_reply": "2023-08-05T00:58:22.376901Z"
    },
    "papermill": {
     "duration": 0.03053,
     "end_time": "2023-08-05T00:58:22.380854",
     "exception": false,
     "start_time": "2023-08-05T00:58:22.350324",
     "status": "completed"
    },
    "tags": []
   },
   "outputs": [],
   "source": [
    "# Fill missing values in the Embarked column using mode imputation\n",
    "train_titanic['Embarked'].fillna(train_titanic['Embarked'].mode()[0], inplace=True)"
   ]
  },
  {
   "cell_type": "code",
   "execution_count": 14,
   "id": "c953e53a",
   "metadata": {
    "execution": {
     "iopub.execute_input": "2023-08-05T00:58:22.421816Z",
     "iopub.status.busy": "2023-08-05T00:58:22.421287Z",
     "iopub.status.idle": "2023-08-05T00:58:22.443991Z",
     "shell.execute_reply": "2023-08-05T00:58:22.442494Z"
    },
    "papermill": {
     "duration": 0.046657,
     "end_time": "2023-08-05T00:58:22.446967",
     "exception": false,
     "start_time": "2023-08-05T00:58:22.400310",
     "status": "completed"
    },
    "tags": []
   },
   "outputs": [
    {
     "data": {
      "text/html": [
       "<div>\n",
       "<style scoped>\n",
       "    .dataframe tbody tr th:only-of-type {\n",
       "        vertical-align: middle;\n",
       "    }\n",
       "\n",
       "    .dataframe tbody tr th {\n",
       "        vertical-align: top;\n",
       "    }\n",
       "\n",
       "    .dataframe thead th {\n",
       "        text-align: right;\n",
       "    }\n",
       "</style>\n",
       "<table border=\"1\" class=\"dataframe\">\n",
       "  <thead>\n",
       "    <tr style=\"text-align: right;\">\n",
       "      <th></th>\n",
       "      <th>Survived</th>\n",
       "      <th>Pclass</th>\n",
       "      <th>Sex</th>\n",
       "      <th>Age</th>\n",
       "      <th>SibSp</th>\n",
       "      <th>Parch</th>\n",
       "      <th>Embarked</th>\n",
       "    </tr>\n",
       "  </thead>\n",
       "  <tbody>\n",
       "    <tr>\n",
       "      <th>0</th>\n",
       "      <td>0</td>\n",
       "      <td>3</td>\n",
       "      <td>male</td>\n",
       "      <td>22.0</td>\n",
       "      <td>1</td>\n",
       "      <td>0</td>\n",
       "      <td>S</td>\n",
       "    </tr>\n",
       "    <tr>\n",
       "      <th>1</th>\n",
       "      <td>1</td>\n",
       "      <td>1</td>\n",
       "      <td>female</td>\n",
       "      <td>38.0</td>\n",
       "      <td>1</td>\n",
       "      <td>0</td>\n",
       "      <td>C</td>\n",
       "    </tr>\n",
       "    <tr>\n",
       "      <th>2</th>\n",
       "      <td>1</td>\n",
       "      <td>3</td>\n",
       "      <td>female</td>\n",
       "      <td>26.0</td>\n",
       "      <td>0</td>\n",
       "      <td>0</td>\n",
       "      <td>S</td>\n",
       "    </tr>\n",
       "    <tr>\n",
       "      <th>3</th>\n",
       "      <td>1</td>\n",
       "      <td>1</td>\n",
       "      <td>female</td>\n",
       "      <td>35.0</td>\n",
       "      <td>1</td>\n",
       "      <td>0</td>\n",
       "      <td>S</td>\n",
       "    </tr>\n",
       "    <tr>\n",
       "      <th>4</th>\n",
       "      <td>0</td>\n",
       "      <td>3</td>\n",
       "      <td>male</td>\n",
       "      <td>35.0</td>\n",
       "      <td>0</td>\n",
       "      <td>0</td>\n",
       "      <td>S</td>\n",
       "    </tr>\n",
       "    <tr>\n",
       "      <th>...</th>\n",
       "      <td>...</td>\n",
       "      <td>...</td>\n",
       "      <td>...</td>\n",
       "      <td>...</td>\n",
       "      <td>...</td>\n",
       "      <td>...</td>\n",
       "      <td>...</td>\n",
       "    </tr>\n",
       "    <tr>\n",
       "      <th>886</th>\n",
       "      <td>0</td>\n",
       "      <td>2</td>\n",
       "      <td>male</td>\n",
       "      <td>27.0</td>\n",
       "      <td>0</td>\n",
       "      <td>0</td>\n",
       "      <td>S</td>\n",
       "    </tr>\n",
       "    <tr>\n",
       "      <th>887</th>\n",
       "      <td>1</td>\n",
       "      <td>1</td>\n",
       "      <td>female</td>\n",
       "      <td>19.0</td>\n",
       "      <td>0</td>\n",
       "      <td>0</td>\n",
       "      <td>S</td>\n",
       "    </tr>\n",
       "    <tr>\n",
       "      <th>888</th>\n",
       "      <td>0</td>\n",
       "      <td>3</td>\n",
       "      <td>female</td>\n",
       "      <td>29.7</td>\n",
       "      <td>1</td>\n",
       "      <td>2</td>\n",
       "      <td>S</td>\n",
       "    </tr>\n",
       "    <tr>\n",
       "      <th>889</th>\n",
       "      <td>1</td>\n",
       "      <td>1</td>\n",
       "      <td>male</td>\n",
       "      <td>26.0</td>\n",
       "      <td>0</td>\n",
       "      <td>0</td>\n",
       "      <td>C</td>\n",
       "    </tr>\n",
       "    <tr>\n",
       "      <th>890</th>\n",
       "      <td>0</td>\n",
       "      <td>3</td>\n",
       "      <td>male</td>\n",
       "      <td>32.0</td>\n",
       "      <td>0</td>\n",
       "      <td>0</td>\n",
       "      <td>Q</td>\n",
       "    </tr>\n",
       "  </tbody>\n",
       "</table>\n",
       "<p>891 rows × 7 columns</p>\n",
       "</div>"
      ],
      "text/plain": [
       "     Survived  Pclass     Sex   Age  SibSp  Parch Embarked\n",
       "0           0       3    male  22.0      1      0        S\n",
       "1           1       1  female  38.0      1      0        C\n",
       "2           1       3  female  26.0      0      0        S\n",
       "3           1       1  female  35.0      1      0        S\n",
       "4           0       3    male  35.0      0      0        S\n",
       "..        ...     ...     ...   ...    ...    ...      ...\n",
       "886         0       2    male  27.0      0      0        S\n",
       "887         1       1  female  19.0      0      0        S\n",
       "888         0       3  female  29.7      1      2        S\n",
       "889         1       1    male  26.0      0      0        C\n",
       "890         0       3    male  32.0      0      0        Q\n",
       "\n",
       "[891 rows x 7 columns]"
      ]
     },
     "execution_count": 14,
     "metadata": {},
     "output_type": "execute_result"
    }
   ],
   "source": [
    "# Dropping unnecessary columns\n",
    "train_titanic = train_titanic.drop(['PassengerId', 'Name', 'Cabin', 'Ticket', 'Fare'], axis=1)\n",
    "train_titanic"
   ]
  },
  {
   "cell_type": "markdown",
   "id": "a8a7cf4a",
   "metadata": {
    "papermill": {
     "duration": 0.01969,
     "end_time": "2023-08-05T00:58:22.486946",
     "exception": false,
     "start_time": "2023-08-05T00:58:22.467256",
     "status": "completed"
    },
    "tags": []
   },
   "source": [
    "# **Exploratory Data Analysis**"
   ]
  },
  {
   "cell_type": "markdown",
   "id": "45c0e3b2",
   "metadata": {
    "papermill": {
     "duration": 0.019473,
     "end_time": "2023-08-05T00:58:22.526222",
     "exception": false,
     "start_time": "2023-08-05T00:58:22.506749",
     "status": "completed"
    },
    "tags": []
   },
   "source": [
    "### Import data visualization packages"
   ]
  },
  {
   "cell_type": "code",
   "execution_count": 15,
   "id": "a1e306a0",
   "metadata": {
    "execution": {
     "iopub.execute_input": "2023-08-05T00:58:22.568818Z",
     "iopub.status.busy": "2023-08-05T00:58:22.567999Z",
     "iopub.status.idle": "2023-08-05T00:58:23.104941Z",
     "shell.execute_reply": "2023-08-05T00:58:23.103830Z"
    },
    "papermill": {
     "duration": 0.561758,
     "end_time": "2023-08-05T00:58:23.107734",
     "exception": false,
     "start_time": "2023-08-05T00:58:22.545976",
     "status": "completed"
    },
    "tags": []
   },
   "outputs": [],
   "source": [
    "%matplotlib inline\n",
    "import matplotlib.pyplot as plt\n",
    "import seaborn as sns"
   ]
  },
  {
   "cell_type": "code",
   "execution_count": 16,
   "id": "ea5fe9ff",
   "metadata": {
    "execution": {
     "iopub.execute_input": "2023-08-05T00:58:23.149805Z",
     "iopub.status.busy": "2023-08-05T00:58:23.149384Z",
     "iopub.status.idle": "2023-08-05T00:58:23.462152Z",
     "shell.execute_reply": "2023-08-05T00:58:23.460687Z"
    },
    "papermill": {
     "duration": 0.337607,
     "end_time": "2023-08-05T00:58:23.465085",
     "exception": false,
     "start_time": "2023-08-05T00:58:23.127478",
     "status": "completed"
    },
    "tags": []
   },
   "outputs": [
    {
     "data": {
      "image/png": "[encoded data removed]",
      "text/plain": [
       "<Figure size 640x480 with 1 Axes>"
      ]
     },
     "metadata": {},
     "output_type": "display_data"
    }
   ],
   "source": [
    "# Male and Female survivor\n",
    "sns.countplot(x='Sex', data=train_titanic, hue='Survived')\n",
    "plt.title('Male vs Female Survivor')\n",
    "plt.xlabel('Survived')\n",
    "plt.ylabel('Count')\n",
    "plt.show()"
   ]
  },
  {
   "cell_type": "markdown",
   "id": "d95b34f8",
   "metadata": {
    "papermill": {
     "duration": 0.019793,
     "end_time": "2023-08-05T00:58:23.505914",
     "exception": false,
     "start_time": "2023-08-05T00:58:23.486121",
     "status": "completed"
    },
    "tags": []
   },
   "source": [
    "As shown in the graph, majority of **Male** did not survived the titanic."
   ]
  },
  {
   "cell_type": "code",
   "execution_count": 17,
   "id": "78447517",
   "metadata": {
    "execution": {
     "iopub.execute_input": "2023-08-05T00:58:23.549970Z",
     "iopub.status.busy": "2023-08-05T00:58:23.549551Z",
     "iopub.status.idle": "2023-08-05T00:58:23.713062Z",
     "shell.execute_reply": "2023-08-05T00:58:23.711475Z"
    },
    "papermill": {
     "duration": 0.190208,
     "end_time": "2023-08-05T00:58:23.717651",
     "exception": false,
     "start_time": "2023-08-05T00:58:23.527443",
     "status": "completed"
    },
    "tags": []
   },
   "outputs": [
    {
     "data": {
      "image/png": "[encoded data removed]",
      "text/plain": [
       "<Figure size 1000x600 with 1 Axes>"
      ]
     },
     "metadata": {},
     "output_type": "display_data"
    }
   ],
   "source": [
    "# Pie chart for the percentage of Male and Female survivor\n",
    "plt.figure(figsize=(10, 6))\n",
    "plt.pie(train_titanic['Survived'].value_counts(),labels=['No', 'Yes'], autopct='%1.2f%%')\n",
    "plt.title('Survivor Percentage')\n",
    "plt.show()"
   ]
  },
  {
   "cell_type": "markdown",
   "id": "2490f12e",
   "metadata": {
    "execution": {
     "iopub.execute_input": "2023-08-04T10:37:15.783700Z",
     "iopub.status.busy": "2023-08-04T10:37:15.783291Z",
     "iopub.status.idle": "2023-08-04T10:37:15.790640Z",
     "shell.execute_reply": "2023-08-04T10:37:15.789430Z",
     "shell.execute_reply.started": "2023-08-04T10:37:15.783667Z"
    },
    "papermill": {
     "duration": 0.020464,
     "end_time": "2023-08-05T00:58:23.781949",
     "exception": false,
     "start_time": "2023-08-05T00:58:23.761485",
     "status": "completed"
    },
    "tags": []
   },
   "source": [
    "The percentage of the survivor in the dataset are only 38.38%."
   ]
  },
  {
   "cell_type": "markdown",
   "id": "52bdb64c",
   "metadata": {
    "papermill": {
     "duration": 0.020236,
     "end_time": "2023-08-05T00:58:23.823370",
     "exception": false,
     "start_time": "2023-08-05T00:58:23.803134",
     "status": "completed"
    },
    "tags": []
   },
   "source": [
    "## **Age Count**"
   ]
  },
  {
   "cell_type": "code",
   "execution_count": 18,
   "id": "f3f7a0c2",
   "metadata": {
    "execution": {
     "iopub.execute_input": "2023-08-05T00:58:23.867806Z",
     "iopub.status.busy": "2023-08-05T00:58:23.867042Z",
     "iopub.status.idle": "2023-08-05T00:58:24.439805Z",
     "shell.execute_reply": "2023-08-05T00:58:24.438581Z"
    },
    "papermill": {
     "duration": 0.599483,
     "end_time": "2023-08-05T00:58:24.444077",
     "exception": false,
     "start_time": "2023-08-05T00:58:23.844594",
     "status": "completed"
    },
    "tags": []
   },
   "outputs": [
    {
     "data": {
      "text/plain": [
       "<Axes: xlabel='Age', ylabel='Count'>"
      ]
     },
     "execution_count": 18,
     "metadata": {},
     "output_type": "execute_result"
    },
    {
     "data": {
      "image/png": "[encoded data removed]",
      "text/plain": [
       "<Figure size 640x480 with 1 Axes>"
      ]
     },
     "metadata": {},
     "output_type": "display_data"
    }
   ],
   "source": [
    "# Survivor count based on Age\n",
    "sns.histplot(data=train_titanic, x='Age', hue='Survived', multiple='stack', kde=True)"
   ]
  },
  {
   "cell_type": "markdown",
   "id": "8c39f44a",
   "metadata": {
    "papermill": {
     "duration": 0.021351,
     "end_time": "2023-08-05T00:58:24.487519",
     "exception": false,
     "start_time": "2023-08-05T00:58:24.466168",
     "status": "completed"
    },
    "tags": []
   },
   "source": [
    "The majority of the people that did not survived are from age group 25-30 years old."
   ]
  },
  {
   "cell_type": "markdown",
   "id": "71b15b3e",
   "metadata": {
    "papermill": {
     "duration": 0.021737,
     "end_time": "2023-08-05T00:58:24.532302",
     "exception": false,
     "start_time": "2023-08-05T00:58:24.510565",
     "status": "completed"
    },
    "tags": []
   },
   "source": [
    "## **Port of Embarkation**"
   ]
  },
  {
   "cell_type": "code",
   "execution_count": 19,
   "id": "2f7f0023",
   "metadata": {
    "execution": {
     "iopub.execute_input": "2023-08-05T00:58:24.577931Z",
     "iopub.status.busy": "2023-08-05T00:58:24.577250Z",
     "iopub.status.idle": "2023-08-05T00:58:24.906045Z",
     "shell.execute_reply": "2023-08-05T00:58:24.905086Z"
    },
    "papermill": {
     "duration": 0.354489,
     "end_time": "2023-08-05T00:58:24.908658",
     "exception": false,
     "start_time": "2023-08-05T00:58:24.554169",
     "status": "completed"
    },
    "tags": []
   },
   "outputs": [
    {
     "data": {
      "image/png": "[encoded data removed]",
      "text/plain": [
       "<Figure size 640x480 with 1 Axes>"
      ]
     },
     "metadata": {},
     "output_type": "display_data"
    }
   ],
   "source": [
    "sns.countplot(x='Embarked', hue='Survived', data=train_titanic)\n",
    "plt.title('Survivor based on their Port of Embarkation')\n",
    "plt.xlabel('Port of Embarkation (S=Southampton),(C=Cherbourg),(Q=Queenstown)')\n",
    "plt.ylabel('Count')\n",
    "plt.show()"
   ]
  },
  {
   "cell_type": "markdown",
   "id": "c6a1bdea",
   "metadata": {
    "papermill": {
     "duration": 0.021777,
     "end_time": "2023-08-05T00:58:24.952688",
     "exception": false,
     "start_time": "2023-08-05T00:58:24.930911",
     "status": "completed"
    },
    "tags": []
   },
   "source": [
    "This graph shows the number of people who did not survived based on their port of embarkation. Majority of people who did not survived and who survived are from **S=>Southampton** port, followed by **C=>Cherbourg** and **Q=>Queenstown**."
   ]
  },
  {
   "cell_type": "markdown",
   "id": "ce8bcdab",
   "metadata": {
    "papermill": {
     "duration": 0.022301,
     "end_time": "2023-08-05T00:58:24.997272",
     "exception": false,
     "start_time": "2023-08-05T00:58:24.974971",
     "status": "completed"
    },
    "tags": []
   },
   "source": [
    "## **Ticket class**"
   ]
  },
  {
   "cell_type": "code",
   "execution_count": 20,
   "id": "902a0955",
   "metadata": {
    "execution": {
     "iopub.execute_input": "2023-08-05T00:58:25.049401Z",
     "iopub.status.busy": "2023-08-05T00:58:25.048688Z",
     "iopub.status.idle": "2023-08-05T00:58:25.367570Z",
     "shell.execute_reply": "2023-08-05T00:58:25.366301Z"
    },
    "papermill": {
     "duration": 0.345718,
     "end_time": "2023-08-05T00:58:25.370393",
     "exception": false,
     "start_time": "2023-08-05T00:58:25.024675",
     "status": "completed"
    },
    "tags": []
   },
   "outputs": [
    {
     "data": {
      "image/png": "[encoded data removed]",
      "text/plain": [
       "<Figure size 640x480 with 1 Axes>"
      ]
     },
     "metadata": {},
     "output_type": "display_data"
    }
   ],
   "source": [
    "sns.countplot(x='Pclass', hue='Survived', data=train_titanic)\n",
    "plt.title('Survivor based on their Ticket class (Pclass)')\n",
    "plt.xlabel('Ticket class (Pclass)')\n",
    "plt.ylabel('Count')\n",
    "plt.show()"
   ]
  },
  {
   "cell_type": "markdown",
   "id": "3a69c208",
   "metadata": {
    "papermill": {
     "duration": 0.022876,
     "end_time": "2023-08-05T00:58:25.417106",
     "exception": false,
     "start_time": "2023-08-05T00:58:25.394230",
     "status": "completed"
    },
    "tags": []
   },
   "source": [
    "This graph shows the number of people who did not survived based on the ticket class **(Pclass)**. Majority of people who did not survived are from **3rd class** followed by **2nd class** and **1st class**. In contrast, majority of people who survived are from **1st class**, followed by **3rd class** and **2nd class**. "
   ]
  },
  {
   "cell_type": "markdown",
   "id": "fa916c79",
   "metadata": {
    "papermill": {
     "duration": 0.023208,
     "end_time": "2023-08-05T00:58:25.464212",
     "exception": false,
     "start_time": "2023-08-05T00:58:25.441004",
     "status": "completed"
    },
    "tags": []
   },
   "source": [
    "## **Sibsp** and **Parch**"
   ]
  },
  {
   "cell_type": "code",
   "execution_count": 21,
   "id": "ec45e07a",
   "metadata": {
    "execution": {
     "iopub.execute_input": "2023-08-05T00:58:25.511851Z",
     "iopub.status.busy": "2023-08-05T00:58:25.511408Z",
     "iopub.status.idle": "2023-08-05T00:58:26.169125Z",
     "shell.execute_reply": "2023-08-05T00:58:26.167815Z"
    },
    "papermill": {
     "duration": 0.684577,
     "end_time": "2023-08-05T00:58:26.171925",
     "exception": false,
     "start_time": "2023-08-05T00:58:25.487348",
     "status": "completed"
    },
    "tags": []
   },
   "outputs": [
    {
     "data": {
      "image/png": "[encoded data removed]",
      "text/plain": [
       "<Figure size 1500x500 with 2 Axes>"
      ]
     },
     "metadata": {},
     "output_type": "display_data"
    }
   ],
   "source": [
    "\n",
    "fig, ax= plt.subplots(1,2,figsize=(15, 5))\n",
    "sns.countplot(x='SibSp', hue='Survived', data=train_titanic, ax=ax[0])\n",
    "ax[0].set_title('Number of Survivor who has Siblings/Spouses onboard')\n",
    "ax[0].set_xlabel('Sibling/Spouse (SibSp)')\n",
    "\n",
    "sns.countplot(x='Parch', hue='Survived', data=train_titanic, ax=ax[1])\n",
    "ax[1].set_title('Number of Survivor who has Parents/Children onboard')\n",
    "ax[1].set_xlabel('Parents/Children (Parch)')\n",
    "\n",
    "plt.show()"
   ]
  },
  {
   "cell_type": "markdown",
   "id": "a8c47608",
   "metadata": {
    "papermill": {
     "duration": 0.023366,
     "end_time": "2023-08-05T00:58:26.219330",
     "exception": false,
     "start_time": "2023-08-05T00:58:26.195964",
     "status": "completed"
    },
    "tags": []
   },
   "source": [
    "The graph shows the number of survivor who have **Sibling/Spouse** and **Parents/Children** aboard the titanic. Majority of people who did not survived the titanic don't have **Sibling/Spouse** and **Parents/Children** aboard the titanic."
   ]
  },
  {
   "cell_type": "markdown",
   "id": "0e325e33",
   "metadata": {
    "papermill": {
     "duration": 0.023199,
     "end_time": "2023-08-05T00:58:26.266873",
     "exception": false,
     "start_time": "2023-08-05T00:58:26.243674",
     "status": "completed"
    },
    "tags": []
   },
   "source": [
    "# **Data Preprocessing Part 2**"
   ]
  },
  {
   "cell_type": "code",
   "execution_count": 22,
   "id": "9e7c55d9",
   "metadata": {
    "execution": {
     "iopub.execute_input": "2023-08-05T00:58:26.316827Z",
     "iopub.status.busy": "2023-08-05T00:58:26.315490Z",
     "iopub.status.idle": "2023-08-05T00:58:26.332212Z",
     "shell.execute_reply": "2023-08-05T00:58:26.331021Z"
    },
    "papermill": {
     "duration": 0.044334,
     "end_time": "2023-08-05T00:58:26.335008",
     "exception": false,
     "start_time": "2023-08-05T00:58:26.290674",
     "status": "completed"
    },
    "tags": []
   },
   "outputs": [
    {
     "data": {
      "text/html": [
       "<div>\n",
       "<style scoped>\n",
       "    .dataframe tbody tr th:only-of-type {\n",
       "        vertical-align: middle;\n",
       "    }\n",
       "\n",
       "    .dataframe tbody tr th {\n",
       "        vertical-align: top;\n",
       "    }\n",
       "\n",
       "    .dataframe thead th {\n",
       "        text-align: right;\n",
       "    }\n",
       "</style>\n",
       "<table border=\"1\" class=\"dataframe\">\n",
       "  <thead>\n",
       "    <tr style=\"text-align: right;\">\n",
       "      <th></th>\n",
       "      <th>Survived</th>\n",
       "      <th>Pclass</th>\n",
       "      <th>Sex</th>\n",
       "      <th>Age</th>\n",
       "      <th>SibSp</th>\n",
       "      <th>Parch</th>\n",
       "      <th>Embarked</th>\n",
       "    </tr>\n",
       "  </thead>\n",
       "  <tbody>\n",
       "    <tr>\n",
       "      <th>0</th>\n",
       "      <td>0</td>\n",
       "      <td>3</td>\n",
       "      <td>male</td>\n",
       "      <td>22.0</td>\n",
       "      <td>1</td>\n",
       "      <td>0</td>\n",
       "      <td>S</td>\n",
       "    </tr>\n",
       "    <tr>\n",
       "      <th>1</th>\n",
       "      <td>1</td>\n",
       "      <td>1</td>\n",
       "      <td>female</td>\n",
       "      <td>38.0</td>\n",
       "      <td>1</td>\n",
       "      <td>0</td>\n",
       "      <td>C</td>\n",
       "    </tr>\n",
       "    <tr>\n",
       "      <th>2</th>\n",
       "      <td>1</td>\n",
       "      <td>3</td>\n",
       "      <td>female</td>\n",
       "      <td>26.0</td>\n",
       "      <td>0</td>\n",
       "      <td>0</td>\n",
       "      <td>S</td>\n",
       "    </tr>\n",
       "    <tr>\n",
       "      <th>3</th>\n",
       "      <td>1</td>\n",
       "      <td>1</td>\n",
       "      <td>female</td>\n",
       "      <td>35.0</td>\n",
       "      <td>1</td>\n",
       "      <td>0</td>\n",
       "      <td>S</td>\n",
       "    </tr>\n",
       "    <tr>\n",
       "      <th>4</th>\n",
       "      <td>0</td>\n",
       "      <td>3</td>\n",
       "      <td>male</td>\n",
       "      <td>35.0</td>\n",
       "      <td>0</td>\n",
       "      <td>0</td>\n",
       "      <td>S</td>\n",
       "    </tr>\n",
       "    <tr>\n",
       "      <th>5</th>\n",
       "      <td>0</td>\n",
       "      <td>3</td>\n",
       "      <td>male</td>\n",
       "      <td>29.7</td>\n",
       "      <td>0</td>\n",
       "      <td>0</td>\n",
       "      <td>Q</td>\n",
       "    </tr>\n",
       "    <tr>\n",
       "      <th>6</th>\n",
       "      <td>0</td>\n",
       "      <td>1</td>\n",
       "      <td>male</td>\n",
       "      <td>54.0</td>\n",
       "      <td>0</td>\n",
       "      <td>0</td>\n",
       "      <td>S</td>\n",
       "    </tr>\n",
       "    <tr>\n",
       "      <th>7</th>\n",
       "      <td>0</td>\n",
       "      <td>3</td>\n",
       "      <td>male</td>\n",
       "      <td>2.0</td>\n",
       "      <td>3</td>\n",
       "      <td>1</td>\n",
       "      <td>S</td>\n",
       "    </tr>\n",
       "    <tr>\n",
       "      <th>8</th>\n",
       "      <td>1</td>\n",
       "      <td>3</td>\n",
       "      <td>female</td>\n",
       "      <td>27.0</td>\n",
       "      <td>0</td>\n",
       "      <td>2</td>\n",
       "      <td>S</td>\n",
       "    </tr>\n",
       "    <tr>\n",
       "      <th>9</th>\n",
       "      <td>1</td>\n",
       "      <td>2</td>\n",
       "      <td>female</td>\n",
       "      <td>14.0</td>\n",
       "      <td>1</td>\n",
       "      <td>0</td>\n",
       "      <td>C</td>\n",
       "    </tr>\n",
       "  </tbody>\n",
       "</table>\n",
       "</div>"
      ],
      "text/plain": [
       "   Survived  Pclass     Sex   Age  SibSp  Parch Embarked\n",
       "0         0       3    male  22.0      1      0        S\n",
       "1         1       1  female  38.0      1      0        C\n",
       "2         1       3  female  26.0      0      0        S\n",
       "3         1       1  female  35.0      1      0        S\n",
       "4         0       3    male  35.0      0      0        S\n",
       "5         0       3    male  29.7      0      0        Q\n",
       "6         0       1    male  54.0      0      0        S\n",
       "7         0       3    male   2.0      3      1        S\n",
       "8         1       3  female  27.0      0      2        S\n",
       "9         1       2  female  14.0      1      0        C"
      ]
     },
     "execution_count": 22,
     "metadata": {},
     "output_type": "execute_result"
    }
   ],
   "source": [
    "train_titanic.head(10)"
   ]
  },
  {
   "cell_type": "markdown",
   "id": "30d550cc",
   "metadata": {
    "papermill": {
     "duration": 0.023563,
     "end_time": "2023-08-05T00:58:26.384731",
     "exception": false,
     "start_time": "2023-08-05T00:58:26.361168",
     "status": "completed"
    },
    "tags": []
   },
   "source": [
    "Since there are two categorical values in my final dataframe,\n",
    "I will use LabelEncoder on the **Sex** column and **Embarked** column"
   ]
  },
  {
   "cell_type": "code",
   "execution_count": 23,
   "id": "a64483c4",
   "metadata": {
    "execution": {
     "iopub.execute_input": "2023-08-05T00:58:26.434499Z",
     "iopub.status.busy": "2023-08-05T00:58:26.433482Z",
     "iopub.status.idle": "2023-08-05T00:58:26.635539Z",
     "shell.execute_reply": "2023-08-05T00:58:26.634479Z"
    },
    "papermill": {
     "duration": 0.230119,
     "end_time": "2023-08-05T00:58:26.638612",
     "exception": false,
     "start_time": "2023-08-05T00:58:26.408493",
     "status": "completed"
    },
    "tags": []
   },
   "outputs": [
    {
     "name": "stdout",
     "output_type": "stream",
     "text": [
      "Sex [1 0]\n",
      "Embarked [2 0 1]\n"
     ]
    }
   ],
   "source": [
    "#  Male => 1, female => 0\n",
    "#  S => 2, C => 0, Q => 1\n",
    "from sklearn.preprocessing import LabelEncoder\n",
    "\n",
    "var = ['Sex', 'Embarked']\n",
    "le = LabelEncoder()\n",
    "for i in var:\n",
    "    le.fit(train_titanic[i].unique())\n",
    "    train_titanic[i] = le.transform(train_titanic[i])\n",
    "    print(i, train_titanic[i].unique())"
   ]
  },
  {
   "cell_type": "code",
   "execution_count": 24,
   "id": "83ed9595",
   "metadata": {
    "execution": {
     "iopub.execute_input": "2023-08-05T00:58:26.704919Z",
     "iopub.status.busy": "2023-08-05T00:58:26.704379Z",
     "iopub.status.idle": "2023-08-05T00:58:26.721681Z",
     "shell.execute_reply": "2023-08-05T00:58:26.720047Z"
    },
    "papermill": {
     "duration": 0.047676,
     "end_time": "2023-08-05T00:58:26.724704",
     "exception": false,
     "start_time": "2023-08-05T00:58:26.677028",
     "status": "completed"
    },
    "tags": []
   },
   "outputs": [
    {
     "data": {
      "text/html": [
       "<div>\n",
       "<style scoped>\n",
       "    .dataframe tbody tr th:only-of-type {\n",
       "        vertical-align: middle;\n",
       "    }\n",
       "\n",
       "    .dataframe tbody tr th {\n",
       "        vertical-align: top;\n",
       "    }\n",
       "\n",
       "    .dataframe thead th {\n",
       "        text-align: right;\n",
       "    }\n",
       "</style>\n",
       "<table border=\"1\" class=\"dataframe\">\n",
       "  <thead>\n",
       "    <tr style=\"text-align: right;\">\n",
       "      <th></th>\n",
       "      <th>Survived</th>\n",
       "      <th>Pclass</th>\n",
       "      <th>Sex</th>\n",
       "      <th>Age</th>\n",
       "      <th>SibSp</th>\n",
       "      <th>Parch</th>\n",
       "      <th>Embarked</th>\n",
       "    </tr>\n",
       "  </thead>\n",
       "  <tbody>\n",
       "    <tr>\n",
       "      <th>0</th>\n",
       "      <td>0</td>\n",
       "      <td>3</td>\n",
       "      <td>1</td>\n",
       "      <td>22.0</td>\n",
       "      <td>1</td>\n",
       "      <td>0</td>\n",
       "      <td>2</td>\n",
       "    </tr>\n",
       "    <tr>\n",
       "      <th>1</th>\n",
       "      <td>1</td>\n",
       "      <td>1</td>\n",
       "      <td>0</td>\n",
       "      <td>38.0</td>\n",
       "      <td>1</td>\n",
       "      <td>0</td>\n",
       "      <td>0</td>\n",
       "    </tr>\n",
       "    <tr>\n",
       "      <th>2</th>\n",
       "      <td>1</td>\n",
       "      <td>3</td>\n",
       "      <td>0</td>\n",
       "      <td>26.0</td>\n",
       "      <td>0</td>\n",
       "      <td>0</td>\n",
       "      <td>2</td>\n",
       "    </tr>\n",
       "    <tr>\n",
       "      <th>3</th>\n",
       "      <td>1</td>\n",
       "      <td>1</td>\n",
       "      <td>0</td>\n",
       "      <td>35.0</td>\n",
       "      <td>1</td>\n",
       "      <td>0</td>\n",
       "      <td>2</td>\n",
       "    </tr>\n",
       "    <tr>\n",
       "      <th>4</th>\n",
       "      <td>0</td>\n",
       "      <td>3</td>\n",
       "      <td>1</td>\n",
       "      <td>35.0</td>\n",
       "      <td>0</td>\n",
       "      <td>0</td>\n",
       "      <td>2</td>\n",
       "    </tr>\n",
       "    <tr>\n",
       "      <th>5</th>\n",
       "      <td>0</td>\n",
       "      <td>3</td>\n",
       "      <td>1</td>\n",
       "      <td>29.7</td>\n",
       "      <td>0</td>\n",
       "      <td>0</td>\n",
       "      <td>1</td>\n",
       "    </tr>\n",
       "    <tr>\n",
       "      <th>6</th>\n",
       "      <td>0</td>\n",
       "      <td>1</td>\n",
       "      <td>1</td>\n",
       "      <td>54.0</td>\n",
       "      <td>0</td>\n",
       "      <td>0</td>\n",
       "      <td>2</td>\n",
       "    </tr>\n",
       "    <tr>\n",
       "      <th>7</th>\n",
       "      <td>0</td>\n",
       "      <td>3</td>\n",
       "      <td>1</td>\n",
       "      <td>2.0</td>\n",
       "      <td>3</td>\n",
       "      <td>1</td>\n",
       "      <td>2</td>\n",
       "    </tr>\n",
       "    <tr>\n",
       "      <th>8</th>\n",
       "      <td>1</td>\n",
       "      <td>3</td>\n",
       "      <td>0</td>\n",
       "      <td>27.0</td>\n",
       "      <td>0</td>\n",
       "      <td>2</td>\n",
       "      <td>2</td>\n",
       "    </tr>\n",
       "    <tr>\n",
       "      <th>9</th>\n",
       "      <td>1</td>\n",
       "      <td>2</td>\n",
       "      <td>0</td>\n",
       "      <td>14.0</td>\n",
       "      <td>1</td>\n",
       "      <td>0</td>\n",
       "      <td>0</td>\n",
       "    </tr>\n",
       "  </tbody>\n",
       "</table>\n",
       "</div>"
      ],
      "text/plain": [
       "   Survived  Pclass  Sex   Age  SibSp  Parch  Embarked\n",
       "0         0       3    1  22.0      1      0         2\n",
       "1         1       1    0  38.0      1      0         0\n",
       "2         1       3    0  26.0      0      0         2\n",
       "3         1       1    0  35.0      1      0         2\n",
       "4         0       3    1  35.0      0      0         2\n",
       "5         0       3    1  29.7      0      0         1\n",
       "6         0       1    1  54.0      0      0         2\n",
       "7         0       3    1   2.0      3      1         2\n",
       "8         1       3    0  27.0      0      2         2\n",
       "9         1       2    0  14.0      1      0         0"
      ]
     },
     "execution_count": 24,
     "metadata": {},
     "output_type": "execute_result"
    }
   ],
   "source": [
    "train_titanic.head(10)"
   ]
  },
  {
   "cell_type": "markdown",
   "id": "4f563686",
   "metadata": {
    "papermill": {
     "duration": 0.026222,
     "end_time": "2023-08-05T00:58:26.775898",
     "exception": false,
     "start_time": "2023-08-05T00:58:26.749676",
     "status": "completed"
    },
    "tags": []
   },
   "source": [
    "# Checking Correlation Matrix"
   ]
  },
  {
   "cell_type": "code",
   "execution_count": 25,
   "id": "eb9aaa2a",
   "metadata": {
    "execution": {
     "iopub.execute_input": "2023-08-05T00:58:26.829384Z",
     "iopub.status.busy": "2023-08-05T00:58:26.828961Z",
     "iopub.status.idle": "2023-08-05T00:58:27.401347Z",
     "shell.execute_reply": "2023-08-05T00:58:27.399735Z"
    },
    "papermill": {
     "duration": 0.603678,
     "end_time": "2023-08-05T00:58:27.404836",
     "exception": false,
     "start_time": "2023-08-05T00:58:26.801158",
     "status": "completed"
    },
    "tags": []
   },
   "outputs": [
    {
     "data": {
      "image/png": "[encoded data removed]",
      "text/plain": [
       "<Figure size 900x900 with 2 Axes>"
      ]
     },
     "metadata": {},
     "output_type": "display_data"
    }
   ],
   "source": [
    "plt.figure(figsize=(9, 9))\n",
    "sns.heatmap(train_titanic.corr(), annot=True, cmap='coolwarm')\n",
    "plt.title('Correlation Matrix')\n",
    "plt.show()"
   ]
  },
  {
   "cell_type": "markdown",
   "id": "de198609",
   "metadata": {
    "papermill": {
     "duration": 0.027469,
     "end_time": "2023-08-05T00:58:27.458677",
     "exception": false,
     "start_time": "2023-08-05T00:58:27.431208",
     "status": "completed"
    },
    "tags": []
   },
   "source": [
    "# **Train Test Split**"
   ]
  },
  {
   "cell_type": "code",
   "execution_count": 26,
   "id": "1313f3b8",
   "metadata": {
    "execution": {
     "iopub.execute_input": "2023-08-05T00:58:27.515672Z",
     "iopub.status.busy": "2023-08-05T00:58:27.515179Z",
     "iopub.status.idle": "2023-08-05T00:58:27.657702Z",
     "shell.execute_reply": "2023-08-05T00:58:27.656346Z"
    },
    "papermill": {
     "duration": 0.174679,
     "end_time": "2023-08-05T00:58:27.661135",
     "exception": false,
     "start_time": "2023-08-05T00:58:27.486456",
     "status": "completed"
    },
    "tags": []
   },
   "outputs": [],
   "source": [
    "#Assign features and target\n",
    "X = train_titanic.drop(['Survived'], axis=1)\n",
    "y = train_titanic.Survived\n",
    "#train test split\n",
    "from sklearn.model_selection import train_test_split\n",
    "X_train, X_test, y_train, y_test = train_test_split(X, y, test_size=0.2)"
   ]
  },
  {
   "cell_type": "code",
   "execution_count": 27,
   "id": "2d00733a",
   "metadata": {
    "execution": {
     "iopub.execute_input": "2023-08-05T00:58:27.714441Z",
     "iopub.status.busy": "2023-08-05T00:58:27.714042Z",
     "iopub.status.idle": "2023-08-05T00:58:27.843723Z",
     "shell.execute_reply": "2023-08-05T00:58:27.842482Z"
    },
    "papermill": {
     "duration": 0.159451,
     "end_time": "2023-08-05T00:58:27.846419",
     "exception": false,
     "start_time": "2023-08-05T00:58:27.686968",
     "status": "completed"
    },
    "tags": []
   },
   "outputs": [
    {
     "data": {
      "text/html": [
       "<style>#sk-container-id-1 {color: black;background-color: white;}#sk-container-id-1 pre{padding: 0;}#sk-container-id-1 div.sk-toggleable {background-color: white;}#sk-container-id-1 label.sk-toggleable__label {cursor: pointer;display: block;width: 100%;margin-bottom: 0;padding: 0.3em;box-sizing: border-box;text-align: center;}#sk-container-id-1 label.sk-toggleable__label-arrow:before {content: \"▸\";float: left;margin-right: 0.25em;color: #696969;}#sk-container-id-1 label.sk-toggleable__label-arrow:hover:before {color: black;}#sk-container-id-1 div.sk-estimator:hover label.sk-toggleable__label-arrow:before {color: black;}#sk-container-id-1 div.sk-toggleable__content {max-height: 0;max-width: 0;overflow: hidden;text-align: left;background-color: #f0f8ff;}#sk-container-id-1 div.sk-toggleable__content pre {margin: 0.2em;color: black;border-radius: 0.25em;background-color: #f0f8ff;}#sk-container-id-1 input.sk-toggleable__control:checked~div.sk-toggleable__content {max-height: 200px;max-width: 100%;overflow: auto;}#sk-container-id-1 input.sk-toggleable__control:checked~label.sk-toggleable__label-arrow:before {content: \"▾\";}#sk-container-id-1 div.sk-estimator input.sk-toggleable__control:checked~label.sk-toggleable__label {background-color: #d4ebff;}#sk-container-id-1 div.sk-label input.sk-toggleable__control:checked~label.sk-toggleable__label {background-color: #d4ebff;}#sk-container-id-1 input.sk-hidden--visually {border: 0;clip: rect(1px 1px 1px 1px);clip: rect(1px, 1px, 1px, 1px);height: 1px;margin: -1px;overflow: hidden;padding: 0;position: absolute;width: 1px;}#sk-container-id-1 div.sk-estimator {font-family: monospace;background-color: #f0f8ff;border: 1px dotted black;border-radius: 0.25em;box-sizing: border-box;margin-bottom: 0.5em;}#sk-container-id-1 div.sk-estimator:hover {background-color: #d4ebff;}#sk-container-id-1 div.sk-parallel-item::after {content: \"\";width: 100%;border-bottom: 1px solid gray;flex-grow: 1;}#sk-container-id-1 div.sk-label:hover label.sk-toggleable__label {background-color: #d4ebff;}#sk-container-id-1 div.sk-serial::before {content: \"\";position: absolute;border-left: 1px solid gray;box-sizing: border-box;top: 0;bottom: 0;left: 50%;z-index: 0;}#sk-container-id-1 div.sk-serial {display: flex;flex-direction: column;align-items: center;background-color: white;padding-right: 0.2em;padding-left: 0.2em;position: relative;}#sk-container-id-1 div.sk-item {position: relative;z-index: 1;}#sk-container-id-1 div.sk-parallel {display: flex;align-items: stretch;justify-content: center;background-color: white;position: relative;}#sk-container-id-1 div.sk-item::before, #sk-container-id-1 div.sk-parallel-item::before {content: \"\";position: absolute;border-left: 1px solid gray;box-sizing: border-box;top: 0;bottom: 0;left: 50%;z-index: -1;}#sk-container-id-1 div.sk-parallel-item {display: flex;flex-direction: column;z-index: 1;position: relative;background-color: white;}#sk-container-id-1 div.sk-parallel-item:first-child::after {align-self: flex-end;width: 50%;}#sk-container-id-1 div.sk-parallel-item:last-child::after {align-self: flex-start;width: 50%;}#sk-container-id-1 div.sk-parallel-item:only-child::after {width: 0;}#sk-container-id-1 div.sk-dashed-wrapped {border: 1px dashed gray;margin: 0 0.4em 0.5em 0.4em;box-sizing: border-box;padding-bottom: 0.4em;background-color: white;}#sk-container-id-1 div.sk-label label {font-family: monospace;font-weight: bold;display: inline-block;line-height: 1.2em;}#sk-container-id-1 div.sk-label-container {text-align: center;}#sk-container-id-1 div.sk-container {/* jupyter's `normalize.less` sets `[hidden] { display: none; }` but bootstrap.min.css set `[hidden] { display: none !important; }` so we also need the `!important` here to be able to override the default hidden behavior on the sphinx rendered scikit-learn.org. See: https://github.com/scikit-learn/scikit-learn/issues/21755 */display: inline-block !important;position: relative;}#sk-container-id-1 div.sk-text-repr-fallback {display: none;}</style><div id=\"sk-container-id-1\" class=\"sk-top-container\"><div class=\"sk-text-repr-fallback\"><pre>LogisticRegression()</pre><b>In a Jupyter environment, please rerun this cell to show the HTML representation or trust the notebook. <br />On GitHub, the HTML representation is unable to render, please try loading this page with nbviewer.org.</b></div><div class=\"sk-container\" hidden><div class=\"sk-item\"><div class=\"sk-estimator sk-toggleable\"><input class=\"sk-toggleable__control sk-hidden--visually\" id=\"sk-estimator-id-1\" type=\"checkbox\" checked><label for=\"sk-estimator-id-1\" class=\"sk-toggleable__label sk-toggleable__label-arrow\">LogisticRegression</label><div class=\"sk-toggleable__content\"><pre>LogisticRegression()</pre></div></div></div></div></div>"
      ],
      "text/plain": [
       "LogisticRegression()"
      ]
     },
     "execution_count": 27,
     "metadata": {},
     "output_type": "execute_result"
    }
   ],
   "source": [
    "from sklearn.linear_model import LogisticRegression\n",
    "logreg = LogisticRegression()\n",
    "logreg"
   ]
  },
  {
   "cell_type": "code",
   "execution_count": 28,
   "id": "c54a57a9",
   "metadata": {
    "execution": {
     "iopub.execute_input": "2023-08-05T00:58:27.900290Z",
     "iopub.status.busy": "2023-08-05T00:58:27.899649Z",
     "iopub.status.idle": "2023-08-05T00:58:27.932997Z",
     "shell.execute_reply": "2023-08-05T00:58:27.931683Z"
    },
    "papermill": {
     "duration": 0.063343,
     "end_time": "2023-08-05T00:58:27.935710",
     "exception": false,
     "start_time": "2023-08-05T00:58:27.872367",
     "status": "completed"
    },
    "tags": []
   },
   "outputs": [
    {
     "data": {
      "text/plain": [
       "0.8103932584269663"
      ]
     },
     "execution_count": 28,
     "metadata": {},
     "output_type": "execute_result"
    }
   ],
   "source": [
    "logreg.fit(X_train, y_train)\n",
    "logreg.score(X_train, y_train)"
   ]
  },
  {
   "cell_type": "code",
   "execution_count": 29,
   "id": "7d0afe84",
   "metadata": {
    "execution": {
     "iopub.execute_input": "2023-08-05T00:58:27.990196Z",
     "iopub.status.busy": "2023-08-05T00:58:27.989778Z",
     "iopub.status.idle": "2023-08-05T00:58:28.013512Z",
     "shell.execute_reply": "2023-08-05T00:58:28.010842Z"
    },
    "papermill": {
     "duration": 0.055023,
     "end_time": "2023-08-05T00:58:28.016739",
     "exception": false,
     "start_time": "2023-08-05T00:58:27.961716",
     "status": "completed"
    },
    "tags": []
   },
   "outputs": [
    {
     "data": {
      "text/html": [
       "<div>\n",
       "<style scoped>\n",
       "    .dataframe tbody tr th:only-of-type {\n",
       "        vertical-align: middle;\n",
       "    }\n",
       "\n",
       "    .dataframe tbody tr th {\n",
       "        vertical-align: top;\n",
       "    }\n",
       "\n",
       "    .dataframe thead th {\n",
       "        text-align: right;\n",
       "    }\n",
       "</style>\n",
       "<table border=\"1\" class=\"dataframe\">\n",
       "  <thead>\n",
       "    <tr style=\"text-align: right;\">\n",
       "      <th></th>\n",
       "      <th>Pclass</th>\n",
       "      <th>Sex</th>\n",
       "      <th>Age</th>\n",
       "      <th>SibSp</th>\n",
       "      <th>Parch</th>\n",
       "      <th>Embarked</th>\n",
       "    </tr>\n",
       "  </thead>\n",
       "  <tbody>\n",
       "    <tr>\n",
       "      <th>831</th>\n",
       "      <td>2</td>\n",
       "      <td>1</td>\n",
       "      <td>0.83</td>\n",
       "      <td>1</td>\n",
       "      <td>1</td>\n",
       "      <td>2</td>\n",
       "    </tr>\n",
       "    <tr>\n",
       "      <th>202</th>\n",
       "      <td>3</td>\n",
       "      <td>1</td>\n",
       "      <td>34.00</td>\n",
       "      <td>0</td>\n",
       "      <td>0</td>\n",
       "      <td>2</td>\n",
       "    </tr>\n",
       "    <tr>\n",
       "      <th>355</th>\n",
       "      <td>3</td>\n",
       "      <td>1</td>\n",
       "      <td>28.00</td>\n",
       "      <td>0</td>\n",
       "      <td>0</td>\n",
       "      <td>2</td>\n",
       "    </tr>\n",
       "    <tr>\n",
       "      <th>227</th>\n",
       "      <td>3</td>\n",
       "      <td>1</td>\n",
       "      <td>20.50</td>\n",
       "      <td>0</td>\n",
       "      <td>0</td>\n",
       "      <td>2</td>\n",
       "    </tr>\n",
       "    <tr>\n",
       "      <th>550</th>\n",
       "      <td>1</td>\n",
       "      <td>1</td>\n",
       "      <td>17.00</td>\n",
       "      <td>0</td>\n",
       "      <td>2</td>\n",
       "      <td>0</td>\n",
       "    </tr>\n",
       "    <tr>\n",
       "      <th>...</th>\n",
       "      <td>...</td>\n",
       "      <td>...</td>\n",
       "      <td>...</td>\n",
       "      <td>...</td>\n",
       "      <td>...</td>\n",
       "      <td>...</td>\n",
       "    </tr>\n",
       "    <tr>\n",
       "      <th>259</th>\n",
       "      <td>2</td>\n",
       "      <td>0</td>\n",
       "      <td>50.00</td>\n",
       "      <td>0</td>\n",
       "      <td>1</td>\n",
       "      <td>2</td>\n",
       "    </tr>\n",
       "    <tr>\n",
       "      <th>584</th>\n",
       "      <td>3</td>\n",
       "      <td>1</td>\n",
       "      <td>29.70</td>\n",
       "      <td>0</td>\n",
       "      <td>0</td>\n",
       "      <td>0</td>\n",
       "    </tr>\n",
       "    <tr>\n",
       "      <th>147</th>\n",
       "      <td>3</td>\n",
       "      <td>0</td>\n",
       "      <td>9.00</td>\n",
       "      <td>2</td>\n",
       "      <td>2</td>\n",
       "      <td>2</td>\n",
       "    </tr>\n",
       "    <tr>\n",
       "      <th>245</th>\n",
       "      <td>1</td>\n",
       "      <td>1</td>\n",
       "      <td>44.00</td>\n",
       "      <td>2</td>\n",
       "      <td>0</td>\n",
       "      <td>1</td>\n",
       "    </tr>\n",
       "    <tr>\n",
       "      <th>203</th>\n",
       "      <td>3</td>\n",
       "      <td>1</td>\n",
       "      <td>45.50</td>\n",
       "      <td>0</td>\n",
       "      <td>0</td>\n",
       "      <td>0</td>\n",
       "    </tr>\n",
       "  </tbody>\n",
       "</table>\n",
       "<p>179 rows × 6 columns</p>\n",
       "</div>"
      ],
      "text/plain": [
       "     Pclass  Sex    Age  SibSp  Parch  Embarked\n",
       "831       2    1   0.83      1      1         2\n",
       "202       3    1  34.00      0      0         2\n",
       "355       3    1  28.00      0      0         2\n",
       "227       3    1  20.50      0      0         2\n",
       "550       1    1  17.00      0      2         0\n",
       "..      ...  ...    ...    ...    ...       ...\n",
       "259       2    0  50.00      0      1         2\n",
       "584       3    1  29.70      0      0         0\n",
       "147       3    0   9.00      2      2         2\n",
       "245       1    1  44.00      2      0         1\n",
       "203       3    1  45.50      0      0         0\n",
       "\n",
       "[179 rows x 6 columns]"
      ]
     },
     "execution_count": 29,
     "metadata": {},
     "output_type": "execute_result"
    }
   ],
   "source": [
    "X_test"
   ]
  },
  {
   "cell_type": "code",
   "execution_count": 30,
   "id": "99194607",
   "metadata": {
    "execution": {
     "iopub.execute_input": "2023-08-05T00:58:28.072708Z",
     "iopub.status.busy": "2023-08-05T00:58:28.072238Z",
     "iopub.status.idle": "2023-08-05T00:58:28.080418Z",
     "shell.execute_reply": "2023-08-05T00:58:28.079187Z"
    },
    "papermill": {
     "duration": 0.039784,
     "end_time": "2023-08-05T00:58:28.083099",
     "exception": false,
     "start_time": "2023-08-05T00:58:28.043315",
     "status": "completed"
    },
    "tags": []
   },
   "outputs": [],
   "source": [
    "logreg_pred = logreg.predict(X_test)"
   ]
  },
  {
   "cell_type": "code",
   "execution_count": 31,
   "id": "75437ded",
   "metadata": {
    "execution": {
     "iopub.execute_input": "2023-08-05T00:58:28.139596Z",
     "iopub.status.busy": "2023-08-05T00:58:28.138772Z",
     "iopub.status.idle": "2023-08-05T00:58:28.631324Z",
     "shell.execute_reply": "2023-08-05T00:58:28.630163Z"
    },
    "papermill": {
     "duration": 0.523506,
     "end_time": "2023-08-05T00:58:28.633823",
     "exception": false,
     "start_time": "2023-08-05T00:58:28.110317",
     "status": "completed"
    },
    "tags": []
   },
   "outputs": [
    {
     "data": {
      "image/png": "[encoded data removed]",
      "text/plain": [
       "<Figure size 800x600 with 2 Axes>"
      ]
     },
     "metadata": {},
     "output_type": "display_data"
    }
   ],
   "source": [
    "from sklearn.metrics import confusion_matrix\n",
    "plt.figure(figsize=(8, 6))\n",
    "sns.heatmap(confusion_matrix(y_test, logreg_pred), annot=True, fmt='d', cmap='Blues')\n",
    "plt.xlabel('Predicted')\n",
    "plt.ylabel('Actual')\n",
    "plt.title('Confusion Matrix for Logistic Regression')\n",
    "plt.show()"
   ]
  },
  {
   "cell_type": "code",
   "execution_count": 32,
   "id": "00ffef37",
   "metadata": {
    "execution": {
     "iopub.execute_input": "2023-08-05T00:58:28.689780Z",
     "iopub.status.busy": "2023-08-05T00:58:28.689367Z",
     "iopub.status.idle": "2023-08-05T00:58:28.704479Z",
     "shell.execute_reply": "2023-08-05T00:58:28.703118Z"
    },
    "papermill": {
     "duration": 0.046931,
     "end_time": "2023-08-05T00:58:28.707104",
     "exception": false,
     "start_time": "2023-08-05T00:58:28.660173",
     "status": "completed"
    },
    "tags": []
   },
   "outputs": [
    {
     "name": "stdout",
     "output_type": "stream",
     "text": [
      "              precision    recall  f1-score   support\n",
      "\n",
      "           0       0.79      0.83      0.81       110\n",
      "           1       0.70      0.65      0.68        69\n",
      "\n",
      "    accuracy                           0.76       179\n",
      "   macro avg       0.75      0.74      0.74       179\n",
      "weighted avg       0.76      0.76      0.76       179\n",
      "\n"
     ]
    }
   ],
   "source": [
    "from sklearn.metrics import classification_report\n",
    "print(classification_report(y_test, logreg_pred))"
   ]
  },
  {
   "cell_type": "code",
   "execution_count": 33,
   "id": "5482526c",
   "metadata": {
    "execution": {
     "iopub.execute_input": "2023-08-05T00:58:28.762769Z",
     "iopub.status.busy": "2023-08-05T00:58:28.762309Z",
     "iopub.status.idle": "2023-08-05T00:58:28.771895Z",
     "shell.execute_reply": "2023-08-05T00:58:28.770517Z"
    },
    "papermill": {
     "duration": 0.040538,
     "end_time": "2023-08-05T00:58:28.774311",
     "exception": false,
     "start_time": "2023-08-05T00:58:28.733773",
     "status": "completed"
    },
    "tags": []
   },
   "outputs": [
    {
     "name": "stdout",
     "output_type": "stream",
     "text": [
      "Accuracy Score;  0.7597765363128491\n",
      "Mean Absolute Error:  0.24022346368715083\n",
      "R2 Score:  -0.014097496706192203\n"
     ]
    }
   ],
   "source": [
    "from sklearn.metrics import accuracy_score, mean_absolute_error, r2_score\n",
    "\n",
    "print(\"Accuracy Score; \", accuracy_score(y_test, logreg_pred))\n",
    "print(\"Mean Absolute Error: \", mean_absolute_error(y_test, logreg_pred))\n",
    "print(\"R2 Score: \", r2_score(y_test, logreg_pred))"
   ]
  },
  {
   "cell_type": "markdown",
   "id": "1bf7e36d",
   "metadata": {
    "papermill": {
     "duration": 0.027037,
     "end_time": "2023-08-05T00:58:28.828035",
     "exception": false,
     "start_time": "2023-08-05T00:58:28.800998",
     "status": "completed"
    },
    "tags": []
   },
   "source": [
    "# **Predition using the test.csv data**from sklearn.preprocessing import LabelEncoder\n",
    "\n",
    "var = ['Sex', 'Embarked']\n",
    "le = LabelEncoder()\n",
    "for i in var:\n",
    "    le.fit(train_titanic[i].unique())\n",
    "    train_titanic[i] = le.transform(train_titanic[i])\n",
    "    print(i, train_titanic[i].unique())"
   ]
  },
  {
   "cell_type": "code",
   "execution_count": 34,
   "id": "174bcf61",
   "metadata": {
    "execution": {
     "iopub.execute_input": "2023-08-05T00:58:28.885835Z",
     "iopub.status.busy": "2023-08-05T00:58:28.885074Z",
     "iopub.status.idle": "2023-08-05T00:58:28.914840Z",
     "shell.execute_reply": "2023-08-05T00:58:28.913545Z"
    },
    "papermill": {
     "duration": 0.06269,
     "end_time": "2023-08-05T00:58:28.917722",
     "exception": false,
     "start_time": "2023-08-05T00:58:28.855032",
     "status": "completed"
    },
    "tags": []
   },
   "outputs": [
    {
     "data": {
      "text/html": [
       "<div>\n",
       "<style scoped>\n",
       "    .dataframe tbody tr th:only-of-type {\n",
       "        vertical-align: middle;\n",
       "    }\n",
       "\n",
       "    .dataframe tbody tr th {\n",
       "        vertical-align: top;\n",
       "    }\n",
       "\n",
       "    .dataframe thead th {\n",
       "        text-align: right;\n",
       "    }\n",
       "</style>\n",
       "<table border=\"1\" class=\"dataframe\">\n",
       "  <thead>\n",
       "    <tr style=\"text-align: right;\">\n",
       "      <th></th>\n",
       "      <th>PassengerId</th>\n",
       "      <th>Pclass</th>\n",
       "      <th>Name</th>\n",
       "      <th>Sex</th>\n",
       "      <th>Age</th>\n",
       "      <th>SibSp</th>\n",
       "      <th>Parch</th>\n",
       "      <th>Ticket</th>\n",
       "      <th>Fare</th>\n",
       "      <th>Cabin</th>\n",
       "      <th>Embarked</th>\n",
       "    </tr>\n",
       "  </thead>\n",
       "  <tbody>\n",
       "    <tr>\n",
       "      <th>0</th>\n",
       "      <td>892</td>\n",
       "      <td>3</td>\n",
       "      <td>Kelly, Mr. James</td>\n",
       "      <td>male</td>\n",
       "      <td>34.5</td>\n",
       "      <td>0</td>\n",
       "      <td>0</td>\n",
       "      <td>330911</td>\n",
       "      <td>7.8292</td>\n",
       "      <td>NaN</td>\n",
       "      <td>Q</td>\n",
       "    </tr>\n",
       "    <tr>\n",
       "      <th>1</th>\n",
       "      <td>893</td>\n",
       "      <td>3</td>\n",
       "      <td>Wilkes, Mrs. James (Ellen Needs)</td>\n",
       "      <td>female</td>\n",
       "      <td>47.0</td>\n",
       "      <td>1</td>\n",
       "      <td>0</td>\n",
       "      <td>363272</td>\n",
       "      <td>7.0000</td>\n",
       "      <td>NaN</td>\n",
       "      <td>S</td>\n",
       "    </tr>\n",
       "    <tr>\n",
       "      <th>2</th>\n",
       "      <td>894</td>\n",
       "      <td>2</td>\n",
       "      <td>Myles, Mr. Thomas Francis</td>\n",
       "      <td>male</td>\n",
       "      <td>62.0</td>\n",
       "      <td>0</td>\n",
       "      <td>0</td>\n",
       "      <td>240276</td>\n",
       "      <td>9.6875</td>\n",
       "      <td>NaN</td>\n",
       "      <td>Q</td>\n",
       "    </tr>\n",
       "    <tr>\n",
       "      <th>3</th>\n",
       "      <td>895</td>\n",
       "      <td>3</td>\n",
       "      <td>Wirz, Mr. Albert</td>\n",
       "      <td>male</td>\n",
       "      <td>27.0</td>\n",
       "      <td>0</td>\n",
       "      <td>0</td>\n",
       "      <td>315154</td>\n",
       "      <td>8.6625</td>\n",
       "      <td>NaN</td>\n",
       "      <td>S</td>\n",
       "    </tr>\n",
       "    <tr>\n",
       "      <th>4</th>\n",
       "      <td>896</td>\n",
       "      <td>3</td>\n",
       "      <td>Hirvonen, Mrs. Alexander (Helga E Lindqvist)</td>\n",
       "      <td>female</td>\n",
       "      <td>22.0</td>\n",
       "      <td>1</td>\n",
       "      <td>1</td>\n",
       "      <td>3101298</td>\n",
       "      <td>12.2875</td>\n",
       "      <td>NaN</td>\n",
       "      <td>S</td>\n",
       "    </tr>\n",
       "  </tbody>\n",
       "</table>\n",
       "</div>"
      ],
      "text/plain": [
       "   PassengerId  Pclass                                          Name     Sex  \\\n",
       "0          892       3                              Kelly, Mr. James    male   \n",
       "1          893       3              Wilkes, Mrs. James (Ellen Needs)  female   \n",
       "2          894       2                     Myles, Mr. Thomas Francis    male   \n",
       "3          895       3                              Wirz, Mr. Albert    male   \n",
       "4          896       3  Hirvonen, Mrs. Alexander (Helga E Lindqvist)  female   \n",
       "\n",
       "    Age  SibSp  Parch   Ticket     Fare Cabin Embarked  \n",
       "0  34.5      0      0   330911   7.8292   NaN        Q  \n",
       "1  47.0      1      0   363272   7.0000   NaN        S  \n",
       "2  62.0      0      0   240276   9.6875   NaN        Q  \n",
       "3  27.0      0      0   315154   8.6625   NaN        S  \n",
       "4  22.0      1      1  3101298  12.2875   NaN        S  "
      ]
     },
     "execution_count": 34,
     "metadata": {},
     "output_type": "execute_result"
    }
   ],
   "source": [
    "test_titanic = pd.read_csv('/kaggle/input/titanic/test.csv')\n",
    "test_titanic.head()"
   ]
  },
  {
   "cell_type": "code",
   "execution_count": 35,
   "id": "adda6132",
   "metadata": {
    "execution": {
     "iopub.execute_input": "2023-08-05T00:58:28.974213Z",
     "iopub.status.busy": "2023-08-05T00:58:28.973763Z",
     "iopub.status.idle": "2023-08-05T00:58:28.981015Z",
     "shell.execute_reply": "2023-08-05T00:58:28.979904Z"
    },
    "papermill": {
     "duration": 0.037875,
     "end_time": "2023-08-05T00:58:28.983241",
     "exception": false,
     "start_time": "2023-08-05T00:58:28.945366",
     "status": "completed"
    },
    "tags": []
   },
   "outputs": [
    {
     "data": {
      "text/plain": [
       "(418, 11)"
      ]
     },
     "execution_count": 35,
     "metadata": {},
     "output_type": "execute_result"
    }
   ],
   "source": [
    "test_titanic.shape"
   ]
  },
  {
   "cell_type": "code",
   "execution_count": 36,
   "id": "f9824f06",
   "metadata": {
    "execution": {
     "iopub.execute_input": "2023-08-05T00:58:29.042720Z",
     "iopub.status.busy": "2023-08-05T00:58:29.041100Z",
     "iopub.status.idle": "2023-08-05T00:58:29.052020Z",
     "shell.execute_reply": "2023-08-05T00:58:29.051120Z"
    },
    "papermill": {
     "duration": 0.042069,
     "end_time": "2023-08-05T00:58:29.054341",
     "exception": false,
     "start_time": "2023-08-05T00:58:29.012272",
     "status": "completed"
    },
    "tags": []
   },
   "outputs": [
    {
     "name": "stdout",
     "output_type": "stream",
     "text": [
      "Sex [1 0]\n",
      "Embarked [1 2 0]\n"
     ]
    }
   ],
   "source": [
    "from sklearn.preprocessing import LabelEncoder\n",
    "\n",
    "var = ['Sex', 'Embarked']\n",
    "le = LabelEncoder()\n",
    "for i in var:\n",
    "    le.fit(test_titanic[i].unique())\n",
    "    test_titanic[i] = le.transform(test_titanic[i])\n",
    "    print(i, test_titanic[i].unique())"
   ]
  },
  {
   "cell_type": "code",
   "execution_count": 37,
   "id": "20eab7b1",
   "metadata": {
    "execution": {
     "iopub.execute_input": "2023-08-05T00:58:29.110655Z",
     "iopub.status.busy": "2023-08-05T00:58:29.110153Z",
     "iopub.status.idle": "2023-08-05T00:58:29.127236Z",
     "shell.execute_reply": "2023-08-05T00:58:29.126071Z"
    },
    "papermill": {
     "duration": 0.048248,
     "end_time": "2023-08-05T00:58:29.129638",
     "exception": false,
     "start_time": "2023-08-05T00:58:29.081390",
     "status": "completed"
    },
    "tags": []
   },
   "outputs": [
    {
     "data": {
      "text/html": [
       "<div>\n",
       "<style scoped>\n",
       "    .dataframe tbody tr th:only-of-type {\n",
       "        vertical-align: middle;\n",
       "    }\n",
       "\n",
       "    .dataframe tbody tr th {\n",
       "        vertical-align: top;\n",
       "    }\n",
       "\n",
       "    .dataframe thead th {\n",
       "        text-align: right;\n",
       "    }\n",
       "</style>\n",
       "<table border=\"1\" class=\"dataframe\">\n",
       "  <thead>\n",
       "    <tr style=\"text-align: right;\">\n",
       "      <th></th>\n",
       "      <th>PassengerId</th>\n",
       "      <th>Pclass</th>\n",
       "      <th>Name</th>\n",
       "      <th>Sex</th>\n",
       "      <th>Age</th>\n",
       "      <th>SibSp</th>\n",
       "      <th>Parch</th>\n",
       "      <th>Ticket</th>\n",
       "      <th>Fare</th>\n",
       "      <th>Cabin</th>\n",
       "      <th>Embarked</th>\n",
       "    </tr>\n",
       "  </thead>\n",
       "  <tbody>\n",
       "    <tr>\n",
       "      <th>0</th>\n",
       "      <td>892</td>\n",
       "      <td>3</td>\n",
       "      <td>Kelly, Mr. James</td>\n",
       "      <td>1</td>\n",
       "      <td>34.5</td>\n",
       "      <td>0</td>\n",
       "      <td>0</td>\n",
       "      <td>330911</td>\n",
       "      <td>7.8292</td>\n",
       "      <td>NaN</td>\n",
       "      <td>1</td>\n",
       "    </tr>\n",
       "    <tr>\n",
       "      <th>1</th>\n",
       "      <td>893</td>\n",
       "      <td>3</td>\n",
       "      <td>Wilkes, Mrs. James (Ellen Needs)</td>\n",
       "      <td>0</td>\n",
       "      <td>47.0</td>\n",
       "      <td>1</td>\n",
       "      <td>0</td>\n",
       "      <td>363272</td>\n",
       "      <td>7.0000</td>\n",
       "      <td>NaN</td>\n",
       "      <td>2</td>\n",
       "    </tr>\n",
       "    <tr>\n",
       "      <th>2</th>\n",
       "      <td>894</td>\n",
       "      <td>2</td>\n",
       "      <td>Myles, Mr. Thomas Francis</td>\n",
       "      <td>1</td>\n",
       "      <td>62.0</td>\n",
       "      <td>0</td>\n",
       "      <td>0</td>\n",
       "      <td>240276</td>\n",
       "      <td>9.6875</td>\n",
       "      <td>NaN</td>\n",
       "      <td>1</td>\n",
       "    </tr>\n",
       "    <tr>\n",
       "      <th>3</th>\n",
       "      <td>895</td>\n",
       "      <td>3</td>\n",
       "      <td>Wirz, Mr. Albert</td>\n",
       "      <td>1</td>\n",
       "      <td>27.0</td>\n",
       "      <td>0</td>\n",
       "      <td>0</td>\n",
       "      <td>315154</td>\n",
       "      <td>8.6625</td>\n",
       "      <td>NaN</td>\n",
       "      <td>2</td>\n",
       "    </tr>\n",
       "    <tr>\n",
       "      <th>4</th>\n",
       "      <td>896</td>\n",
       "      <td>3</td>\n",
       "      <td>Hirvonen, Mrs. Alexander (Helga E Lindqvist)</td>\n",
       "      <td>0</td>\n",
       "      <td>22.0</td>\n",
       "      <td>1</td>\n",
       "      <td>1</td>\n",
       "      <td>3101298</td>\n",
       "      <td>12.2875</td>\n",
       "      <td>NaN</td>\n",
       "      <td>2</td>\n",
       "    </tr>\n",
       "  </tbody>\n",
       "</table>\n",
       "</div>"
      ],
      "text/plain": [
       "   PassengerId  Pclass                                          Name  Sex  \\\n",
       "0          892       3                              Kelly, Mr. James    1   \n",
       "1          893       3              Wilkes, Mrs. James (Ellen Needs)    0   \n",
       "2          894       2                     Myles, Mr. Thomas Francis    1   \n",
       "3          895       3                              Wirz, Mr. Albert    1   \n",
       "4          896       3  Hirvonen, Mrs. Alexander (Helga E Lindqvist)    0   \n",
       "\n",
       "    Age  SibSp  Parch   Ticket     Fare Cabin  Embarked  \n",
       "0  34.5      0      0   330911   7.8292   NaN         1  \n",
       "1  47.0      1      0   363272   7.0000   NaN         2  \n",
       "2  62.0      0      0   240276   9.6875   NaN         1  \n",
       "3  27.0      0      0   315154   8.6625   NaN         2  \n",
       "4  22.0      1      1  3101298  12.2875   NaN         2  "
      ]
     },
     "execution_count": 37,
     "metadata": {},
     "output_type": "execute_result"
    }
   ],
   "source": [
    "test_titanic.head()"
   ]
  },
  {
   "cell_type": "code",
   "execution_count": 38,
   "id": "35861da3",
   "metadata": {
    "execution": {
     "iopub.execute_input": "2023-08-05T00:58:29.188348Z",
     "iopub.status.busy": "2023-08-05T00:58:29.187192Z",
     "iopub.status.idle": "2023-08-05T00:58:29.194305Z",
     "shell.execute_reply": "2023-08-05T00:58:29.193378Z"
    },
    "papermill": {
     "duration": 0.039374,
     "end_time": "2023-08-05T00:58:29.196788",
     "exception": false,
     "start_time": "2023-08-05T00:58:29.157414",
     "status": "completed"
    },
    "tags": []
   },
   "outputs": [],
   "source": [
    "test_x = test_titanic.drop(['PassengerId','Name','Ticket', 'Fare', 'Cabin'], axis=1)"
   ]
  },
  {
   "cell_type": "code",
   "execution_count": 39,
   "id": "02d7384b",
   "metadata": {
    "execution": {
     "iopub.execute_input": "2023-08-05T00:58:29.257481Z",
     "iopub.status.busy": "2023-08-05T00:58:29.256743Z",
     "iopub.status.idle": "2023-08-05T00:58:29.263249Z",
     "shell.execute_reply": "2023-08-05T00:58:29.262383Z"
    },
    "papermill": {
     "duration": 0.041331,
     "end_time": "2023-08-05T00:58:29.265766",
     "exception": false,
     "start_time": "2023-08-05T00:58:29.224435",
     "status": "completed"
    },
    "tags": []
   },
   "outputs": [],
   "source": [
    "# Fill missing values in Age column of test.csv\n",
    "mean_age = test_x['Age'].mean()\n",
    "test_x['Age'].fillna(round(mean_age, 2), inplace=True)"
   ]
  },
  {
   "cell_type": "code",
   "execution_count": 40,
   "id": "6ef436f7",
   "metadata": {
    "execution": {
     "iopub.execute_input": "2023-08-05T00:58:29.322672Z",
     "iopub.status.busy": "2023-08-05T00:58:29.322241Z",
     "iopub.status.idle": "2023-08-05T00:58:29.332440Z",
     "shell.execute_reply": "2023-08-05T00:58:29.331576Z"
    },
    "papermill": {
     "duration": 0.042039,
     "end_time": "2023-08-05T00:58:29.335279",
     "exception": false,
     "start_time": "2023-08-05T00:58:29.293240",
     "status": "completed"
    },
    "tags": []
   },
   "outputs": [],
   "source": [
    "predictions = logreg.predict(test_x)"
   ]
  },
  {
   "cell_type": "code",
   "execution_count": 41,
   "id": "8120542a",
   "metadata": {
    "execution": {
     "iopub.execute_input": "2023-08-05T00:58:29.392887Z",
     "iopub.status.busy": "2023-08-05T00:58:29.392161Z",
     "iopub.status.idle": "2023-08-05T00:58:29.404888Z",
     "shell.execute_reply": "2023-08-05T00:58:29.403708Z"
    },
    "papermill": {
     "duration": 0.04435,
     "end_time": "2023-08-05T00:58:29.407253",
     "exception": false,
     "start_time": "2023-08-05T00:58:29.362903",
     "status": "completed"
    },
    "tags": []
   },
   "outputs": [
    {
     "data": {
      "text/html": [
       "<div>\n",
       "<style scoped>\n",
       "    .dataframe tbody tr th:only-of-type {\n",
       "        vertical-align: middle;\n",
       "    }\n",
       "\n",
       "    .dataframe tbody tr th {\n",
       "        vertical-align: top;\n",
       "    }\n",
       "\n",
       "    .dataframe thead th {\n",
       "        text-align: right;\n",
       "    }\n",
       "</style>\n",
       "<table border=\"1\" class=\"dataframe\">\n",
       "  <thead>\n",
       "    <tr style=\"text-align: right;\">\n",
       "      <th></th>\n",
       "      <th>PassengerId</th>\n",
       "      <th>Survived</th>\n",
       "    </tr>\n",
       "  </thead>\n",
       "  <tbody>\n",
       "    <tr>\n",
       "      <th>0</th>\n",
       "      <td>892</td>\n",
       "      <td>0</td>\n",
       "    </tr>\n",
       "    <tr>\n",
       "      <th>1</th>\n",
       "      <td>893</td>\n",
       "      <td>0</td>\n",
       "    </tr>\n",
       "    <tr>\n",
       "      <th>2</th>\n",
       "      <td>894</td>\n",
       "      <td>0</td>\n",
       "    </tr>\n",
       "    <tr>\n",
       "      <th>3</th>\n",
       "      <td>895</td>\n",
       "      <td>0</td>\n",
       "    </tr>\n",
       "    <tr>\n",
       "      <th>4</th>\n",
       "      <td>896</td>\n",
       "      <td>1</td>\n",
       "    </tr>\n",
       "    <tr>\n",
       "      <th>...</th>\n",
       "      <td>...</td>\n",
       "      <td>...</td>\n",
       "    </tr>\n",
       "    <tr>\n",
       "      <th>413</th>\n",
       "      <td>1305</td>\n",
       "      <td>0</td>\n",
       "    </tr>\n",
       "    <tr>\n",
       "      <th>414</th>\n",
       "      <td>1306</td>\n",
       "      <td>1</td>\n",
       "    </tr>\n",
       "    <tr>\n",
       "      <th>415</th>\n",
       "      <td>1307</td>\n",
       "      <td>0</td>\n",
       "    </tr>\n",
       "    <tr>\n",
       "      <th>416</th>\n",
       "      <td>1308</td>\n",
       "      <td>0</td>\n",
       "    </tr>\n",
       "    <tr>\n",
       "      <th>417</th>\n",
       "      <td>1309</td>\n",
       "      <td>0</td>\n",
       "    </tr>\n",
       "  </tbody>\n",
       "</table>\n",
       "<p>418 rows × 2 columns</p>\n",
       "</div>"
      ],
      "text/plain": [
       "     PassengerId  Survived\n",
       "0            892         0\n",
       "1            893         0\n",
       "2            894         0\n",
       "3            895         0\n",
       "4            896         1\n",
       "..           ...       ...\n",
       "413         1305         0\n",
       "414         1306         1\n",
       "415         1307         0\n",
       "416         1308         0\n",
       "417         1309         0\n",
       "\n",
       "[418 rows x 2 columns]"
      ]
     },
     "execution_count": 41,
     "metadata": {},
     "output_type": "execute_result"
    }
   ],
   "source": [
    "output= pd.DataFrame({'PassengerId':test_titanic.PassengerId,'Survived':predictions})\n",
    "output"
   ]
  },
  {
   "cell_type": "code",
   "execution_count": 42,
   "id": "8355d5c2",
   "metadata": {
    "execution": {
     "iopub.execute_input": "2023-08-05T00:58:29.466387Z",
     "iopub.status.busy": "2023-08-05T00:58:29.465685Z",
     "iopub.status.idle": "2023-08-05T00:58:29.475194Z",
     "shell.execute_reply": "2023-08-05T00:58:29.474217Z"
    },
    "papermill": {
     "duration": 0.043071,
     "end_time": "2023-08-05T00:58:29.477930",
     "exception": false,
     "start_time": "2023-08-05T00:58:29.434859",
     "status": "completed"
    },
    "tags": []
   },
   "outputs": [],
   "source": [
    "output.to_csv('Titanic_Competition_LogReg_JaylordVhan_Fabor.csv', index=False)"
   ]
  }
 ],
 "metadata": {
  "kernelspec": {
   "display_name": "Python 3",
   "language": "python",
   "name": "python3"
  },
  "language_info": {
   "codemirror_mode": {
    "name": "ipython",
    "version": 3
   },
   "file_extension": ".py",
   "mimetype": "text/x-python",
   "name": "python",
   "nbconvert_exporter": "python",
   "pygments_lexer": "ipython3",
   "version": "3.10.12"
  },
  "papermill": {
   "default_parameters": {},
   "duration": 22.819943,
   "end_time": "2023-08-05T00:58:30.629317",
   "environment_variables": {},
   "exception": null,
   "input_path": "__notebook__.ipynb",
   "output_path": "__notebook__.ipynb",
   "parameters": {},
   "start_time": "2023-08-05T00:58:07.809374",
   "version": "2.4.0"
  }
 },
 "nbformat": 4,
 "nbformat_minor": 5
}
